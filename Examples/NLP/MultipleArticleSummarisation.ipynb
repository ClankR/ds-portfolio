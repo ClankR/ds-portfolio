{
 "cells": [
  {
   "cell_type": "markdown",
   "metadata": {},
   "source": [
    "# Multiple Article Summarisation\n",
    "### Using a combination of Google's Universal Sentence Encoder (USE) and a clustering model, let's see if we can quickly understand the social space's content spread."
   ]
  },
  {
   "cell_type": "code",
   "execution_count": null,
   "metadata": {},
   "outputs": [],
   "source": [
    "from Article import Art"
   ]
  },
  {
   "cell_type": "code",
   "execution_count": 7,
   "metadata": {},
   "outputs": [],
   "source": [
    "import pandas as pd\n",
    "pd.options.display.max_colwidth = 400\n",
    "df = pd.read_csv('../DATA/westpactweets.csv')"
   ]
  },
  {
   "cell_type": "code",
   "execution_count": 29,
   "metadata": {},
   "outputs": [],
   "source": [
    "base = df[df.propurl!=\"nourl\"].\\\n",
    "    groupby('propurl').agg({'favs':'sum', 'rts':'sum', 'text':'count'}).\\\n",
    "    sort_values(['text','favs', 'rts'], ascending = False).reset_index()"
   ]
  },
  {
   "cell_type": "code",
   "execution_count": null,
   "metadata": {},
   "outputs": [],
   "source": [
    "##Load Universal Sentence Encoder\n",
    "# import ssl\n",
    "# ssl._create_default_https_context = ssl._create_unverified_context\n",
    "\n",
    "# import tensorflow.compat.v1 as tf\n",
    "# #To make tf 2.0 compatible with tf1.0 code, we disable the tf2.0 functionalities\n",
    "# tf.disable_eager_execution()\n",
    "# import tensorflow_hub as hub\n",
    "\n",
    "# embed = hub.Module(\"https://tfhub.dev/google/universal-sentence-encoder/2\")\n",
    "module_url = \"https://tfhub.dev/google/universal-sentence-encoder-large/3\"\n",
    "\n",
    "# Import the Universal Sentence Encoder's TF Hub module\n",
    "embed = hub.Module(module_url)"
   ]
  },
  {
   "cell_type": "markdown",
   "metadata": {},
   "source": [
    "There is now a spacy implementation - follow installation set up at https://pypi.org/project/spacy-universal-sentence-encoder/"
   ]
  },
  {
   "cell_type": "code",
   "execution_count": 2,
   "metadata": {},
   "outputs": [
    {
     "name": "stdout",
     "output_type": "stream",
     "text": [
      "Downloaded https://tfhub.dev/google/universal-sentence-encoder-large/5, Total size: 577.10MB\n",
      "\n"
     ]
    }
   ],
   "source": [
    "import spacy\n",
    "encoder = spacy.load('en_use_lg')"
   ]
  },
  {
   "cell_type": "code",
   "execution_count": 4,
   "metadata": {},
   "outputs": [],
   "source": [
    "dump = encoder('Hi there, how are you?')\n",
    "# doc_2 = nlp('Hello there, how are you doing today?')\n",
    "# # Inspect the shape of the Doc, Span and Token vectors\n",
    "# print(doc_1.vector.shape) # the full document representation\n",
    "# print(doc_1[3], doc_1[3].vector.shape) # the word \"how\"\n",
    "# print(doc_1[3:6], doc_1[3:6].vector.shape)"
   ]
  },
  {
   "cell_type": "code",
   "execution_count": 6,
   "metadata": {},
   "outputs": [
    {
     "data": {
      "text/plain": [
       "(512,)"
      ]
     },
     "execution_count": 6,
     "metadata": {},
     "output_type": "execute_result"
    }
   ],
   "source": [
    "dump.vector.shape"
   ]
  },
  {
   "cell_type": "code",
   "execution_count": 8,
   "metadata": {},
   "outputs": [
    {
     "name": "stdout",
     "output_type": "stream",
     "text": [
      "143 unique articles in the last week\n"
     ]
    }
   ],
   "source": [
    "print(f'{len(df.propurl.unique())} unique articles in the last week')"
   ]
  },
  {
   "cell_type": "code",
   "execution_count": 13,
   "metadata": {},
   "outputs": [],
   "source": [
    "##Grabbing summarised sentences from each article of the top 50\n",
    "messages = {}\n",
    "for url in df.propurl.unique()[:50]:\n",
    "    if 'twitter' not in url:\n",
    "        try:\n",
    "            a = Art(url)\n",
    "            a.summ()\n",
    "            key = \" \".join(a.sent_df.text)\n",
    "            messages[url] = key\n",
    "        except:\n",
    "            pass"
   ]
  },
  {
   "cell_type": "code",
   "execution_count": 18,
   "metadata": {},
   "outputs": [],
   "source": [
    "message_embeddings = [encoder(x).vector for x in list(messages.values())]"
   ]
  },
  {
   "cell_type": "code",
   "execution_count": 19,
   "metadata": {},
   "outputs": [],
   "source": [
    "import numpy as np\n",
    "from sklearn.cluster import KMeans\n",
    "\n",
    "n_clusters = 5 ##how many sentences to summarise text - could make dynamic\n",
    "kmeans = KMeans(n_clusters=n_clusters, random_state = 1234)\n",
    "kmeans = kmeans.fit(message_embeddings)"
   ]
  },
  {
   "cell_type": "code",
   "execution_count": 20,
   "metadata": {},
   "outputs": [],
   "source": [
    "from sklearn.metrics import pairwise_distances_argmin_min\n",
    "\n",
    "avg = []\n",
    "for j in range(n_clusters):\n",
    "    idx = np.where(kmeans.labels_ == j)[0]\n",
    "    avg.append(np.mean(idx))\n",
    "closest, _ = pairwise_distances_argmin_min(kmeans.cluster_centers_, message_embeddings)\n",
    "ordering = sorted(range(n_clusters), key=lambda k: avg[k])\n",
    "summary = dict()\n",
    "for i, idx in enumerate(ordering):\n",
    "    summary[i]= list(messages.values())[closest[idx]]"
   ]
  },
  {
   "cell_type": "code",
   "execution_count": 21,
   "metadata": {},
   "outputs": [],
   "source": [
    "inv_mess = {v: k for k, v in messages.items()}\n",
    "def pretty(d, indent=0):\n",
    "    for key, value in d.items():\n",
    "        print('\\n'+'\\t' * indent + 'Cluster '+ str(key))\n",
    "        if isinstance(value, dict):\n",
    "            pretty(value, indent+1)\n",
    "        else:\n",
    "            print('\\t' * (indent+1) + str(value) + '\\n\\n' + '\\t' * (indent+1) + inv_mess[value]+'\\n')"
   ]
  },
  {
   "cell_type": "code",
   "execution_count": 23,
   "metadata": {},
   "outputs": [
    {
     "data": {
      "text/html": [
       "<div>\n",
       "<style scoped>\n",
       "    .dataframe tbody tr th:only-of-type {\n",
       "        vertical-align: middle;\n",
       "    }\n",
       "\n",
       "    .dataframe tbody tr th {\n",
       "        vertical-align: top;\n",
       "    }\n",
       "\n",
       "    .dataframe thead th {\n",
       "        text-align: right;\n",
       "    }\n",
       "</style>\n",
       "<table border=\"1\" class=\"dataframe\">\n",
       "  <thead>\n",
       "    <tr style=\"text-align: right;\">\n",
       "      <th></th>\n",
       "      <th>Unnamed: 0</th>\n",
       "      <th>name</th>\n",
       "      <th>location</th>\n",
       "      <th>picurl</th>\n",
       "      <th>followers</th>\n",
       "      <th>dt</th>\n",
       "      <th>text</th>\n",
       "      <th>rts</th>\n",
       "      <th>favs</th>\n",
       "      <th>urls</th>\n",
       "      <th>hashtags</th>\n",
       "      <th>cleantext</th>\n",
       "      <th>propurl</th>\n",
       "    </tr>\n",
       "  </thead>\n",
       "  <tbody>\n",
       "    <tr>\n",
       "      <th>24</th>\n",
       "      <td>24</td>\n",
       "      <td>bank-edits</td>\n",
       "      <td>NaN</td>\n",
       "      <td>https://abs.twimg.com/images/themes/theme1/bg.png</td>\n",
       "      <td>1850</td>\n",
       "      <td>2021-05-18 00:37:58</td>\n",
       "      <td>Mexico at major beauty pageants Wikipedia article edited anonymously from Westpac Bank https://t.co/sDejvgJLLG https://t.co/GAUFSj4nPh</td>\n",
       "      <td>0</td>\n",
       "      <td>0</td>\n",
       "      <td>['https://t.co/sDejvgJLLG']</td>\n",
       "      <td>[]</td>\n",
       "      <td>Mexico at major beauty pageants Wikipedia article edited anonymously from Westpac Bank  https://t.co/GAUFSj4nPh</td>\n",
       "      <td>https://en.wikipedia.org/w/index.php?diff=1023726321&amp;oldid=1023617333</td>\n",
       "    </tr>\n",
       "  </tbody>\n",
       "</table>\n",
       "</div>"
      ],
      "text/plain": [
       "    Unnamed: 0        name location  \\\n",
       "24          24  bank-edits      NaN   \n",
       "\n",
       "                                               picurl  followers  \\\n",
       "24  https://abs.twimg.com/images/themes/theme1/bg.png       1850   \n",
       "\n",
       "                     dt  \\\n",
       "24  2021-05-18 00:37:58   \n",
       "\n",
       "                                                                                                                                      text  \\\n",
       "24  Mexico at major beauty pageants Wikipedia article edited anonymously from Westpac Bank https://t.co/sDejvgJLLG https://t.co/GAUFSj4nPh   \n",
       "\n",
       "    rts  favs                         urls hashtags  \\\n",
       "24    0     0  ['https://t.co/sDejvgJLLG']       []   \n",
       "\n",
       "                                                                                                          cleantext  \\\n",
       "24  Mexico at major beauty pageants Wikipedia article edited anonymously from Westpac Bank  https://t.co/GAUFSj4nPh   \n",
       "\n",
       "                                                                  propurl  \n",
       "24  https://en.wikipedia.org/w/index.php?diff=1023726321&oldid=1023617333  "
      ]
     },
     "execution_count": 23,
     "metadata": {},
     "output_type": "execute_result"
    }
   ],
   "source": [
    "df[df.propurl==\"https://en.wikipedia.org/w/index.php?diff=1023726321&oldid=1023617333\"]"
   ]
  },
  {
   "cell_type": "code",
   "execution_count": 22,
   "metadata": {},
   "outputs": [
    {
     "name": "stdout",
     "output_type": "stream",
     "text": [
      "\n",
      "Cluster 0\n",
      "\tClose Get email notifications on {{subject}} daily! Your notification has been saved. There was a problem saving your notification.\n",
      "\n",
      "\thttps://www.tribdem.com/sports/scholastic-baseball-softball-roundup-portage-baseball-team-clinches-westpac-north-title/article_a4ed8f66-b692-11eb-a959-0b827ccf8e00.html\n",
      "\n",
      "\n",
      "Cluster 1\n",
      "\tThis is a list of '''[[Mexico]]''''s official representatives and their placements at the [[Big Four international beauty pageants|'''Big Four''' international beauty pageants]], considered the most important in the world. The country has a total of '''sixty-three placements''' and '''six victories''': This is a list of '''[[Mexico]]''''s official representatives and their placements at the [[Big Four international beauty pageants|'''Big Four''' international beauty pageants]], considered the most important in the world. The country has a total of '''sixty-three placements''' and '''six victories''': Mexico at Miss Universe, Miss World, Miss International, and Miss Earth This is a list of Mexico's official representatives and their placements at the Big Four international beauty pageants, considered the most important in the world.\n",
      "\n",
      "\thttps://en.wikipedia.org/w/index.php?diff=1023726321&oldid=1023617333\n",
      "\n",
      "\n",
      "Cluster 2\n",
      "\t\"Of course, the topic of the future of the [Westpac] New Zealand arm came up, but we're not in a position to comment further,\" the Government spokesperson said. In its interim results announcement earlier this month, King said Westpac is \"continuing to assess what is in the best interests of shareholders regarding the ownership of our New Zealand business\". While the Government is effectively a regulator of Westpac NZ, it's also a major client, as Westpac NZ provides the Government with the bulk of its banking services.\n",
      "\n",
      "\thttps://www.interest.co.nz/banking/110452/westpac-group-ceo-and-chair-travel-australia-and-discuss-potential-sale-westpac-nz\n",
      "\n",
      "\n",
      "Cluster 3\n",
      "\tYour subscription supports: Investigative reporting that makes our community a better place to work, live and play Investigative reporting that makes our community a better place to work, live and play\n",
      "\n",
      "\thttps://www.dailyamerican.com/restricted/?return=https%3A%2F%2Fwww.dailyamerican.com%2Fstory%2Fsports%2F2021%2F05%2F16%2Fmeyersdale-coach-tim-miller-portage-westpac-championship-tara-knopsnyder%2F5089489001%2F\n",
      "\n",
      "\n",
      "Cluster 4\n",
      "\tA Westpac report has found a more equal sharing of household chores between men and women could help boost the labour market. Photo: 123RF The Deloitte report for Westpac New Zealand indicated the economy would be $1.5 billion better off every year with 25,000 additional full-time equivalent workers. Westpac NZ chief executive David McLean said the gender pay gap would be difficult to close if society continued to expect women to carry the bulk of duties at home.\n",
      "\n",
      "\thttps://www.rnz.co.nz/news/business/442699/gender-pay-equity-could-boost-economy-by-1-point-5b-deloitte-report\n",
      "\n"
     ]
    }
   ],
   "source": [
    "pretty(summary)"
   ]
  },
  {
   "cell_type": "code",
   "execution_count": 24,
   "metadata": {},
   "outputs": [
    {
     "data": {
      "text/plain": [
       "[('\"Of course, the topic of the future of the [Westpac] New Zealand arm came up, but we\\'re not in a position to comment further,\" the Government spokesperson said. In its interim results announcement earlier this month, King said Westpac is \"continuing to assess what is in the best interests of shareholders regarding the ownership of our New Zealand business\". While the Government is effectively a regulator of Westpac NZ, it\\'s also a major client, as Westpac NZ provides the Government with the bulk of its banking services.',\n",
       "  2),\n",
       " ('\"We always have two goals that we want to do each season, and they are one ... let\\'s put ourselves in a position to play for the WestPAC Championship, and two ... let\\'s qualify for the district playoffs,\" Portage veteran coach Larry McCabe, who earned career win No. \"That\\'s a good ballclub right there,\" McCabe said of Berlin. Portage answered with a run in the bottom of the second to cut the lead to 2-1 on an RBI single by Kargo, scoring Claar, who singled earlier in the inning.',\n",
       "  2),\n",
       " ('Close Get email notifications on {{subject}} daily! Your notification has been saved. There was a problem saving your notification.',\n",
       "  3),\n",
       " ('Close Get email notifications on {{subject}} daily! Your notification has been saved. There was a problem saving your notification.',\n",
       "  3)]"
      ]
     },
     "execution_count": 24,
     "metadata": {},
     "output_type": "execute_result"
    }
   ],
   "source": [
    "list(zip(list(messages.values()), kmeans.labels_))[:4]"
   ]
  },
  {
   "cell_type": "code",
   "execution_count": 34,
   "metadata": {},
   "outputs": [
    {
     "data": {
      "text/html": [
       "<div>\n",
       "<style scoped>\n",
       "    .dataframe tbody tr th:only-of-type {\n",
       "        vertical-align: middle;\n",
       "    }\n",
       "\n",
       "    .dataframe tbody tr th {\n",
       "        vertical-align: top;\n",
       "    }\n",
       "\n",
       "    .dataframe thead th {\n",
       "        text-align: right;\n",
       "    }\n",
       "</style>\n",
       "<table border=\"1\" class=\"dataframe\">\n",
       "  <thead>\n",
       "    <tr style=\"text-align: right;\">\n",
       "      <th></th>\n",
       "      <th>propurl</th>\n",
       "      <th>favs</th>\n",
       "      <th>rts</th>\n",
       "      <th>text</th>\n",
       "    </tr>\n",
       "  </thead>\n",
       "  <tbody>\n",
       "    <tr>\n",
       "      <th>61</th>\n",
       "      <td>https://www.interest.co.nz/banking/110452/westpac-group-ceo-and-chair-travel-australia-and-discuss-potential-sale-westpac-nz</td>\n",
       "      <td>1</td>\n",
       "      <td>1</td>\n",
       "      <td>1</td>\n",
       "    </tr>\n",
       "  </tbody>\n",
       "</table>\n",
       "</div>"
      ],
      "text/plain": [
       "                                                                                                                         propurl  \\\n",
       "61  https://www.interest.co.nz/banking/110452/westpac-group-ceo-and-chair-travel-australia-and-discuss-potential-sale-westpac-nz   \n",
       "\n",
       "    favs  rts  text  \n",
       "61     1    1     1  "
      ]
     },
     "execution_count": 34,
     "metadata": {},
     "output_type": "execute_result"
    }
   ],
   "source": [
    "clus = 2\n",
    "base[base.propurl == inv_mess[summary[clus]]]"
   ]
  },
  {
   "cell_type": "code",
   "execution_count": 35,
   "metadata": {},
   "outputs": [
    {
     "data": {
      "text/html": [
       "<div>\n",
       "<style scoped>\n",
       "    .dataframe tbody tr th:only-of-type {\n",
       "        vertical-align: middle;\n",
       "    }\n",
       "\n",
       "    .dataframe tbody tr th {\n",
       "        vertical-align: top;\n",
       "    }\n",
       "\n",
       "    .dataframe thead th {\n",
       "        text-align: right;\n",
       "    }\n",
       "</style>\n",
       "<table border=\"1\" class=\"dataframe\">\n",
       "  <thead>\n",
       "    <tr style=\"text-align: right;\">\n",
       "      <th></th>\n",
       "      <th>Unnamed: 0</th>\n",
       "      <th>name</th>\n",
       "      <th>location</th>\n",
       "      <th>picurl</th>\n",
       "      <th>followers</th>\n",
       "      <th>dt</th>\n",
       "      <th>text</th>\n",
       "      <th>rts</th>\n",
       "      <th>favs</th>\n",
       "      <th>urls</th>\n",
       "      <th>hashtags</th>\n",
       "      <th>cleantext</th>\n",
       "      <th>propurl</th>\n",
       "    </tr>\n",
       "  </thead>\n",
       "  <tbody>\n",
       "    <tr>\n",
       "      <th>6</th>\n",
       "      <td>6</td>\n",
       "      <td>Jenée Tibshraeny</td>\n",
       "      <td>Wellington City, New Zealand</td>\n",
       "      <td>https://abs.twimg.com/images/themes/theme1/bg.png</td>\n",
       "      <td>3012</td>\n",
       "      <td>2021-05-18 02:58:31</td>\n",
       "      <td>Westpac's top brass didn't wait long before travelling from Aus to meet with \"key stakeholders\" - Robertson, Ardern, Orr. \\n\\nWestpac Group CEO &amp;amp; Chair were here last week. \\n\\nThe ownership of Westpac NZ is being reviewed. \\nhttps://t.co/vhKM06jRef</td>\n",
       "      <td>1</td>\n",
       "      <td>1</td>\n",
       "      <td>['https://t.co/vhKM06jRef']</td>\n",
       "      <td>[]</td>\n",
       "      <td>Westpac's top brass didn't wait long before travelling from Aus to meet with \"key stakeholders\" - Robertson, Ardern, Orr. \\n\\nWestpac Group CEO &amp;amp; Chair were here last week. \\n\\nThe ownership of Westpac NZ is being reviewed. \\n</td>\n",
       "      <td>https://www.interest.co.nz/banking/110452/westpac-group-ceo-and-chair-travel-australia-and-discuss-potential-sale-westpac-nz</td>\n",
       "    </tr>\n",
       "  </tbody>\n",
       "</table>\n",
       "</div>"
      ],
      "text/plain": [
       "   Unnamed: 0              name                      location  \\\n",
       "6           6  Jenée Tibshraeny  Wellington City, New Zealand   \n",
       "\n",
       "                                              picurl  followers  \\\n",
       "6  https://abs.twimg.com/images/themes/theme1/bg.png       3012   \n",
       "\n",
       "                    dt  \\\n",
       "6  2021-05-18 02:58:31   \n",
       "\n",
       "                                                                                                                                                                                                                                                            text  \\\n",
       "6  Westpac's top brass didn't wait long before travelling from Aus to meet with \"key stakeholders\" - Robertson, Ardern, Orr. \\n\\nWestpac Group CEO &amp; Chair were here last week. \\n\\nThe ownership of Westpac NZ is being reviewed. \\nhttps://t.co/vhKM06jRef   \n",
       "\n",
       "   rts  favs                         urls hashtags  \\\n",
       "6    1     1  ['https://t.co/vhKM06jRef']       []   \n",
       "\n",
       "                                                                                                                                                                                                                                cleantext  \\\n",
       "6  Westpac's top brass didn't wait long before travelling from Aus to meet with \"key stakeholders\" - Robertson, Ardern, Orr. \\n\\nWestpac Group CEO &amp; Chair were here last week. \\n\\nThe ownership of Westpac NZ is being reviewed. \\n   \n",
       "\n",
       "                                                                                                                        propurl  \n",
       "6  https://www.interest.co.nz/banking/110452/westpac-group-ceo-and-chair-travel-australia-and-discuss-potential-sale-westpac-nz  "
      ]
     },
     "execution_count": 35,
     "metadata": {},
     "output_type": "execute_result"
    }
   ],
   "source": [
    "df[df.propurl == inv_mess[summary[clus]]]"
   ]
  },
  {
   "cell_type": "code",
   "execution_count": null,
   "metadata": {},
   "outputs": [],
   "source": []
  },
  {
   "cell_type": "code",
   "execution_count": null,
   "metadata": {},
   "outputs": [],
   "source": []
  },
  {
   "cell_type": "code",
   "execution_count": null,
   "metadata": {},
   "outputs": [],
   "source": []
  }
 ],
 "metadata": {
  "kernelspec": {
   "display_name": "Python 3",
   "language": "python",
   "name": "python3"
  },
  "language_info": {
   "codemirror_mode": {
    "name": "ipython",
    "version": 3
   },
   "file_extension": ".py",
   "mimetype": "text/x-python",
   "name": "python",
   "nbconvert_exporter": "python",
   "pygments_lexer": "ipython3",
   "version": "3.8.5"
  }
 },
 "nbformat": 4,
 "nbformat_minor": 4
}
