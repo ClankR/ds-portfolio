{
 "cells": [
  {
   "cell_type": "markdown",
   "metadata": {},
   "source": [
    "# Twitter Scraping\n",
    "We will walkthrough an example of extracting our tweets of interest, saving them for later NLPing!<br>\n",
    "For this, we will use our twitter_extract.py functions."
   ]
  },
  {
   "cell_type": "code",
   "execution_count": 1,
   "metadata": {},
   "outputs": [],
   "source": [
    "# Import our functions\n",
    "import twitter_extract as te"
   ]
  },
  {
   "cell_type": "code",
   "execution_count": 2,
   "metadata": {},
   "outputs": [],
   "source": [
    "# Here we set up our twit_api class, which immediately sets up our api credentials using our creds.py file - \n",
    "# make sure you have updated this file with your twitter developer credentials!\n",
    "tw = te.twit_api()"
   ]
  },
  {
   "cell_type": "code",
   "execution_count": 6,
   "metadata": {},
   "outputs": [
    {
     "name": "stdout",
     "output_type": "stream",
     "text": [
      "Number of tweets scraped: 464\n",
      "0\n"
     ]
    }
   ],
   "source": [
    "# Entering our search word/s, tw.scrape will add a dataframe to our class containing a cleaned up scrape of our tweets.\n",
    "# Feel free to play around with the data points that the function captures.\n",
    "tw.scrape('westpac', url_check = True)"
   ]
  },
  {
   "cell_type": "code",
   "execution_count": 7,
   "metadata": {},
   "outputs": [
    {
     "data": {
      "text/html": [
       "<div>\n",
       "<style scoped>\n",
       "    .dataframe tbody tr th:only-of-type {\n",
       "        vertical-align: middle;\n",
       "    }\n",
       "\n",
       "    .dataframe tbody tr th {\n",
       "        vertical-align: top;\n",
       "    }\n",
       "\n",
       "    .dataframe thead th {\n",
       "        text-align: right;\n",
       "    }\n",
       "</style>\n",
       "<table border=\"1\" class=\"dataframe\">\n",
       "  <thead>\n",
       "    <tr style=\"text-align: right;\">\n",
       "      <th></th>\n",
       "      <th>name</th>\n",
       "      <th>location</th>\n",
       "      <th>picurl</th>\n",
       "      <th>followers</th>\n",
       "      <th>dt</th>\n",
       "      <th>text</th>\n",
       "      <th>rts</th>\n",
       "      <th>favs</th>\n",
       "      <th>urls</th>\n",
       "      <th>hashtags</th>\n",
       "      <th>cleantext</th>\n",
       "      <th>propurl</th>\n",
       "    </tr>\n",
       "  </thead>\n",
       "  <tbody>\n",
       "    <tr>\n",
       "      <th>0</th>\n",
       "      <td>Lavenia Rokovucago</td>\n",
       "      <td>Fiji</td>\n",
       "      <td>None</td>\n",
       "      <td>312</td>\n",
       "      <td>2021-05-18 03:37:09</td>\n",
       "      <td>Mission accomplished! Apparently you have to b...</td>\n",
       "      <td>0</td>\n",
       "      <td>0</td>\n",
       "      <td>[https://t.co/w72LUIZYGx]</td>\n",
       "      <td>[Fiji]</td>\n",
       "      <td>Mission accomplished! Apparently you have to b...</td>\n",
       "      <td>https://twitter.com/LRokovucago/status/1392961...</td>\n",
       "    </tr>\n",
       "    <tr>\n",
       "      <th>1</th>\n",
       "      <td>Westpac Bank</td>\n",
       "      <td>Australia</td>\n",
       "      <td>https://abs.twimg.com/images/themes/theme7/bg.gif</td>\n",
       "      <td>59103</td>\n",
       "      <td>2021-05-18 03:17:24</td>\n",
       "      <td>@lynnecazaly Thanks Lynne. I look forward to h...</td>\n",
       "      <td>0</td>\n",
       "      <td>0</td>\n",
       "      <td>[]</td>\n",
       "      <td>[]</td>\n",
       "      <td>@lynnecazaly Thanks Lynne. I look forward to h...</td>\n",
       "      <td>nourl</td>\n",
       "    </tr>\n",
       "    <tr>\n",
       "      <th>2</th>\n",
       "      <td>Lynne Cazaly</td>\n",
       "      <td>AUS</td>\n",
       "      <td>https://abs.twimg.com/images/themes/theme16/bg...</td>\n",
       "      <td>8746</td>\n",
       "      <td>2021-05-18 03:14:57</td>\n",
       "      <td>@Westpac Thanks Fred that’s very supportive. I...</td>\n",
       "      <td>0</td>\n",
       "      <td>0</td>\n",
       "      <td>[]</td>\n",
       "      <td>[]</td>\n",
       "      <td>@Westpac Thanks Fred that’s very supportive. I...</td>\n",
       "      <td>nourl</td>\n",
       "    </tr>\n",
       "    <tr>\n",
       "      <th>3</th>\n",
       "      <td>Lynne Cazaly</td>\n",
       "      <td>AUS</td>\n",
       "      <td>https://abs.twimg.com/images/themes/theme16/bg...</td>\n",
       "      <td>8746</td>\n",
       "      <td>2021-05-18 03:11:16</td>\n",
       "      <td>@jwgrenning @BankofMelb @Westpac Oh duh... for...</td>\n",
       "      <td>0</td>\n",
       "      <td>0</td>\n",
       "      <td>[]</td>\n",
       "      <td>[]</td>\n",
       "      <td>@jwgrenning @BankofMelb @Westpac Oh duh... for...</td>\n",
       "      <td>nourl</td>\n",
       "    </tr>\n",
       "    <tr>\n",
       "      <th>4</th>\n",
       "      <td>James W Grenning</td>\n",
       "      <td>Bonita Springs, FL</td>\n",
       "      <td>https://abs.twimg.com/images/themes/theme1/bg.png</td>\n",
       "      <td>5824</td>\n",
       "      <td>2021-05-18 03:07:32</td>\n",
       "      <td>@lynnecazaly @BankofMelb @Westpac You're Austr...</td>\n",
       "      <td>0</td>\n",
       "      <td>1</td>\n",
       "      <td>[]</td>\n",
       "      <td>[]</td>\n",
       "      <td>@lynnecazaly @BankofMelb @Westpac You're Austr...</td>\n",
       "      <td>nourl</td>\n",
       "    </tr>\n",
       "  </tbody>\n",
       "</table>\n",
       "</div>"
      ],
      "text/plain": [
       "                 name            location  \\\n",
       "0  Lavenia Rokovucago                Fiji   \n",
       "1        Westpac Bank           Australia   \n",
       "2        Lynne Cazaly                 AUS   \n",
       "3        Lynne Cazaly                 AUS   \n",
       "4    James W Grenning  Bonita Springs, FL   \n",
       "\n",
       "                                              picurl  followers  \\\n",
       "0                                               None        312   \n",
       "1  https://abs.twimg.com/images/themes/theme7/bg.gif      59103   \n",
       "2  https://abs.twimg.com/images/themes/theme16/bg...       8746   \n",
       "3  https://abs.twimg.com/images/themes/theme16/bg...       8746   \n",
       "4  https://abs.twimg.com/images/themes/theme1/bg.png       5824   \n",
       "\n",
       "                   dt                                               text  rts  \\\n",
       "0 2021-05-18 03:37:09  Mission accomplished! Apparently you have to b...    0   \n",
       "1 2021-05-18 03:17:24  @lynnecazaly Thanks Lynne. I look forward to h...    0   \n",
       "2 2021-05-18 03:14:57  @Westpac Thanks Fred that’s very supportive. I...    0   \n",
       "3 2021-05-18 03:11:16  @jwgrenning @BankofMelb @Westpac Oh duh... for...    0   \n",
       "4 2021-05-18 03:07:32  @lynnecazaly @BankofMelb @Westpac You're Austr...    0   \n",
       "\n",
       "   favs                       urls hashtags  \\\n",
       "0     0  [https://t.co/w72LUIZYGx]   [Fiji]   \n",
       "1     0                         []       []   \n",
       "2     0                         []       []   \n",
       "3     0                         []       []   \n",
       "4     1                         []       []   \n",
       "\n",
       "                                           cleantext  \\\n",
       "0  Mission accomplished! Apparently you have to b...   \n",
       "1  @lynnecazaly Thanks Lynne. I look forward to h...   \n",
       "2  @Westpac Thanks Fred that’s very supportive. I...   \n",
       "3  @jwgrenning @BankofMelb @Westpac Oh duh... for...   \n",
       "4  @lynnecazaly @BankofMelb @Westpac You're Austr...   \n",
       "\n",
       "                                             propurl  \n",
       "0  https://twitter.com/LRokovucago/status/1392961...  \n",
       "1                                              nourl  \n",
       "2                                              nourl  \n",
       "3                                              nourl  \n",
       "4                                              nourl  "
      ]
     },
     "execution_count": 7,
     "metadata": {},
     "output_type": "execute_result"
    }
   ],
   "source": [
    "# Let's see what we got...\n",
    "tw.extract[:5]"
   ]
  },
  {
   "cell_type": "code",
   "execution_count": 9,
   "metadata": {},
   "outputs": [],
   "source": [
    "# Let's save it in our data folder \n",
    "# tw.extract.to_csv('../DATA/westpactweets.csv')"
   ]
  },
  {
   "cell_type": "markdown",
   "metadata": {},
   "source": [
    "Seems simple right? Sure is after someone has done the hard yards of understanding often complex apis... <br>\n",
    "The lesson here is check if anyone has example code for your intended api, it will help give you a leg up!"
   ]
  }
 ],
 "metadata": {
  "kernelspec": {
   "display_name": "Python 3",
   "language": "python",
   "name": "python3"
  },
  "language_info": {
   "codemirror_mode": {
    "name": "ipython",
    "version": 3
   },
   "file_extension": ".py",
   "mimetype": "text/x-python",
   "name": "python",
   "nbconvert_exporter": "python",
   "pygments_lexer": "ipython3",
   "version": "3.8.5"
  }
 },
 "nbformat": 4,
 "nbformat_minor": 4
}
