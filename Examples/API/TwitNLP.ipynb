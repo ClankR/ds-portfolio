{
 "cells": [
  {
   "cell_type": "markdown",
   "metadata": {},
   "source": [
    "# Twit NLP"
   ]
  },
  {
   "cell_type": "markdown",
   "metadata": {},
   "source": [
    "#### Setup"
   ]
  },
  {
   "cell_type": "code",
   "execution_count": null,
   "metadata": {},
   "outputs": [],
   "source": []
  },
  {
   "cell_type": "code",
   "execution_count": 2,
   "metadata": {},
   "outputs": [],
   "source": [
    "#Get nbn tweets\n",
    "##Added crt path onto /Users/mitchsa/Library/Python/3.7/lib/python/site-packages/tweepy/binder.py line 39\n",
    "# import sys\n",
    "# sys.path.append(\"../API\")\n",
    "from creds import TWITKEY, TWITSECKEY, TWITACC, TWITTOK\n",
    "import os\n",
    "import tweepy as tw\n",
    "import pandas as pd"
   ]
  },
  {
   "cell_type": "code",
   "execution_count": 3,
   "metadata": {},
   "outputs": [],
   "source": [
    "auth = tw.OAuthHandler(TWITKEY, TWITSECKEY)\n",
    "auth.set_access_token(TWITACC, TWITTOK)\n",
    "api = tw.API(auth, wait_on_rate_limit=True)"
   ]
  },
  {
   "cell_type": "code",
   "execution_count": 4,
   "metadata": {},
   "outputs": [],
   "source": [
    "search_words = \"westpac -filter:retweets\" \n",
    "\n",
    "# since:2019-01-01 until:2019-02-01\" #max 7 days\n",
    "##GOOD EXAMPLE OF THINGS TO FILTER - https://twitter.com/nbn_tweets (North by Northwestern)\n",
    "# date_since = \"2019-01-01\"\n",
    "# search_words = \"Labor’s full fibre NBN was going to cost -filter:retweets\""
   ]
  },
  {
   "cell_type": "code",
   "execution_count": 4,
   "metadata": {},
   "outputs": [],
   "source": [
    "#looping on max_id to get volume http://t-redactyl.io/blog/2017/04/applying-sentiment-analysis-with-vader-and-the-twitter-api.html\n",
    "\n",
    "# import time\n",
    "\n",
    "# data = api.search(q = search_words, count = 100, lang = 'en', result_type = 'mixed', tweet_mode=\"extended\")\n",
    "# data_all = data.values()[1]\n",
    "\n",
    "# while (len(data_all) <= 20000):\n",
    "#     time.sleep(5)\n",
    "#     last = data_all[-1]['id']\n",
    "#     data = api.search(q = search_words, count = 100, lang = 'en', result_type = 'mixed', tweet_mode=\"extended\", max_id = last)\n",
    "#     data_all += data.values()[1][1:]"
   ]
  },
  {
   "cell_type": "code",
   "execution_count": 5,
   "metadata": {},
   "outputs": [],
   "source": [
    "# for key in list(tweets)[0]._json:\n",
    "#     print(key)"
   ]
  },
  {
   "cell_type": "code",
   "execution_count": 5,
   "metadata": {},
   "outputs": [],
   "source": [
    "tweets = tw.Cursor(api.search,\n",
    "              q=search_words,\n",
    "              lang=\"en\",\n",
    "#               since=date_since, \n",
    "#               before=\"2019-01-03\",\n",
    "            tweet_mode=\"extended\").items(10000)\n",
    "# tweets"
   ]
  },
  {
   "cell_type": "code",
   "execution_count": 7,
   "metadata": {},
   "outputs": [],
   "source": [
    "# print(str(list(tweets)[3]).replace('{', '_____\\n').replace(',', '\\n  '))"
   ]
  },
  {
   "cell_type": "code",
   "execution_count": 6,
   "metadata": {},
   "outputs": [],
   "source": [
    "# # https://developer.twitter.com/en/docs/tweets/data-dictionary/overview/tweet-object\n",
    "\n",
    "info = [[tweet.user.name, tweet.user.location,\n",
    "         tweet.user.profile_background_image_url_https,\n",
    "         tweet.user.followers_count,\n",
    "         \n",
    "         tweet.created_at, \n",
    "\n",
    "         tweet.full_text, \n",
    "        \n",
    "         tweet._json.get('retweet_count',0), \n",
    "         tweet.favorite_count,#_json.get('favourite_count', 0),\n",
    "\n",
    "         [hsh.get('url') for hsh in tweet.entities.get('urls', {})],\n",
    "         [hsh.get('text') for hsh in tweet.entities.get('hashtags', {})]\n",
    "         ] for tweet in tweets]\n",
    "# # info[5]\n",
    "\n",
    "# #          tweet.entities.get('urls'),\n",
    "# #          tweet._json.get('coordinates', {}).get('coordinates'), \n",
    "# #          [hsh.get('text') for hsh in tweet._json.get('entities', {}).get('hashtags', {})]\n",
    "# #"
   ]
  },
  {
   "cell_type": "code",
   "execution_count": 7,
   "metadata": {},
   "outputs": [
    {
     "data": {
      "text/plain": [
       "464"
      ]
     },
     "execution_count": 7,
     "metadata": {},
     "output_type": "execute_result"
    }
   ],
   "source": [
    "len(info)"
   ]
  },
  {
   "cell_type": "code",
   "execution_count": 8,
   "metadata": {},
   "outputs": [],
   "source": [
    "tt = pd.DataFrame(data=info, \n",
    "                    columns=['name', 'location', 'picurl', 'followers',\n",
    "                            'dt', 'text', 'rts', 'favs', 'urls', 'hashtags'])\n",
    "# # tt[:2]"
   ]
  },
  {
   "cell_type": "code",
   "execution_count": 12,
   "metadata": {},
   "outputs": [],
   "source": [
    "# tt[tt['urls'].map(len)>1]\n",
    "# tt"
   ]
  },
  {
   "cell_type": "code",
   "execution_count": 9,
   "metadata": {},
   "outputs": [],
   "source": [
    "import re\n",
    "tt['cleantext'] = [re.sub('|'.join(row.urls), '', row.text) for i, row in tt.iterrows()]"
   ]
  },
  {
   "cell_type": "code",
   "execution_count": 10,
   "metadata": {},
   "outputs": [],
   "source": [
    "# for url in tt[tt['urls'].map(len)==0].urls:\n",
    "#     print(url[])"
   ]
  },
  {
   "cell_type": "code",
   "execution_count": 11,
   "metadata": {},
   "outputs": [
    {
     "name": "stdout",
     "output_type": "stream",
     "text": [
      "0\n"
     ]
    }
   ],
   "source": [
    "real_u = []\n",
    "import warnings\n",
    "warnings.simplefilter(\"ignore\")\n",
    "import requests\n",
    "\n",
    "for i, url in enumerate(tt.urls):\n",
    "    if i%1000==0:\n",
    "        print(i)\n",
    "#     print(url)\n",
    "    try:\n",
    "        if len(url)>0:\n",
    "            r = requests.get(url[-1], verify = False).url\n",
    "            real_u.append(r)\n",
    "        else:\n",
    "            real_u.append('nourl')\n",
    "    except:\n",
    "        real_u.append('nourl')"
   ]
  },
  {
   "cell_type": "code",
   "execution_count": 12,
   "metadata": {},
   "outputs": [],
   "source": [
    "tt['propurl'] = real_u"
   ]
  },
  {
   "cell_type": "code",
   "execution_count": 13,
   "metadata": {},
   "outputs": [
    {
     "data": {
      "text/plain": [
       "464"
      ]
     },
     "execution_count": 13,
     "metadata": {},
     "output_type": "execute_result"
    }
   ],
   "source": [
    "len(tt)"
   ]
  },
  {
   "cell_type": "code",
   "execution_count": 14,
   "metadata": {},
   "outputs": [
    {
     "data": {
      "text/plain": [
       "464"
      ]
     },
     "execution_count": 14,
     "metadata": {},
     "output_type": "execute_result"
    }
   ],
   "source": [
    "len(real_u)"
   ]
  },
  {
   "cell_type": "code",
   "execution_count": 22,
   "metadata": {},
   "outputs": [
    {
     "data": {
      "text/plain": [
       "name                                              Anton Murray\n",
       "location                                     Sydney, Australia\n",
       "picurl       https://abs.twimg.com/images/themes/theme14/bg...\n",
       "followers                                                  254\n",
       "dt                                         2021-05-18 03:04:38\n",
       "text         Ex-Westpac boss lands at investment consultant...\n",
       "rts                                                          0\n",
       "favs                                                         0\n",
       "urls                                 [https://t.co/STVINy0K0o]\n",
       "hashtags                                                    []\n",
       "cleantext    Ex-Westpac boss lands at investment consultant...\n",
       "propurl                                                  nourl\n",
       "Name: 5, dtype: object"
      ]
     },
     "execution_count": 22,
     "metadata": {},
     "output_type": "execute_result"
    }
   ],
   "source": [
    "tt.iloc[5]"
   ]
  },
  {
   "cell_type": "code",
   "execution_count": 1,
   "metadata": {},
   "outputs": [],
   "source": [
    "import twitter_extract as te"
   ]
  },
  {
   "cell_type": "code",
   "execution_count": 2,
   "metadata": {},
   "outputs": [],
   "source": [
    "tw = te.twit_api()"
   ]
  },
  {
   "cell_type": "code",
   "execution_count": 3,
   "metadata": {},
   "outputs": [
    {
     "name": "stdout",
     "output_type": "stream",
     "text": [
      "Number of tweets scraped: 464\n"
     ]
    }
   ],
   "source": [
    "tw.scrape('westpac')"
   ]
  },
  {
   "cell_type": "code",
   "execution_count": 6,
   "metadata": {},
   "outputs": [
    {
     "data": {
      "text/html": [
       "<div>\n",
       "<style scoped>\n",
       "    .dataframe tbody tr th:only-of-type {\n",
       "        vertical-align: middle;\n",
       "    }\n",
       "\n",
       "    .dataframe tbody tr th {\n",
       "        vertical-align: top;\n",
       "    }\n",
       "\n",
       "    .dataframe thead th {\n",
       "        text-align: right;\n",
       "    }\n",
       "</style>\n",
       "<table border=\"1\" class=\"dataframe\">\n",
       "  <thead>\n",
       "    <tr style=\"text-align: right;\">\n",
       "      <th></th>\n",
       "      <th>name</th>\n",
       "      <th>location</th>\n",
       "      <th>picurl</th>\n",
       "      <th>followers</th>\n",
       "      <th>dt</th>\n",
       "      <th>text</th>\n",
       "      <th>rts</th>\n",
       "      <th>favs</th>\n",
       "      <th>urls</th>\n",
       "      <th>hashtags</th>\n",
       "      <th>cleantext</th>\n",
       "      <th>propurl</th>\n",
       "    </tr>\n",
       "  </thead>\n",
       "  <tbody>\n",
       "    <tr>\n",
       "      <th>0</th>\n",
       "      <td>Lavenia Rokovucago</td>\n",
       "      <td>Fiji</td>\n",
       "      <td>None</td>\n",
       "      <td>312</td>\n",
       "      <td>2021-05-18 03:37:09</td>\n",
       "      <td>Mission accomplished! Apparently you have to b...</td>\n",
       "      <td>0</td>\n",
       "      <td>0</td>\n",
       "      <td>[https://t.co/w72LUIZYGx]</td>\n",
       "      <td>[Fiji]</td>\n",
       "      <td>Mission accomplished! Apparently you have to b...</td>\n",
       "      <td>[https://t.co/w72LUIZYGx]</td>\n",
       "    </tr>\n",
       "    <tr>\n",
       "      <th>1</th>\n",
       "      <td>Westpac Bank</td>\n",
       "      <td>Australia</td>\n",
       "      <td>https://abs.twimg.com/images/themes/theme7/bg.gif</td>\n",
       "      <td>59108</td>\n",
       "      <td>2021-05-18 03:17:24</td>\n",
       "      <td>@lynnecazaly Thanks Lynne. I look forward to h...</td>\n",
       "      <td>0</td>\n",
       "      <td>0</td>\n",
       "      <td>[]</td>\n",
       "      <td>[]</td>\n",
       "      <td>@lynnecazaly Thanks Lynne. I look forward to h...</td>\n",
       "      <td>[]</td>\n",
       "    </tr>\n",
       "    <tr>\n",
       "      <th>2</th>\n",
       "      <td>Lynne Cazaly</td>\n",
       "      <td>AUS</td>\n",
       "      <td>https://abs.twimg.com/images/themes/theme16/bg...</td>\n",
       "      <td>8746</td>\n",
       "      <td>2021-05-18 03:14:57</td>\n",
       "      <td>@Westpac Thanks Fred that’s very supportive. I...</td>\n",
       "      <td>0</td>\n",
       "      <td>0</td>\n",
       "      <td>[]</td>\n",
       "      <td>[]</td>\n",
       "      <td>@Westpac Thanks Fred that’s very supportive. I...</td>\n",
       "      <td>[]</td>\n",
       "    </tr>\n",
       "    <tr>\n",
       "      <th>3</th>\n",
       "      <td>Lynne Cazaly</td>\n",
       "      <td>AUS</td>\n",
       "      <td>https://abs.twimg.com/images/themes/theme16/bg...</td>\n",
       "      <td>8746</td>\n",
       "      <td>2021-05-18 03:11:16</td>\n",
       "      <td>@jwgrenning @BankofMelb @Westpac Oh duh... for...</td>\n",
       "      <td>0</td>\n",
       "      <td>0</td>\n",
       "      <td>[]</td>\n",
       "      <td>[]</td>\n",
       "      <td>@jwgrenning @BankofMelb @Westpac Oh duh... for...</td>\n",
       "      <td>[]</td>\n",
       "    </tr>\n",
       "    <tr>\n",
       "      <th>4</th>\n",
       "      <td>James W Grenning</td>\n",
       "      <td>Bonita Springs, FL</td>\n",
       "      <td>https://abs.twimg.com/images/themes/theme1/bg.png</td>\n",
       "      <td>5824</td>\n",
       "      <td>2021-05-18 03:07:32</td>\n",
       "      <td>@lynnecazaly @BankofMelb @Westpac You're Austr...</td>\n",
       "      <td>0</td>\n",
       "      <td>1</td>\n",
       "      <td>[]</td>\n",
       "      <td>[]</td>\n",
       "      <td>@lynnecazaly @BankofMelb @Westpac You're Austr...</td>\n",
       "      <td>[]</td>\n",
       "    </tr>\n",
       "  </tbody>\n",
       "</table>\n",
       "</div>"
      ],
      "text/plain": [
       "                 name            location  \\\n",
       "0  Lavenia Rokovucago                Fiji   \n",
       "1        Westpac Bank           Australia   \n",
       "2        Lynne Cazaly                 AUS   \n",
       "3        Lynne Cazaly                 AUS   \n",
       "4    James W Grenning  Bonita Springs, FL   \n",
       "\n",
       "                                              picurl  followers  \\\n",
       "0                                               None        312   \n",
       "1  https://abs.twimg.com/images/themes/theme7/bg.gif      59108   \n",
       "2  https://abs.twimg.com/images/themes/theme16/bg...       8746   \n",
       "3  https://abs.twimg.com/images/themes/theme16/bg...       8746   \n",
       "4  https://abs.twimg.com/images/themes/theme1/bg.png       5824   \n",
       "\n",
       "                   dt                                               text  rts  \\\n",
       "0 2021-05-18 03:37:09  Mission accomplished! Apparently you have to b...    0   \n",
       "1 2021-05-18 03:17:24  @lynnecazaly Thanks Lynne. I look forward to h...    0   \n",
       "2 2021-05-18 03:14:57  @Westpac Thanks Fred that’s very supportive. I...    0   \n",
       "3 2021-05-18 03:11:16  @jwgrenning @BankofMelb @Westpac Oh duh... for...    0   \n",
       "4 2021-05-18 03:07:32  @lynnecazaly @BankofMelb @Westpac You're Austr...    0   \n",
       "\n",
       "   favs                       urls hashtags  \\\n",
       "0     0  [https://t.co/w72LUIZYGx]   [Fiji]   \n",
       "1     0                         []       []   \n",
       "2     0                         []       []   \n",
       "3     0                         []       []   \n",
       "4     1                         []       []   \n",
       "\n",
       "                                           cleantext  \\\n",
       "0  Mission accomplished! Apparently you have to b...   \n",
       "1  @lynnecazaly Thanks Lynne. I look forward to h...   \n",
       "2  @Westpac Thanks Fred that’s very supportive. I...   \n",
       "3  @jwgrenning @BankofMelb @Westpac Oh duh... for...   \n",
       "4  @lynnecazaly @BankofMelb @Westpac You're Austr...   \n",
       "\n",
       "                     propurl  \n",
       "0  [https://t.co/w72LUIZYGx]  \n",
       "1                         []  \n",
       "2                         []  \n",
       "3                         []  \n",
       "4                         []  "
      ]
     },
     "execution_count": 6,
     "metadata": {},
     "output_type": "execute_result"
    }
   ],
   "source": [
    "tw.extract[:5]"
   ]
  },
  {
   "cell_type": "code",
   "execution_count": 19,
   "metadata": {},
   "outputs": [],
   "source": [
    "df = tt.copy()"
   ]
  },
  {
   "cell_type": "code",
   "execution_count": 20,
   "metadata": {},
   "outputs": [],
   "source": [
    "df.to_csv('twitnbn7.csv')"
   ]
  },
  {
   "cell_type": "markdown",
   "metadata": {},
   "source": [
    "<hr>"
   ]
  },
  {
   "cell_type": "code",
   "execution_count": 144,
   "metadata": {},
   "outputs": [],
   "source": [
    "import pandas as pd\n",
    "df = pd.read_csv('twitnbn2.csv')"
   ]
  },
  {
   "cell_type": "code",
   "execution_count": 145,
   "metadata": {},
   "outputs": [],
   "source": [
    "##CAN USE TWEETS ABOUT OR OR OR Grab urls, and scrape text off articles?"
   ]
  },
  {
   "cell_type": "code",
   "execution_count": 146,
   "metadata": {},
   "outputs": [],
   "source": [
    "import spacy\n",
    "nlp = spacy.load('en_core_web_lg')\n",
    "\n",
    "# look into...\n",
    "\n",
    "#word2vec, #gensim\n",
    "# https://databricks-prod-cloudfront.cloud.databricks.com/public/4027ec902e239c93eaaa8714f173bcfc/5722190290795989/2546946806099472/8175309257345795/latest.html\n",
    "# https://spark.apache.org/docs/latest/api/python/pyspark.ml.html?highlight=word2vec\n",
    "# speed up spacy parallel, lstm in python\n",
    "# https://towardsdatascience.com/lstm-for-time-series-prediction-de8aeb26f2ca\n",
    "\n",
    "# https://medium.com/@ageitgey/natural-language-processing-is-fun-9a0bff37854e\n",
    "# https://spacy.io/usage/training#section-ner #updating named entity recog"
   ]
  },
  {
   "cell_type": "code",
   "execution_count": 172,
   "metadata": {},
   "outputs": [],
   "source": [
    "ls = []\n",
    "for txt in df.cleantext:\n",
    "    snt = nlp(txt)\n",
    "    \n",
    "    once = []\n",
    "    for entity in snt.ents:\n",
    "        if (entity.label == 383):\n",
    "            once.append(entity.text)\n",
    "    if once == []:\n",
    "        ls.append(\"\")\n",
    "    else:\n",
    "        ls.append(\" \".join(once))\n",
    "#     print(snt, \"\\n\", once, \"\\n---\")\n",
    "    "
   ]
  },
  {
   "cell_type": "code",
   "execution_count": 173,
   "metadata": {},
   "outputs": [
    {
     "data": {
      "text/plain": [
       "['LNP', 'ADSble \\n vi @ZDNe &m @dbe', '']"
      ]
     },
     "execution_count": 173,
     "metadata": {},
     "output_type": "execute_result"
    }
   ],
   "source": [
    "ls[:3]"
   ]
  },
  {
   "cell_type": "code",
   "execution_count": 174,
   "metadata": {},
   "outputs": [],
   "source": [
    "df['NER']=ls"
   ]
  },
  {
   "cell_type": "code",
   "execution_count": 152,
   "metadata": {},
   "outputs": [],
   "source": [
    "# pd.set_option('max_colwidth', 300)\n",
    "# df.cleantext[:5]"
   ]
  },
  {
   "cell_type": "code",
   "execution_count": 177,
   "metadata": {},
   "outputs": [
    {
     "data": {
      "text/plain": [
       "1886"
      ]
     },
     "execution_count": 177,
     "metadata": {},
     "output_type": "execute_result"
    }
   ],
   "source": [
    "len(df.NER.unique())"
   ]
  },
  {
   "cell_type": "code",
   "execution_count": 189,
   "metadata": {},
   "outputs": [],
   "source": [
    "nrs = pd.DataFrame(df.NER.value_counts()).reset_index().query('index!=\"\" & NER>5')\n",
    "# nrs\n"
   ]
  },
  {
   "cell_type": "code",
   "execution_count": 157,
   "metadata": {},
   "outputs": [],
   "source": [
    "# df[['cleantext','urls', 'NER']][:20]"
   ]
  },
  {
   "cell_type": "code",
   "execution_count": 197,
   "metadata": {},
   "outputs": [],
   "source": [
    "red = df[df.NER.isin(nrs['index'])]"
   ]
  },
  {
   "cell_type": "code",
   "execution_count": 195,
   "metadata": {},
   "outputs": [],
   "source": [
    "import plotly.express as px"
   ]
  },
  {
   "cell_type": "code",
   "execution_count": 200,
   "metadata": {},
   "outputs": [
    {
     "data": {
      "application/vnd.plotly.v1+json": {
       "config": {
        "plotlyServerURL": "https://plot.ly"
       },
       "data": [
        {
         "alignmentgroup": "True",
         "customdata": [
          [
           "Why do LNP want a #NBN tax? Better to save on recurrent power ant maintenance cost by replacing copper with fibre. But I guess it would allow extra price gouging by whichever mate they sell it to!! #auspol"
          ],
          [
           "@NBN_Australia This is so confusing. The new @NBN_Australia wholesale plans announced on the 26/11/19 are reducing upload speeds for the top end plans. Now you're suggesting that users upload backup data to the cloud... #nbn #slowupload"
          ],
          [
           "@Optus @NBN_Australia starting to get a bit ridiculous now, haven't been able to access my internet for over 12 hours. Can't even do anything about it because I don't get any reception to the Optus network in my house either! Horrible."
          ],
          [
           ". Hey @Optus NBN is down AGAIN in Hoppers Crossing Victoria, Seems like there’s issue with @NBN_Australia almost everyday. Can’t get any work done with this crap happening all the time. https://t.co/K0jmy8ByCm"
          ],
          [
           "@NBN_Australia 2/2 so we waste time troubleshooting. Hours later they get note from nbn saying it's area outage... too late!!"
          ],
          [
           "@NBN_Australia This is frustrating. ..I'm not talking about social media. I'm saying nbn as a whole needs to better manage customer experience when it comes to outage. E.g, when there is outage, I call my provider and they can't see if it's an area outage or just me."
          ],
          [
           "Our FttB NBN connection has developed a new habit, randomly losing line sync in the middle of day 😡\n\nTried replacing the modem, no difference https://t.co/eMSCEJk1yW"
          ],
          [
           "@Species1951 @AusRepublic @TurnbullMalcolm I wouldn't say Abbott is Malc's mate in any, which, way, shape or form.  Oh to be a fly on the wall when Murdoch scuppered the NBN.  Murdoch can't publish enough fanmail for Abbott."
          ],
          [
           "So now if I want to connect the $380 device we were sold to fix the poorly working backup connection while we wait for the poorly ordered NBN location move to be completely cancelled before it can be re-ordered correctly, I need to buy another sim card for $80/mth to make it work"
          ],
          [
           "@bantambaby @3wombats I just spent 15 minutes talking to \"Justin\" from the NBN. The imbecile didn't realise in all that time I was taking the piss, became very profane when I finally let on. The joys of retirement &amp; living in a remote area, you take your fun &amp; entertainment whenever you can."
          ],
          [
           "@Aussie_BB Are you guys able to make @NBN_Australia address a network shortfall in an apartment building where all other units are connected? I’ve had things continuously put back for over 18 months now."
          ],
          [
           "I was kinda nervous about the NBN cause I've heard mixed reviews but goddamn\n\nIt's actually good.."
          ],
          [
           "@shhartley I got Optus NBN installed in March. I love it."
          ],
          [
           "Excitement all round at our house. NBN installed today. We have gone from speeds of 3mbs for downloads to 20-40mbs!"
          ],
          [
           "NBN outage 😡 no KookaCam"
          ],
          [
           "@NBN_Australia is this a scam? 🤔 https://t.co/avDK1iV1wb"
          ],
          [
           "@Rtros couldn't live without NBN tbh"
          ],
          [
           "@AusRepublic @TurnbullMalcolm It's the current standard of Australian politicians, like when you and your mate Abbot spent $50+ bn to butcher the NBN with a mish mash of technologies, or when Dan Andrews paid $2+ bn NOT to build the East West link. You should know - you're part of it!"
          ],
          [
           "apparently i get NBN tomorrow, but how do i know if its available? do i get a letter through the mail?"
          ],
          [
           "#nbn on of the problems about FTTN that you cant get the same VDSL sync all the time"
          ],
          [
           "@NBN_Australia My house is \"too big of a job\" according to NBN, it will cost too much to do all the digging and wiring from my house to the node. I am on the back of a block without easy access to a node or power lines 🤷‍♀️ NBN technicians have come 4 times and scratched their heads."
          ],
          [
           "Extremely slow internet for past few days @TPG_Telecom ... NBN is not that fast what they claim"
          ],
          [
           "@Ultimateqestion @themarkjacka That sure explains the NBN"
          ],
          [
           "No Internet in my house this morning. Forced to rely on mobile data which is more stable than NBN @AndyB_Aussiered"
          ],
          [
           "@Charalanahzard Man I just got the NBN at my place and our internet speed tripled, too bad it's still 400+Mbps than that!!!"
          ],
          [
           "@Megacurve Sorry to hear the services are still not back up and running, but great to hear Optus are keeping you up to date. You're talking to the right people. Can we ask - is there anyone at your home that is medically vulnerable? If so please provide additional information. ^Maya"
          ],
          [
           "Joy of joys... Apparently the cancellation of previous incorrectly ordered #Telstra #NBN connection has still not been cancelled so that it can be correctly reordered.... O_o Yup.... Surprised... Not in the least."
          ],
          [
           "@mana_kailani @davidbewart Might've thought it was Nicole from the NBN , know who'd I'd rather talk to"
          ],
          [
           "@PaulFletcherMP @MarkCoultonMP @NBN_Australia Except when the NBN is down, or the weather isn't perfect, or it's raining, or windy, or......\n\nI'll call that blue vehicle a 'Unicorn', because that's how often you'll see one out in the wild."
          ],
          [
           "@NBN_Australia I appreciate that. However my point is that I currently pay a certain amount and receive 110mbps on the current network. For the same \namount/month, on the NBN, I will receive a far slower speed. This is meant to be progress, not regress. That just makes no sense to me. #auspol"
          ],
          [
           "@Telstra_news What’s the latest news on the cyber attack which has caused the NBN outage?  It’s been ongoing for the last 48hrs."
          ],
          [
           "@_catburger @NevarcBB Ahha. Rip.\nThe only thing I use on ethernet now is the switch. When we got nbn had the same thing of the router moving from a room that made sense, to our bedroom and so I decided to just test using WiFi and it's been really stable and fast for our PCs and PS4 so."
          ],
          [
           "Hopefully will have internet after today. The NBN technician is coming between 8-12 finally. Been without internet since Saturday and it’s driving me insane."
          ],
          [
           "@BreakOneBarrier I don't usually play NBN but I'm gonna play the shit out of that lol"
          ],
          [
           "The whole NBN technical support process is as shite as the NBN. I've taken time off work this morning (not a convenient time to do that either) only to have the tech ring and say they can't make the 4hr time slot allocated and they will be late is that ok?..not it's effing Not!"
          ],
          [
           "@BrettMasonNews @SBSNews @TurnbullMalcolm @AusRepublic That Malcolm is like dog with a bone, why did he not display that tenacity to perfect the NBN? 🤨"
          ],
          [
           "@SuperSpuddles Sounds about right for Aus.\nInwent from Cable to NBN and my internet got worse."
          ],
          [
           "@Optus You guys can stop sending me reminders to set up NBN. I’ve received two since successfully doing so.  Don’t you check before sending threats?"
          ],
          [
           "@NevarcBB @Lelielisme I used to have my modem/router plugged into the ethernet port in my room with enough ports. However, since I got NBN (in the lounge) I've just had the one giant ethernet cable running through the house to my desktop lol, I don't have a network switch or anything in my room atm"
          ],
          [
           "@NBN_Australia @SirWufflesTheII \"That's not want we're wanting\""
          ],
          [
           "#ABC774 still pretending 5G will be a replacement for fixed broadband. We still need a FTTP #NBN. \n#Auspol #Fraudband"
          ],
          [
           "I just got NBN connected n it feels like my phone is at its first music festival n has just dropped two pingers"
          ],
          [
           "@SenatorMcGrath No that would be the NBN"
          ],
          [
           "That totally screwed feeling as the stupid Australian media touts cheaper @NBN_Australia while upload speeds are strangled, @mcannonbrookes can you believe how backwards Australia's internet has become?"
          ],
          [
           "@markjs1 @NBN_Australia @Aussie_BB There is not a day that our NBN doesn’t go down ...."
          ],
          [
           "It's utterly bizarre &amp; a clear case of 'magical thinking' by @NBN_Australia to encourage even more demand upon INFRASTRUCTURE THAT CANNOT COPE WITH CURRENT DEMAND!!\n\n..what the FUCK is going on?!!\n\n@Aussie_BB #NBN #auspol"
          ],
          [
           "I really don't understand what @NBN_Australia is trying to achieve by lowering the cost of higher speeds &amp; thus encouraging customers to migrate to a higher speed tier..\n\nWhen we ALL know the current infrastructure will not be able to cope with MORE data demand..\n\n#NBN #auspol"
          ],
          [
           "Aussie Broadband $50 off first month! \nReferral code: 2196434 #NBN #broadband #internet #discount #credit #deal #saving #code #referral #reliable #customerservice #passion #it #aussie #aussiebroadband #mate #connect #join"
          ],
          [
           "The funny sensation of excitement on a stranger's NBN 🙌"
          ],
          [
           "@Optus v. Disappointed that home #phone hasn’t been repaired/worked for 3 weeks. We can’t phone 90+ relatives who doesn’t use internet. Poor service. Blamed on @NBN_Australia but that’s not the case now."
          ],
          [
           "@sprintcare Uncomfortable buying a phone sight unseen and he then stated I had 30 days to return it. I the nbn said I didn't feel comfortable again and he stated what part of what are you incapable of understanding. I said excuse me and he stated he was not going to repeat himself I then"
          ],
          [
           "Zin Williamn an immer Freee iglig ar f ur all-eae en eam a NBN ninue  elebrae e eae a a in bakeball  KTLg7TW"
          ],
          [
           "@fatieIe Used to have to watch in 240 P a few years ago before NBN. Dark times indeed"
          ],
          [
           "NBN is just going horrible. 🖕\nBring back ADSL"
          ],
          [
           "@DoctorKarl Australia's internet speeds are pathetic and NBN was outdated before it was even rolled out"
          ],
          [
           "@CRN_au Is there any update on the cyber attack that has caused the NBN outage over the last 2 days? Has it been traced back to China yet?"
          ],
          [
           "@Telstra @Telstra_news @iTnews_au  @NBN_Australia Is there at update on the cyber attack that has caused the NBN outage over the last 2 days? Has it been traced back to China yet?"
          ],
          [
           "Does anybody know what’s happening with the major NBN outage? Apparently it’s under attack from overseas."
          ],
          [
           "@acyberexpert @decryption @georgeharito @CaNerdIan I was confused how a Canadian was going with an Australian NBN modem myself. Mine is just laying on its side very unceremoniously."
          ],
          [
           "@David_EC_Reid This isn't the experience we're wanting for you, David. I'd be disappointed too. Please ask your provider to test your lines. They'll be able to find where the issue lies. If it's an issue with nbn our nbn support team will work with your provider to fix it. ^Rose"
          ],
          [
           "@DaphneDarling_x That is totally crap, is it nbn?"
          ],
          [
           "NBN speed - you can’t beat it, thank god we weren’t allowed to keep our cable system where you could download stuff! #nbnisuseless https://t.co/ghphTfgXXz"
          ],
          [
           "@Interdoorsman Hey Interdoorsman, there's a number of factors that might affect your connection. Have you reached out to your provider to carry out some line testing? If it's an issue with our infrastructure our nbn support team will work with your provider to fix it. ^Rose"
          ],
          [
           "@SkillUpYT @Charalanahzard I'm a 2 hour drive outside of sydney and this is what I'm working with on the NBN. https://t.co/FAZXzohbsc"
          ],
          [
           "@D_Melissa2 @CalvinMcClure9 @mana_kailani @TurnbullMalcolm What other good things Melissa? The NBN is a travesty, he purchased the prime ministership otherwise they would never have voted for him &amp; have you met Lucy 🤔"
          ],
          [
           "@SkillUpYT @Charalanahzard I just finally got nbn and my speeds are 1/10th of that"
          ],
          [
           "@beckykate85 Hi Becky, sorry for the late response. I apologise for any frustration caused by the delay in moving your internet service. Is an ADSL, Cable or NBN service that is due to be connected? \nWhat has been advised is causing the delay? -Ivan"
          ],
          [
           "@FunTechalyst Mobile data is about 2% of all data in Aus right now. 5 g just does not have the capacity to Cary the huge amounts of data the NBN can. We need them both."
          ],
          [
           "@KrisMuree Hi Kishore, sorry for the late response. I apologise that you have had an ongoing internet issue that is yet to be resolved. Do you have an ADSL, Cable or NBN service? \nHave you been affected by a network issue or is this specific to your service? What has been advised? -Ivan"
          ],
          [
           "The internet was nice while it lasted. Had to return the generator off so we (and neighbours) can sleep, which means NBN off and the fridge will have to stay cool itself until the morning. It'd be nice to wake up with the power back but yeah i doubt it."
          ],
          [
           "@jasonimms @Charalanahzard How do you get over 800 in Australia? Our nbn doesn't even hit 50"
          ],
          [
           "@Aussie_BB Thanks but I already called. NBN seems to have told AussieBB as much as they’ve told me - zilch, only “solution” is to just wait until they decide to hook it up properly, in contrast to whatever NBN did the last couple of times 😞"
          ],
          [
           "@CalvinMcClure9 @mana_kailani @TurnbullMalcolm I like Malcolm, his family are lovely too. Yes people say the NBN but they don’t remember other good things. I miss him, he was a hell of a lot better than Morrison."
          ],
          [
           "@NBN_Australia I’ve had this fault since August but only lodged it 2 weeks ago due to it getting progressively worse. Apparently NBN was fixed today but I’m still having the same issue 😕 so my issue is not the issue they thought it was. Not good enough!"
          ],
          [
           "Looking forward to my 100Mbps cable connection being forcibly disconnected for slower, less stable, more expensive \"NBN\" plans."
          ],
          [
           "@NBN_Australia After 23 hours without power it has returned. So has nbn.\nNeeding power to run the phone seems to be a very backwards step compared to the copper network that kept working in these conditions.\nI would describe it as a fundamental design flaw when a system is so sensitive."
          ],
          [
           "@David_EC_Reid @NBN_Australia Adam Russo supported the NBN from Day 1.  It’s a bust."
          ],
          [
           "@Locked4YourFeet @QueenSalt1 Hills District too, but south of Rouse Hill. Where I lived prior to this was a 5 min drive... NBN was incredibly reliable, consistent crazy high speeds. So who the hell knows. But I'm fed up by it all... I try not to think about it but its My WORK. Agent gives zero shits."
          ],
          [
           "NBN, what a joke, I had better speeds with dial up!!!!"
          ],
          [
           "@pieman_78 Call nbn, they say speak to your provider. Call belong, they say they can’t do anything because that’s something nbn done. Whatever else, the system is built on never being able to hold anyone to account."
          ],
          [
           "@australian Inspiring words from Malcolm, I’m guessing he will first fix NBN before returning as supreme leader, or is now not the time to talk about that?"
          ],
          [
           "@QueenSalt1 I've been FAR too patient and kind to this agent. Nearly 8 weeks from moving in, and he's just fed me BS all along insisting it has NBN, despite me fwding emails FROM NBNco saying it never has and doesn't have NBN. Prick. Fucking prick."
          ],
          [
           "I can’t wait for Friday. NBN tech booked in to fault find why the service drops out when it rains. \n\nThis is almost certainly going to go as well as it sounds it could."
          ],
          [
           "Had the dreaded call today that I must change over to @NBN_Australia soon. I currently have Cable Internet with @Telstra that works great, and I get 110mbps. I was told today I will expect about 45mbps when I migrate to NBN. How the hell is this progress?!? #auspol #nbn"
          ],
          [
           "@acryptae I'm actually on nbn as well👀"
          ],
          [
           "@MaxMaximilan @AusIndiMedia @SeanBradbery I highly doubt they left it as it because it was \"better\" than the FTTP offered by the NBN, I think it's more likely that you 'thought' wrong."
          ],
          [
           "@QueenSalt1 My last place had NBN - 90-100 Mbps DL, ~50+ upload. I cam, so #1 for the house I was to move to was NBN. This agent lied. I was too stupid to believe him despite not seeing an NBN box. Assumed NBN could be connected in other ways w/o a box. Lesson learned. Trust no agents. https://t.co/DgS7YpLogE"
          ],
          [
           "@AusIndiMedia @fount8 Omg. After seeing your comprehension regarding the NBN I.e wouldn't have a fkn  clue.. I can only assume you're logic regarding climate change is about as comprehensive as most teenage hippies.. I.e you're brainwashed and clueless! #CLIMATEHOAX"
          ],
          [
           "@Charalanahzard @jasonimms It’s because Australian internet is so expensive and slow. The internal network is not good, and the undersea links are highly congested and long. Unfortunately that would have changed significantly if the NBN was rolled out. I got the shits and moved to Europe due to this"
          ],
          [
           "@AusIndiMedia @littlbit21 I can safely say that I know for a FACT that the NBN, in my case, FTTP is 100x better than adsl2!"
          ],
          [
           "@RitzStuart @SBSNews If the votes are cast online via NBN it will be 2060 before the results are in."
          ],
          [
           "@DrKimJohnstone @AusIndiMedia @SeanBradbery And lol at your stupid response Dr.. Clearly you don't have a clue what you're talking about.. \"ADSL didn't have to go through a copper wire installed in the 1950s\" yet you think NBN does? Rofl.. don't give up your day time job..."
          ],
          [
           "@isekai_trash @FormulaOneWorld I got the NBN so I could stream smoothly though, so yeah, I am awaiting for Friday AEST to get my builder to come and change my PC Case, and then I will just mod my F1 2019 (The Black Red car for example) and yeah . haha! I'll stream ."
          ],
          [
           "@deniseshrivell Submarines are like expensive cars, you just keep pouring money into them with no return, unlike the NBN which would be a better proposition"
          ],
          [
           "@iiNet This isn't the feedback, i have a year of records. I have been ridiculously patient, getting constantly overcharged, you guys cancelling NBN, not giving me sufficient answers. This will be fun."
          ],
          [
           "So @NBN_Australia sent an “appointment reminder” but neither date nor time. Comment is superfluous."
          ],
          [
           "@iiNet A year I've been trying to get NBN to work, and i have to deal with this..."
          ],
          [
           "@ScanAustralia @acmadotgov @PaulFletcherMP this looks like your department. A fake nbn website still alive after being reported seems a bit crap"
          ],
          [
           "@Charalanahzard Aussie here yet to get NBN. Strong 4 mbps 😭😭😭😭😭😭😭😭"
          ],
          [
           "@PaulBurkhill @NBN_Australia Well, @NBN_Australia My ISP sent out a tech, and it's amazing the equipment you can now get. He tested my line and said that the fault lies about 104m from my house ..which incidentally is the distance to the NBN pit!!!! Flaky internet for TWO DAYS."
          ],
          [
           "@NBN_Australia Thanks. I called Optus shortly after it went out and they are sending sms with updates. I have a reference number.  Last said it was a complicated network fault... still no nbn internet and so no land line phone at 5:35PM Wednesday."
          ],
          [
           "NBN rng reman  g,  mlex, and neran elra  va @ZDNe &am; @de"
          ],
          [
           "@Charalanahzard Oh you think you're better than NBN???"
          ],
          [
           "@sunanda_creagh @ConversationEDU Malcolm Turnbull wants to fix the web?  He well and truly fixed it with the NBN."
          ],
          [
           "@Charalanahzard @ChampChong chelmer got nbn a few months ago it is going alright now at least uwu https://t.co/w62PIkyCgC"
          ],
          [
           "@GrayConnolly @AndyB_Aussiered Another day another NBN outage https://t.co/RIM7TIjt4g"
          ],
          [
           "#NewProfilePic\n#NBN compatible #copper"
          ],
          [
           "Yet another phishing call on the landline, this time claiming to be from @NBN_Australia, with a technician explaining I'm not getting full speeds because of congestion. I hung up."
          ],
          [
           "@Charalanahzard cries in nbn"
          ],
          [
           "@davejrt_ We've got you beat... we have the NBN..."
          ],
          [
           "NBN riin remain  i,  mlex, and unerain Telra\n "
          ],
          [
           "@arafattehsin Hi Arafat, NBN Co has reported that the issue has been resolved. We're seeing that your service is now working. Please let us know if there is still an issue with your internet service. -Mel"
          ],
          [
           "@HarrisonRising When I finish eating anything I have to nbn show my nb hands like a black jack dealer , all gone, nothing for you!!"
          ],
          [
           "@craigparsons777 If a fault is found, and they are unable to fix the issue, they are required to follow their internal process and lodge an incident with nbn relating to this matter. 2/3"
          ],
          [
           "@Aussie_BB I'm still connected to ADSL unfortunately, as my area doesn't have the NBN just yet, so I don't know if that helps whatsoever sorry. 😔 Should I provide on my area? I don't know if that would help either lol. Sorry about this by the way."
          ],
          [
           "@craigparsons777 Hi Craig, we apologise for any inconvenience this has caused. We refer you back to your service provider as they provide you with the service, nbn is the wholesaler of the network. ^Lisa 1/2"
          ],
          [
           "So @NBN_Australia, why are you rejecting a fault from my provider? Constant sync drops and speed issues, your own line test says unstable. I know you're sick of attending my premises, but if you fix it you can stop"
          ],
          [
           "@BombersFan44 Hey there! It really depends on the type of NBN service you do have, do you know what type you are connected too so I can give a rough estimate on speed? (this is no way confirming or guaranteeing your speeds) - Ashley"
          ],
          [
           "NBN riin remain  i,  mlex, and unerain Telra "
          ],
          [
           "@SorifFN Who’s going to tell him about the NBN bottle necks during the day"
          ],
          [
           "NBN Confirmed in the next few weeks :)))))\nLETS GO BOYS no more 2.5K Bitrate 648p streams"
          ],
          [
           "@georgeharito @CaNerdIan yeah, that’s a standard issue NBN HFC modem"
          ],
          [
           "@CaNerdIan @decryption I spot an NBN logo there…"
          ],
          [
           "@Telstra I’ve cancelled my NBN order. Your overseas call centres are too painful to deal with and no one willing to help. With that and your poor new mobile plans I probably won’t be a Telstra customer at all soon."
          ],
          [
           "Is NBN fixed wireless/Skymesh down?"
          ],
          [
           "Do you have a desire to start up the first Twitch and High Tea emporia is the wheatbelt? Convert these analogue gamers into high speed immersive environs with coffee machine and NBN - EOIs open for a short time only https://t.co/DVStwTntSV"
          ],
          [
           "@australian Don't worry.  Kev has the infrastructure plans on the back of a beer coaster, shovel ready. Just like the NBN plan he had."
          ],
          [
           "@NBN_Australia Sadly not, always from private numbers. I got called a lovely collection of adjectives mainly beginning with F, B and C yesterday from someone who who claimed to be from Telstra."
          ],
          [
           "I could appear on A Current Affair and complain about my NBN telling them my issues ever since I was forced to switched over"
          ],
          [
           "@AndyB_Aussiered I cannot record on @OptusSport ever since NBN was connected at my premises. Have been complaining all day but it’s no use. Using HFC cable on 50/20. Can I get satellite for free if the problem persists https://t.co/gvZVv6bC5Q"
          ],
          [
           "@FunTechalyst The NBN was a great idea... 20 years ago.\n\nThe issue was they took too long to implement it."
          ],
          [
           "@RedSinker @acmadotgov @NBN_Australia My thoughts exactly, NBN Making NBN worse, taking away our upload speeds making us pay business prices, subpar internet to most of Australia"
          ],
          [
           "Why can't 'Nicole from the NBN' get the hint that I don't want to speak to her? Don't they realise we know it's a scam? Why do they persist? Each time we have their number blocked, they use another. We need our landline, but oh, this stretches the patience very thinly."
          ],
          [
           "@Alric181 Hi Alric, unfortunately, we don’t have access to view outages, this is solely handled via your service provider. Make sure to raise this with them and if they require assistance, your provider has direct access to our nbn support team. Let us know when you’re back online! ^Lisa"
          ],
          [
           "@Aussie_BB Hi I was thinking to go with you guy's when NBN is within my area, that being said I've recently received a letter about the deals and was thinking the expensive deal NBN 100, but am I guanteed the speed that you provide? I need something better than Optus 😂"
          ],
          [
           "@abcnews Not before time. We have had up to 6 calls a day. The most prolific being a caller, Natalie, from NBN claiming to cancel our account after claiming to call us for past 24 hrs. We no longer answer unfamiliar numbers &amp; that risks missing calls possibly from Hospitals etc. 😡🤬😡"
          ],
          [
           "Doddery Dad: \"I've bought a new [landline] phone.\"\nMe: \"How come?\"\nDD: \"Well, since I got the NBN put on the phone's been rubbish so I got a new phone.\"\nMe: \"And how's that been?\"\nDD: \"Really good; it's got a nice loud ring.\""
          ],
          [
           "@JustDrew_2 Hi Drew. Thanks for reaching out. Feel free to send us mum's full address and we'll see what we can find. You said new home. Is it part of a new estate? Do you know if the builder submitted an application to nbn and what stage they're apart of if any? Chat soon - Maya"
          ],
          [
           "@lynlinking @MSMWatchdog2013 @canberratimes They will he out of date ( like the NBN) when they’re delivered !"
          ],
          [
           "@Megacurve Hey Adrian, we're sorry to hear your service is still out. Unfortunately, we don’t have access to view outages. Make sure to raise this with your service provider and if they require assistance, your provider has direct access to our nbn support team. ^Lisa"
          ],
          [
           "No big surprises in the prelim construction data, res still falling, non-res a solid gain q/q and engineering construction broadly flat (drags likely to be from lower roads activity and end of the NBN rollout). Construction likely to be a modest drag in GDP data out next week"
          ],
          [
           "@prudinx @thebrewerchef1 @Kynes3 @beg_chris @JennyPineapple2 @BlakandBlack @BiffFitz @potcalling @CapesJoy @budcoe @WgarNews @seaprod100 @baetherington @lynlinking @3wombats @janettj777 @RobRobbEdwards @LadyPoop2 @Absurd_Penguin @Triplejay58 @Penny_MadamLash @MorpheusBeing @Michz45 @WhteRbbnAdvocat @paulinehollywoo @mormorlady @On_Da_Ball @greenleftweekly @AustralianLFIR @FaiMujer @JeremyPoxon @KleinRevd @lizettewatson2 @MarkPlackett1 @GoldCoastNurse @nakkiahlui @benjnielsen @abcadelaide @anne_clothier @PoliceFederati1 @fanniebay Oh &amp; the NBN\n\nHow come it’s always Labor followed by the Libs?\n. https://t.co/6FXNKf6iB6"
          ],
          [
           "@NBN_Australia you lot are beyond contempt.  My provider tells me it's an NBN fault yet you direct me back to my provider, take some responsibility"
          ],
          [
           "@KathyReid @ajdlinux The NBN didn't die, it was murdered."
          ],
          [
           "@bikiniNsweater Hi, NBN Co is currently performing a routine maintenance that is affecting service in your area. The issue started earlier 08:00 AEDT and is expected to be finished by 27/11/2019 16:00 AEDT. -Mel"
          ],
          [
           "@Terrytoo69 Do a speed check now and screengrab it or write it down. Then you'll have some stats to quote when you inevitably complain about how slow the NBN is."
          ],
          [
           "@NahBabyNah Nice try NBN, but nah"
          ],
          [
           "@Terrytoo69 Go for the stuff up option. I am apparently part of an NBN outage which is expected to be restored by 02/12"
          ],
          [
           "@KathyReid Remember the days when we were all looking forward to the NBN because we wouldn't have to deal with Telstra any more"
          ],
          [
           "#NBN supposed to arrive on Friday. Do I cancel lunch and hang around or just take it as read that this will be another stuff up?"
          ],
          [
           "@NBN_Australia Still waiting to connected! 3rd time! NBN installers are useless! We have no broadband as it was disconnected! Against the law apparently to reconnect us! Would be better if NBN bothered to show up and connect us! #NBNfailure #NBNpoorservice #NBNlaughingstock"
          ],
          [
           "Hi @internode -&gt; we finally just got NBN after literally 10 years of waiting, but it keeps dropping out - about 4 times in the last 1hr or so! Started getting bad yesterday... Is this what we've got to look forward to? Why would it continually be dropping out and what is the fix?"
          ],
          [
           "@NBN_Australia 3rd time lucky!\nNow we’ve had our broadband disconnected and it’s “against the law” to switch it back on let’s hope the NBN engineer turns up this time. My work are losing patience with the 3 days I’ve had to take off so far!! #NBNfailure"
          ],
          [
           "@LennaLeprena @lynlinking @davidbewart Thank God someone doing something about it.  After about 30 calls from them  threatening to cut off my internet because they had tried \"unsuccessfully\" to contact me ? I finally got NBN and STILL GOT ANOTHER CALL.\n\nDespite the fact I hang up on them this roboscam still continues"
          ],
          [
           "@SkyNewsAust Thats funny because everyone I know has terrible speed and connection issues yet have to pay way more than before.\n\nRegardless with copper involved it’s all outdated tech that bottlenecks.\n\nNBN is a complete joke."
          ],
          [
           "@Aussie_BB @NBN_Australia I have the answer for you - you will never be able to deliver what you are promising as the @NBN_Australia node is located too far. It's like being a car producer &amp; selling a car with no wheels - you simply won't be able to drive. \n\nThe fault number is 7136534"
          ],
          [
           " #nbn TC-4 bunle fr ig en uer aing nly ne lan an be ue n e MTM e er are fr FTTP nly a i age CmaPMTu"
          ],
          [
           "@NBN_Australia B 4 NBN we were paying $60/mo for 18-19 mps. After NBN we're paying $60 for 5 mps. more interruptions and no service when we call."
          ],
          [
           "The pleasing feeling of loving beneath someone's NBN 🙄"
          ],
          [
           "@Aussie_BB @NBN_Australia Hi Ash! We have been contacting you regularly since we're forced to switch to @NBN_Australia and we've been logging the faults very regularly. Seems impossible that in the modern country like Australia has such a bad internet. Should this be called a scam? I guess - yes."
          ],
          [
           "@iiNet Please do John.  Please also put as much pressure on NBN on my (and presumably other customers’ ) behalf to fix this issue"
          ],
          [
           "@phbarratt Let’s hope those mills don’t depend on the nbn."
          ],
          [
           "Aussie Broadband $50 off first month! \nReferral code: 2196434 #NBN #broadband #internet #discount #credit #deal #saving #code #referral #reliable #customerservice #passion #it #aussie #aussiebroadband #mate #connect #join"
          ],
          [
           "The NBN has dropped its wholesale pricing plans which will see some of the fastest internet in Australia cost less. @TrevorLong #9Today https://t.co/mF7Ck0C4mQ"
          ],
          [
           "@SilvertonPark @LeonByner5AA Typical Adelaide inferiority complex. Blakey has the fool sussed.\nHis show is aimed at people who can’t get the NBN hooked up..."
          ],
          [
           "@MarshBrentnall @AlanJones @ScottMorrisonMP @DebFrecklington @BradfieldThe Well researched Marshall. \nSome foresight is needed, similar to the snowy scheme in the 50's and 60's which took 25 years to build at a cost of $820 million.\nSurely a better proposition than the hopeless NBN or snowy 3 ?"
          ],
          [
           "To celebrate Thanksgiving this week, here is a word of thanks from an employee here at NBN!\n#thanksgiving #thankful #gratefull #thankfulgratefulblessed #family #support https://t.co/Q6CGG9w7o8"
          ],
          [
           "To celebrate Thanksgiving this week, here is a word of thanks from an employee here at NBN!\n#thanksgiving #thankful #gratefull #thankfulgratefulblessed #family #support #nbngroup https://t.co/qvnLvaJU82"
          ],
          [
           "@MyRepublicAU Any updates on this? I'm in Pennant Hills NSW and have been without NBN for 12hrs now."
          ],
          [
           "NBN Thanksgiving Day Break Camp will be in Session today from 1pm-5pm. IF you decide to attend please be careful Driving. Parker Parks and Recreation..... @townofparkerco @ParkerRec"
          ],
          [
           "Finally connected to the new NBN internet and first series I watched was the 4 episodes of #SBS #thehunting  #Australiandrama it was excellent and sadly realistic https://t.co/bZ8gYRqVcg"
          ],
          [
           "@Telstra Rockingham W.A 6168 NBN issues are still persisting in the area! Plz fix this issue!! https://t.co/ihhWx8Ptj8"
          ],
          [
           "@JoanBloggs @abcnews To be fair no one had electricity or nbn coverage because of the storm..... so even if it was on we were all in the dark ,so to speak....we could have all been wiped off the face of the earth and parliament would have still droned on"
          ],
          [
           "Anyone got any good suggestions for how to get rid of scammers trying to tell me my NBN connection through a provider I’m not with has issues? I’m tempted to get a very loud recording of a dial up modem or fax machine to blast at them although all suggestions welcome."
          ],
          [
           "@D_Melissa2 @TurnbullMalcolm @AlboMP @RichardDiNatale @AusRepublic Not bloody Likely, he's been the most ineffective PM since Gorton and that is saying something.\nDon't forget that he got 100Mbps NBN to his place whilst others around him didn't\nYou want to support him regardless of what he is done well I think that may be cognitive disonance Mel"
          ],
          [
           "The immediate feeling of concentration because of a NBN 🤓"
          ],
          [
           "@01Ellehcim @D_Melissa2 I forgot the NBN. Yeah, that's an extra $65."
          ],
          [
           "@arafattehsin 2/2 The NBN network engineers are monitoring the situation and once the power is restored they will perform health checks on the network to confirm stability. We understand the importance of your service and we apologise for the inconvenience. -Mc"
          ],
          [
           "@Telstra Rockingham W.A 6168 NBN internet is down since 12pm today. Your site as always says no outage yet clearly there is. We've had numerous technicians come out &amp; my neighbor's internet cuts out when mine does.  Plz fix ASAP!"
          ],
          [
           "@Aussie_BB Is there another NBN outage. My NBN keeps dropping out every couple of minutes. Its been doing this all  last week just about. I'm paying for a service that I'm not even getting. It's ridiculous!"
          ],
          [
           "@TurnbullMalcolm, @AlboMP, @ScottMorrisonMP So if you've been stupid enough to move your phone from a fixed phone line to a \"Netphone\" (NBN crap), you have no phone in a blackout. What do people without a mobile phone do if a power outage takes their phone our in an emergency?"
          ],
          [
           "#nbn @NBN_Australia is the biggest discrimination in australia history \n\nthe FTTP should be for everyone like GAS and WATER"
          ],
          [
           "@D_Melissa2 @TurnbullMalcolm @AlboMP @RichardDiNatale @AusRepublic Hmmm Mal lost me at pissing up billions on NBN..."
          ],
          [
           "@TPG_Telecom Thanks.After 30mins14scs I got through a support person who tried to assist but no luck. Its annoying and ridicules me to pay so much for NBN as I get download speed of 9.9MBps and upload of 0.3MBps aftr being on a popular plan. Follow up call is scheduled to further investigate."
          ],
          [
           "@D_Melissa2 @bagsnotfirst Ok. We don't have it - we don't watch sport - between my NBN and my streaming services I think I'm paying around $110 a month. Complicated stuff!"
          ],
          [
           "@nightxshade Thanks for additional information Liz. I would be more than happy to investigate your connectivity, and should an NBN technican be required, we will liaison with the teams and have this organised. If you could please send through a DM, I will get back to you -Quade"
          ],
          [
           "@MarkDCali @NewtonMark @simonhackett @dobes @jxeeno Every single NBN price tier is an artificial premium. On an FTTP service it doesn’t actually cost NBNco any more to run your service at full GPON rate (2400/1200) rather than 12/1."
          ],
          [
           "@01Ellehcim @bagsnotfirst Not that much if you have basic package plus it’s usually bundled with NBN"
          ],
          [
           "@hexsteph @EA_Australia Power will come back, NBN will go down - mines been out for 2 months.   Welcome to the mountains..."
          ],
          [
           "@NBN_Australia All right. Apart from this, I had my 4TH failed NBN installation appointment yesterday. \nCan you people, as a professional organisation, liaise with the managers/body corporate of unit blocks such as to abide by their rules of installation?\n(screen shot follows -manager of units) https://t.co/jLJqlGCw9c"
          ],
          [
           "@skipurple2 No Electricity, No NBN, the traffic lights on the highway are still out, the servo on the other side of the highway has barriers up stopping people entering &amp; the mobile tower behind it is doing a fine imitation of a dodo.\n\nAnd the battery indicator on this laptop has gone red."
          ],
          [
           "Completed a @Telstra speed run today - man called to book an NBN appointment. Knew what he would be asking, ID verified and appt. booked in 2 minutes flat. Gotta be some kind of record."
          ],
          [
           "Only on the NBN can you have dog shit upload speed for no reason and you need to restart your modem/router to fix it."
          ],
          [
           "@TPG_Telecom The internet is down and NBN is very slow !! #Been trying to connect with tech support and no one is answering the call been online and waiting for last 20 mins and waiting for my call to be answered left to hear only music !! Can someone explain whats going on ?"
          ],
          [
           "@PORTABLEAIRSYD The NBN was obsolete the day Rudd steamed it up on the back of a serviette."
          ],
          [
           "@girlgerms @ahontwi @dawnstarau I wonder what % of nbn users even have lines capable of 100/40mbps."
          ],
          [
           "@mrpford Oh no I've had a long running problem with NBN I was going to phone them if I got no response by Friday. Damn. I'm so very sorry so much useful information has come from today tonight show.they investigate unlawful dealings scammers and business frauds. We all need this clarity"
          ],
          [
           "@PORTABLEAIRSYD and the NBN will be obsolete in 10 years."
          ],
          [
           "Today we connected to the NBN. Fairly painless although some fresh DNS fuckery bullshit in trying to get our mystery android box to show us live Japanese TV again."
          ],
          [
           "@tropicalontour Still NBN internet out. No land line. Using Mobile. Usually have data off.☺"
          ],
          [
           "@iiNet hi had a new nbn connection put in today and we can’t find the wifi password.  What’s the easiest way to obtain this?"
          ],
          [
           "@Aussie_BB Don’t. NBN sucks."
          ],
          [
           "@theboltreport Had I had access to the Internet (don't start me on the NBN) I could have pulled up that eight months before he was on Alan Jones' show on 2GB saying the $700,000 subsidy should stop."
          ],
          [
           "Also NBN is coming soon, so maybe some litty streams 👀👀"
          ],
          [
           "Well wouldn't you know it, only 5 days after having the NBN working perfectly fine, the connection is suddenly gone to crap. @Optus, you are a piece of work."
          ],
          [
           "@Optus now we're being told an NBN technician has been booked in tomorrow...but me and my husband work...we also didn't consent for this appointment to be made. The ombudsman is looking great right now."
          ],
          [
           "@Telstra I have a problem with the landline phone not being connected- will the NBN technician fix that?"
          ],
          [
           "Without being in any way political but it is my personal experience that the NBN sux ..."
          ],
          [
           "NBN work challenge... please"
          ],
          [
           "@EsmaVersace I'm afraid we don't have any further information on an expected repair time until NBNCo provide an update. In the meantime our NBN Support teams can discuss interim connection options for the downtime. Are you subscribed to one of our Business plans or a consumer service? Greg"
          ],
          [
           "@UrsulaFoxMills From the details I can see the order is still active - I've emailed the NBN specialist assigned to one of your earlier contacts and his team leader asking for a return call to follow up once he's available next. Greg"
          ],
          [
           "@australian Says the great anti price on carbon warrior, Pedro protector, climate change denying, NBN ruining, Abbott supporter. The woman is a disgrace to a progressive Australia!"
          ],
          [
           "@iiNet Any update on the repairs? I just got home and the NBN is still down"
          ],
          [
           "@9NewsMelb @CUhlmann Does that mean infrastructure upgrades akin to nbn?"
          ],
          [
           "@Politics_SMHAGE @fergushunter This looks more like a press release than a news article.\nNBN have always promised certain speeds and quality, but never deliver what they claim. That wasn't worth mentioning?"
          ],
          [
           "@scientistkeefe gotta be honest with u chief, nbn's way better than anything the philippines has to offer\n\nand we're very close to myanmar and cambodia in the rankings"
          ],
          [
           "NBN: \"We will be calling you today! Don't miss the call! Here is the caller ID!\"\n\n[the call comes in, rings for 5 seconds, hangs up as soon as I pick up]"
          ],
          [
           "@DionysiusRob @Bart3005 @AusIndiMedia I didn't know that.  I'm happy to learn more about the NBN from you, if you don't mind sharing information with me."
          ],
          [
           "@Tailgator1 @juhasaarinen @jxeeno @dobes Internode used PPPoE, so their NBN stuff worked mostly the same way as their also-PPPoE ADSL stuff. IPoE has (or had) the problem, PPPoE always worked."
          ],
          [
           "@cparsons777 Hi there, that is concerning to hear. Have you reached out to your provider? Your provider can raise a request with the nbn support team. We'll then work closely with your provider to fix the issue. ^J"
          ],
          [
           "@LevelRazor Hi there, this tells me they're unable to pick up the signal or even perform a line test. As a wholesaler, the speeds received can be impacted by a factor of things, including how your service provider builds their network over the nbn. Your service provider can raise a 1/2 Maya"
          ],
          [
           "@themarkjacka Wondering if it would have been even faster with a decent NBN."
          ],
          [
           "@haz61283189 HI Haz, I appreciate the time taken to contact us and hope you can get the assistance you need soon, I can help have these problems followed up by our NBN Support trams - if you can follow our account I'll be able to send a private message to get this underway. Greg"
          ],
          [
           "@GordyPls Save on headers. All NBN packets goes to you. You can print out all the data and then snail post it to us. Simple"
          ],
          [
           "Coming up in NBN News.. \n#NBNNews https://t.co/mq72LvLrSL"
          ],
          [
           "@GordyPls The concept of over provisioning a service to account for header and encaps overhead isn’t new and has been a standard WAN product factor since before NBN was born. NBN chose to do this solely because they don’t exist to satisfy consumer sentiment. 🙄"
          ],
          [
           "1. Go to check if NBN is available at new house. \n2. \"Address check not currently available.\"\n3. Confidence and general joy drops..."
          ],
          [
           "@Neil11450147 @WallyChemist @EddyJokovich According to Turnbull the current NBN is fantastic and broadband rankings are rubbish. So I wouldn't trust a word Turnbull says"
          ],
          [
           "@NBN_Australia I asked mt ISP to do some line testing but they are unable to see sync rates for FTTP ? \n\nSo who is responsible for my speeds and can get them fixed"
          ],
          [
           "@NBN_Australia @ozcjr WE RECO YOU FUAKING STOP INSULTING US AND INSTALL FTTP FOR FREE!!"
          ],
          [
           "@cyhfins I'm about to fly bavk to Detroit, Mi no cap, taken by my parents from my hometown, to this 4th world known as Australia, really pissed me the FUAK OFF . \n\nThe NBN for example is a joke . Finally Fibre *somewhere* in teh pipeline, HAHAHAHAHAHA, It outages vs all old copper lines."
          ],
          [
           "@DionysiusRob @Bart3005 @AusIndiMedia I will insist that @TonyHWindsor has no authority or knowledge to comment on this issue.  When he was in minority government, he didn't even use a computer at the time Kev made the NBN commitment. He is late to the game. His technology knowledge is irrelevant."
          ],
          [
           "NBN is going to be useless if it keeps dropping out like it is this afternoon!! \n\nStays connected for a few minutes and then... nothing! 🤷🏻‍♂️ \n\n*sigh*"
          ],
          [
           "@AusIndiMedia Gee I am one who is happy with my NBN, went from 3.9 to 47Mbs and is relaible, so far, And it is not the full 100% fibre system we were promised and should have got."
          ],
          [
           "Me to NBN guy over phone: I need a call an hour before you arrive to organise someone to open the door\n\nNBN Guy: no worries, of course\n\nMe: 100%? Cant stress this enough\n\nNBN: Happens every time, yes\n\nNBN Guy: \"im at your door\"\n\nfuck me dead"
          ],
          [
           "@Telstra I checked online and couldn’t see any outages listed for my area, but do you mind double checking if any outages reported in 2226, Jannali? We had a storm come through and nbn went out at same time. Please advise."
          ],
          [
           "@geoff_wales 4G will be way slower, way more expensive, way less reliable than an NBN connection. \n\nMy NBN gets 90mbps+ down and 40mbps up. SFA latency or packet loss. \n\nI have neighbours using same hardware having shit results coz their cheaper ISP oversold bandwidth and has bottlenecks."
          ],
          [
           "@geoff_wales I'd like something other than anecdotes thanks. And comparisons to what it was like without NBN, and total data through-put over time."
          ],
          [
           "@Gunsinaustralia @Bart3005 @AusIndiMedia Nah - you're trying to blame a minor education problem for the woeful political decisions of the Abbott government. They wrecked any chance for the NBN to be what it should have been! The rollout process was just getting into gear when these luddites came on the scene..."
          ],
          [
           "#qt Before making decisions, Morrison must wait for faxes from \"God\" (\"Heaven\" is NBN free)"
          ],
          [
           "@Optus Also, I was told no one will turn up today and lo and behold someone turns up at my door asking for NBN connection."
          ],
          [
           "@Optus I just talked to an NBN technician at my house. I was confused by the question he was asking because we don't have NBN, we are getting Cable internet installed. Turns out your call centre sent out the wrong technician and wasted their time as well as ours."
          ],
          [
           "@Mr99er @MeckeringBoy @Senator_Patrick @JacquiLambie @MRobertsQLD @Stirling_G @Westpac Love the marketing speak naming of \"ensuring integrity\" when @ScottMorrisonMP is surrounded by Taylor's #watergate #grassgate, drought envoy 600 grand expenses, Dutton's dodgy #Palladin, 90bn NBN wasted. These guys have ZERO integrity."
          ],
          [
           "I just got the nbn connected and my my free to air tv won’t work? It says no signal? Can something just go right fuck"
          ],
          [
           "@petehanssens @jdub I’ll suspect this is just a paper launch. The economics of how NBN sells to ISPs is that the ISPs can’t afford to actually sell this"
          ],
          [
           "@RealNickHodge Remember all that errant nonsense about NBN being an enabler for a “smart grid?” Oh, my sides."
          ],
          [
           "@jxeeno hi mate. I'm enjoying having all the NBN crimes in one place"
          ],
          [
           "Well i ea wa uiably eein N by e au, min yu Ju NBN in NBN in "
          ],
          [
           "NBN offering 1000/50Mbps… what?! that makes… no sense"
          ],
          [
           "@TPG_Telecom any issues with NBN right now? No internet here in Hurstville area."
          ],
          [
           "My 4G mobile internet is faster than the home NBN internet and I, for one, think that's a beautiful example of Australian patriotism :')"
          ],
          [
           "@TPG_Telecom did NBN just drop out in Wetherill Park? Trying to work from home and it died in the middle of a video conference..."
          ],
          [
           "Porter's opposition to real national integrity protects corruption from scrutiny. Think Turnbull wrecking the NBN."
          ],
          [
           "@PaulFletcherMP Have you got to have the NBN connected before you can get a deal?! 🙄"
          ],
          [
           "@LJPatton @bengrubb @acccgovau It is being unwound though. That's why NBN Co created virtual NNI"
          ],
          [
           "@juhasaarinen @jxeeno @dobes All this wretched bullshit was in furtherance of a propeller-hat rocket scientist aim of NBN, which was that an end user could have up to four retailers, separate service providers on each UNi-D, separated from each other."
          ],
          [
           "@stilgherrian @NewtonMark @juhasaarinen @jxeeno @dobes The NBN is as good as it could have been given the quality of the politicians we have elected."
          ],
          [
           "@juhasaarinen @jxeeno @dobes So the only reliable way to run IPv6 on NBN is to devolve session termination to the user’s modem and run PPPoE."
          ],
          [
           "@NewtonMark @juhasaarinen @jxeeno @dobes Mark, are you suggesting that the NBN isn’t as good as it could’ve been?"
          ],
          [
           "“This is Nicole from NBN...”"
          ],
          [
           "NBN   ae "
          ],
          [
           "@dobes @jxeeno @NewtonMark What does NBN use over there? PPPoE?"
          ],
          [
           "@DionysiusRob @Bart3005 @AusIndiMedia If you want to blame anyone, blame the old folks who didn't understand why FTTP was so important. They are the ones that held up the project refusing to allow NBN workers to dig trenches to their homes."
          ],
          [
           "That scam phone-calling recorded 'bot calling herself Nicole claiming to be from NBN is annoying today\nShame it can't self-destruct!\nJust a reminder: NEVER answer your phone with 'yes' - that's what its after\nI always answer 'hello' then hang up!"
          ],
          [
           "@NBN_Australia I think you’ve misunderstood my message. It was pointing at:\n1. The ongoing instabilities on my NBN connection, and\n2. The fact it take 6 whole days for my ISP to give me a simple update.\n\nBoth are pathetic."
          ],
          [
           "NBN   emrriy u 100Mb rie ring 2020 Pn  er rmin riing rm nury 1 "
          ],
          [
           "@Marie_Perold further assistance, your provider has direct access to our nbn support team who can advise of any updates relating to disruptions with your service. This team will liaise directly with your provider to deliver updates to pass on to you. Let us know how you go. ^Audrina 2/2"
          ],
          [
           "@NewtonMark @drzax @NBN_Australia yes, i tend to start shouting without much prompting every time i talk about the NBN"
          ],
          [
           "@NBN_Australia The response we got from Telstra was there was an unexpected issue. No further explanation and still no connection."
          ],
          [
           "@NBN_Australia @codelikeagirlau When will there be a royal commission into the NBN? https://t.co/SEHJrAA96E"
          ],
          [
           "@NBN_Australia NBN is the worst tech idea Australia has ever had... I now pay more for less. A horribly planned disaster is NBN. https://t.co/s11pgZhitq"
          ],
          [
           "@jk_rowling I could write a middle part between Rudd's, James and Lollies and NBN"
          ],
          [
           "@danilic @Optus @NBN_Australia What type of NBN technology is it at your new place?"
          ],
          [
           "My business phone was #disconnected for 6 months my 5 #email addresses had to be re-established and my 5 #websites are down after 280,000 hits. My business is #destroyed all because I reconnected to #Optus via #NBN what a disaster!"
          ],
          [
           "@AusIndiMedia Luckily we could avoid the NBN"
          ],
          [
           "@RedJules4 @slsandpet I get 'Nicole' telling me they are going to disconnect my NBN. Wish they bloody would cause it's useless 😂😂😂"
          ],
          [
           "@danilic @Optus @NBN_Australia You’re going to need an incredible amount of LUCK!! The @NBN_Australia is a total basket case, shambles, joke!"
          ],
          [
           "@SFoskett Oh no! Did you get connected to Australia's NBN somehow?"
          ],
          [
           "@NBN_Australia is there a service issue in Mel at the moment. NBN modem will not comment at all"
          ],
          [
           "Aussie Broadband $50 off first month! \nReferral code: 2196434 #NBN #broadband #internet #discount #credit #deal #saving #code #referral #reliable #customerservice #passion #it #aussie #aussiebroadband #mate #connect #join"
          ],
          [
           "@Optus There is no need for a closer look-just an update on the current nbn outage!"
          ],
          [
           "@SamDouglas42 Sam once NBN have finished the rollout in your area, there is no choice of adsl and copper. The choice is NBN or some wireless solution"
          ],
          [
           "@yaakov_h Nice!!! I can’t wait for 100/40 I just hope NBN doesn’t change the wholesale plans before I get in to lower upload speeds!"
          ],
          [
           "@paulinehollywoo @tagwacheit @realdropbeared Yes,  it is s good concept,  but like the NBN it's not been properly funded. The volume &amp; breadth of data is mind bogglingly huge.  Pathology, inpatient, emergency, ambulance, pharmacy, imaging (which in themselves are huge datasets), clinic records ... it needs massive $."
          ],
          [
           "@Optus Ok-there has been an nbn outtage since Friday so I don’t think it is my account, unless that outage has now been resolved."
          ],
          [
           "@Fckmona_baalbki @JadChaaban Live on nbn"
          ],
          [
           "Homosexual couples should. It is my belief both heterosexual and homosexual couples should have equal rights under secular law. Is this really what NBN endorses a homosexual only nation with heterosexuals denied of basic human rights? I am very confused by this."
          ],
          [
           "@LulBit_ME Hol up ... backspace ... you met who at NBN??"
          ],
          [
           "k😂😂😂 damn we me a NBN "
          ],
          [
           "@alexwantscoffee @PoliBard @Yeahnahtoyou @minkelCT @KKeneally @GuardianAus 1. Cable is fibre\n2. Never had to pay for a nbn before.\n3. Fibre may be standard now but not tomorrow \n4. I was referring to Conroy. He knew it was a dud."
          ],
          [
           "@dankarz و NBN"
          ],
          [
           "@Telstra Why do you charge so much for NBN? You promise speeds of 40mb/s and I'm only getting 400kb/s. That is 100x slower than promised. This needs to be fixed!"
          ],
          [
           "@NickRossTech Went down the rabbit hole looking at some of her followers, strangely US centred for an Australian, but OMG what a collection of mixed nuts 🥜🥜🥜 Makes Malcolm Turnbull's ravings on the NBN seem also sensible, almost!"
          ],
          [
           "Wouldn't be a storm without the NBN being kicked out. Man I love how a storm disrupts our 21st century 'broadband' network"
          ],
          [
           "@marzfn @pricecuh u can buy some weird shit to make ur internet better but it is expensive, nbn will do the job fine"
          ],
          [
           "@pricecuh @marzfn that is the best nbn connection type, congrats price u have won the lottery. You will have the best possible internet in australia u can pay for. 100 down 40 up"
          ],
          [
           "#nbn gave up tonight, up for five minutes then down for five. Rain and storms since when has that affected a land based communications network. LNP sabotage."
          ],
          [
           "@Uppyn @DoctorKarl The ALPs design was world leading at the time. Abbott did his usual smash and bash and there you have it! End of a decent NBN compliments of Tones and Mal."
          ],
          [
           "@AusIndiMedia Our ADSL2+ was 5Mbps (if we were lucky). NBN gives us 47Mbps. Fibre to the node. Dropouts no more often than before."
          ],
          [
           "@MitchRobinson05 @Telstra I'm on the NBN for like $80 a month. Unlimited 100 plan and get around 97mbps.\n\nI can download roughly 8-10MB/s.\n\nNot bad but still moth"
          ],
          [
           "Who needs #NBN when your mobile phone data speeds are much faster.\nPerhaps time to dump the home NBN. https://t.co/vdwYkBl8PO"
          ],
          [
           "Ok.. who can explain this to me.. the wifi network is up and running, but the NBN link to the outside world is down.. why can't I connect to my own wifi and access my local network? @iiNet ? https://t.co/JVUWOn2sek"
          ],
          [
           "@AusIndiMedia You should have asked about dropouts, NBN won’t spend the money. Even Telstra maintained their lines better"
          ],
          [
           "@TC08355763 Check the nbn website to see if you are connected then ring who ever is your service provider"
          ],
          [
           "@AusIndiMedia I sometimes think my dialup was faster than my NBN is at times."
          ],
          [
           "@iiNet Just a tip. If your faults team wants to set an appointment for a technician you may want to actually see if anyone can actually be home for said appointment first. Why the technician needs to come to my house when your tech support said the fault appears to be on the nbn side is"
          ],
          [
           "@miranda_maybe In fact my NBN, through avoiding Rupert's HFC on purpose, is good. I'm happy to share. Let me know."
          ],
          [
           "@VodafoneAU we’ve been having dozens of dropouts on our HFC NBN connection over the past few weeks in east Sydney. Makes it almost unusable in the evenings. Are there known issues?"
          ],
          [
           "Six (6!!!) days after my @NBN_Australia grade internet was playing up for the day (because it was a day ending with a Y), and finally my ISP sends me a status update that my internet should be fine now.\nThat’s service for you!"
          ],
          [
           "@stilgherrian @zdnetaustralia He continued...\n\"The seven nbn connection types we have now means it'll be impossible for people to compare their services with their friends.\" Off that hook!"
          ],
          [
           "@AusIndiMedia We have wireless NBN and are moving in 18 months time also out of fibre to the node range. We've lucked out."
          ],
          [
           "@PeterRelph @Caroleina2 @slsandpet @TurnbullMalcolm Sure...and all the more culpable because he was tech-savvy enough to understood the implications of a dog's breakfast NBN. Implications that probably eluded the crude clumsy ignorant Abbott....and neither did he care."
          ],
          [
           "@slsandpet Ditto, Nicole from the NBN, five times yesterday, landline in the bin....."
          ],
          [
           "@AntB77 Yes. It’s worked continuously for three hours during a period when NBN has had two outages."
          ],
          [
           "@NewtonMark Airplane wifi more reliable than NBN? 😁"
          ],
          [
           "@AusIndiMedia Certainly had better reliability. I get frequent drop outs with NBN - particularly when it rains."
          ],
          [
           "Two hours to download all 54 GB of Logic Pro X's sound libraries over the NBN. Not too bad."
          ],
          [
           "@Telstra come on! I sign up to the top level of nbn last week. 4 days later and  it’s been completely off for 4 full days with no update! 50% connection rate is bad even for you! #needanupdate #beaconhill"
          ],
          [
           "@slsandpet The only ones we get are the fake NBN robocalls, but sometimes 5 or 6 a day. Why can't they be stopped? I've reported the calling numbers many times. You'd think the real NBN would be interested in seeing an end to them?"
          ],
          [
           "@BrowntownBrew @WallyChemist @EddyJokovich I think most problems are due to high CVC fees. A small % due to the technology. And they are not charging the full cost. I suspect large write downs in the value of the NBN will have to happen"
          ],
          [
           "@dez_blanchfield @ATTBusiness That's more than the entire NBN !"
          ],
          [
           "@rosewal If you use (I think it was the Ookla app) you can measure your current speed and then compare it to when NBN is connected. Being a shift worker, I’m not always working 9-5 so think I was the last one to be connected. Telstra became *very* available/helpful when time to switch"
          ],
          [
           "@iiNet Yeah - we try that often. NBN box lights just blink away. It does this a lot, but I thought there might be a known network fault."
          ],
          [
           "@rosewal The whole of NBN=cluster"
          ],
          [
           "@copperec I'm not sure, saw a dude with NBN vest on ages ago drilling into our building but assumed it was most likely kerb. How can I tell?"
          ],
          [
           "@Caroleina2 @PeterRelph @slsandpet @TurnbullMalcolm wasn't a fool. He knew what he was doing to the NBN....and to Australia. He knew how short-sighted (and ultimately, costly) it was to advocate the cut-price, dog's breakfast version. But his PM insisted on 'Not Labor' as the only defining policy. #auspol"
          ],
          [
           "@Optus It would be best if you could just update those of us impacted, not sure why a private conversation needs to happen-surely there should be transparency on issues like a nbn outrage impacting many people?"
          ],
          [
           "@PeterRelph @slsandpet It was proposed under her govt, I think. I must admit I get confused bc that time was.. well you know. \nI really wanted the NBN they proposed - yes, it would've cost a bundle, but that's what happens when buying the best of the best - then you don't worry for abt it 50yrs"
          ],
          [
           "@NickRossTech @TurnbullMalcolm He was tasked by Tony to destroy the NBN and he should be proud of how he so comprehensively achieved that"
          ],
          [
           "@rosewal Good luck, doubt the nbn will work first time up."
          ],
          [
           "@dg_davies @spitspatspot @Rachael_Swindon I disagree, 5g is rolling out here after our nbn was ruined on Murdoch’s request. I’d rather have high speed fibre to my house it’s my own secure network. We have a poorly performing network with old wires they won’t replace to save $"
          ],
          [
           "It's official... After a few weeks of not even being able to load my emails at home... I am breaking up with the NBN. I will be moving in with 4-soon-to-be-5G only. \n\nIf you need to contact me in the meantime please send a carrier pigeon..."
          ],
          [
           "@NBN_Australia My HFC in northside Brisbane has been dropping out intermittently for hours at a time for the last week. My ISP (Aussie BB) logged a fault and a crew came out and pulled up my lawn on Saturday but I haven't heard anything and my lines dead for 6 hours now, help!"
          ],
          [
           "nbn strikes again"
          ],
          [
           "I miss dial up internet. It just worked, not like this NBN shite"
          ],
          [
           "@MattNotFront @Telstra EVERY DAY!!!  They used to be good but I think they then got greedy.  I supposedly have NBN but it’s crap!  I upgraded to a faster option but nothing changed!!"
          ],
          [
           "@NBN_Australia The fibre optic cable has already been laid out so why can’t you just do as you’re told right now and deliver the NBN already?!!!"
          ],
          [
           "The peaceful sensation of optimism off a NBN 😧"
          ],
          [
           "@stilgherrian @zdnetaustralia Also: another @NBN_Australia HFC outage must before 4pm. I was beginning to think I might last 24 hours without one, but they’re incapable of achieving that. #nbn"
          ],
          [
           "NBN to be given freer cock and balls on greenfield sites"
          ],
          [
           "nbn is finally back"
          ],
          [
           "@DoctorKarl It all starts with Paul Keating and his election to go with 3G.   If he had stayed as it was we would never have had NBN.  We would have Telstra and 5G Over multiplex copper fibre hybrids   Much higher speeds"
          ],
          [
           "@zdnetaustralia No, really. He said that. Also, “'I am really proud of the achievement of the NBN in very, very difficult circumstances.” #nbn"
          ],
          [
           "Current internet provider is trying to get me to sign up for a 36 month contract totaling $23,400. Um, they obvs haven’t heard of the NBN. https://t.co/nNv4U0hfBi"
          ],
          [
           "Coming up in NBN News tonight.. #NBNNews https://t.co/dG8gfp0uEW"
          ],
          [
           "@AusIndiMedia Me.  I have almost daily discussions with people about how crap NBN &amp; 5G are."
          ],
          [
           "@AusIndiMedia @SeanBradbery Of course ADSL was faster ... it didn't have to go through a copper wire installed in the 1950s. What really really irks is there is no way to change back. I feel so powerless. Some nights it's better to hotspot off my phone than rely on the #NBN"
          ],
          [
           "@ThreeeBens @Cameron__Ellis @FoxCricket Who has satellite nbn, like 1% of the population? That's hardly a widespread excuse"
          ],
          [
           "Love the nbn being down for the 3rd day in 4 :)"
          ],
          [
           "@RalphusWoof @MrKRudd @smh @theage You know the liberals were the ones who went over budget when they took over the NBN project right?"
          ],
          [
           "@Telstra all good for you to be there 25/7. How about providing an efficient ADSL service while we wait for NBN. Download speed between 0.5- 5.0.Upload speed 0 (most of the day)- 0.2.\nHow can we operate a business. I've already made a complaint and it's worse"
          ],
          [
           "@SeanBradbery @AusIndiMedia well what were you arguing? you said it'd have been better with no NBN..."
          ],
          [
           "@SeanBradbery @AusIndiMedia Your argument is predicated on something which is not factual - arguing the NBN is 'slower' than the previous copper-based backbone of our internet connectivity is simply not true. If we had the volume of traffic we have now going through the system we had then, it'd be DEAD."
          ],
          [
           "@jendudley saw a lot of that in my area in the months before and after NBN HFC went live"
          ],
          [
           "@SeanBradbery @AusIndiMedia I'd argue that we'd have a completely collapsed internet and no viable streaming services had it not been done, and the infrastructure would be entirely private owned.\n\nWe'd be worse off. It absolutely is better than no NBN."
          ],
          [
           "For the past month or more I have had major drop outs I had a couple technicians come out the problem is my NBN lines need to be changed. \n@NBN_Australia are shit you figure out the problem and instead of sending someone out to fix it they deny your request 🖕"
          ],
          [
           "@NBN_Australia any way to get notified of NBN activation at a specific address?"
          ],
          [
           "@ScottMorrisonMP When is your trash government going to pressure mod authors to clarify installation or compatibility specs of nexus mods now that they're on vortex? Downloading npc texture overhaul packs for new vegas is STILL an absolute nightmare on NBN. \n\nAlso: you're racist."
          ],
          [
           "ORE #NBN ADNESS “NBN ju mleed a greenfield fary build, ere ging  ave beeen 15-3 aff in ere ver e nex fe year Tey inalled ne er (FTTN), and e ge 5 dn and 22 u Every ne f ur neigbr g FTTP inalled\" "
          ],
          [
           "@jendudley I still haven't got around to signing up to NBN even though I know I need to. I figure there's no rush"
          ],
          [
           "Things they don’t tell you about the NBN: it can disable your internet connection even if you’re not on it. This will be my third day-long outage in the past month. #nbn https://t.co/STMei8wDgp"
          ],
          [
           "@AusIndiMedia @SeanBradbery My existing VDSL2 was better than NBN so they left it as it is. Thank goodness."
          ],
          [
           "@DoctorKarl @cheryl_kernot Ask: \nMr Abbott who was desperate for job of PM\nMr Turnbull (Mr Innovation Nation) who should have known better, but whose ego got in the way of both a world standard NBN as well as a Climate Change Policy\nMr Murdoch who seems to think of himself as President of the World."
          ],
          [
           "Still got 5 days to delay my NBN deployment, NBNCo - get on it!\n\n(again, they could just delay it *after* the date, nothing stopping them there)"
          ],
          [
           "@MitchRobinson05 @Telstra Luckily your content is better than the NBN 😂. You will notice an improvement because they will have slowed your internet over the last few months to make it appear faster."
          ],
          [
           "@AusIndiMedia @lesleygood1 Still to get NBN. So can't comment on speed."
          ],
          [
           "@MargotSaville @AusIndiMedia We were at least told by NBN Co that we shouldn't bother to connect as they couldn't do better than our pretty average vdsl connection."
          ],
          [
           "I have spent far too many hours on the phone to internet and telecomms “service providers” in 2019 to continue being patient with them.  Vodafone, Zen, Optus and NBN, you have all wasted hours of my life and thousands of pounds/dollars of my family’s money.  #thenextscandal https://t.co/0UaYQwZDS6"
          ],
          [
           "@PhillipAdams_1 First World problems, there is not one remote indigenous Community up here in the Top End that I know of that has access to the NBN. At the Jilkminggan community the mob needs to stand in one corner of the school basket ball court to get mobile phone reception."
          ],
          [
           "@AusIndiMedia On average I did and it cost less however the #NBN has inconsistently reached faster speeds of 75Mbps but yesterday it was https://t.co/7vgZIv8WZO"
          ],
          [
           "@PhillipAdams_1 We're on the list for satellite NBN too. Hoping we can keep our ADSL 2+ instead. Our alternative is a local startup offering wireless in the district, getting v good raps so far. They've scheduled a tower near us in coming months. We aim to avoid NBN altogether if we can."
          ],
          [
           "@AusIndiMedia Yup. NBN is CRAP!"
          ],
          [
           "@Telstra: we had a new @NBN_Australia modem installed that caused loss of access to WiFi. Called more than 30 times - no resolution. Complaint manager scheduled technician for 22/11 - no one showed up. Scheduled another for today 25/11 - again no one showed up. Woeful service."
          ],
          [
           "All you NBN haters, you were wrong it’s legit! Good shit @Telstra."
          ],
          [
           "There comes the nbn. There goes the asbestos lined old conduit."
          ],
          [
           "@RobinFox01 @DodoAustralia @Optus @NBN_Australia Techies came &amp; said cable was cut in the ceiling (I'm in an apartment). They suggested an external tradesperson but after they left I found out the only ppl in ceiling the day it dropped out were Telstra/NBN techies. Why would they snip their own (labelled) cable? Farcical!"
          ],
          [
           "@Songheart @LJPatton @AlboMP I have excellent affordable NBN without a single glitch. I don't need 5G."
          ],
          [
           "@michellegrattan @smh \"One of the few significant legacies\":\n- NDIS\n-Gonski\n-CARBON TAX\n-Mining Tax\n-NBN\n\nTell me, what has the LNP achieved in the last 6 years, beyond undoing or destroying good policies?"
          ],
          [
           "Man I wish the LNP hadn’t got in the way of the NBN we all wanted. Paying through the nose for speeds often at 10mbps is just a rort."
          ],
          [
           "@Optus what on earth is going on with nbn?. I am having to connect with an ethernet cable for goodness sakes! And dont ask silly questions such as 'have you?.....' connection is appalling"
          ],
          [
           "@NBN_Australia Our provider is not at fault. Of course we've spoken to them. I've tried calling NBN but of course, again, no response. Your prices are higher than any provider, service slower and lots of shut downs.  It's a disgrace."
          ],
          [
           "Imagine if we had a reliability standard for NBN connections tho"
          ],
          [
           "@PhillipAdams_1 NBN was due to be installed in August. I’m still waiting for the technician to arrive. I live in suburban Melbourne. ?? Wtf Telstra?"
          ],
          [
           "@AdamFowler_IT @adamjonwilliams I'm still on 4G, maybe one day this NBN thing will work here..."
          ],
          [
           "@AdamFowler_IT I still agree with him now and I agreed with him then, getting fiber everywhere would have been too much, this way I got a bump from 2mbits which is the best free market could achieve, to 100mbit under NBN, that's a success by any measure."
          ],
          [
           "Aussie Broadband $50 off first month! \nReferral code: 2196434 #NBN #broadband #internet #discount #credit #deal #saving #code #referral #reliable #customerservice #passion #it #aussie #aussiebroadband #mate #connect #join"
          ],
          [
           "@PhillipAdams_1 We’ve had FTTP since 2015, yet to have a single problem other than a outage a couple of years ago when some idiot cut the cable. \nLabor’s NBN is awesome. The libs fucked it up"
          ],
          [
           "If you experience a technical site blocked scenario simply opt out NBN network, use provider own network not configured to NBN. Optusnet Telstranet TPG other satellite configured technologies, you see these corporate grade or industry grade mobile function 100 percent correctly."
          ],
          [
           "Zin Williamn an immer Freee iglig ar f ur all-eae en eam a NBN ninue  elebrae e eae a a in bakeball  2ni6X06Kg"
          ],
          [
           "have you looked at the Amazon Fire OS Mobile, it does use the asop (secure feature) simular to the Blackberry Leap but these phones do see NBN network being to leaky and these mobiles blocking sites that you might be navigating upon."
          ],
          [
           "@BrianE_Cambs You may well have been at an NBN meeting in York a few years ago? When a lady whose name i can't remember did a talk about lobarions. I was just captivated and entranced"
          ],
          [
           "One western conference team is spending the league hiatus by aggressively shopping wings. Expect a pair of moves to process once the NBN resumes."
          ],
          [
           "@CraigGWelch @DoctorKarl @RuthTownsendlaw We live on a large island.  I get 100mbs as promised by the NBN and my ISP.  I can pay to get 1gbs.  Not that I need that speed. 100mbs is already insane!!! Tell me why I need more?"
          ],
          [
           "@MD00042 How did Turnbull screw the NBN? The fault lies with Kevin who mandated an opt-in policy. It forced old people who never used the internet to have a trench dug to their home to deliver fibre. It delayed the process and cost hundreds of millions. Turnbull fixed Kevin's screw-up."
          ],
          [
           "@Alabasterade @AusIndiMedia How did Turnbull screw the NBN?  The fault lies with Kevin who mandated an opt-in policy.  It forced old people who never used the internet to have a trench dug to their home to deliver fibre. It delayed the process and cost hundreds of millions. Turnbull fixed Kevin's screw-up."
          ],
          [
           "The spiteful feeling of apprehension through the NBN 🎶"
          ],
          [
           "The concise sensation of falling through a NBN 📚"
          ],
          [
           "#auspol\n#LNP #GovOfContempt\nCreated lags&amp; waits, trumpeted phony info, crammed more people in, created disruption, neg' altered fund trajectory of services with no proportionate rise for 2M population incr', devalued the Aus dollar, sold off national assets&amp; built a dodgy NBN."
          ],
          [
           "i just finished moving today, to an NBN ready area. Streaming couldnt come sooner :D lets get to work"
          ],
          [
           "@NBN_Australia THe NBN seems to be out of action so often that I've had to add a backup 4g service which performs faster!"
          ],
          [
           "@damoisonboard Hi Damien, the latest updates we have on this HFC outage is that almost everyone should be coming online, out of interest what are the lights on the NBN box currently doing and have you pushed the reset button on your router? Cheers, Bec"
          ],
          [
           "NBN and energy verau a e enre  Abanee enm   va @ABCNew"
          ],
          [
           "@Crypto_Even @cz_binance Can certainly be successful but they need to create their own shitcoin as well, let's say NBN."
          ],
          [
           "@MGK_Ganondorf @Zaki1f7 How dare you! I just got nbn and it's been nothing but beautiful! Haha."
          ],
          [
           "@Equolvv moved to my mums house and it’s got nbn so :)"
          ],
          [
           "But could do NBN livechat. Co/jbyvkahwvy - Limited Stock!"
          ],
          [
           "@MWChatShow I strongly resent your claim that our internet here in Australia is pathetic. I've refuted you in a short video I'm uploading, it's 50 meg, and I've got the fastest NBN there is!\n\nSo just you wait the 30-40 minutes while this tiny file uploads &amp; then I'll show you! 🐌 #broadband"
          ],
          [
           "@SymmQt NBN with 300 ping"
          ],
          [
           "wish u americans could experience the nbn network here in aus cause i used to get 50mbs on my old internet now i get lucky to his 20mbs so be thankful for ur 100mbs or 70mbs and dont say its shit cause remeber aus internet is like going back to 1997"
          ],
          [
           "I ge 403 Mb fr nliied Telra and NBN "
          ],
          [
           "@NBN_Australia *access"
          ],
          [
           "@NBN_Australia It has been raised. Tuesday 6pm resolution. Definitely not good enough. We’ll go satellite and kill NBN access. It’s an absolute disgrace and my parents need 24/7 phone acres for health reasons. ADSL was fantastic. Shame you won’t roll back."
          ],
          [
           "@LJPatton @AlboMP NBN is shit always was. 5G will kill it off.. I have a 4G dongle in Eden NSW it's a more regular service than the NBN in the area. And that's a marginal seat. Worked for Telstra years ago. Laughed when they said fibre would meet copper. It's like a new train pulled by an old ute."
          ],
          [
           "@PhillipAdams_1 Sounds like @NBN_Australia fail"
          ],
          [
           "@NickRossTech @TurnbullMalcolm @matt_barrie @TurnbullMalcolm and @HonTonyAbbott should be tried for treason for what they did to our national infrastructure. The original-plan NBN was our future. It’s destroyed now.\n#auspol"
          ],
          [
           "@NBN_Australia Don’t give me that same bullcrap answer you give to other people that won’t wash with me at all!! You might have gotten away with it saying that to other people but not me!! You will do as you’re told and give me an exact estimate right now!! When am I getting the NBN?! Go!!!"
          ],
          [
           "@LJPatton @AlboMP The Coalition ruined the NBN, on purpose or sheer incompetence, who knows. We need better infrastructure all around, built by the government for the public."
          ],
          [
           "@Telstra you guys are rubbish i pay lots of money a month for internet that never works, drops out or has slow dial up speed on NBN. Not only that i had your workers lie to me lastnight refusing to put me through to billing saying they cant take my call. https://t.co/ueicIyQMVb"
          ],
          [
           "@SkyNewsAust And he scored an Own Goal I live in his electorate as far as I know the NBN is just 3 letters"
          ],
          [
           "The lovely feeling of worry beneath a NBN 🔑"
          ],
          [
           "@NBN_Australia Well considering Optus didn’t even know there was an outage for over 12 hours I can’t really rely on them. Would be better if you announced on your main page rather than relying on a myriad of different service providers"
          ],
          [
           "@iiNet NBN down again. Time to find a new provider"
          ],
          [
           "Politicians: \"We have to put a stop to fake news, misinformation, disinformation and conspiracy theories!\"\n\nAlso Politicians: \"There is no such thing as climate change!\" - \"The economy is doing fine!\" - \"The NBN is lightning fast!\" https://t.co/pY3MnMezFB"
          ],
          [
           "@PhillipAdams_1 The NBN will go down as one of the biggest wastes of taxpayer money in Australia’s history!"
          ],
          [
           "@MitchRobinson05 @ChiefsESC @triplezerotv Steel yourself it may not be as good as they tell you, just a warning from someone with NBN.\n\nPS: I don't think your coach will let you telecommute to training."
          ],
          [
           "NBN connected tomorrow! Look out for my stream schedule. Also dropping some content soon with @ChiefsESC ft. @triplezerotv!"
          ],
          [
           "@iiNet hey, NBN is down in Melbourne again, and as usual status pages says it's all good, and phone support wait is 'over an hour'. Can you please put out some info!"
          ],
          [
           "@iiNet Your DNS servers are down. Again. (NBN customer in Brunswick East here.)"
          ],
          [
           "@deniseshrivell @JaneCaro How did we end up with shit NBN?\nOne word, one very evil word: Murdoch !"
          ],
          [
           "Fourth try at downloading a movie from your NBN dumpster fire @TurnbullMalcolm \nYou should shut your fucking mouth about the NBN dickhead!🙄😡😡\n#Justsayin\n#Auspol"
          ],
          [
           "@iiNet NBN down for the fourth time in the past month. Not able to sit on hold waiting to speak with someone so can you please arrange an alternative? Thank you."
          ],
          [
           "literally fuck the nbn I HAVE HOMEWORK"
          ],
          [
           "@Aussie_BB Both my friend and myself got some issues to access Chinese website using your NBN and none of your customer support help. Until now this still an issue"
          ],
          [
           "@cowiiiie @topguNtv @Aussie_BB Yeah that's what I mean. It's one of the biggest flaws with the NBN. We probably wouldn't have these issues if they just replaces everyone's cables in the first place."
          ],
          [
           "Nice work @Telstra ... issues with internet, \" system glitch\" inability to have an NBN connection processed and no real time frame for having it rectified...at least you offered the disconnection team 😂"
          ],
          [
           "@weezmgk @White_Blinds @DoctorKarl The original charter for the NBN was to connect ALL Australians, especially those in remote areas. \nThat's what this dude is talking about. A majority of the cost of the NBN was going to be in connecting those remote communities. It still hasn't happened."
          ],
          [
           "The beautiful sensation of missing before someone's NBN 😥"
          ],
          [
           "The hyper sensation of grief through the NBN 🍁"
          ],
          [
           "@PhillipAdams_1 Use the time when the internet is down to give thanks to the LNP for worthless white elephant that is the NBN."
          ],
          [
           "@JACPointon @barobertson111 That ROI on successive governments ensuring the NBN didn't adversely affect Telstra."
          ],
          [
           "@InsidersABC How about revising the NBN and getting fibre to the premises... the ongoing benefits are enormous..."
          ],
          [
           "@TurnbullMalcolm would you agree that you buggered up the NBN a bit?"
          ],
          [
           "Hey Alex - you should help convince your old man to never comment on the NBN. He makes a total fool of himself everytime because his position is absolutely indefensible and borderline criminal @TurnbullMalcolm @alexbhturnbull @NickRossTech"
          ],
          [
           "I’m holding off changing to the NBN. My present cable is 110Mbps. When the NBN comes in I’ll have to pay an EXTRA $30 to raise my speed to 80Mbps. That's progress! At least I don’t need to change for another 11 months.  #TheProjectTV"
          ],
          [
           "@TPG_Telecom Still no NBN in 4122 QLD. What’s going on?"
          ],
          [
           "@NBN_Australia @emlafudd So I take it dropouts are not normal? especially with VOIP - I am not on NBN yet but thinking about it."
          ],
          [
           "@DuncanWatson8 @PhillipAdams_1 They should know Malcolm is not electronically minded. Once he pulled Labor’s pro-type into bits, he couldn’t replicate an equally workable model...\nA Humpty Dumpty for the 21st century , he couldn’t put all the pieces back together again,\n#NBN LNP fail"
          ],
          [
           "@PhillipAdams_1 Complain, complain, complain,, if it's not smoke it's NBN, if it's not capitalism it's the monarchy,,,,,\nI swear you would have been much better off moving to Russia or China Phillip..."
          ],
          [
           "@swan276_g @PercyKaren @lenoretaylor @malcolmturnbull @GuardianAus @murpharoo No he prefers a NBN that is finished before we are dead and does not have us paying $500/month for basic broadband"
          ],
          [
           "@PhillipAdams_1 We were on satellite nbn for years. Sounds like yours isn't working properly."
          ],
          [
           "@PhillipAdams_1 Now is not the time to talk about the NBN! 🤦‍♂️"
          ],
          [
           "@NBN_Australia I’m not going to keep hassling my RSP when the issue is cleary yiur infrastructure. Don’t try and pass the buck. NBN should be the ones fielding the irate consumers."
          ],
          [
           "Finally had NBN connected at the farm.  On a scale of 1 to 10 - 0.   Minus 0.  No satellite signal at all when there’s so much as a whisp of cloud. Or, it seems, smog from bushfires"
          ],
          [
           "@NBN_Australia @risb0r Maya... we simply need things fixed! For a paid service, this is ridiculous! This whole NBN Co is a global joke! Pathetic and incompetent. For such a nation as Australia to have such useless technology! Shame..."
          ],
          [
           "HFC NBN, not fit for purpose. https://t.co/bidqFKkO1C"
          ],
          [
           "@margo694 @DoctorKarl CVC just adds to the issues. Driving me crazy as a content creator how they messed up the NBN."
          ],
          [
           "@NewtonMark Five nines for @NBN_Australia means 9.9999%"
          ],
          [
           "@TPG_Telecom Would love to go to NBN, but not to get my landlord to approve it as works need to be done."
          ],
          [
           "@_msmithBNE ADSL2+ standard upload speed is up to 1Mbps and you may need to consider getting NBN so you'll have an option for a higher upload speed. (2/3) -Riezl"
          ],
          [
           "@mmmaxi @DoctorKarl It’s not a competition. Didn’t mean it like that. Inventing the internet doesn’t mean you can’t fuck up the NBN and Australian internet speeds 😂"
          ],
          [
           "@NBN_Australia Thanks Maya. It’s been down 6 times again in the past 24 hours for varying time periods. Each time I’ve called the service provider they tell me the issue is with NBN and there is nothing they can do. What can I now do to address this unreliability?"
          ],
          [
           "Here's what's coming up in NBN News tonight. #NBNNews https://t.co/bxSPWY8p96"
          ],
          [
           "@deniseshrivell @BelindaJones68 Our NBN supposed to be ready July-Sept 2019, then Dec-Feb 2020 &amp; now April-June 2020 in electorate of Wentworth!...on HFC or cable TV already there connected to fibre node on street. Pretty subpar. At the moment we battle with inconsistent copper speeds of 2-14mbps! Over it!"
          ],
          [
           "@AynRandy The country's NBN has been fucked for 6 straight years."
          ],
          [
           "@AynRandy Buddy that’s just the NBN"
          ],
          [
           "@DoctorKarl Thank you @TurnbullMalcolm \n\nThis is your legacy.\n\nAn absolute train wreck of an NBN that needs to be replaced before it is even finished.\n\nOh, and also continuing the trend of no action on climate change"
          ],
          [
           "@Latte_Bogan @MeckeringBoy @danteruker @JoanBloggs I've got the real NBN hooked up and it isn't any better than ADSL (I tested before and after) bc I haven't paid for the most expensive plan. So I got screwed even WITH fibre!"
          ],
          [
           "My NBN has been fucked for 2 straight days"
          ],
          [
           "@DoctorKarl How ? The majority voted for the LNP that’s how #NBN"
          ],
          [
           "@MeckeringBoy @JoanBloggs Yes do it once and do it right. I have a nephew working as a project manager for an NBN contractor originally from the telco sector. He says the whole operation is a complete shambles from logistics to procurement to execution. Nobody knows what anyone is doing."
          ],
          [
           "Pissed off!! NBN only morning max 8mbps, supposed to be 25 mbps. LNP YOU ARE A BS PARTY. https://t.co/UxdFB8kKtx"
          ],
          [
           "@JoanBloggs @MeckeringBoy Absolutely! Hindsight is a wonderful thing but NBN has been such a monumental fuck up we would have been better off giving the 50 odd billion to the telcos originally to build out their mobile wireless networks."
          ],
          [
           "@AsharKhaan Hi Ashar, we understand that your assigned Engineer has been in touch and the case has been raised with NBN Co for further investigation. Further updates will be given via SMS or phone call as soon as it becomes available. Thank you for your patience. -Basil"
          ],
          [
           "@Aussie_BB Aussie broadband is the worst NBN service provider I have ever been deal with before. The support team is totally rubbish"
          ],
          [
           "@DoctorKarl Speak to people working on the NBN. The technology being installed is outdated by a decade."
          ],
          [
           "@NBN_Australia phoned - female was very unhelpful , and cut me off.  called again   Indian man was very helpful....."
          ],
          [
           "@milczy @Ixzianna @DoctorKarl Not paying for nbn but despite the horror stories I may be convinced to switch haha."
          ],
          [
           "@ICOffender @ASUS I tried for days to connect it directly to the NBN - no luck - plugged it not an access point and bang diddy 4k Video across the street lol"
          ],
          [
           "@Qldaah The #NBN is a national tragedy. The Labor/Greens plan was sound and futureproof, then that moron @TurnbullMalcolm and his fellow idiots in the @LiberalAus destroyed it to appease their disgusting legacy media friends and pay billions into the pockets of corrupt business."
          ],
          [
           "@philnash Sorry to hear, Phil. This would be frustrating for me too, especially over the weekend. If your services are currently affected, your service provider can reach out to nbn directly using their internal systems.We hope your services will resume as soon as possible. ^Maya"
          ],
          [
           "@AsharKhaan We apologise for the inconvenience and understand your frustrations regarding your non-working service. Our third party provider declared a nationwide outage within the NBN HFC technology that affected your service right after its installation. -Basil"
          ],
          [
           "@JoanBloggs @PT_here Not “may” leave lives at risk!\n\nNBN does and WILL leave lives at risk.\n\nPowered nodes die in floods, fires, storms. If you have power at home but power to the node is cut for whatever reason you lose internet *and* landline. \nJust when you need it most.💀 #auspol #nbn #bushfires"
          ],
          [
           "@PercyKaren @seaprod100 @malcolmturnbull @GuardianAus @lenoretaylor @murpharoo Turnbull is not part of the solution he is a part of the problem. NBN, PM a disaster at both."
          ],
          [
           "@zalisteggall @blanketcrap @abcnews Imagine how far ahead we would be with renewables research and developement etc.. together with a fibre NBN.. this country would have been rocking and the envy of the world... shameful waste"
          ],
          [
           "@jameshultgren @Ixzianna @DoctorKarl I am assuming you are not on nbn and paying for 100mbps but that’s fucking atrocious"
          ],
          [
           "Exploration research? Let’s hope the NBN fails in the back of the air con chauffeured car, that way the work they’re doing on their phones &amp; laptops is zero, so they’re forced to look out the window &amp; get uncomfortable. #ClimateEmergency #dayzero #watergate https://t.co/W22hvKqGfs"
          ],
          [
           "@NBN_Australia @codelikeagirlau I’m getting really sick of you rescheduling the nbn release date for my area!! You keep on doing it over and over and over again!! When will it be released?!! Give me an answer!  I’m sick of your constant ignorant arrogance! And I’m sick of my tax money being wasted away likethis"
          ],
          [
           "@DoctorKarl In our cities we have 1000Mb/s internet. I have 300Mb/s internet in a regional area. The speed of the NBN is controlled by politics not technology."
          ],
          [
           "@437BennyBoyd Hey disco, not what we like to see, there are some known outages and issues with some HFC connections this weekend. Have you raised this with your provider so they can perform a line test and get this resolved? ^Del"
          ],
          [
           "@TPG_Telecom how long are you going to take to fix the NBN service we get through you.down and intermittent service the last 4 days.i am a trader and should be reimbursed for loss of income"
          ],
          [
           "@spiralmusic @DoctorKarl More to the point, one party's campaign promise was that they'd give us a shittier NBN than the other party, and we voted them in"
          ],
          [
           "@TheCalebBond Wrecked the NBN, trashed carbon reduction, increased refugee cruelty etc etc\n\n\"We need more like him.\"\n\nyeah.... nah."
          ],
          [
           "@PeddleGraeme Hi Graeme, we are currently experiencing outages on our HFC network. Our teams are working hard to rectify the situation. Your provider will be notified when the network issue is resolved. Sorry for the inconvenience caused. ^Brian"
          ],
          [
           "@Ultimateqestion Hi there, we are currently experiencing outages on our HFC network. Our teams are working hard to rectify the situation. Your provider will be notified when the network issue is resolved. Sorry for the inconvenience caused. ^Brian"
          ],
          [
           "@deniseshrivell @mrn487 What? The LNP’s $53 billion NBN delivers massively slower speeds to private school children in the mansions of Point Piper compared to kids in Mongolian yurts?"
          ],
          [
           "@Telstra now all I have to do is work out why my mobile phone wont connect to my NBN/Telstra modem"
          ],
          [
           "@chris_griffith @TurnbullMalcolm The poor state of the NBN with Australia being ranked 62nd in fixed line broadband download speeds is a testimony to Malcolm Turnbull's incompetence. #auspol"
          ],
          [
           "@1motherwolf @MeckeringBoy We just had the NBN cables put down last week here - the workers make a mess which they didn’t clean up \nI am going to stay on my 3G I think after reading your experience @1motherwolf"
          ],
          [
           "@NQWombat That’s not good to hear Mark. Are you experiencing it with anything else? Contacting your provider directly, they can check the network for any issues. If the issue is with the nbn they will let our specialist team know. ^Brian"
          ],
          [
           "@DoctorKarl Unparalleled leadership achieved the \"notable\" speeds of our one and only \"outstanding\" (for all the wrong reasons) NBN."
          ],
          [
           "The beautiful feeling of liking through the NBN 💜"
          ],
          [
           "@NBN_Australia @risb0r What about a post incident report on what actually happened, and what NBN plan to do to ensure it doesn’t happen again. No more CiC. NBN can’t hide behind that forever! We need transparency."
          ],
          [
           "Aussie Broadband $50 off first month! \nReferral code: 2196434 #NBN #broadband #internet #discount #credit #deal #saving #code #referral #reliable #customerservice #passion #it #aussie #aussiebroadband #mate #connect #join"
          ],
          [
           "@PerthObserver Hi there, all outage info is referred to your service provider. They have access to this information only using their internal processes. If they require any update, they can reach out to their nbn support team. ^Maya"
          ],
          [
           "@TonyB_Melb @randlight @TurnbullMalcolm LIBS consistent..NEVER ADMIT to screwing up..\" we do NBN cheaper. ( it just wont work like the ORIGINAL LABOR PLAN )"
          ],
          [
           "@mormorlady Sorry, I'm not buying it. Maybe if he was a little more assertive? He was to busy also sent in by Abbott to \"destroy\" the NBN, and he did just that. No excuses"
          ],
          [
           "@iiNet Hey whats going on with NBN at the moment? Its been down for 3 hours now and I don't know why..? There an issue?"
          ],
          [
           "@MRobertsQLD @barula Clinton foundation donation\n (Slush funds)\nOver priced infrastructure initiatives.\n(Slush funds)\nOver priced nbn (Slush funds)\nForeign aid (Slush funds)\nRenewables (Slush funds)\nWater rights ( Slush funds)\nThe whole fcking thing is run by criminals who legislate to consficate"
          ],
          [
           "@maexar Hey Maexar, we are currently experiencing outages on our HFC network. Teams have been working hard to get this resolved. We will update your provider with new details as soon as they are available. Hope to see you back online soon. ^Del"
          ],
          [
           "@MsKatastrofic @Uberstooks Yeah. You get $50 of your next bill for the refer a friend promotion. They sent a text today advising NBN would be out on a certain day. We won’t be home so reschuled to the next day. Got a text 10 minutes later confirming the change. Very good communication so far."
          ],
          [
           "@NewtonMark @NBN_Australia Yeah, I'm still on a ADSL2 which now they've sorted the pits out is solid. The new HFC line runs low across a busy street and *through* a tree. The possums like it but I'm not keen."
          ],
          [
           "Gah. My NBN is being a dick again. Hotspotting it is. Hopefully when they say they are looking into it they actually are. I'm not entirely filled with confidence though."
          ],
          [
           "@NewtonMark @NBN_Australia The amount of FAN level outages I get on my NBN HFC connection is insane. They are forever scheduling business hours outages and I’ll still get a couple of unscheduled ones that are long enough that they get flagged as an outage by my RSP. Let alone the constant interface flaps."
          ],
          [
           "4 drop outs in service with @Optus NBN in the space of an hour. Even with a new modem installed last night. \n\nIf this continues throughout today, I’ll be disconnecting my service, without penalties and moving to another provider."
          ],
          [
           "@SchoonerLita @EddyJokovich @MSMWatchdog2013 LNP will never progress a NBN upgrade. That would be an admission of guilt"
          ],
          [
           "@JacobJackman500 Yep, that's NBN."
          ],
          [
           "@BernardKeane 26 times libs blocked labor ,,Never forget or forgive ,,they with nats do same regarding climate change ,,same with NBN How good are they?"
          ],
          [
           "@TPG_Telecom @BeakyFeatures I’m in Croydon, NSW and have been having the same issue. Clearly the NBN HFC outage has not been resolved in this area. I’ve sent a DM with account details."
          ],
          [
           "Hey @NBN_Australia, would love to hear an update on the apparently nationwide HFC problems you’re having. My provider (@Click_Broadband) can’t tell me anything and I have been missing home internet all weekend."
          ],
          [
           "@NBN_Australia We haven't had a connection for 5 days. Today, we've had intermittent connections for, at most, 10 minutes at a time. It is not acceptable and it's all coming from the HFC infrastructure. #NBNFail"
          ],
          [
           "@NBN_Australia can someone help me. I am 6 Klms from Brisbane city, my neighbours has the ability to connect to NBN but I don’t even though we share the same cable. I am being told we have to wait for a major network upgrade which seems to not make sense."
          ],
          [
           "@JimmyZ51174789 @DoctorKarl The equivalent of putting in RE everywhere when everything except ideology says to include nuclear. \n\nLNP's NBN is their \"climate action\"."
          ],
          [
           "@Qldaah I've got FTTP on a 100Mbps plan but today and for the last 2 days this is my speed less than 1Mbps #NBN #auspol https://t.co/NIOcafGmXR"
          ],
          [
           "@NBN_Australia @NationalFarmers @theGRDC @GrainGrowersLtd @FixBushInternet I agreed to $75 wonderful speed plan -   Telstra  - last bill  bigpond $94.90 =- telephone 43.15 -seemed great  BUT never received invoice - so my speed is   .2 .   I am willing and able to pay   -  BEWARE -  If u have something that works at all well  - KEEP IT"
          ],
          [
           "@Telstra Have to move from reliable cable 40mbs 200gig to NBN. Told deal was 30mbs 200gig for $10 more. WTF? After saying we might drop ALL our services rep said 40m 200gig as 'special limited time offer.' But contract still the pricier deal for less speed on email."
          ],
          [
           "@Telstra is there an NBN outage in Mulgrave Victoria?"
          ],
          [
           "@NBN_Australia The NBN is a national disgrace. It is so disheartening to see such incompetence from our politicians who lead with such little foresight. We are the laughing stock of the first world. Oh how much better Australia could have been with some ballsy and courageous leaders!!Disgrace!"
          ],
          [
           "@HeresMooshy Morning Mooshy. Thanks for the reply. To ensure you're kept up with any information, please maintain contact with your service provider. They have pathways of liaising with nbn directly for any further assistance. We hope your services are back up and running soon. ^Maya"
          ],
          [
           "@DoctorKarl we're on NBN and had zero internet for the last 2 nights, thanks @TPG_Telecom"
          ],
          [
           "@MeckeringBoy @Newwayofdoing Since we got on the NBN we've had rotten service. It goes out, is  slow and tedious.  And we have to pay more than before. IT'S A RIP OFF."
          ],
          [
           "@DoctorKarl @RuthTownsendlaw Oh dear. From our apartment in Paris. We recently saw 400 Mbs in a *hotel* in Amsterdam.\n\nSorry Australia. You lost out when you voted for Turnbull and his hair-brained NBN. https://t.co/dGvhKqWVD1"
          ],
          [
           "@tobyallen My HFC NBN connection has bend off all weekend 😭"
          ],
          [
           "@PercyKaren @lenoretaylor @malcolmturnbull @GuardianAus @murpharoo Sabotaging our nbn? Turnball prefers copper"
          ],
          [
           "@NBN_Australia is there an outage in Mulgrave Victoria?"
          ],
          [
           "@alasnich Turnbull has to take responsibility for the position we're in. He was so obsessed with being PM he sold his principles. Likewise on the republic and NBN. At least Morrison is acting on his beliefs, even if they are catastrophic. Turnbull sold us a pup."
          ],
          [
           "NBN HFC speedtest ⁦⁩ ⁦@NBN_Australia⁩ https://t.co/L9qpS5xerh"
          ],
          [
           "@emlafudd @bensab3 @JimRHoughton @qanon Well Murdoch put in his head the necessity to kill the NBN. He managed to do that very well. Fear of Murdoch I’m guessing.."
          ],
          [
           "@ricklevy67 @ScottMorrisonMP So Mal likes to talk about the sins of others, but remains silent on his own, like his silence on just one,  the NBN"
          ],
          [
           "@White_Blinds @DoctorKarl What Australia currently has, was more expensive than what the original planned full-fibre NBN was projected to cost. We’ve been had, and those who screwed or up are still out there lying about how their ‘solution’ is good enough."
          ],
          [
           "@TurnbullMalcolm @zalisteggall So Malcolm, are you desperate to talk up your record on support for renewables etc. to divert attention from how you personally wreaked our NBN?\n\n#remember \n#lookoverthere \n#justanotherliberalwreaker \n#LiberalLogic \n#auspol"
          ],
          [
           "@Qldaah As usual would be good if he spoke directly to the NBN staff dealing with the old copper wires - they have a very different take on matters. In my area NBN is on hold while they sort out a plan B as plan A wasn’t viable. I believe we will get fiber"
          ],
          [
           "@DoctorKarl I don’t want the NBN when the copper is switched off, I’m going 5G. We use 4G now and the landline can go."
          ],
          [
           "@TurnbullMalcolm And, your roll in fighting proper NBN."
          ],
          [
           "@EddyJokovich I’ve had FTTP for 5 years. Apart from a minor fault during installation it has been 50Mbps and trouble-free. \nI can understand that NBN is still not rolled out everywhere, but why are new connections made worse BY DESIGN!"
          ],
          [
           "@Qldaah Last time I heard Malcolm on the NBN he said it was a huge mess! Depends on what he thinks the current audience wants to hear maybe?"
          ],
          [
           "@DoctorKarl Because no one listens. The NBN was always going to be obselete in five years . Guess what . It is ! 5G all@the way"
          ],
          [
           "NBN is having home shows."
          ],
          [
           "@DoctorKarl A scam that is NBN. @NBN_Australia @TPG_Telecom @7NewsBrisbane"
          ],
          [
           "Tank @TunullMallm Wa a weak man yu weeae #NBN will e yu legay  #ualia "
          ],
          [
           "@MeckeringBoy this is with the NBN 😭 https://t.co/vdbybuKaYZ"
          ],
          [
           "@Qldaah NBN News tonight gave him blathering stupid praise for what may be a surplus. No mention of the squandered opportunities for all Australians  AND nothing of his refusal to properly fund urgently needed aerial fire fighting equipment while relying on overstretchedvolunteer heroes."
          ],
          [
           "@DoctorKarl I was in Cambodia in 2003 and internet phone calls cost bugger all. It was the reception part of the call that was the problem. ‘Straylia. How is it, that I know nothing about anything to do with the internet except use it, knew that the NBN was going to be a balls up?!"
          ],
          [
           "@DoctorKarl 15 years of govt interference? I had better than that at home at my own expense before the NBN was even suggested."
          ],
          [
           "@Qldaah Very slow on the #SunshineCoast #NBN since February 2019"
          ],
          [
           "@DoctorKarl Years of NBN being used as a political football?"
          ],
          [
           "@TurnbullMalcolm @murpharoo @lenoretaylor And the NBN is too bloody slow"
          ],
          [
           "@lenoretaylor @Reggaeh EVERYTHING about the Liberals is hurting Australia, including Turnbull's shit version of the NBN"
          ],
          [
           "@Telstra I wouldn't know.  Can't get through to get an update.  Meanwhile my mother's pacemaker better not fail cause the landline AND her mobile (which has data service) can't make any calls. You forced us to take NBN lady month and it's been crap from day 1. I want ADSL back or a refund"
          ],
          [
           "NBN (My ISP) died, modem is in back up mode. Will try get stream back up, bad sadly I don't think my upload speed is strong enough. 😭"
          ],
          [
           "@NBN_Australia @Skoeman74 Just trying to understand the nbn business model and why the CEO gets such outrageous bonuses when every complaint is answered by \"contact your provider\".  Tell me again then, exactly what does nbn do, other than transfer responsibility to the \"provider\"?"
          ],
          [
           "@damoisonboard At this stage Damien, NBN have reported some services are coming online and others haven't they have not provided an update to us since 5pm, once we get an update it will be updated on the website as soon as NBN provide one - Ashley"
          ],
          [
           "@NBN_Australia Well until such time as NBN offers the original design deliverable of FTTP, then anything else is fire hose to garden hose technology. Unless your team can reverse the ridiculous thought process that got us here in the first place, then no you can't really help with anything."
          ],
          [
           "@PeterWi05879624 @JaneCaro @TurnbullMalcolm @TurnbullMalcolm was removed because he wanted to do something about climate change. I'm no fan of his after what he did to the NBN but climate action is why he was politically castrated. #auspol"
          ],
          [
           "@Telstra service guys were digging an NBN pit outside my house yesterday and coincidentally my internet and foxtel around midday. Totally not their fault at all 🙄 dad called up and they told us they'd examine it over 24 hours and now they're saying we'll be out of service..."
          ],
          [
           "Saturday movie night with @Optus NBN. 👎🏼💩 https://t.co/ZaKEmPg82j"
          ],
          [
           "@TurnbullMalcolm Says the guy that totally screwed the NBN, stifling innovation and productivity. Your words are hollow, your integrity gone!"
          ],
          [
           "fuck the nbn"
          ],
          [
           "@alisterrobbie I went to a 50/20 service on HFC NBN, and I don't miss the download speeds but LOVE the upload capability now!"
          ],
          [
           "@alisterrobbie An NBN service.\n\nMind, the external cabling is appalling. It barely  passed SQ testing, and I was promised remediation. Hasn't occurred, of course. Had to log a fault, which NBN have now placed on indefinite hold while they fix unrelated issues that don't impact my service."
          ],
          [
           "@seungriach Not to mention I’m on the NBN so I’ll probably still be loading the page by the time they’re all gone 😜"
          ],
          [
           "@ReclaimAnglesea Easy to criticise from where he sits now\nHe had the opportunity to do right when in office but chose not to\nAll he's going to be remembered for is screwing the NBN"
          ],
          [
           "@fuq_le You are not missing out on NBN, the bloody thing is useless.\nWe are on the fastest system, paying 127.00 per month, and it drops out 3 to 5 times a day and to boot slow as a wet week."
          ],
          [
           "@MarcTennant We still lodge the fault to NBN for you anyway, irrespective of if there was/is an issue in NBN's network. The option to declare the fault was made by NBN and we need to wait for them to clear the event. Once done, we can push this forward. - Leo"
          ],
          [
           "@JamesHayles10 Usually it's pretty good, not much choice here, Optus hardly works at all, no NBN either, suppose it's the price you pay for not living in the big smoke"
          ],
          [
           "@avidJay04 @MarTennan NBN HFC newr i e rimary iue, wi we ave a faul lied fr, ere  - Le"
          ],
          [
           "@Optus @NBN_Australia Still no service here (I'm in Cairns). Unsure whether an NBN issue, as advised by @Optus, or router issue, as advised by @Optus [tech support]. Maybe you can help me, NBN, as I am getting mixed messages but no subscription TV and very-slow-to-no internet."
          ],
          [
           "@MarcTennant There is a current fault within NBN's network affecting some connections. Your service is affected and once NBN resolves the issue in their network, we'll fault the issue with NBN for you once more. - Leo"
          ],
          [
           "@Qldaah Hold that thought I just have to straighten the string on my tin can works better than NBN"
          ],
          [
           "As if we needed more signs that Australia's fixed broadband, in technical terms, sucks, here's a run of the mill global survey (unrelated to broadband as such). The fastest available NBN speed tier is not even at the midpoint 🙄 https://t.co/EAeSPsmBcv"
          ],
          [
           "Documented evidence that @NBN_Australia has literally no idea what they’re doing. Each white band is an outage, “pending” means it’s been detected, “firing” means an alert has been sent. #nbn https://t.co/8SnQ5JTaHg"
          ],
          [
           "@MeckeringBoy 6 hours into uploading a 420mb video to YouTube using NBN on mid-north coast. At least one hour still to go. It's comically slow, but without the laughs."
          ],
          [
           "My internet has never been so bad since switching to the NBN. Was told I had to switch even though I had no desire for 'faster' internet. It was fast enough, certainly faster than it is now."
          ],
          [
           "My NBN got shaped at the 91st minute. Serves me right for being cheap 😂"
          ],
          [
           "@NewtonMark @NBN_Australia stating*"
          ],
          [
           "@w0mbatus @Margaretmaryle3 I wish our NBN was as quick as Turnbull’s defence of it. Before we moved from Canberra we had Rudd’s NBN. Had to put on a helmet and seatbelt before turning on the computer, it was that fast. @minkelCT"
          ],
          [
           "@mormorlady @PeterRelph For the same reason the NBN was buggered, because powerful people paid money to have it so."
          ],
          [
           "@YaThinkN The useless pillock is going to be lumbered with the failed NBN forever. And rightfully so."
          ],
          [
           "@systems_asm @Optus @VodafoneAU Im in fnq and have the same issue man! Optus will blame it on the current NBN outages though. Goodluck getting through to em. https://t.co/PgX9Rnd6RL"
          ],
          [
           "@khtagh @1994_green He's also getting a little shouty about the NBN being fine."
          ],
          [
           "@TheEconomist The @NBN_Australia has been a nightmare &amp; still is. Whatever they have done, I would advise to do the opposite."
          ],
          [
           "@YaThinkN He sure is... truly pathetic to defend the delivery of the totally inadequate NBN... so many missed opportunities for all Australians.... but particularly those in regional areas."
          ],
          [
           "@dinos22 @NickRossTech @NBN_Australia @Aussie_BB @TurnbullMalcolm Don't know what everyone expects.\n\nMalcolm Turnbull the Luddite has been lying through his teeth ever since the NBN was first announced!"
          ],
          [
           "@Optus is there a problem with the nbn in Yarraville?"
          ],
          [
           "@NewtonMark @NBN_Australia Be alert, not alarmed, but I suspect they are watching you."
          ],
          [
           "@boyter @YaThinkN That makes sense. For Turnbull to claim speedtest results are not accurate. It's as lame as NBN Co making up their own custom tests."
          ],
          [
           "@dinos22 @NickRossTech @NBN_Australia @Aussie_BB @TurnbullMalcolm FYI most RSPs should give you same or better speeds to what you have now for the same price (Optus did for me)"
          ],
          [
           "@NBN_Australia Thanks Lisa. Can you please confirm that NBN do not have access to view their own outages? The service provider explained this was an NBN outage."
          ],
          [
           "@Senator_Patrick @Richard_D_Boyle @DeptDefence @lindareynoldswa If they had built a proper NBN..would have been much more valuable asset than this stuff"
          ],
          [
           "@mormorlady Sounds like NBN denialism"
          ],
          [
           "@donsman31 Thanks for confirming, was your internet service NBN? Could you please send us a private message with your broadband username so we can take a look and provide further assistance? Sarah"
          ],
          [
           "@Denham0001 Hey, at this stage we are not aware of any isolated outages in the area, unless you are on HFC then there is a pretty big nation wide NBN issue. Cheers, Ashley"
          ],
          [
           "@Qldaah Both the infrastructure and the management of the NBN is appalling. I had to go to NBN, now have approx exactly the same 18MBps download I had previously but with far more outages. As soon as 5G data is better priced, I'm cutting off the fixed line."
          ],
          [
           "@damoisonboard Hi Damian, at this stage NBN are still investigating the issue and trying to resolve it now. We have been advised to try and get customer to reboot their routers and NBN box now and it should bring you back online. (we are in the process on updated our website message now) - Ash"
          ],
          [
           "@randlight @TurnbullMalcolm misses the point. I'm getting the same speed on the NBN as I did on ADSL, for the same price. So, the question is - why did we bother spending billions of dollars for exactly what we already had? A waste of 🤬 money!!!"
          ],
          [
           "@char_stokely  I would love to kiss you date you. Make love to nbn you also."
          ],
          [
           "24 hours of the nbn being out, loving life 🤦‍♂️"
          ],
          [
           "@exaggerator_s @randlight @LennaLeprena Yes, that is so wrong, destroying our NBN while investing in fibre elsewhere"
          ],
          [
           "@cajems1 We're aware of an issue impacting some NBN customers and our tech teams are working to restore services as soon as possible. I've responded to your DM with more details, let's continue our conversation there to avoid any confusion. Sarah"
          ],
          [
           "hey @Telstra is it possible to get a static IP for my NBN broadband? if so, how much does it cost per month?"
          ],
          [
           "no surprises the NBN in the street went out"
          ],
          [
           "@Aussie_BB You claim you can supply higher speeds and a more reliable service so again, how can you do this when you are using the same lines and towers that every other provider uses? You can not make a claim of a faster speed and more reliable service when you use the same NBN services."
          ],
          [
           "@KevinGeller4 That's certainly not great to hear Kevin. If you could please send through your appointment details over on our DM thread, I would be more than happy to chase it up with the NBN and see whats going on -Quade"
          ],
          [
           "@Farlie1 Hi, we are sorry to hear that your experience has been less than ideal. Building the nbn network around Australia does take time and we appreciate your patience thus far. ^Lisa"
          ],
          [
           "@matthewslaurie @YaThinkN That’s appalling. I feel for you. One of the best emails I got last year was from iINet saying I didn’t have to join the NBN but could stay on my VDSL2. It works. https://t.co/SF7rMzCwRR"
          ],
          [
           "@Qldaah @greensinspa We're getting   NBN soon, so will be interesting to see."
          ],
          [
           "@stewartsmith @CenturyLinkSEA How do they compare with NBN"
          ],
          [
           "@EdWellham @TurnbullMalcolm @murpharoo @lenoretaylor No boomer, I actually didn’t. It was bad enough listening to his voice while PM. I wouldn’t willingly put myself through it when he’s now not the PM.\n\nJust wanted to stop by and tell him he ruined Australia’s already bad internet with NBN and did nothing about climate change ;)"
          ],
          [
           "@randlight Can’t remember but sounds believable. Sadly I think once NBN is in that is it."
          ],
          [
           "@JoelNapolitano Hey there, we're aware of an issue impacting some NBN customers. Our tech teams are working to restore services as soon as possible (ref id: 21929587). We apologise for any inconveniences caused during this time and we appreciate your patience. Sarah"
          ],
          [
           "@allymcleangames “It enhances my NBN speeds.“"
          ],
          [
           "@IndusTrainCons @PhilipSoos He got a bit too defensive as soon as I mentioned NBN, he should have let me finish the question."
          ],
          [
           "The blurry sensation of fear before your NBN 🍆"
          ],
          [
           "@NBN_Australia Can the tax payers who are affected by the current HFC outage due to YOUR systems becoming unavailable or going offline get an explanation? Current outage is over 24 hours and don't you dare suggest \"Call your RSP\". #nbn #mtm #hfc"
          ],
          [
           "@BarrysChins It should be the one particular thing for Malcolm ...\nDon't mention the NBN ... https://t.co/rk7cSjFCj7"
          ],
          [
           "@marg_hutton @NBN_Australia Our Telstra cable is down too so.... 😉🤬"
          ],
          [
           "But seriously. \nConnecting to the NBN was the easiest experience I've ever had with getting the internet connected."
          ],
          [
           "@YaThinkN I've had the NBN for 5 weeks, the speed is the same as ADSL2 which I previously had.😂"
          ],
          [
           "@Qldaah I do too. They'll drag me kicking &amp; screaming onto their NBN mess!"
          ],
          [
           "@notanotherCathy @lynlinking @TurnbullMalcolm Ditto for NBN"
          ],
          [
           "Day 1 of having the NBN https://t.co/559ioJ3SMC"
          ],
          [
           "@NBN_Australia I’ve done that. They’ve said they are aware of the issue. Still doesn’t fix it. All I want is a bit of transparency and responsibility from NBN. Why are we kept in the dark if there’s a planned outage or upgrade?"
          ],
          [
           "@TurnbullMalcolm I find it funny when you say that streaming services had not been anticipated. So why build an NBN that STILL doesnt anticipate the future?!"
          ],
          [
           "@NBN_Australia Telstra have cancelled the technician as they believe there is a known problem and have advised they don’t know when it’s going to be fixed!!! 😡"
          ],
          [
           "@Loud_Lass i had an NBN guy install recently. went 100% smooth. we've got HFC too."
          ],
          [
           "@PerthObserver We're sorry to hear that.  Unfortunately, we don’t have access to view outages, this is solely handled via your service provider. Make sure to raise this with them and if they require assistance, your provider has direct access to our nbn support team. ^Lisa"
          ],
          [
           "@mormorlady @D_Melissa2 I struggle with the NBN!"
          ],
          [
           "@iiNet what is the process to switch from another company’s service to yours? Our house is NBN ready but we don’t currently have NBN"
          ],
          [
           "@frankjotzo @TurnbullMalcolm How about one on the NBN, could you get him to speak on that?"
          ],
          [
           "@NickRossTech @NBN_Australia Don't think I've ever had my service drop that wasn't caused by a stupid human (NBN tech pulled my service out at the FTTP box by mistake."
          ],
          [
           "@Snow_Crash And most people wouldnt know the term attenuation but signal/noise is kinda self explanatory. But as I said: fair point. Will do better in future when ranting about NBN :) thanks for the correction. https://t.co/W1MhTayWSA"
          ],
          [
           "@NickRossTech @NBN_Australia @Aussie_BB @TurnbullMalcolm 100% and he isn't a big enough man to admit it! No wonder trust in the government has hit an all time low under the LNP"
          ],
          [
           ".@TurnbullMalcolm you say the NBN isn't terrible? Ok boomer.."
          ],
          [
           "@TurnbullMalcolm @murpharoo @lenoretaylor You knew about climate change and did barely anything, if not nothing while PM. Also NBN was the worst thing to ever happen to Australia; since Morrison of course; but still, you ruined our already terrible internet."
          ],
          [
           "@NBN_Australia Having worked for both NBN and Telstra in the past,  cut the shit and update us. You BOTH can update,  you're just too fucking lazy to do so 🖕🖕🖕"
          ],
          [
           "@Bishop64 Are they both pointing at a time when they pushed a useless, not fit for purpose NBN on us\n“That’s where our political careers ended”"
          ],
          [
           "@TurnbullMalcolm your defence of NBN speeds is really dim for a man who is otherwise self-evidently quite clever. Australia doesn't settle being mediocre in other endeavours, so why defend the mediocrity of this roll-out? Sluggish speeds will crush innovation &amp; competitiveness."
          ],
          [
           "@ri6787407 Hi Cri, und lie yure affeed by a nwn iue imain a number f NBN HFC ervie were wrin wi e newr rvider  fully relved ASAP See ur even liin fr mre inf and udae a ey beme available  - Tal"
          ],
          [
           "@NickRossTech Just checking up on how your recent NBN connection is going. Is it what you expected?"
          ],
          [
           "@paulwallbank @NBN_Australia Still waiting for the NBN here (7 kms east of the Melbourne CBD). Still plodding along on ADSL."
          ],
          [
           "So Malcolm Turnbull has defended his $50B NBN debacle. \n\nWell there it is, folks. Living proof that Malcolm Turnbull doesn’t listen to people.\n\nWho would have thought. #auspol"
          ],
          [
           "@nobby15 @LesStonehouse Brilliant? He singlehandedly (is that even a word?) stuffed up the NBN and we are all still suffering from that particular fuck up!"
          ],
          [
           "@Mijjy3 @matty_k @EddyJokovich True. There was no reason for LNP to re-spec NBN other than to break it."
          ],
          [
           "@Aussie_BB You claim you have a faster and more reliable NBN service, since you use the same NBN lines and towers as every other provider, how can you make this claim? Do you have a dedicated NBN line that no one else has? If the answer is no then the adds you post are a lie."
          ],
          [
           "@jtota92 @NBN_Australia Hi Jack - certainly not good to hear you're having some issues with your NBN service. For us to look into this for you, we will need you to send us through a DM. From there, we can further investigate. Zac"
          ],
          [
           "They are installing NBN in our area now.... I swear if it ruins my internet which works absolutely fine how it is I will be rattled 😂"
          ],
          [
           "@moylecroft @NewtonMark @NBN_Australia @TurnbullMalcolm HFC is well known, the NBN implementation has a few structural quirks which takes a bit of time to understand if you’re coming from any other operator."
          ],
          [
           "@NickRossTech from the same morons that where giving labor shit about the nbn rollout and where are they now not saying shit submarine's out of date way over cost not saying shit makes you really think don't it"
          ],
          [
           "@moylecroft @NewtonMark @NBN_Australia @TurnbullMalcolm Anything that relied on tangled copper should have been nuked, HFC was a reasonable option if used as part of future plans to progressively replace the coax with glass. Every access technology other than 1:1 glass should be treated as a temporary intermediate step toward it."
          ],
          [
           "@NBN_Australia @skatsa That’s a fantasy that just doesn’t happen!  Fault found by NBN “in lead” from the cabinet on Hurtle Square Adelaide CBD (Pultney Street) on a run down Halifax Street.  Won’t be fixed unless business get together won their initiative and put in a bunch of complaints together."
          ],
          [
           "@cdcAU @NBN_Australia Are you in Newtown? Don't suppose with Aussie Broadband? Also facing the same issue, not back yet for me 😢"
          ],
          [
           "@cdcAU Hi Chris. If there is an outage affecting your services, we recommend reaching out your service provider. They can follow up and gather information from nbn directly. We hope this is resolved as soon as possible for you. ^Maya"
          ],
          [
           "@Inmaniac you have NBN now will take like 5min"
          ],
          [
           "guess who's finally getting nbn"
          ],
          [
           "@NewtonMark @NBN_Australia No bloody network"
          ],
          [
           "@Marie_Perold We've had that come through to us also now Marie. It appears to be an issue with the NBN boxes. Our teams and NBN are working on this now. My apologies again for the trouble. Rob"
          ],
          [
           "@EddyJokovich Currently Optus advised me the #NBN Australia wide is down due to a storm. I challenged the statement but he was just reading a notice. In any event I'm now getting less than 1Mbps speeds on a 100Mbps plan. No further notice at this time. #auspol"
          ],
          [
           "@firebirdasusual You will have ADSL at the moment but if you do a search on NBN website for your address it will tell you what you will get"
          ],
          [
           "No internet (NBN technician later today) and now this cricket on 7 😡 FML https://t.co/NsghRbm7kj"
          ],
          [
           "@LesStonehouse While we are on the subject of achievements or lack thereof. I've been advised by Optus that the #NBN is down Australia wide. I've been getting speeds of less than 1Mbps &amp; paying for 100Mbps they're adjusting account but still not a good situation. No further notice ATT #auspol"
          ],
          [
           "@Internode Hi, the NBN box has been flashing green on the “online” status all morning and yesterday"
          ],
          [
           "Thanks all for the info and sharing of experiences on NBN. I am going to expect the worse and hope for the best😊😶"
          ],
          [
           "Looks like HFC is back: #nbn @Aussie_BB https://t.co/HjoQHSyOV3"
          ],
          [
           "No one has the necessary infrastructure needed to handle this, due to Governments constantly pushing back on necessary upgrades to telecommunications, such as the NBN in Australia or that bullshit that I heard went down in the States."
          ],
          [
           "@Bukumbooee @dottigee The NBN. \"nuff said. grrrr"
          ],
          [
           "@LiberalAus If we hadn’t had 6 years of LNP incompetence, we’d have a stronger economy, lower unemployment, lower debt, a decent NBN, lower power prices, action on climate change and global respect and credibility."
          ],
          [
           "@HeresMooshy @NBN_Australia ‘Raise it with you service provider’ the default answer every time!!  You guys should know if the NBN isn’t working we shouldn’t have to keep telling you 🤦‍♂️"
          ],
          [
           "@EddyJokovich Obviously the provider for the pathetic mixed #NBN is a #liberal donor. \nWho is taking a few liberal senators ministers staffers on a lively fun packed junket we know nothing about. \n#auspol\n#LNP\n#ScottMorrison \n#scomoPromo"
          ],
          [
           "@bugwannostra @Bobsully12 ...and f***ed the NBN."
          ],
          [
           "Aussie Broadband $50 off first month! \nReferral code: 2196434 #NBN #broadband #internet #discount #credit #deal #saving #code #referral #reliable #customerservice #passion #it #aussie #aussiebroadband #mate #connect #join"
          ],
          [
           "I have had to go from a cautious advocate of NBN's HFC program into one of its critics. Forever. That's how customers respond when you burn them, they stop talking about your successes and will only ever care about your failures. Good job!"
          ],
          [
           "I'm now the kind of incandescently furious customer who has no patience whatsoever for @NBN_Australia's bullshit. ESPECIALLY since Thursday, when they finally acknowledged a long-run issue in their network which has been causing my fault which they've kept secret the whole time."
          ],
          [
           "Not only can I not use this service to reliably offer services to my users, I can't even use it myself: It's been WEEKS since I've felt confident about being able to have a videoconference for work, one of the primary NBN use cases. They almost all get interrupted."
          ],
          [
           "On Oct 20 I had 8.5 hours of downtime. I had 1.5 hours on Nov 7th, a bit over an hour after an @NBN_Australia tech had left the premises after giving me a green report card. I had another hour offline last week. 16 hours yesterday/today. Hundreds of random 5-20 minute failures."
          ],
          [
           "So at that point I \"escalated.\" MPs have a vector into @NBN_Australia which bypasses the usual front-of-house. If they're screwing you around, that's one way to make them reassess their priorities. I pulled that lever; New appointment the following week. Winning!"
          ],
          [
           "@SilleScott Can't see any clear signs of issues for the area at this time, Scott. What kind of NBN connection is it you're using there and what testing's been tried to help narrow down any cause for interruption? - Tal"
          ],
          [
           "@TomMcIlroy The lawyer, the merchant banker and NBN \"hero\" lectures everyone on science and engineering. #GFY Turnbull"
          ],
          [
           "@emiliaattwood Hi Emilia, we're sorry to hear that. Unfortunately, we don’t have access to view outages. Make sure to raise this with your service provider and if they require assistance, your provider has direct access to our nbn support team. Let us know when you’re back online! ^Lisa"
          ],
          [
           "@fenham @Loud_Lass I just got rid of the NBN and went Broadband. Faster and cheaper"
          ],
          [
           "@iiNet Hi team. Is there nbn problems in Forrestfield, WA? Our nbn is down and has been for a few hours."
          ],
          [
           "@Telstra a person in your call centre just told me the nbn in 80% of NSW is out of action. I was told they’d try to fix it by 4 Dec, or maybe 12 Dec. Is this true? Presumably your CEO is on the case if it is."
          ],
          [
           "@NickRossTech @Stay_young4now @Aussie_BB @NBN_Australia @TurnbullMalcolm I wish Turnbull would come clean on what he did to the NBN. Does it weigh on his conscience? Will he take it to the grave with him?"
          ],
          [
           "@Cornaum @Loud_Lass Robocall - I didn’t get the name told press 1 to talk to technician so I hung up. Tried to call NBN but it’s all recordings and then they hang up. NBN message does say that they generally write and rarely call!"
          ],
          [
           "@TurnbullMalcolm @murpharoo @lenoretaylor Turnbull will be credited and deservedly long remembered as the man who skuttled the NBN. Scores of duped subscriber's with no other choice get irritating reminders constantly."
          ],
          [
           "@NickRossTech @Aussie_BB @NBN_Australia @TurnbullMalcolm Tell me your Plan B please. I need it as my NBN is unreliable, underpowered and flakey, too. Thanks."
          ],
          [
           "Hey @Optus, internet has been down since 7pm last night &amp; ur website is still saying everything is 👍 despite other telcos reporting nationwide issues for NBN HFC customers. Do we need to switch providers to get proper customer service? @TPG_Telecom seem to know what's going on.."
          ],
          [
           "@Optus so many people including myself getting in touch about no @NBN_Australia connection. Sounds like a widespread trend that requires more than a 'DM with your details'"
          ],
          [
           "@HashTagging101 Morning, thanks for reaching out to us. If you’re not receiving the service that you should then you must report this to your provider. They will lodge faults with nbn to investigate the issue. ^Lisa"
          ],
          [
           "@bajopants I won't be streaming it because of my bad upload speed. No NBN till February. Hopefully I'll have a higher upload than 1 mbps"
          ],
          [
           "@murpharoo @PatsKarvelas @TurnbullMalcolm @lenoretaylor Turnbull is a total coward. Look how he caved to Abbott and Co on the NBN etc.\nThe man has zero credibility"
          ],
          [
           "@firebirdasusual Yes. They shut off the old network after 18 months on average so you will have to get an NBN service or have no dedicated home internet."
          ],
          [
           "@Aussie_BB Hey gang, our nbn has been down here in Clifton Hill since last night. What’s going on there eh?"
          ],
          [
           "@BigV2011WCE Morning Victor. That's a great question, however may need to discuss this with your service provider. Are there any medical alarms at your home? Did your service provider raise a case for you with nbn directly? If so, they can follow up with the team. Hope it's resolved soon. ^M"
          ],
          [
           "@NickRossTech @NBN_Australia @Aussie_BB @TurnbullMalcolm Hence why my businesses are not on the NBN, and will never use the NBN. It's NOT FIT FOR PURPOSE."
          ],
          [
           "Say what you will about @NBN_Australia, they did build a do-nothing, bloated and overpaid bureaucracy in just over a decade that the old Post Master General's department couldn't achieve in 100 years."
          ],
          [
           "@paulwallbank @NewtonMark @NBN_Australia No luck with Reboot...\nI think NBN is \"No\" Broadband Network 🤦‍♂️"
          ],
          [
           "I feel like I’ve achieved something today - getting the nbn router plugged in and working. The connector is in a weird spot, high up a wall which is unhelpful when the power point is down near the skirting board."
          ],
          [
           "@NickRossTech @Aussie_BB @NBN_Australia @TurnbullMalcolm yep - thinking of going to the car yard today trade-in my late model car for 1990's model, - NOT! \nNBN must be one of the only product releases where people have been forced to accept WORSE service!  #NBN #auspol"
          ],
          [
           "@stufromoz @NBN_Australia Have they? I can't find that. There is an HFC problem reported from Thursday that NBN claim is largely fixed. Our problem started late Friday."
          ],
          [
           "HFC NBN back online. Bang on 09:00. Almost like they were on some kind of schedule for restoration. Now back on the clock wondering how long it’ll take for the next outage to roll ‘round. @NBN_Australia"
          ],
          [
           "@NickRossTech @Aussie_BB @NBN_Australia @TurnbullMalcolm The weird thing is I've been on iiNet owned cable infrastructure in Geelong for nearly 5 years with barely any outages. Shows what happens when you maintain and upgrade HFC properly. So happy they're not selling it to NBN."
          ],
          [
           "Happy days. @NBN_Australia has been down for 15 hours but they claim there is no problem."
          ],
          [
           "Hi @NBN_Australia, any update on the HFC service outage (registration not working)?"
          ],
          [
           "@SElizaP @NBN_Australia @Aussie_BB @TurnbullMalcolm Those Telstra 4G 'backup for when service goes down' TV ads weren't joking were they? Although someone was saying that the modems get confused by having 4G built in. #nbn #auspol"
          ],
          [
           "@NickRossTech @twigsama @TurnbullMalcolm @NBN_Australia @matt_barrie @Aussie_BB @chaser @acccgovau You realise it’s your own devices capabilities? HFC is capable of the full 100/40...."
          ],
          [
           "@Telstra how can your customer service be so bad? I placed a business NBN order 2 months ago. Crickets. Now am getting emails about an order for a site in NSW (my business is in Vic) rang to query. “We’ll fix it”. Woke up to confirmation of order for address in NSW. Hopeless"
          ],
          [
           "@NickRossTech @Aussie_BB @NBN_Australia @TurnbullMalcolm Might be. I'm with Telstra."
          ],
          [
           "@VodafoneAU I'm a Koganmobile customer (and have notified them) but since a blackout on Sydney's lower north shore yesterday afternoon network speeds very slow. It knocked out my NBN completely so I'm relying on tethering. Typical speedtest: https://t.co/ITfztjR0J6"
          ],
          [
           "@NBN_Australia so there has been an outage with your HFC NBN for 30 hours and counting but you seem unable to provide updates to your customers on when this outage will be resolved. Very frustrating. Get it fixed asap."
          ],
          [
           "@Loud_Lass Before the NBN we had only rare dropouts,now we get them on a daily and sometimes hourly basis. Good luck."
          ],
          [
           "@NewtonMark @NBN_Australia In some ways I'm glad I got FTTN, at least it stays up even if it's incapable of reaching the speeds we pay for or I want. Just somewhat faster than potato internet we had before."
          ],
          [
           "@asherspira Innovated the sh#t out of the NBN"
          ],
          [
           "@Optus our NBN internet has been down since yesterday-tried chatting to the tech team online but 30mins later no response. Is there an outrage in Cremorne area Sydney?"
          ],
          [
           "Seriously, how hard would it be for @NBN_Australia to actually maintain their own publicly accessible outages site?"
          ],
          [
           "@Loud_Lass I was in rural Alberta Canada last month and saw what broadband looks like. I’m on HFC drops out all the time. The NBN is a national disgrace."
          ],
          [
           "@NickRossTech @TurnbullMalcolm @matt_barrie Mal also said that Governments have to keep reviewing their policies and decisions and that people don’t like it, but it has to be done. So, since 2014, NBN policy regularly reviewed. Got it."
          ],
          [
           "@OzPol_Critic @NBN_Australia The node arrangement is very peculiar. (Dare I say dodgy?)\nFrom my letterbox I can see the nearest node, but when an #NBN tech turned up to fix mine recently he said I was connected to a different node which is nearly 1km away in the opposite direction."
          ],
          [
           "@Optus no internet connection on NBN cable broadband since yesterday evening and I cannot see any outages in website."
          ],
          [
           "@Loud_Lass Hybrid Fibre Coax. I assume you already have some sort of service delivered via coax. Doesn’t really matter much what the metallic bit is beyond the fibre. Copper twisted pair or coax. Works the same. Has to be better than NBN shit fixed wireless .. surely !??"
          ],
          [
           "NBN and energy veraul a e enre f Albanee enm       va @ABCNe"
          ],
          [
           "12 hours and @NBN_Australia still haven't been able to sort out the outage on my connection. @Optus says it will be Tuesday before a tech can come out! No phone our internet then I guess #nbn"
          ],
          [
           "@themarkjacka Liberal party prime ministers have a tendency of thinking they fixed everything. Turnbull has no choice but to support NBN or we would have had a national infrastructure collapse in the communication sector. All of this happened in the Howard years."
          ],
          [
           "@themarkjacka Turnbull is an investment banker. He sees value in innovation. Keating created the NBN with a view to starting in regional Australia.\n\nWhen it came to big cities, Telstra was the problem and still is. Most of the drawings for cabling tunnels and pits were wrong or didn’t exist. https://t.co/ViBL5FPYRT"
          ],
          [
           "A nationwide HFC outage.\n\nIn other words someone in NBN is really putting on a spectacular shitshow right now. https://t.co/Hi6zbRdE7q"
          ],
          [
           "The immediate feeling of exhaustion with a stranger's NBN 🔑"
          ],
          [
           "The end of the world is here. @Optus tech support don't get the concept that if ur getting faster then normal upload but no down, ITS NOT THE MODEM. Add to that the fact I went Ethernet strait to NBN box. I dont need a new toy modem when I habe a $500 beast. I need connection"
          ],
          [
           "@Telstra Only outage was on the 20th at Rockingham 6168. I couldn't call as phone is now connected to nbn. So if nbn is out everything is out. As for calling im at work so its kinda hard"
          ],
          [
           "@NickRossTech @TurnbullMalcolm @NBN_Australia @matt_barrie @Aussie_BB Yours is way faster than my NBN connection!...NBN for many is absolute rubbish..much of the population now enjoy a going backwards NBN technology..every month my connection reduces by another megabyte...by xmas next year it will 56.6.KBPS!"
          ],
          [
           "@Loud_Lass Yep they’re finalising things in our street too, everything’s gotten worse, slow speeds when trying to watch catch-up/Stan etc 😳 not really looking forward to changing to nbn haven’t heard good things"
          ],
          [
           "@Sayo_Nara_88 Hi, sorry for the late response. Are you still experiencing an issue with your NBN service? -Ivan"
          ],
          [
           "@BelongAU what the shit did you guys do to cause like 4 suburbs NBN to just stop working"
          ],
          [
           "@Kimmy_Ralph I'm terribly sorry to hear you're experiencing issues with your NBN, Kimberly. Can you please DM us your full address so we can take a closer look at this for you? - Kim"
          ],
          [
           "@CaraMia200 A hint of sympathy for the bastard there Cara !! We cannot have that !! That scumbag screwed the whole NBN rollout to serve Murdoch wishes as you know !!!"
          ],
          [
           "@mechriot @SmoothCaramel1 @hexsteph Not sure when nbn let RSPs know it was an issue. We put an outage notice up at 3:45pm"
          ],
          [
           "@NBN_Australia Hello Audrina. It was repaired sometime after my first message. Final outage time indeterminate, but greater than 15 hours. Unfortunately NBN is failing a lot more regularly than ADSL. Down again today (reported to service provider) and it’s been off for 12 hours...."
          ],
          [
           "@mechriot @SmoothCaramel1 @hexsteph Hopefully it'll be fixed soon, nbn are still working on it as far as I know"
          ],
          [
           "@Loud_Lass With my NBN connection I have several line dropouts every day and I have to save my work every 5 minutes to prevent losing data"
          ],
          [
           "@Loud_Lass #HFC, was the part the deal between #MalcolmTurnbull and Rupert, to save #Foxtel. \n\n#NBN #auspol https://t.co/y2Iaa4eRQY"
          ],
          [
           "@TonyTan63525837 @NBN_Australia You’ll be cursing NBN once it’s installed"
          ],
          [
           "@NBN_Australia still no reply. Could you advice me how I make an official complaint about your lack of service?  No reply and no actual details about current outage. Same response as always-‘contact your service provider’"
          ],
          [
           "@Annie19221318 Hey Annie, I'm terribly sorry to hear you're having issues with your NBN. I can't see any reported outages or planned maintenance in the Allawah area currently. Can you please DM us your full address so we can take a closer look at this for you? - Kim"
          ],
          [
           "@Loud_Lass Commiserations. Think mine is just around the corner, have had robocalls for \"NBN\" saying they will disconnect my ph in next 24hrs if I don't contact them. Mind you I've had this call for the last 3 months. Yeh maybe a spam call.\n\nI sincerely hope  it goes well for you."
          ],
          [
           "@Loud_Lass I’m in Keperra and we changed over to nbn this year, wish we didnt. never had a issue before and now it’s rubbish. What a joke and waste of taxpayers money"
          ],
          [
           "@davidiwanow @NickRossTech @Snow_Crash @jendudley @TurnbullMalcolm @NBN_Australia @matt_barrie @Aussie_BB Adelaide has 10gig city but it's restricted to the CBD. But it'd be nice to have at least 1gbps FTTP for businesses outside of the CBD."
          ],
          [
           "@NBN_Australia I had a confirmed scheduled appointment for today for one of your technicians to attend my property and install NBN on the premises. This appointment was confirmed via text message on Tuesday and then again on Wednesday only for your tech not to bother to show up!"
          ],
          [
           "@cinnamoncervine @108 I feel you on the Australian internet issue NBN for the win at 1mbp"
          ],
          [
           "@Loud_Lass @LennaLeprena The best that can be said about most NBN is you will pay the same amount &amp; get as good as you already have. After contributing to the 56+ billion to ensure you do not get optical fibre…"
          ],
          [
           "@Deligracy It’s called 5g network! I’m avoiding the NBN if I can"
          ],
          [
           "The #NBN is a bullshit and the worst broadband in the Aus, even the Earth. Waste our money"
          ],
          [
           "@themarkjacka @amagickeagle999 Is Malcolm flogging the latest IPO is he...can you ever forget his video talking about marginal cost in relation to the NBN...God help us"
          ],
          [
           "@Tim52618919 @NickRossTech @stinhambo @TurnbullMalcolm @NBN_Australia @matt_barrie @Aussie_BB Every #NBN thread turns into a speed test contest of worsts and bests 😂"
          ],
          [
           "@NewtonMark @NBN_Australia Good point!"
          ],
          [
           "@simondotau @NewtonMark @NBN_Australia So if I happened to still be on Telstra HFC your advice would be DO NOT SWITCH?"
          ],
          [
           "@NickRossTech @NBN_Australia @Aussie_BB @TurnbullMalcolm Welcome to the plight of all NBN customers."
          ],
          [
           "#NBN Co fudging it's rollout map. Shows my address on map as being able to connect (blue). But specific address returns \"More work required\" and \"Expected availability  June 2020\"\nNBN Co have no credibility &amp; are BS'ing to meet political directives.\nShame.\n#auspol @MRowlandMP"
          ],
          [
           "@NickRossTech @NBN_Australia @Aussie_BB @TurnbullMalcolm Oh well, at least when they privatise it whichever supporter buys the NBN will get an even better giveaway price since it's rubbish 😬"
          ],
          [
           "@Optus  hi. I have not been able to access my home internet since returning from vacation about 3  hours ago. The green light on the NBN modem has been blinking continuously.  And its also very unusual not to get any of your agents in the chat room. What is going on?"
          ],
          [
           "Fixed wireless was incredibly funny in 2008. But can you imagine how humiliating it must be for @NBN_Australia to have zero upgrade plans, and have to pretend — in public — that it’s good enough more than ten years later? #nbn https://t.co/knenqjV2zO"
          ],
          [
           "@sortius @stinhambo @NickRossTech @TurnbullMalcolm @NBN_Australia @matt_barrie @Aussie_BB Can confirm, FTTP was a complete waste of time :p https://t.co/5IbMyqT3RG"
          ],
          [
           "@NBN_Australia why is ur internet so fucking bad all it does is cut and and all I’m doing is playing a little bit of PlayStation"
          ],
          [
           "@Loud_Lass We are lucky to be in 5G area (Optus), and while some teething issues, looking superior to NBN offerings (based on what I have heard)"
          ],
          [
           "@DobZombie @SallyRMelb @Loud_Lass True. One of my sons lives in a rural area, and he loves the NBN."
          ],
          [
           "@LunR_OCE bruh my area has had an nbn outage for the past 4 and a half hours"
          ],
          [
           "@yvmzy Hi there, what seems to be the trouble with your internet service while awaiting the switch to NBN? - Cas"
          ],
          [
           "@hexsteph That’s ok… you’ve got NBN"
          ],
          [
           "@hexsteph That's what I was hoping to do tonight but the Internet has been down all day :( sadly I have HFC NBN which apparently is down nation-wide!"
          ],
          [
           "@iiNet This outage has had no update in almost a day. What is going on? Still no internet and seemingly no update on what is happening with this outage. Have our NBN modem simply cycling through its status constantly. Any update would be appreciated."
          ],
          [
           "@ThisIsMakena @NBN_Australia That answer is unacceptable. They should not be offering you an FTTN service that can’t meet speed standards."
          ],
          [
           "@NickRossTech @TurnbullMalcolm @NBN_Australia @matt_barrie @Aussie_BB Oh yeah, it could be worse Nick, my new place (2 years old) is literally a non resolveable address on the NBN map. The address with 39 apartments simply doesn't exist."
          ],
          [
           "@NBN_Australia Turnbull says @NBN_Australia has good tech but bad PR. No, this is them sucking at both."
          ],
          [
           "@CharmsYahoo @NickRossTech @TurnbullMalcolm @NBN_Australia @matt_barrie @Aussie_BB My 18mbit ADSL took 16 years to drop to 15.\n\nNot that I'm a copper fan but the degradation was slow."
          ],
          [
           "@NBN_Australia “Contact your RSP,” said the social media people at @NBN_Australia. Yep, did that. “They’ll liaise with us to get your fault fixed.” Yep, that happened too, but your people lied about it. “Known issue,” but not published."
          ],
          [
           "@AboutTheHouse @TimWilsonMP Given the state of the NBN you'd have to start streaming now to watch it when you turn 65."
          ],
          [
           "@NBN_Australia Needless to say, I am incandescent with rage that an admission like that was withheld to make way for over a month of misleading deflection from @NBN_Australia before it was made. #nbn"
          ],
          [
           "@NickRossTech @TurnbullMalcolm @NBN_Australia @matt_barrie @Aussie_BB Cable customers particularly get shafted on this. I've heard of many a HFC customer getting a solid 100 getting significantly less once that garbage is turned on. \n\nThe slimy grub sold us out, surprise factor is 0."
          ],
          [
           "Today my long-running @NBN_Australia fault got “progress,” in the sense that they acknowledged to my ISP that there is a known fault in my area which is bad enough to cause services to behave like mine but not bad enough to yield the publication of an outage advisory. #nbn"
          ],
          [
           "@Deligracy Mill park :) we got nbn before when it was fibre to fibre, before the government changed it fibre to node!"
          ],
          [
           "@NewtonMark @NBN_Australia Unrelatedly, I did get rather wet though."
          ],
          [
           "@Optus anyone else in Allawah NSW having issues with their Optus internet NBN. We have had nothing but problems for weeks!"
          ],
          [
           "@anthonycr0 Lol, my 4GX speeds are faster than my NBN speeds now. lmao 🤣"
          ],
          [
           "@NBN_Australia how about a tweet or status update for all of the HFC customers in Australia with out internet? Or is that to much to ask?"
          ],
          [
           "@stinhambo @NickRossTech @TurnbullMalcolm @NBN_Australia @matt_barrie @Aussie_BB Yeh, we totally didn't need an FTTP #NBN https://t.co/g9cj0HDEld"
          ],
          [
           "@thornburygrrrl @NBN_Australia I'm in Thornbury and my NBN is down too. Eighteen years of reliable cable Internet and we switch to NBN 2wks ago and nothing but constant dropouts."
          ],
          [
           "Power came back 30 min later but not the internet. Got NBN tech booked to come over tomorrow unless they can remote fix it."
          ],
          [
           "@Loud_Lass I am at the #GoldCoast  #NBN worst Then #ADSL and 20% more expensive  @TurnbullMalcolm  worst Communications Minister ever"
          ],
          [
           "Te liar Par a i again \nabr ble e are derai were li e a Nainal Cnferene were everne rae ie  in are debae lie NBN NDIS  @iberalA ld ae ne f eir failrewae ere #al "
          ],
          [
           "@Optus is there an NBN outage in Victoria 3150? NBN box is cycling through the flashing lights, get top three solid but Online just flashes then it starts again"
          ],
          [
           "@NBN_Australia is NBN down in postcode 6027? Is there a link to see current outages?"
          ],
          [
           "Yay!!!! Labor will fix the liberals stuff up of this horrible slow NBN"
          ],
          [
           "@Loud_Lass We had fantastic cable internet for 17+ years, then we were forced onto the NBN. Now our internet drops out randomly and regularly. NBN = Nonsensical Bloody Nuisance!"
          ],
          [
           "@NickRossTech @TurnbullMalcolm @NBN_Australia @matt_barrie @Aussie_BB I'm getting 0.25mbps on 50/20 FTTN #NBN right now. It's an absolute disgrace."
          ],
          [
           "@wmaster33 @NickRossTech @TurnbullMalcolm @NBN_Australia @matt_barrie @Aussie_BB vote for LNP broadband\nFaster,Cheaper, Sooner"
          ],
          [
           "@ozhomeschool Isn't that a great way to control communications when you feel the \"need\"?  Just switch off the NBN!"
          ],
          [
           "@Deligracy Now that we have NBN, the Internet here in Point Cook/Altona area has been fairly consistent"
          ],
          [
           "@iiNet I'm pissed off. I got a call at 5.20pm AEST about the NBN appointment I have. FROM A PRIVATE NUMBER. I NEVER trust them. I asked details then divulged info. I got another call at 6.07pm and asked details and they said they couldn't divulge. #fishy #NBNFAIL. Wife getting calls too"
          ],
          [
           "32 hours later &amp; the NBN is still down..."
          ],
          [
           "@Kynes3 @deniseshrivell I’ve heard once they declare the NBN “complete” Telstra is obligated to shut down all other internet access. Wonder what happens to the people in the too hard basket then? There’s apparently a startlingly growing number of households in the too hard category."
          ],
          [
           "@LucyCormack Another lying rodent from within recent list of Liberal pm incumbents. He white-anted 21st nation building NBN while 'communications' opposition spokesman. Then mixed it with 20th century infrastructure &amp; service mentalities, to deliver a 'basket case' &amp; soul destroying model."
          ],
          [
           "@Kynes3 @deniseshrivell Nowhere in sight. The NBN site for the last two years has said “we expect to have more information about availability and technology in your area soon”"
          ],
          [
           "Every time I check the @NBN_Australia rollout status for my address it’s delayed further. At the start of the year scheduled for Nov-Dec 2019, now Apr-Jun 2020. \n\nTotal joke."
          ],
          [
           "@Deligracy Once you go cable, it’s so hard to go back to NBN 😭"
          ],
          [
           "@adelsalison @TurnbullMalcolm He continually 'white-anted' the NBN, while the opposition's 'Communications' shadow minister. In government, he dismantled optimum nation building 21st century rollout, &amp; compromised service by using 20th century infrastructure &amp; service mentality. Malcolm's a dud, like his NBN."
          ],
          [
           "@SIGKILL @NewtonMark @NBN_Australia Though my guess is HFC ain't too shabby (though probably at roughly the same cost as prior cable supplier at a lower speed depending on the NBN plan you choose)"
          ],
          [
           "@SIGKILL @NewtonMark @NBN_Australia Note: all this is leading to HFC NBN is your only option regardless of the availability unless you have bugger all data requirements and you're well within the primary lobe of a well-provisioned 4G tower with practically LoS :)"
          ],
          [
           "@NBN_Australia is there an outage guys? Am update@to your paying customers would be appreciated. Living on the 50’s here on a Friday night!"
          ],
          [
           "@Loud_Lass it's great my NBN works about 5 days in seven..... 3 days so slow its unusable...and failed totally during the bushfires ....."
          ],
          [
           "Today I was compelled to move to NBN two hours after the switch I have no internet. How good is our third rate internet thanks for putting Murdoch before the rest of Australia.  @AusLiberalParty @TurnbullMalcolm want to know what really stuffs productivity? Crap infrastructure."
          ],
          [
           "Thats the whole LNP plan flog off the #NBN to whoever will buy it, seeing its a creaking network I doubt anyone would take it on, unless for a cash cow and charging us more for less."
          ],
          [
           "HFC #NBN has been down since 16:30. Not sure if that’s due to the storm though."
          ],
          [
           "NBN and energy veraul a e enre f lbanee enmi i  via @BCNew"
          ],
          [
           "NBN HFC is f8cked, again. #nbn"
          ],
          [
           "NBN is the perfect example of how our political, social and economic system is broken. Politicians promise anything to get elected but we have awful internet because Murdoch wanted to maintain his monopoly and both major parties useless."
          ],
          [
           "@anncasatnq Hi Ann, I'm sorry to hear about your NBN speed issues. If you require further assistance with this, please send us a DM with your address, along with your Optus account number and username as we'll be able to investigate this for you. Jono"
          ],
          [
           "@deniseshrivell Here’s hoping I may actually get the NBN next time around 🙄"
          ],
          [
           "Oh dear the dreaded NBN is finally arriving at my house next Friday wish me luck. I think I am going to need it😬😱"
          ],
          [
           "NBN i anding u fee genea n a fi-ake-fi-ave ai "
          ],
          [
           "NBN and energy veraul a e enre f Albanee enmi i  gHwDXOiYQe"
          ],
          [
           "@MarcTennant @nbn @iiNet The test will be how quickly the NBN can swap out the modem. Did iiNet give a target for restore?"
          ],
          [
           "Never mind, guess we aint streaming today huh?!?\nLove that for me....thanks Telstra + NBN! https://t.co/mYgtMByfFX"
          ],
          [
           "Every part of my body is crossed in the hopes that the NBN is fixed by the time I'm home."
          ],
          [
           "@DavidJay04 @nbn @iiNet we were forced to HFC @iiNet"
          ],
          [
           "@NBN_Australia Jesus the weather changes and the NBN shits itself. We've all been forced to use your service so the least you can do is make sure it FUCKING works!!!! 🤬🤬🤬🤬"
          ],
          [
           "@Colin_J_Potts I thought the nbn was the bees knees when labor thought it up, now less than a few years and it needs replacing"
          ],
          [
           "@Inmaniac @Trish_Rulz What are your nbn speeds like?"
          ],
          [
           "@Heaton_Steven Very sorry to read about the ongoing frustrations trying to have your NBN service connected. This is well below the standard of service that we expect and I sincerely hope that the technician shows as planned this time around. 1/2"
          ],
          [
           "NBN really crap service internet down for 2 days"
          ],
          [
           "@SkyNewsAust @fehowarth @TurnbullMalcolm The giant NBN elephant in the room just took a great big shit on his credibility."
          ],
          [
           "@michaelkoziol @bengrubb @LucyCormack Mm I'm lovin that innovation at my house when my NBN HFC connection struggles to stream Stan. The future!"
          ],
          [
           "@NewtonMark @NBN_Australia Please contact your RSP bullshit bullshit blah blah blah boilerplate response"
          ],
          [
           "@Originaltibbedy @marckean @NickRossTech @TurnbullMalcolm @NBN_Australia @matt_barrie @Aussie_BB It is my understanding that backward compatibility is limited to a version or two.\n\nOne of the big delays in Telstra going to DOCSIS3 was apparently because they had old kit (theirs and customers) still on the network."
          ],
          [
           "@NBN_Australia But to be honest this isn’t a stab at NBN. I appreciate it’s a difficult project. Just that Malcolm Turnbull said in a talk today that people won’t pay a premium price. Which isn’t the case for businesses."
          ],
          [
           "@NBN_Australia over an hour ago there was a power outage in Mosman, Sydney and nbn still hasn't come back online even though the power has. What's the issue?"
          ],
          [
           "@BelongAU You are the worst company ever I’ve dealt with and I don’t recommend you to anyone of my friends so belong Australia they are the worst broadband and NBN service"
          ],
          [
           "@HalTurner9 You big spenders will get FTTP NBN and a roundabout . Don’t forget the GST on your $9.60 is 96cents."
          ],
          [
           "@NewtonMark @NBN_Australia Huh I see. Hopefully my box will still be connected when (if) I make it home through this current apocalypse... https://t.co/jzHNJ1uaC7"
          ],
          [
           "If you are in Oz there are a number of robocall scams happening right now. One claims to be NBN and threatens to cut you off your Internet. The other says they are from your anti virus service and they have debited your account $249 asking you to call back on 61 1300907721. Scams"
          ],
          [
           "@iamhurtin Hi @iamhurtin,\n\nI understand your concern regarding privacy.\n\nWe supply pre-configured modems for our NBN services hence, there won't be a need to log in to the router/modem.\n\nThe WiFi name and password can be found on the sticker at the bottom or back of the modem/ router. -Mae"
          ],
          [
           "Does anyone else think of @TurnbullMalcolm every time the NBN does NBN things? #legacy"
          ],
          [
           "@matt_barrie Good interview. Particularly like the NBN discussion. Shame FTTP was not rolled out but hindsight a wonderful thing."
          ],
          [
           "@newscomauHQ NBN is already a dinosaur thanks to Turnbull!"
          ],
          [
           "@llebkered @smh @TurnbullMalcolm @ScottMorrisonMP @LucyCormack Labor’s NBN may have been viable in small European countries with large compressed populations. For Australia it was complete madness."
          ],
          [
           "@TurnbullMalcolm how about your replace your fibre to the premises with fibre to the node crap then talk about how “great” the nbn is"
          ],
          [
           "@WeathermanABC Grahame, there are RED BITS. You never said we’d be getting a storm with red bits 😉 We lost power for a few seconds and the NBN went down."
          ],
          [
           "@RossCameron4 The NBN crashes after a blackout, and takes 5 days to fix!"
          ],
          [
           "@NBN_Australia Why would i care about the rest of Australia when one tiny portion of my entire suburb (and surrounding suburbs) has had NBN for over 3 years already and we don’t!  You need better planners."
          ],
          [
           "Power outage in the area.\n\nNo problem. Do stuff until it's back online.\n\nOutage blew up the filesystem on my battlestation.\n\nNo problem. Got contingencies. Back online fully in &lt;20min. Restored to last reboot.\n\nOutage also knocked out ISP...\n\n(╯°□°)╯︵ ┻━┻  Fucking NBN"
          ],
          [
           "@joshgnosis Textures take a while to download on NBN"
          ],
          [
           "@Anthony_Klan @LucyCormack Unpopular opinion because it's not backed by evidence or lived experience of too many NBN users"
          ],
          [
           "@Telstra How dare you via one of your outsourced providers deliver to our home a new NBN modem that we did not order or request. You had no right! When it comes to the NBN we are taking our time working through what is best for us, not you. Disgusted by this tactic."
          ],
          [
           "@Optus I contacted you a week ago and booked to have a technician install the NBN box at my new house. When I contacted you today to check where the technician was I was told that my appointment had been cancelled with now warning, and that I would need to make a new booking."
          ],
          [
           "@iiNet I don't know why it's a modem issue if the laptop directly connected to NBN box gets no connection. You have offered a loan modem which doesn't help. I will call back on agreed time and ask for service to be cancelled even though you guts have not yet been able to provide it."
          ],
          [
           "@iiNet Ok they called just now when I said later this afternoon. Then they have said it's my modem which doesn't  sense. I have tested modem on another NBN box with iiNet and it works, so not modem. I also plugged laptop to NBN box and no internet connection."
          ],
          [
           "NBN and energy veraul a e enre f Albanee enmi i "
          ],
          [
           "@Telstra I have already reported it. That's why we are looking at other providers for the NBN"
          ],
          [
           "@NBN_Australia @Sir_Thomas_Wynn We're sorry to hear this.... OMG!!!  Putrid service no mtter the provier.  I resisted with @Optus until last month and since then the NBN has not worked more than it's worked.  It's the worst service in Australian history .. Pathetic"
          ],
          [
           "NBN an energy veraul a e enre f Albanee enm   va @ABCNew"
          ],
          [
           "@alan_john_moran I was having a good day until you mentioned the NBN"
          ],
          [
           "@NBN_Australia Yes well to do their simple tests 3 times a day I have to find someone to look after my disabled daughter who relies on wifi devices.which is why I get aggravated when the speed is so slow. When I signed up for nbn I explained said need for good wifi speed and told it was"
          ],
          [
           "can NBN hurry up and give me the ability to stream. would legit be so crazy, would stream every single event and whatever dont care. just wanna do more for u guys"
          ],
          [
           "@NBN_Australia Is there currently a statewide outage in Victoria?"
          ],
          [
           "@Thekunac BWAHAHAHAHAHAHAHAHAHA telstra is building the nbn with the liberal government and its blown out by over 28 billion on liberals watch and Australia has fallen to 61st on internet speed performance 😂😂😂"
          ],
          [
           "NBN ad eery veraul a e ere  Alaee emi i  TJx569"
          ],
          [
           "@NBN_Australia This is ironic considering my NBN has been down for over 27 hours!"
          ],
          [
           "@Lifetimeban99 The boats coming it cost the country 16 billion, NBN Telstra could have built it a lot cheaper and cost the tax payer nothing a disaster started by the socialist labor."
          ],
          [
           "@LegacyKillaHD The thing is, Australians are fucked with their internet because our Government has no freaking clue. We still have houses connected via fiber cable. Some parts still don't have NBN and most that do either have no service or dramatically slower speeds during traffic hours."
          ],
          [
           "@NBN_Australia  When are HFC services back up? I have so many flaps, I’m almost off the ground like a bird!!!!"
          ],
          [
           "@michaelkoziol @LucyCormack Remind me what innovation Truffles is responsible for.  Or is he talking about his enthusiastic trashing of the NBN such that it is now held up as the standard of how not to roll out a state owned broadband service?"
          ],
          [
           "@llebkered @smh @TurnbullMalcolm @ScottMorrisonMP @LucyCormack Oh ... pray tell how NBN would make more money with fibre to node. Oh ... I know ... more pirating of movies!?"
          ],
          [
           "They're finally starting work for installing the NBN on my street! 🥳"
          ],
          [
           "@7NewsSydney So with predicted blackouts, thanks to the Greens and their leader Dum Dum Dan, then can also expect the NBN to crash each time. And it takes  NBN to fix each crash 5 days!"
          ],
          [
           "@NBN_Australia hi!\nThe NBN has been down at my place since around 7pm yesterday.\nContacted my internet provider and was told there was nothing they could do.\nWondering if there is an estimated time this would be fixed?"
          ],
          [
           "I don’t want to brag but the NBN worked for almost 3 full days before we had our first outage."
          ],
          [
           "@smh @TurnbullMalcolm @ScottMorrisonMP @LucyCormack Was @TurnbullMalcolm enthusiasm for tech before or after he decided to shaft the country on NBN to appease his overlord and master Rupert Murdoch. Enquiring minds really want to know..."
          ],
          [
           "@_skyleree If you are still having issues with your service, we'd recommend speaking with your provider so that they can run testing. If there is a fault, they will report it to the nbn teams. Let us know how you go. ^Audrina 2/2"
          ],
          [
           "@NBN_Australia I'm guessing it's what ever is used for a lookup on the address to set a flag in their backend. Not really sure, we had issues with an ISP years ago, called up NBN they gave us the code that correlated to our address I guess to give to our ISP (who at the time was claiming it'd -"
          ],
          [
           "@D_Keating The people I know at NBN solved that problem by just not telling people they work at NBN 😂"
          ],
          [
           "@Politics_SMHAGE @TurnbullMalcolm @ScottMorrisonMP @LucyCormack Says man who destroyed NBN...the irony is too much for my brain. The Mad Monk must be having a good laugh...#auspol"
          ],
          [
           "And the wireless phone they give you to replace your old copper wire network phones will not work when there is no NBN and the NBN does not work when the power is off as there is no NBN modem working! The old phones worked regardless."
          ],
          [
           "@smh @TurnbullMalcolm @ScottMorrisonMP @LucyCormack I wish my NBN connection had the background and enthusiasm of the 61 countries it’s behind"
          ],
          [
           "@smh @TurnbullMalcolm @ScottMorrisonMP @LucyCormack Like his \"innovative\" NBN where they bought thousands of kilometres of copper?"
          ],
          [
           "I'm getting around 5 8's of uptime. (Monitoring from Smokeping). Only since I was forced off cable onto NBN :( https://t.co/Hj6rtWBR8C"
          ],
          [
           "@Ves_Tod How's his NBN going?"
          ],
          [
           "@LucyCormack ‘Not fucking up the NBN’ is the closest thing mal would have to a legacy so he’s really gotta try and sell it"
          ],
          [
           "@___Madonna___ @percapita @AlboMP Labor didn't even bother to rubbish THE LNP last election over the failed NBN. Instead they went on a tirade of being nice."
          ],
          [
           "Behold a fucking miracle!! \nWorkers actually working on getting the @NBN_Australia installed in Gymea! Love how every time I check the rollout it is delayed. #miracle #nbn https://t.co/7yAbUeL10f"
          ],
          [
           "@NickRossTech @TurnbullMalcolm @NBN_Australia @matt_barrie @Aussie_BB And those speeds are alot faster than  70% of people on nbn...."
          ],
          [
           "@DDsD Hell I'm literally on the best nbn can provide for consumers and for me its still no good enough long term in the upload department"
          ],
          [
           "So here's the rundown of the latest @NBN_Australia saga.\nMy house is connected to the pole across the street (26m), the pole is 25m away from the closest node.\nAccording to connection distance test my house is 1k away from the closest node.\nI'd like this fixed."
          ],
          [
           "Feel like lack of updates or customer service. NBN has advised issue with authorization on connections which ISP needs to look at. I call iiNet and they couldn't help and wouldn't pass me to a manager to discuss. Getting a month Bill but no service yet."
          ],
          [
           "@iiNet we have moved to a new unit a month ago and iiNet still can't setup connection. I have called multiple times for days with made to do the same trouble shooting and given no updates. Have to call up for an update. NBN have come out confirmed nothing wrong with box."
          ],
          [
           "@Chomskyter @NickRossTech @TurnbullMalcolm @NBN_Australia @matt_barrie @Aussie_BB Yep it is. We lost the @NBN_Australia lottery"
          ],
          [
           "Hey @NBN_Australia , your technicians really pride themselves with good quality of repair work. Take a look at how beautiful the fibre is dangling outside my house, and gracefully swaying with the wind, instead of being housed in the white conduit just like previously. #nbn #FTTP https://t.co/AEoXgzq2ei"
          ],
          [
           "@skatsa @NickRossTech @TurnbullMalcolm @NBN_Australia @matt_barrie @Aussie_BB Btw why didn't you stick with Optus?"
          ],
          [
           "@skatsa @NickRossTech @TurnbullMalcolm @NBN_Australia @matt_barrie @Aussie_BB But upload speeds should still be far better than Optus if that's any consolation."
          ],
          [
           "It's looking like gardening weather this weekend, but just make sure you're not digging into something you shouldn't be, like a water pipe, gas pipe or an NBN cable. That can become a costly and even dangerous exercise.\n\n#gardening  #landscaping #safety #dialbeforeyoudig https://t.co/yu0vvRdLTB"
          ],
          [
           "@skatsa @NickRossTech @TurnbullMalcolm @NBN_Australia @matt_barrie @Aussie_BB Oops, my bad. NBN dumped it's plan to buy the Optus network. That totally sucks."
          ],
          [
           "@skatsa @NickRossTech @TurnbullMalcolm @NBN_Australia @matt_barrie @Aussie_BB It's the same network. NBN took over Optus hfc."
          ],
          [
           "@Steve_Pinel And yet ... it’s a public good worth funding.\n\nLike highways, the NBN is not a project that needs to be directly profitable."
          ],
          [
           "@gbx500 Sorry to hear that you're experiencing issues with your NBN service. Let us have your customer details via DM. We'd like to have a look as to what is causing the problem and how to improve your connection performance. -Charm"
          ],
          [
           "@Lachlanbrook10 Luckily I've got NBN full fibre, I have no problem with this."
          ],
          [
           "@MadMax_0_1984 @NickRossTech @GrogsGamut @TurnbullMalcolm @NBN_Australia @matt_barrie @Aussie_BB The real NBN is great, FTTP 100mbps, works well, zero dropouts because of water in the pits. Upgradeable easily to 1gbps and beyond. I'm looking forward to Starlink more than 5G."
          ],
          [
           "@fount8 @AppleSupport Yes but other devices had internet at the same time. Do you think it’s because sometimes the NBN can’t handle multiple devices at the same time?"
          ],
          [
           "@Zvyozdochka He's backflipping on the NBN apparently, going full fibre"
          ],
          [
           "@sleepingdingo @AppleSupport You can have WiFi without internet - the WiFi only connects you to the modem, if that is off line you still have WiFi but no internet. Not an uncommon experience for me now that I’ve gone NBN."
          ],
          [
           "@LucyCormack @joshgnosis Pity the media won’t ask him why he sabotaged the NBN. The idea that you would build fiber infrastructure up to the street and then utilize copper to the premises is......ask him. I dare you"
          ],
          [
           "Hi @TurnbullMalcolm - you miscalculate the level of frustration with internet speeds in Australia. I along with many others pay a huge premium to get decent internet as @NBN_Australia is currently below par in my suburban area. #startcon #startcon2019 - Your assumption is wrong."
          ],
          [
           "@LucyCormack Well he is talking bullshit. He always talks bullshit when it comes to the NBN."
          ],
          [
           "@alexkidman \"Who here has the NBN?\" https://t.co/V9cZEcXhzL"
          ],
          [
           "@MichelleKHarper Dogs. Wine. Cheese. What’s not to like? #IloveIt #NiceWork \n\nBTW, still no internet, 3 no show appointments by NBN techs so far, 4th one lined up for November 29. Now, where’d I put that wine? 😉"
          ],
          [
           "@karenabarrett74 Cheers, Karen. This is for which type of NBN service? (fibre to the premises, fibre to the node, HFC etc.) I'm happy to take a closer look on this side if you could pop us a reference or invoice number to assist with locating the account 🙂 - Liz"
          ],
          [
           "@NickRossTech @TurnbullMalcolm @NBN_Australia @matt_barrie @Aussie_BB With NBN when it connected to area had 2 years to switch.\n\nHave had to cancel a few appointments. First one they sent someone who could not fit under the house to install the lines. The second time family in hospital. Third time they said a Saturday, when I am a ref 1/2"
          ],
          [
           "@iiNet Many thanks Liz - we have NBN - dropping in and out consistently for the past 24 hours..."
          ],
          [
           "@Chomskyter @scottyhau @NickRossTech @jendudley @TurnbullMalcolm @NBN_Australia @matt_barrie @Aussie_BB When are they launching it? and can anyone on the NBN get this speed? Or restricted to just certain locations etc?"
          ],
          [
           "In australia nbn colluding with the government\nas a monopoly blackmails existing customers\nto pay for the same service with less speed for more\nmonthly cost for same internet usage"
          ],
          [
           "Just want NBN so I can start having a crack at streaming.... supposedly next week it’s comin into my area... will be nice to step out of the Stone Age and into normal life like everyone else 😂"
          ],
          [
           "@nobby15 Why do I have the feeling that this man and his incompetent government is hell bent on doing as much damage as possible while in power. I sit here at a computer that barely responds because of the crappy NBN and watch the destruction of our country in so many ways. It has to end."
          ],
          [
           "@DagogetaTv @ParkerPLLewiz @GeeStatus2 @ItsHazeZeus @PINNACLE127 @trelopes777 @MrTrillmatic @Critt_oh @KoriTheCfcRasta For NBN I'm going with 1,2,3 with Apache as their hardest"
          ],
          [
           "@TrishKurralinga @NickRossTech @TurnbullMalcolm @NBN_Australia @matt_barrie @Aussie_BB #FibreToThePremises \n\nTurnbull's #NBN has been an obstruction for small - medium business.\nHow much productivity has been lost?"
          ],
          [
           "As our \"landline\" phone has never worked properly, since being forced onto NBN, our mobile phones are our only working phones... usually. So let's hope you sort it out soon @Telstra , I'm just thankful we weren't cut off on Wednesday during the catastrophic fire day."
          ],
          [
           "Having a bad week with appliances. First, my NBN modem dies, now my living room TV dies. There's a plot afoot to take me back to the 19th Century. #FirstWorldProblems"
          ],
          [
           "@NickRossTech @TurnbullMalcolm @NBN_Australia @matt_barrie @Aussie_BB at least you have something better than ADSL - we can barely stream anymore with 4 adult gamers living in the house. Can't get 5G either :/ https://t.co/QkJMZUiXSB"
          ],
          [
           "@fictillius @NewtonMark @NBN_Australia Any critical external service should include a readily available alternate path for delivery. This is the core of why NBN selling product framed as ‘business grade’ is an oxymoron, by design it can only ever be a part of the solution."
          ],
          [
           "@AndrewAQLD @NickRossTech @MadMax_0_1984 @TurnbullMalcolm @NBN_Australia @matt_barrie @Aussie_BB I wanted a full fibre networkb and then some idiot like you decided you didn't want to pay for 1st class connectivity for a better future Australia and ruined it by voting the LNP in due to your own greed."
          ],
          [
           "@R_Chirgwin They wanted it to fail. Forever the debate about government pursuing large nation building projects will be stifled by 'look at the NBN, government just can't do these things'."
          ],
          [
           "@marckean @NickRossTech @TurnbullMalcolm @NBN_Australia @matt_barrie @Aussie_BB Your upstream speed will be substantially improved over the ~2.5Mbps you had with Telstra.\n\nDoes that substantial increase in upstream capability bring about part of the drop in downstream?"
          ],
          [
           "@LordSedgwick @AmyRemeikis We should just be grateful that Abbott and his bunch were  too incompetent to actually achieve anything (aside from destroying the NBN). Morrison, unfortunately, seems to have better aptitude and that is why we are so screwed"
          ],
          [
           "@deancollins @scottyhau @NickRossTech @jendudley @TurnbullMalcolm @NBN_Australia @matt_barrie @Aussie_BB NBN is also bringing in 1000/50 HFC."
          ],
          [
           "@NickRossTech @TurnbullMalcolm @NBN_Australia @matt_barrie @Aussie_BB Yep, my Optus cable gets downgraded to NBN copper on Monday... RIP 100mbs"
          ],
          [
           "@SphagnumPI @gailqb @welshraisedbog @BBSbryology But when I look at the NBN it appears not to occur at Cors Caron. If it is it then there doesn't appear to be much on the NE and SE bog at least"
          ],
          [
           "@NickRossTech @AndrewColley @NBN_Australia I'm late to the thread but just for interest was there a previous HFC presentation in the premises? Aerial or underground lead-in?"
          ],
          [
           "@NickRossTech @TurnbullMalcolm @NBN_Australia @matt_barrie @Aussie_BB Did you have Optus coax before? If so you weren't getting 38Mbps upload."
          ],
          [
           "@NickRossTech @TurnbullMalcolm @NBN_Australia @matt_barrie @Aussie_BB I had the apparently BAD hfc of Optus cable - but still achieved 100 Mbps. Now my speeds are 50% slower at 48Mbps. I just don’t understand how in 2019/2020 we can be going BACKWARDS. BACKWARDS. Thanks FttNasty."
          ],
          [
           "@NBN_Australia @thornburygrrrl Morning. I take your point but provider is saying theres NO outage. Unfortunately the outage is at NBN end (as per NBN tech 4pm yesterday in my house). NBN must have vision over that?"
          ],
          [
           "Finally getting a better internet connection next week, woo. Goodbye ADSL2.\n\n...well, at least it'll be a less-shitty internet connection, it's still NBN."
          ],
          [
           "@NickRossTech @RoyceWilsonAU @TurnbullMalcolm @NBN_Australia @matt_barrie @Aussie_BB Looks like you didn't win the lottery and get FTTP"
          ],
          [
           "@Telstra it's nearly 6am, and my nbn, for which l pay $89 a month, has been off for over six hours. Why?"
          ],
          [
           "Yeeray, i a e ir eam Tay, i e en eam Remember bak  me f e be layer  grae a llege ur e la 10 year a NBN releae i all eae qua  2PCOFYe"
          ],
          [
           "Thankful thoughts from an employee at NBN!\nTo celebrate Thanksgiving, we asked our staff to write a note about what they are thankful for and submit it to be posted .\n\nWhat are you thankful for?\n\n#thanksgiving  #thankful  #thankfulthursday #thankfulgratefulblessed https://t.co/rF0drKi1pn"
          ],
          [
           "@Telstra Im guessing that the outage around williams landing is the reason my nbn box keeps making a clicking sound."
          ],
          [
           "@JackPosobiec I agree. My faith in nbn the justice system is all but gone."
          ],
          [
           "Aussie Broadband $50 off first month! \nReferral code: 2196434 #NBN #broadband #internet #discount #credit #deal #saving #code #referral #reliable #customerservice #passion #it #aussie #aussiebroadband #mate #connect #join"
          ],
          [
           "@NickRossTech @MadMax_0_1984 @TurnbullMalcolm @NBN_Australia @matt_barrie @Aussie_BB So you did want the government to create the NBN. Glad you finally admit it. \n\nWell, see, this is what you get. Don't be so disappointed."
          ],
          [
           "@NBN_Australia my nbn is down !!!! i dont like this"
          ],
          [
           "@NickRossTech @DrofroP @TurnbullMalcolm @NBN_Australia @matt_barrie @Aussie_BB Mmm. Are you saying that the telcos are using nbn fibre to backbone their 5G networks? That’s not the case. Happy to tell you how it works. DM me."
          ],
          [
           "@NickRossTech @TurnbullMalcolm @NBN_Australia @matt_barrie @Aussie_BB Can they not upgrade over that HFC to 1gb speeds"
          ],
          [
           "@NickRossTech @MadMax_0_1984 @TurnbullMalcolm @NBN_Australia @matt_barrie @Aussie_BB @Telstra Under Labor you wldve still been waiting."
          ],
          [
           "@bigjsl @NickRossTech @NBN_Australia I swear one could paid a contractor to complete required works within an hour. Even Telstra provided better install timeframes than this!"
          ],
          [
           "@NickRossTech @MadMax_0_1984 @TurnbullMalcolm @NBN_Australia @matt_barrie @Aussie_BB You never wanted an NBN?"
          ],
          [
           "Had to get a new WiFi router for NBN access so now I need to name it... what do we think of these?"
          ],
          [
           "@NickRossTech @TurnbullMalcolm @NBN_Australia @matt_barrie @Aussie_BB Telstra cable  had for 10 or so years!!! https://t.co/0yPZr92Ij9"
          ],
          [
           "@AlanShore51 @NickRossTech @TurnbullMalcolm @NBN_Australia @matt_barrie @Aussie_BB Why would you bother with crappy NBN, tried it and binned it as I’m 1200m from my node severely limiting its capability to deliver adequate internet speeds in today’s modern house, no way they’re getting my money in the future. Installed @Optus 5g instead, bit of a difference... https://t.co/zLq8Qr7xNJ"
          ],
          [
           "@NickRossTech @MadMax_0_1984 @TurnbullMalcolm @NBN_Australia @matt_barrie @Aussie_BB So why did you get it. A tech guy thought his cable was worse than NBN. They're the same you wally. If it's cable."
          ],
          [
           "@Idealaw @NickRossTech @kcarruthers @TurnbullMalcolm @NBN_Australia @matt_barrie @Aussie_BB 2 km from Brisbane CBD, no NBN."
          ],
          [
           "@NickRossTech @TurnbullMalcolm @NBN_Australia @matt_barrie @Aussie_BB Had the exact same problem today. 🐢🐢🐢. The NBN is such a massive fail"
          ],
          [
           "@NickRossTech @jaraparilla @TurnbullMalcolm @NBN_Australia @matt_barrie @Aussie_BB You're a hero of mine Nick but in this instance I disagree. I don't think the obliviousness that someone has about their actions should be reason to absolve them, or not blame them from their actions. #Abbott is totally responsible for the #NBN debacle"
          ],
          [
           "@AntB77 @NickRossTech @TurnbullMalcolm @NBN_Australia @matt_barrie @Aussie_BB The NBN website will let you know when your suburb gets a cutoff date. Mine still hasn’t received a deadline so I assume we’ve got a few trouble spots 🤷🏼‍♀️"
          ],
          [
           "@jendudley @NickRossTech @TurnbullMalcolm @NBN_Australia @matt_barrie @Aussie_BB Thanks only had nbn in my area for a couple months. So I should have some time before my download speed gets nerfed"
          ],
          [
           "@NickRossTech @TurnbullMalcolm @NBN_Australia @matt_barrie @Aussie_BB That is fast. We had 0.1mbps when we signed up with NBN."
          ],
          [
           "@jaraparilla @NickRossTech @TurnbullMalcolm @NBN_Australia @matt_barrie @Aussie_BB It would have to include #Abbott. He was the PM who directed #Turnbull to destroy #Labor #FTTP for their useless #MultiModeNBN #FTTN #auspol #LNPfail"
          ],
          [
           "@Polysymptomatic @sacarlin48 @NickRossTech @MarkPlackett1 @TurnbullMalcolm @NBN_Australia @matt_barrie @Aussie_BB So much to thank Tony Abbott &amp; the LNP for! #NBN #auspol"
          ],
          [
           "gotta wait till fuckimg friday for someone to come fix the nbn box just great"
          ],
          [
           "@tuihicks @NBN_Australia Very frustrating. You call the Service provider and they blame NBN, you call the NBN and they say contact your service provider..."
          ],
          [
           "@minkelCT @Vic_Rollison Before Turnbull became PM he was a good human I thought. Heard him speak a couple of times about all the fantastic things that could be done in Australia. But he changed his NBN idea, stuff up climate change and his ideas on same sex marriage all got too hard!"
          ],
          [
           "Does anyone at the @NBN_Australia know what’s going on with the rollout? Even though are whole area is connected, our expected date of connection keeps getting pushed back. Was January 2020, but latest update is June 2020. 🤔\n\n#nbn https://t.co/27qCHrb7yU"
          ],
          [
           "@Telstra Rockingham W.A. 6168 NBN internet is out since 10:40am today &amp; still ongoing. No outage yet clearly there is one. Plz just fix it plz!"
          ],
          [
           "@NickRossTech @MarkPlackett1 @Polysymptomatic @TurnbullMalcolm @NBN_Australia @matt_barrie Hmm that a little odd as with having HFC you should be getting almost spot on with your plan.. Have you contact our team yet? Ideally if you have our app you can look at raising a fault there for one of our team members to investigate and you can also run your own testing there"
          ],
          [
           "@rob0r @TurnbullMalcolm @NBN_Australia @matt_barrie @Aussie_BB I'm not far below their stated expected average speeds. I knew what I was signing up for. Even the current @NBN_Australia TV ad witters on about something to do with busy evening times. #nbn"
          ],
          [
           "I was absolutely powering through my next assignment which is a big boy.I was in the ZONE and then the internet stopped working.\nI was on \"live chat\" for 40 mins because the don't to calls? To be told its the NBN and there's nothing they can do.\nSo frustrating!"
          ],
          [
           "@tashhelena Due to the severe heat in Victoria, there are some outages in your area that may affect NBN and mobile services. Our techs are monitoring this and we'd recommend a full modem reset. Apologies for any inconvenience caused in the meantime. Sarah"
          ],
          [
           "@MarkPlackett1 @Polysymptomatic @TurnbullMalcolm @NBN_Australia @matt_barrie @Aussie_BB Now that I think of it, the front of that has both @NBN_Australia 's haemorrhoids logo plus the word 'arris on it. *snart* #nbn #justcockneythings"
          ],
          [
           "@NickRossTech @TurnbullMalcolm @NBN_Australia @matt_barrie @Aussie_BB Raise a support ticket with your ISP @Aussie_BB"
          ],
          [
           "@bswagspeare I was just thinking the other day.\n\nIt's time to privatise the NBN."
          ],
          [
           "@rlsteelau @debnuts2019 @DanielAndrewsMP Stupid thing is it happens all the time out here and nothing changes. What's worse? Power goes out knocking out nbn so no elderly can call in an emergency! Mobile? Sorry can't have that either."
          ],
          [
           "By the next election the LNP will have opened all these new coal mines to find the rest of the world doesn't want to buy it. A giant clusterfuck like the NBN only worse. Everything they touch ends the same way #auspol"
          ],
          [
           "@NickRossTech @jendudley @TurnbullMalcolm @NBN_Australia @matt_barrie @Aussie_BB Are you on HFC?"
          ],
          [
           "@NBN_Australia Four days without HFC. What are you people doing???"
          ],
          [
           "@cricketcomau Cricket Australia 🇦🇺 uploads highlights/clips faster than NBN 😜"
          ],
          [
           "@NickRossTech @NBN_Australia My mistake: I didn't make myself clear enough. My starting point is that regardless of NBN's failings, we should now be able to see some of its benefits coming onstream - maybe telehealth, maybe something else, but in more than just demo volumes. What's the best example?"
          ],
          [
           "@LJPatton @NickRossTech @TurnbullMalcolm @NBN_Australia @matt_barrie @Aussie_BB No NBN here, It's ADSL and it sucks"
          ],
          [
           "@NBN_Australia Chermside QLD - My internet has been dropping in and out since august and now off for a week.  Telstra have finally booked an nbn Technician to come out on Monday! They better turn up as I’m taking time off work."
          ],
          [
           "@NickRossTech @MarkPlackett1 @TurnbullMalcolm @NBN_Australia @matt_barrie @Aussie_BB People do not understand how different digital entrepreneurship would be today had we gone full-fibre.\nThere are entire sectors of the global digital economy we cannot participate in due to the homonculous version of NBN we have."
          ],
          [
           "A pox on the house of the Australian NBN.  This substandard excuse for internet service is pathetic."
          ],
          [
           "@Aussie_BB Hi, internet service has been out all day at Yarraville 3013 area, I think it may be nbn but am unsure, do you have any information you can pass on as there’s nothing on my Aussie for the area and nbn website is unclear, thanks"
          ],
          [
           "@NickRossTech @CntrlPimpernel @TurnbullMalcolm @NBN_Australia @matt_barrie @Aussie_BB 67.8 is double what we're getting on NBN in North Melbourne."
          ],
          [
           "Hey guys! Quick little update! With any luck, I’ll be moving into a place with a friend early next month! The place will have nbn so hopefully it won’t be too much longer before I can stream again!!"
          ],
          [
           "NBN is down so I’m gonna save my phone data &amp; resist the urge to argue with morons tonight. Have a good evening/day/night, folks."
          ],
          [
           "@MySocialMedia6 @DrCraigEmerson Kev's an ideas Man; 2 much 2 quick. All his ideas were good 4 Australia but execution was 2 ambitious &amp; unrealistic.The Legislative legacy is awesome.Worked on incarnation 1 of NBN. I explained perspective is everything when fuelling a new decentralised digital economic paradigm"
          ],
          [
           "Of ur,  #LNP av mimanagd vrying y av ud #nn #NDIS #Nwar #Rd Hav  ,  i i ding my ad in #au #LNPfai "
          ],
          [
           "@bollgare @Juzira @ScottMorrisonMP The vast interior has largely been ignored for NBN. Selling it through private retailers has meant a focus on the more densely populated areas."
          ],
          [
           "@DogGunn @vishandchips @JulianneClarkey Again, the reason why people complain is because an upgrade needs to be made at all just so that the network isn't anymore at at its already obsolete level.\n\nThe NBN was supposed to be the successor to cable without a required upgrade."
          ],
          [
           "@NickRossTech @TurnbullMalcolm @NBN_Australia @matt_barrie @Aussie_BB this is so slow ! my FTTN is faster LOL"
          ],
          [
           "I thought I might get a whole day without an @NBN_Australia outage, and then … #nbn https://t.co/0Sail9sYJk"
          ],
          [
           "@mishyloan @fredanurks @Kynes3 Better than I’m getting on NBN HFC connected 9 weeks ago. It’s all still shithouse though."
          ],
          [
           "@NickRossTech @TurnbullMalcolm @matt_barrie Sounds like a WOFTAM to me.... much like the NBN..."
          ],
          [
           "@NickRossTech @TurnbullMalcolm @NBN_Australia @matt_barrie @Aussie_BB And in a decade will it slow like ADSL did from 15mbps to 1mbps"
          ],
          [
           "@TPG_Telecom @NBN_Australia Where is my NBN CONNECTION AGAIN!!!! Every F!!! Week i DM your account and now AGAIN and AGAIN!!!"
          ],
          [
           "  all  liial ai in  UK a gunning f FTTP llu vn  Lial Dma #nn"
          ],
          [
           "@Melbourne_Mum Hi there, I'm sorry to hear about your experience with your NBN install. If you require further assistance, please send us a DM and we'll be able to investigate this further for you. Jono"
          ],
          [
           "@Optus NBN isn’t working in St Albans 3021?? So frustrated!! When is the issue can be fix?"
          ],
          [
           "@ConkyOCE pentanet is better then nbn apparently"
          ],
          [
           "@Sandrew_0 @AlanShore51 @NBN_Australia Wasn't it all Labor's fault?"
          ],
          [
           "@AmandaPerram @travellingpeas Yes @TurnbullMalcolm WTF happened to your supposed brain? Let alone that much- vaunted integrity. This rivals your NBN crime for depravity."
          ],
          [
           "Under Labr I wa funded Under Labr I wa ging aead Under Labr I wa bullerf fuurerf And w deryed e NBN? Mal and e LNP And wy? Well all rad lead  Murd dn’ ey? "
          ],
          [
           "Yesterday my laptop messed with my and today the NBN was down all day and my mobile phone is on the fritz. \n\nTechnology is doin me a heckin bamboozle rn."
          ],
          [
           "I really can't wait until I have 5G coverage so a can shove the NBN where it belongs.  Sick of dealing with ISP technical support."
          ],
          [
           "@TheFlowerDragon We apologise for any inconvenience that this may cause. Our faults team will continue to monitor for any further updates from NBN regarding this issue - Chris"
          ],
          [
           "@thornburygrrrl Sadly, we don’t have access to view outages as this is solely handled via your service provider.  If they require further assistance, your provider has direct access to our nbn support team who can advise of any updates relating to a disruption with your service. ^Lisa"
          ],
          [
           "Yo people of the north...anyone else’s NBN down in Thornbury area? #thornbury #northcote #preston #nbn"
          ],
          [
           "After 6mths of aggro with NBN, I'm finally connected... again.\nLets see if theres been any improvement... \nEmphasis... IF...\nWish me luck friends. May the interwebs be with me.\n\nIf its been a success... cOnTeNt"
          ],
          [
           "Okay, NBN connection is back up."
          ],
          [
           "@NBN_Australia will be some time December 2022. I understand \"issues\" arise but seriously !!! ... I am located 2.5 km from Sydney, and just happen to be on the outer edge of the Newtown exchange boundary. And the adsl conection is rubbish, and is getting worse and worse"
          ],
          [
           "My NBN is as bad as Pakistan’s batting collapse after lunch"
          ],
          [
           "@iiNet hi have an nbn connection booked for 26/11 via iiNet.Presume that the modem and any other hardware needs to be received at my house before the installation can take place?"
          ],
          [
           "@JoshYEG @crimson49er Almost! But also...NBN needs some love? Whats a good 17 influence NBN these days?"
          ],
          [
           "@Telstra Nothing comes up for my area.. then explain why my nbn gets turn off suddenly https://t.co/xUk3jqYGDZ"
          ],
          [
           "Like he's more grounded and clued in than online Yangbros, that's not the limiting factor. But for example I once tried to sell him on NBN and made tiny headway but that's playing on easy.\n\nOn climate he is at \"real but the left/greens are daft and their ideas won't go anywhere\"."
          ],
          [
           "NBN seems to be out for the area. A local friend on a different RSP is out also."
          ],
          [
           "Telra faled  ek eed f 80,000 ugraded NBN nnen Ddn mee blgan f 207 underakng  3qTZeqSuL"
          ],
          [
           "@_k3tan @NBN_Australia @Optus The one thing I really like about the NBN is it provides a real world comparison of a government monopoly provided service VS a free market providing the same service"
          ],
          [
           "@morganjaffit Surely the sound of epic, speedy downloads through the NBN?"
          ],
          [
           "@NBN_Australia my provider lodged an NBN fault on my behalf yesterday. 24 hours later, still no internet or follow up. They’ve said there’s an NBN outage, what’s happening?"
          ],
          [
           "@NBN_Australia @3AW693 @pm_live please b careful of NBN. technicians who turn up to fix issues they then demand you pay them cash for private tasks."
          ],
          [
           "The NBN is now driving me to breaking point now."
          ],
          [
           "@GrayConnolly I have to use mobile data most of the time which allows me only 50GB a month. Wanting to upgrade my mobile data which is better than the NBN"
          ],
          [
           "@NBN_Australia It is a nightmare and I want to go on @ACurrentAffair9 or @theprojecttv to tell Australia all about the NBN nightmare. In the meantime, I will boycott the NBN"
          ],
          [
           "@Optus hey guys, NBN internet is out in glen Waverley, fix it please"
          ],
          [
           "My NBN is completely down in Bull Creek all morning since 8:30am this morning. Optus said there is a line issue at my premises but it’s completely down. It’s an ongoing issue with no fix at all. This is the only service I can get  @GrayConnolly"
          ],
          [
           "@_k3tan @stephanlivera @NBN_Australia @Optus Brilliant post mate. You've covered all the bases, and all the questions I would have had. If there was a medal, you'd win it. 😘 Fuck the NBN buzzword scam. #fiberorgtfo"
          ],
          [
           "It should honestly be illegal for tradies to work today. Two NBN guys were sent to our place (we didn't know till they came) and they don't look too great. I keep going out and giving them water and making sure they're okay but it's honestly so fucked"
          ],
          [
           "15/ All in all, for most homes who are using the internet for streaming content, browsing, working from home, using multiple devices, this is a great alternative to the NBN. If all goes well, you'll be happy with it as it presents excellent value for money."
          ],
          [
           "4/ For me, the modem remains coloured 'amber' on 5G. I am 600m away with no direct line of sight to the 5G tower. The speedtest results I get are 200mbps down and 35mbps up. In Australia, these results are well above what a residential NBN connection can currently offer."
          ],
          [
           "@mindblower46 @MrKRudd You mentioned NBN - Rudd did not trash that, LNP did."
          ],
          [
           "@NickRossTech @NBN_Australia I have FTTP NBN. Took the installer about 5mins to lay the fibre cable (thin white cable with sticky back that runs from the front door up two flights of stairs to living room). The service was fully working within 20mins."
          ],
          [
           "@NickRossTech in-case any unforeseen delays occur during appointments such as issues with cabling or in this case no HFC signal being received. We're looking forward to seeing you connected ^Rose 2/2"
          ],
          [
           "@mindblower46 @MrKRudd Do read a different paper David you might actually stumble upon the truth. The NBN was trashed by Turnbull not Rudd. But why let facts get in the way of fantasy."
          ],
          [
           "@sarahinthesen8 People believed their NBN solution would be better/cheaper (hey, why is nobody talking about the cost blowouts on that?) ... so why wouldn't be think enough of us are idiots?\n\nProbably more \"some from column A, some from column B\", though."
          ],
          [
           "@SirenAU_ @KelLostTheGame That's shit, too bad you can't pay in advance and they not fuck you over like the NBN installation guys"
          ],
          [
           "NBN i Federa y f "
          ],
          [
           "The @NBN_Australia is shit. Constant drop outs since we hooked up a week ago. Try working at home...\nThanks @AusLiberalParty \n#nbn \n#auspol"
          ],
          [
           "Before NBN, phones would work without power, with NBN, phones do not work without power.  If you have a mobile phone, keep it handy, and if you have power, charge your phone now just in case."
          ],
          [
           "The number of scam NBN calls to our home land line is escalating dramatically...any ideas about how to solve?\nOn the verge of disconnecting...99% of legit calls come to mobile anyway."
          ],
          [
           "@ScottMorrisonMP If you want to keep Australians safe, how about dealing with issues such as CLIMATE CHANGE?\neconomically it makes sense to do something NOW, rather than pay more later, or have you not learnt anything from the disastrous way you handled the NBN"
          ],
          [
           "@NBN_Australia RSP diagnostics done and fault logged to NBN."
          ],
          [
           "@Optus We appear to have no NBN trying to run a business here in 2226. Cable maintenance doesn’t mention NBN being out. How much longer?"
          ],
          [
           "Anyone else on @Internode having issues with @NBN_Australia not connecting? Or is it a general NBN issue?"
          ],
          [
           "@Telstra why the fuck does my internet in 2049 barely work between 12-6pm? NBN is an actual pathetic joke. I'm lucky to be on for longer than 10 minutes"
          ],
          [
           "How are there SEVENTEEN FLOORS  of #NBN offices in this building and STILL no NBN in South Yarra?? #AusPol"
          ],
          [
           "@NBN_Australia Apparently, I have upstream and downstream sync, but the online light never settles and then the modern starts over after 30 seconds or so."
          ],
          [
           "Getting the nbn soon who to go with @MyRepublicAU @iiNet @TPG_Telecom @Internode"
          ],
          [
           "@RyflyFN @Telstra @RyflyFN you realise it takes up to 24hours for NBN to kick in"
          ],
          [
           "If I don’t want NBN, I don’t get anything and wait for 5G to be rolled out and just rely on my phone data"
          ],
          [
           "#Australia needs top class NBN and rail...not more roads with tolls. But we are going to build more toll roads and crap NBN and weak rail. Why? corruption means #auspol has been taken hostage by corporates trying to steal public money. Going backwards!!! #markets #investors"
          ],
          [
           "It’s the 2nd time this week it’s happening and is also my longest outage. No plan B, no alternative whatsoever. It’s NBN or nothing here now the ADSL2+ which has been stable has been switched off"
          ],
          [
           "There has been no Internet at my premises in 6149 since 8.30am. Can’t do anything but to use my mobile data which is faster than my NBN capped at 50/20. \n\nI could get Optus Sport via satellite for free if this problem persists if I complain @AndyB_Aussiered"
          ],
          [
           "@weezmgk @DoctorKarl Youre right, for me to make a joke about Karls tweet people would probably have to complain about the NBN speed or have 5G sellers claim that it will be faster\n\nSilly me"
          ],
          [
           "@DoctorKarl maybe its to prevent people who spent hundreds on NBN having anxiety attacks"
          ],
          [
           "@Optus @NBN_Australia Hi Zac; looks like NBN fixed the issue remotely. Thanks for reaching out. 👍🏻"
          ],
          [
           "@NBN_Australia been trying to connect since 21 October in a new property and NBN have known about a fault in the connection since then yet won’t come and even try to fix it until 9 Dec. how is this acceptable?"
          ],
          [
           "nbn is TRASH"
          ],
          [
           "@Hellharbour “Improved” the NBN ?"
          ],
          [
           "I've been getting a lot of these ads for NBN. Are we close to getting it soon? I'm ready to become a full-time streamer!"
          ],
          [
           "@zoo_ruler @NBN_Australia Hi George - apologies for the experience you've had with your NBN service. So we can assist with following up, could you please send us through a DM? Zac"
          ],
          [
           "@suzanne_cass Just words, Suzanne.  And speaking of technology..the outrage of the NBN should not be forgotten"
          ],
          [
           "w ure ju aking e i\n#B #FTTP "
          ],
          [
           "@Optus We are having our NBN service drop out in a daily basis (sometimes multiple times a day). The modem seems to do a soft restart each time. This is the second modem we’ve had from you guys. Help please"
          ],
          [
           "@JoshFrydenberg @mmmhotbreakfast Remember that $50b that was used for the nbn that you sabotaged on purpose, you disgrace."
          ],
          [
           "I’m sorry @Optus, @NBN_Australia, but you’re sending out a technician _tomorrow_ at earliest to look at my connection? Your processes are that complex that it’ll take a day to figure whether it’s a physical fault or a logical one? Poor."
          ],
          [
           "@Telstra I think I've been on the phone to your support team for two weeks straight. Your call centre blames the modem despite using 3 different modems. Your field tech blames @NBN_Australia but cannot fix the issue. What on earth can I do to get the issue resolved?"
          ],
          [
           "@suzanne_cass @BelindaJones68 Don’t forget the NBN ... what a tech marvel"
          ],
          [
           "@GidgitVonLaRue Happy Birthday! I'd tweet a gif but my NBN is at Iran level this morning. Hope it was a great day and the Colonel spoiled you as you should be."
          ],
          [
           "@notgeorgezip @DoctorKarl They're actually more akin to antivaxers or fluoride goofballs. \n\nAnyone waiting for 5G to supersede a fibre NBN is going to be disappointed since 5G requires a fibre network to operate."
          ],
          [
           "@DoctorKarl I am sure these 5G conspiracy theorists are NBN troll bots wanting to keep Australia’s internet slower than most third world countries.\n\n“What Australia’s internet needs is more copper!”"
          ],
          [
           "@JulianneClarkey Proper fibre-to-the-home NBN, as rolled out at the beginning of the program, is fantastic. It was Malcolm Turnbull half-arsed copper hybrid that is shit."
          ],
          [
           "nbn instead"
          ],
          [
           "@NBN_Australia @KellieRiordan I too live in a country area. Our NBN goes down about once a week for the entire day. “Getting this resolved” is going to involve billions of dollars to install a national system that actually works."
          ],
          [
           "@buhloone @ITS_YINSE @fatmansu @EastonMajor @Eddied80 @penny_butter @randmhiphoplist @KLDub83 @HipHopHead_1983 @BlackRose96 @__wrkngclssher0 @AceMahony @so_so_chris Cypress Hill's debut album over everything, especially NBN."
          ],
          [
           "@EVERALDATLARGE @JoshFrydenberg This is just one of many areas his government has failed to plan for. Whether it be through ignorance (NOBODY knew the Australian population was aging so rapidly🙄),\nideological stupidity (coal WILL help us deal with climate change) or pure malice (DESTROY the NBN),  #LNPFail"
          ],
          [
           "Aussie Broadband $50 off first month! \nReferral code: 2196434 #NBN #broadband #internet #discount #credit #deal #saving #code #referral #reliable #customerservice #passion #it #aussie #aussiebroadband #mate #connect #join"
          ],
          [
           "@joecutcliffe @TurnbullMalcolm Yeah, I figured that would be the beat option. Ridonk. With 5G no way that nbn is gonna be useful. But hilarious that Rupert thought nobbling nbn would actually save his archaic empire."
          ],
          [
           "@JulianneClarkey @vishandchips @peterlett @DoctorKarl Because this is some of the NBN shit people deal with. https://t.co/PTB37LjQxQ"
          ],
          [
           "@NBN_Australia @weemelah1 IInet have moved me back to cable for half the price and double the speed. We should have put pipes carrying water to central QLD and central Australia instead of nbn. Food is more important than email. We can’t eat nbn."
          ],
          [
           "Get your act together. You’ve already spent way over the planned budget and I’m surprise this hasn’t been picked up by the media. I’m just so disappointed by the appalling service given by @NBN_Australia and @Telstra"
          ],
          [
           "@NomoreLNP @MrKRudd Cannot even manage to get the nbn to work or build a railway from the airport in Melbourne  worlds most liveable city.. give me Manila over melbourne"
          ],
          [
           "@OzFacts I remembered some of the original rollout sites. You can search the delivery system for any address on the nbn web site."
          ],
          [
           "The merry feeling of apprehension for the NBN 😴"
          ],
          [
           "@shoot_da_spruik @matt_barrie @hoptopbob @niremas Change providers. With wireless there is no assurance that changing providers means changing spectrum. There's a growing group of NBN providers who tell you the network throughput so you can make informed decisions."
          ],
          [
           "@vishandchips @peterlett @DoctorKarl So why is the nbn called a third rate, low rent, useless POS? Will it end up being 5g for some and nbn for the rest? True, I don't really understand it"
          ],
          [
           "@matt_barrie @hoptopbob @niremas just like NBN does between 7-11pm"
          ],
          [
           "Sadly pathetic that 4 years late we are finally getting NBN in our street and the brochures from the telcos are advertising that they only have several drop outs per evening in peak times as if that’s impressive 🙄 #nbnfail #auspol btw thanks @TurnbullMalcolm slow clap 👏🏽"
          ],
          [
           "@shoot_da_spruik @matt_barrie @niremas Hence my tweet about building a proper NBN."
          ],
          [
           "remote ass fuckery. this is what we really needed the nbn for"
          ],
          [
           "How did Australia get into this NBN mess? What a piece of crap NBN is - wasting power over the country...."
          ],
          [
           "@me_dc At least you got NBN haha #jealous"
          ],
          [
           "NBN just put in and already not working. No support until tomorrow 😞 This is why we don’t put people like Malcolm in office because they don’t spend money where it counts 💰"
          ],
          [
           "@vounasis Really? What issues man? They’ve been decent I’m on nbn"
          ],
          [
           "@Angelgirl997 Hi Emma, I'm sorry to hear about your NBN issues. Please send us a DM with your address, along with your Optus account number and username as we'll be able to investigate this for you. Jono"
          ],
          [
           "I look at the film clip to \"If You Had My Love\" by Jennifer Lopez and it still looks way too visionary in 2019 on this country's NBN. #Gruen"
          ],
          [
           "@hoptopbob @niremas That's not the problem with the NBN. 6 of 10 million households can get 500Mbps to 1Gbps with a line card upgrade and modem on the current network. The problem is the cost is too high for RSPs to get access to the core, so they buy too little and it's congested."
          ],
          [
           "@GuardianAus Greatest flop in history akin to NBN.\nNuclear power is the only way forward. This is deception for something else."
          ],
          [
           "@PaulFletcherMP @oliverpeterson @PerthLive6PR @NBN_Australia Not well in your own electorate Paul. My current ADSL connection gets me 3Mbps. Third world, and I’ve just been pushed back another 6 months to June 2020 (despite having the box on the side of the house for a year). How can it not be connected by now? What a disgrace the NBN is"
          ],
          [
           "@DoctorKarl This is great. I saw a tweet from someone who bought a 5g modem (they have 5g in their area) and they can bypass nbn altogether"
          ],
          [
           "@TPG_Telecom We spend almost $100 per month for our internet (NBN) and this is the result we get, sorry guys but your figures are wrong. https://t.co/d6GuKb1dKS"
          ],
          [
           "Well, bless the NBN technician who received my rebooking for next week, was already on my street doing an installation, saw a car in my driveway and decided to knock and ask if I’d like my Internet “a week early” (actually, it was due today!)... Blessed internet! 🤩🤩🤩"
          ],
          [
           "@Ad_Iudicium_ Yikes! Maybe tell that council though - western Sydney suburbs were nbn connected 5 years ago 🤷🏻‍♀️"
          ],
          [
           "I'm in love. Connected the NBN up at my place, installed the Disney+ app on my tv and now I'm enjoying The Phantom Menace in 4K HDR. BEAUTIFUL!"
          ],
          [
           "Good to see Sydney keeping up the pace - house we moved out of three years ago now ready 'to apply for' NBN"
          ],
          [
           "Finally got NBN and my internet is twice as fast -_-"
          ],
          [
           "@MrTaoYang Any network upgrades or other maintenance works are handled by NBNCo's technicians and we would be awaiting  further updates from their teams if there are any changes to the restoration. In the meantime our NBN Support teams can discuss interim access options. Greg"
          ],
          [
           "@PaperFoxx The guy from NBN that came to sort out the connection to my house was pretty good.\nBut that’s about the first example ever.\nThe very best of good fortune in your upcoming quest!"
          ],
          [
           "@TurnbullMalcolm Presumably power users will be paying for it on top of already high power bills? Like your brilliant #NBN, costs more than ADSL but not as fast or reliable for most people."
          ],
          [
           "NBN News apparently doesn't have enough Australian news... but hey those dramatic car chases in the US..."
          ],
          [
           "@iiNet Thanks for getting back to me. I’ve done all the usual checks. The status light on my nbn box keeps going from orange to green over and over. My signal strength is flashing red then orange then green over and over. My ocu light is green. Clearly it’s not right"
          ],
          [
           "@lucasghayes @TPG_Telecom Haha I'm already with tpg, Luke, have been since I moved out of the Retreat. 🤣 maybe it's time to start looking around with the NBN and all? Who are you guys with? And are you on NBN yet?"
          ],
          [
           "Someone on here told me to “Have fun” when trying to hook up a wireless printer to the NBN modem. \n\nOh boy, I’m there right now. \n\n😣"
          ],
          [
           "@ABCthedrum @GrayConnolly FFS!  Using the NBN as an example?  After \"conservatives\" nobbled it.  What a wanker!"
          ],
          [
           "Invest in the #NBN. FTTP for the original 93% of the population. #TheDrum"
          ],
          [
           "@JarrodFeng And the higher tiers are still pricey for the NBN."
          ],
          [
           "@NightieTime Honesrlt, in Australia, and large parts of the US, internet speeds this fast are hard to access, before we got the NBN these speeds were high impossible over here, and still, the lower tiers aren't that fast"
          ],
          [
           "@Rjqzy One that has nbn"
          ],
          [
           "The amazing sensation of sympathy for someone's NBN ⚠️"
          ],
          [
           "From 3pm with @oliverpeterson:\n\n• Communications Minister @PaulFletcherMP on the roll out of the NBN.\n• The City of Stirling takes its first steps towards banning wheel clamping.\n• Where is the best coffee in Perth? \n\n#perthnews #auspol https://t.co/87l4UBeq4p"
          ],
          [
           "@MatthewPantelis Turn your NBN modem off wait 10sec and turn it back on, our phones go out almost once a week thanks to the NBN"
          ],
          [
           "Gotta love the NBN https://t.co/PZj3aoO8XQ"
          ],
          [
           "@ricklevy67 @ScottMorrisonMP @stuartrobertmp How about this for an algorithm, Rolex:\n\nReceives \"gift\" of high-end personal timepiece from political donor;\nUses home NBN, paid for by taxpayer, for own business, to the tune of over $3000;\nHas no idea of details of his portfolio when asked by journalists.\nLies continually."
          ],
          [
           "@geoffrey_payne Good point. It's not just the NBN phone, it's any in home medical equipment. Who bloody well compensates ppl for power failure irrespective of whether they are a managed 'cause of a faulty grid or to protect the electricity cartel against legal risks caused by a faulty grid."
          ],
          [
           "Bloody @Optus is being hopeless today. First they book a visit to get my NBN hooked up. Then, I get contradictory messages suggesting....nothing. Now I’ve spent half an hour with on-line chat that results in ....”sorry I’m with a different department” Thanks for nothing Annie"
          ],
          [
           "@NBN_Australia Is that as of today? They weren't up to date lastnight"
          ],
          [
           "@CroweDM maybe similar to the NBN experience"
          ],
          [
           "@MrTaoYang Hi Tao, that’s not the experience we want for our customers. So you can get this resolved, I would recommend contacting your provider directly. They will be able to run tests to confirm if there is an issue. If the issue is with nbn they will let our specialist team know. ^Brian"
          ],
          [
           "@ScottMorrisonMP @TheTodayShow Why don’t you build a technology super highway instead of the shite FTTN nbn? Now there would be some impressive investment."
          ],
          [
           "@RewardbetRobert @hayw0od @acmadotgov @Betfair_Aus @sportsbetcomau Gremlins in the NBN?"
          ],
          [
           "Here's what's coming up in NBN News tonight. https://t.co/w4d6It0HzB"
          ],
          [
           "@dean_harris If it's an ongoing issue your provider will have a process in place that they can escalate this through to the correct channels. If it's an nbn issue our nbn support team will work with your provider to fix it. We're looking forward to seeing this resolved for you ^Rose 2/2"
          ],
          [
           "Should I get Optus 5G broadband $70 unlimited now  or wait for NBN when it’s available in late Feb ‘20?"
          ],
          [
           "@RubberFistFight with your provider so that they can run testing. If there is a fault they will report it to the nbn teams. ^Audrina 2/2"
          ],
          [
           "@Telstra can someone please fix our nbn. I have spent a combined 20 hours on the phone to complaints over the past three months and again today we are back at 2.34mbps. You obviously can’t fix the problem so please let us cancel our contract"
          ],
          [
           "@garystark I think you meant to say, \"The physical infrastructure near the northern beaches region belonging to the NBN is currently in a degraded state. Some specific customers may be impacted by this developing situation.\""
          ],
          [
           "@Saint_Benny I guess the speed is dependent on your internet connection. We're on NBN here and it OK.\n\nYes, not being able to drop folders is a bugger but you can drop a whole heap of single files together in one drop, maximum 100."
          ],
          [
           "You wouldn't have to force people on NBN if it was any good."
          ],
          [
           "Hey, @iinet a shout-out to one of your customer Service people, Sujith, who was AMAZING. Our iinet modem failed &amp; while we wait for a warranty replacement, he helped me get  an almost NBN-FTTC-incompatible wireless router online! We have internet back!"
          ],
          [
           "@maggersz regular NBN as in what?"
          ],
          [
           "@KellieRiordan Sounds like a nightmare! I have awfully slow speeds on broadband, and I've been looking forward to NBN when I move house at the end of the year. Hoping for a better experience! 🤞"
          ],
          [
           "@Hellharbour Been connected to the NBN yet? I have. Average speed has dropped from 65mb to a “max” of 40mb. It drops out every three days (yesterday for 3 hrs) and the light is permanently yellow - green = good connection. Fucked is a good description"
          ],
          [
           "@iiNet Can you please put an URGENT priority with your engineers on being able to block incoming calls from overseas? The SCAM NBN calls are getting ridiculous, we get them everyday! Telstra said they could block all countries bar 1 that we call family on.  You cannot. #poorform"
          ],
          [
           "NBN problems have once again robbed me of my ability to stream! Thanks, @NBN_Australia! And by thanks, I mean SUCK MY FUCKING DICK."
          ],
          [
           "still nine days for the nbn to get delayed\n\n... let's be real here they have all the time in the world to delay the nbn again they can do it after the date too"
          ],
          [
           "@CroweDM Investment in a healthy skilled population would boost demand with immediate effect. Investment in unsabotaged NBN would boost productivity. And forget the motorways."
          ],
          [
           "@onewhite Thanks for passing this information on to us. All updates will be updated through your ISP and their internal nbn support team. The specialist team will work at resolving this issue for you and will liaise 1/2"
          ],
          [
           "@infectedarea I have regular NBN and no issues."
          ],
          [
           "@KellieRiordan @SteveAustinABC Yeah, they've squibbed it. We're semi-rural and technically on satellite NBN, although for 90% of our use we get by on Telstra 4G (via antenna to tower 14km away)\n\nOne saving grace: copper landline is still active for emergencies. But not great juggling multiple services/bills."
          ],
          [
           "All I need in life is for @NBN_Australia to keep their commitments, or, you know, call to advise that they can't, so I don't unnecessarily take a day off work. Literally the worst service, and no available appts for another 7 days? And the 2nd cancellation!? Righto... 💩"
          ],
          [
           "@KellieRiordan @SteveAustinABC Bring on 5G wireless for the home so the telcos can break away from this NBN lemon"
          ],
          [
           "NBN is an utter joke. Since connecting, more time offline than on. Can’t do business. Paying for a service I don’t get. It’s the 19th century again. And VOIP for phone means you can’t even use your telephone. What if you have to call an ambulance? 🤦🏽‍♀️  @SteveAustinABC"
          ],
          [
           "@darrell94934495 @Mickt12321 @Professor_Mambo @arunkg87 @GoogleStadia jesus here in australia we have NBN which is at least meant to give us 40MBPS download and thanks to our shit government we instead get at most 20MBPS"
          ],
          [
           "Mate wants to be friends with your phone (and you), offering affordable monthly rates\n\nAussie telco Mate has been offering NBN plans for a while, and is now moving into the mobile space with affordable monthly rates that should get everyone excited. The company’s offering mo…"
          ],
          [
           "What nbn provider should I go for??"
          ],
          [
           "@NBN_Australia Hey guys, looks like the install has completed. The techs have left.. now it’s up to the ISP to contact me for the next steps. Can you update your systems so they can progress? https://t.co/2iAW0pbEqF"
          ],
          [
           "The loving feeling of comforting before your NBN 🖤"
          ],
          [
           "@NBN_Australia is there issues with upload speeds at the moment? Been having issues since lastnight - called @Internode and they have confirmed it is an issue on your side. \n\nAny transparency as to what is going on? I can provide more information if you need. https://t.co/Eiv1juryYP"
          ],
          [
           "Guess who just opened the door for the NBN guy in her extremely short pyjama bottoms and a bra :,) merry Christmas Mr NBN"
          ],
          [
           "@Telstra Friend just received a “ Telstra NBN “letter but the phone number doesn’t look right to me. Is 1800 291 011 one of your contact numbers"
          ],
          [
           "@NBN_Australia When the power goes out, the up-chain supplier informs me. The service is efficient and drives faith and comfort. After my install was delayed 6 months for reasons NBN could not explain and my new connection has been highly unstable and down twice in two weeks, not much faith"
          ],
          [
           "@HashNotAdam Hey Adam, we can see where you're coming from. However, as services over the nbn network are delivered by service providers, they are responsible for notifying their customers of any issues with the network such as outages. ^Rose"
          ],
          [
           "@NewtonMark @NBN_Australia Milked right into the ground."
          ],
          [
           "@NewtonMark @NBN_Australia I do recall an ausnog presentation on how the FTTP network would have been monitored."
          ],
          [
           "@NBN_Australia I believe that’s what they are here for today to fix. I’ll wait until they are finished to see how they went, and whether the next part can proceed by an ISP."
          ],
          [
           "NBN have finally turned up. Don't let it be the same idiot as last week who told me to dig a trench. Me."
          ],
          [
           "@ScottMorrisonMP @TheTodayShow I would like to see 3.8 bn spent on battery storage for residential consumers and fixing the NBN to a gigabit optic Fibre network to the home so I don't have to sit on a new road pumping petrol poison into the air."
          ],
          [
           "@NBN_Australia Scam calls are simple hack script to get on to User's PC. #NBN disconnection #robocall leads to 'issue on PC' where remote access is needed. \nTheir spoof #webnode site is easy to fall for... \nCalls recorded and site ripped for archive. #ToothlessCyberPolice."
          ],
          [
           "@NBN_Australia But yes, I have contacted my ISP (for the umpteenth time) and they are following the procedures."
          ],
          [
           "@PAISLEYLADDER @___ejp___ that shouldn't be the case and the original nbn was designed to solve that problem"
          ],
          [
           "@NBN_Australia You bypassed the question which is \"if this data is available, why aren't you making it directly available to the public?\" Every major ISP has failed to report this outage. @TPG_Telecom have told me they don't consider it big enough to report on."
          ],
          [
           "NBN rkr a u ab - Nd anyr rf a i rk i bing undrakn by   inn ln? Cany  nial nrar “a iali an yu ffr u?” Cnrar “I’  a” Cany “n an yu ar?” "
          ],
          [
           "@rob0r @LordSoth123 @NBN_Australia Still knee jerk ad-hoc IMO.  Like trying to put out a bushfire with a spray bottle.Dumb decisions that still leaves a division.  \nFttK is garbage anyway, NBN would be better using 5G for the last 150m if it can't work out how to run something as simple as a fibre cable. #nbn"
          ],
          [
           "@IMHO_oz Hey There IMHO, if you're having issues with your nbn connection, please reach out to your provider. They can run tests for you. If needed, they're able to liaise with our specialist team to find out what's happening there. ^Sally"
          ],
          [
           "@NBN_Australia Thanks Sally.  The guys are here at the moment, but looks like they do up to the side of the house with the “box”. I then have to organise another visit by a NBN Provider to then do the “internal” side of things.. Sigh.  Looks like no complete NBN installation today. :("
          ],
          [
           "@Jazz_CB Terribly sorry for the trouble with that order. We'd like to check that out on our end and see what's going on, do you mind sending through a DM so we can confirm your account details? Once that's been done we can follow up on this NBN order and see what we can do. Rob"
          ],
          [
           "@D_Melissa2 @ScottMorrisonMP @TurnbullMalcolm Mel if Turnbull had any ethics he would not have destroyed the NBN for ideological reasons amongst other things"
          ],
          [
           "@LiberalAus Shame you screwed the NBN which could have allowed realistic telecommuting and forgone the need for people to waste their time and money commuting around cities."
          ],
          [
           "@Technorants @LordSoth123 @NBN_Australia If thats what it takes for @NBN_Australia to get on with deploying better infrastructure then so be it."
          ],
          [
           "NBN ieaig 2M ei f fi ime i a yea ay ACCC "
          ],
          [
           "Looks like my NBN migration saga is almost over, I just need to see what my next bill will look like. I’m hoping it at least won’t come with a $200 surprise."
          ],
          [
           "@TPG_Telecom @_simonryan_ Only to go back and forth numerous times getting nowhere other than gaining more frustration towards this shitty NBN service we pay a premium for."
          ],
          [
           "When you are paying for 50mbps speed yet you get 2... happening for 10 days and @TPG_Telecom blame @NBN_Australia yet both wash their hands of it... #fail #internet https://t.co/LhKfNZPYU9"
          ],
          [
           "@vk4aa I'm sorry to hear that, Samantha. We don't have access to the systems where your service provider lodges the service faults. It goes to our nbn support team who is contactable by your provider only. 1/2"
          ],
          [
           "@murpharoo @msmarto Yeah - shame none of those billions will be to fix the nbn the screwed us on @LiberalAus"
          ],
          [
           "@docEbrown1 Thanks for reaching out here. There appears to be an NBN planned maintenance today. It's current estimated time of completion is 20/11/2019 15:00 AEDT. -John"
          ],
          [
           "@acmadotgov How about a full on attack to rid us of 'Nicole from the NBN' Surely you have the skills and resources to do that? No? Or just stop pretending to be useful, dissolve your organisation, and save taxpayers some money."
          ],
          [
           "@rahusphere @Optus NBN is shit anyway so it won’t take much to knock it dead 😩"
          ],
          [
           "@HonTonyAbbott The \"insight\" you and your \"mate\" Turnbull showed in butchering the NBN is only matched by Daniel Andrews payment of billions NOT to build the East West Link. Give it up, mate! You haven't got it."
          ],
          [
           "@AlbertonPower Haha yep, my NBN goes slower than a slug on valium"
          ],
          [
           "@ana74x @Telstra Lol they have no clue. 🤦🏻‍♀️ The govt stuffed up NBN and Australia is way behind as a result. In today’s modern world, where everyone from school children to business owners rely on the internet, this is an utter farce."
          ],
          [
           "Eight (8) @NBN_Australia outages so far this morning. #nbn https://t.co/lPjjVABrhx"
          ],
          [
           "I'm so glad we didn't elect \"economic panic merchants\" who introduce \"desperate, one-off sugar hits\" like roof cladding, public school and hospital spending, native title, the NBN, the carbon tax... #auspol"
          ],
          [
           "@Telstra Have been forced onto nbn, and from what I understand there are no longer any other options in our area."
          ],
          [
           "The brave sensation of doubt because of a NBN ☄️"
          ],
          [
           "Aussie Broadband $50 off first month! \nReferral code: 2196434 #NBN #broadband #internet #discount #credit #deal #saving #code #referral #reliable #customerservice #passion #it #aussie #aussiebroadband #mate #connect #join"
          ],
          [
           "@realjeffwyatt @shockmeparasite We're going to continue on nbn through the 2000s? Good I'm in."
          ],
          [
           "Have had far more outages on NBN than ever before. It's a little tedious."
          ],
          [
           "Sam Porter Bridges: I’m here to connect your NBN."
          ],
          [
           "@pwoiter @iTnews_au especially that Optus cable network which was unsalable even before NBN bought it, to immediately throw it away."
          ],
          [
           "@brenthooley I am sorry for the connection speed issues Brent and apologise for any inconvenience this has caused :( Are you still having issues with these connection speeds with the NBN service? -Dingo"
          ],
          [
           "@Optus Good job Optus on competitive pricing. This is gonna kill NBN."
          ],
          [
           "@LaurenKBreen Such a good GIF. 🤣 Even though my NBN wasn’t working. \n\nIt’s back online now. Phew."
          ],
          [
           "Just wanted to congratulate your incident mgmt ppl @Aussie_BB. By the time I worked out my NBN was down there was already an outage notification online. No time wasted troubleshooting or on hold with call centre. https://t.co/cGRBQDMxxE"
          ],
          [
           "@MofoMik @Aussie_BB @WestOzWind Hey, is this an NBN or an Aussie BB outage? Mine’s gone down in Scarborough, too."
          ],
          [
           "nbn: what if I just cut out\nme: oh no please don’t i \nnbn: done :)"
          ],
          [
           "@JonathanOng77 Here is hoping NBN is stable for you then LOL"
          ],
          [
           "@aa74 Tak f ekig Wa yu elgy ye? DS, Cable, NBN? I ee a bee i available? leae ek yu ae ee -  - (Clik Cek vailabiliy  ay f e la) a le u kw e eul - Maew"
          ],
          [
           "@AvengedByCherry 2) I was offered a 3 month trial free on nbn landline to see how it performs.  If it's better/good for purpose I'll break contract on one plan and switch it to that and keep the other 4G for redundancy"
          ],
          [
           "@D_Melissa2 @simonahac @simonhackett to head up rebuilding the NBN as a true govt service and not some halfassed entity perpetually on chopping block"
          ],
          [
           "The NBN in my area is scuffed 😩 guess I can't fix my stream schedule as soon as I would like"
          ],
          [
           "@PatsKarvelas Bet the nbn was cheaper and faster too"
          ],
          [
           "@NBN_Australia Don't know if it's nbn or @EscapeNet_Au but i get cut outs constantly"
          ],
          [
           "@NBN_Australia is the biggest heap of junk I've ever seen!"
          ],
          [
           "@BBCStoryWorks @tradegovukAUS Turnbull's $90 billion totally dud FTTN NBN dead and buried before the project's even complete... https://t.co/xM9WaaBpMb"
          ],
          [
           "@TVofCarringbush @JacktheInsider @mumbletwits I had ti have a landline in order to have FTTP NBN. I never use it. If it rings I don't answer because I know it's marketing or scamming."
          ],
          [
           "I don’t know how anyone survives watching #TheCrown if their NBN is 💩... don’t know how I’m surviving watching #Seven... @IraSnave"
          ],
          [
           "@WarWraith NBN? How annoying!"
          ],
          [
           "@NBN_Australia Hi Brian, I am looking to switch from NBN sky muster satellite to fixed wireless now that we have a tower visible from our property. The website seems to only have information on switching to fibre to the premises, and our provider told us to contact you. Can you help? Thanks."
          ],
          [
           "Ah! @NBN_Australia! Letter received today saying \"we can't give you a date when we will connect you to NBN\" at the same time telling us that they will disconnect our existing services on Feb 14th, 2020. Yet, nothing has happened to make NBN available to us. It's 19th November..."
          ],
          [
           "@dw261182 Hi Ronny, I'm sorry to hear about your experience with the NBN. Please send us a DM and we'll be happy to investigate this further. Jono"
          ],
          [
           "@AndyB_Aussiered I’ve contacted them and NBN a few times but they’ve slow replying to me. At different times of the day, I’m forced to use my mobile data."
          ],
          [
           "@Telstra_need oi so my service in Thornbury is out cause of NBN difficulties ? Yo we got 4G NOT NBN? Now my boyfriend has put on a metal podcast wtf is up"
          ],
          [
           "@Telstra oi so my service in Thornbury is out cause of NBN difficulties ? Yo we got 4G NOT NBN? Now my boyfriend has put on a metal podcast wtf is up"
          ],
          [
           "@nathan3197 nathan......stop\n\nwe get it\n\nur rich and i'm broke\n\nu have NBN and i don't\n\nyou can calm down now\n\nok?"
          ],
          [
           "@Telstra  is the NBN working??!"
          ],
          [
           "@ABCthedrum @bkjabour If the Australian govt has anything to do with it then we will be paying $150 for a 2nd rate #NBN."
          ],
          [
           "@mrmarchee @AgainstHunting @JolyonMaugham @joswinson Possibly running miles of cable to serve just a few individuals. This is something the Australian government promised in the form of the NBN in 2007. It’s still not finished, most Australians don’t have fibre, it’s mainly using the same backbone that already existed, using"
          ],
          [
           "So instead of maybe choosing to address my concern &amp; get someone from @Telstra to call this is how conversation with Telstra ended. Such an “amazing” customer service, but at least they are consistent in providing none. @NBN_Australia not much better. https://t.co/tahi7qYRPj"
          ],
          [
           "#TheDrum Streaming service saturation isn't likely become problem 'in the bush' because @NBN_Australia rubbish and cost prohibitive in those areas. Even using business software like @Xero even single touch payroll becomes an issue for business and @Centrelink @medicare etc"
          ],
          [
           "@ABCthedrum I watch you on normal tv.  I used to have the NBN and it wasn't good enough for a streaming service.  I hate all the flipping games shows they call reality tv.  I now have a dongle and will see if I can afford a streaming service.  My DSP might not stretch that far"
          ],
          [
           "@Zemmiph0bia @aussiewongm The NBN here is Australia is horseshit"
          ],
          [
           "I’m already at the point where I want to smash my NBN modem and migrate"
          ],
          [
           "@NBN_Australia Just received a robo scam call purportedly from the NBN telling me phone and internet will be disconnected.  Tel. no. was 07 3736 3831."
          ],
          [
           "@54dogboy Hi there, \n\nOur NBN technicians are ready to take your call so if you're still facing issues, give us a ring on 1300 801 122 and our team will get to the bottom of those speeds for you."
          ],
          [
           "@NBN_Australia @brenthooley And that's what we get for $150billion investment, no wonder we are the laughing stock of the broadband world. Took me 3 weeks to sort out between NBN and my provider......"
          ],
          [
           "@fidzeh Thanks for sending the details via DM. I checked the notes on the account and can see that the NBN technician is already on-site to fix the local power outage that is impacting some HFC end users in the Bandstown, NSW area. Further updates will be provided to you. -Julien"
          ],
          [
           "@isstoked Hi, the outage affecting some NBN customers in Traralgon, VIC has been resolved. Services are now online. Please restart your modem if the issue persists. We apologise for any inconvenience caused and thank you for your patience."
          ],
          [
           "NBN b-all am eeaedly bggng Geelng lal "
          ],
          [
           "@AusIndiMedia My daughter just returned to work from home teaching English for a small income which she has been doing successfully whilst on a Thailand Island. The upload NBN speed excludes her from continuing with one school based in China. Destruction by  @TurnbullMalcolm and @HonTonyAbbott"
          ],
          [
           "@rollingputcap I never said the track record was perfect, NBN has been a disaster, same with the property market, 100% correct"
          ],
          [
           "@joshgnosis This was literally the same argument against gigabit speeds with the NBN. \n\nGotta love a throttled country."
          ],
          [
           "It’s an ongoing issue with recordings stopping midway during live matches in the early hours of the morning. No alternatives but to record the replay.\n\nMy NBN drops out at least 3 times a day, nothing we can do about it, Optus says it’s normal"
          ],
          [
           "@Optus hi guys, I went from cable to NBN. Which number do I call to get @Optus to take down the cable please? Thx"
          ],
          [
           "@meatgrrrl Heya, so pleased to hear you are happy with the nbn install. Welcome to the network. ^Lisa"
          ],
          [
           "@Telstra Is a reliable NBN connection for sale yet?"
          ],
          [
           "Update complete! Took 2 hours. Home wifi on NBN https://t.co/iSYGEJn96i"
          ],
          [
           "@mwyres @NewtonMark Until they start offering 10/10Gb and 40/40Gb products, this is pretty useless. Others offer what @NBN_Australia can't"
          ],
          [
           "@seasallen connect to the nbn network from an engineering perspective and may be located further from existing nbn network assets. Your premises requires additional work to be fully commissioned 2/3"
          ],
          [
           "@seasallen Hey Corey, it looks like there is still more work required to connect your premises. Each premise is different and requires individual assessment by nbn and our construction partners on the best way to connect you to the nbn network. Unfortunately, your premises is harder to 1/3"
          ],
          [
           "@brenthooley This is disappointing to hear, Brent. Please reach out to Telstra to make sure they're aware of the issue. They'll engage with our support teams for assistance and we'll work together to get you online. ^Alex"
          ],
          [
           "@NBN_Australia There are no available alternatives. The upstairs property has an NBN connection already and their connection is in my basement. Why can’t I get connected?"
          ],
          [
           "@khtagh @deniseshrivell Sounds like the NBN. Maybe a causal link???"
          ],
          [
           "@NewtonMark @NBN_Australia Inspired by your posts, I setup my own monitoring (Grafana feeding into Pushover). Though I think I’ve been mostly lucky on my new HFC connection: https://t.co/XSvWf1pivT"
          ],
          [
           "@Telstra can you tell us when our nbn will be back in treasure road north Welshpool as we have not had any service for 3 days. Our customer service person has no idea of the outage but according to your website there is with no time or days when will be fixed"
          ],
          [
           "NBN   run X ranrmain Build new E, lan  dely new ware "
          ]
         ],
         "hoverlabel": {
          "namelength": 0
         },
         "hovertemplate": "NER=%{x}<br>favs=%{y}<br>cleantext=%{customdata[0]}",
         "legendgroup": "",
         "marker": {
          "color": "#636efa"
         },
         "name": "",
         "notched": false,
         "offsetgroup": "",
         "orientation": "v",
         "showlegend": false,
         "type": "box",
         "x": [
          "LNP",
          "@NBN_Australia",
          "Optus",
          "@NBN_Australia",
          "nbn",
          "nbn",
          "NBN",
          "NBN",
          "NBN",
          "NBN",
          "@NBN_Australia",
          "NBN",
          "Optus NBN",
          "NBN",
          "NBN",
          "@NBN_Australia",
          "NBN",
          "NBN",
          "NBN",
          "FTTN",
          "NBN",
          "NBN",
          "NBN",
          "NBN",
          "NBN",
          "Optus",
          "NBN",
          "NBN",
          "NBN",
          "NBN",
          "NBN",
          "nbn",
          "NBN",
          "NBN",
          "NBN NBN",
          "NBN",
          "NBN",
          "NBN",
          "NBN",
          "@NBN_Australia",
          "FTTP NBN",
          "NBN",
          "NBN",
          "@NBN_Australia",
          "NBN",
          "@NBN_Australia",
          "@NBN_Australia",
          "Aussie Broadband",
          "NBN",
          "@NBN_Australia",
          "nbn",
          "NBN",
          "NBN",
          "NBN ADSL",
          "NBN",
          "NBN",
          "NBN",
          "NBN",
          "NBN",
          "nbn nbn",
          "nbn",
          "NBN",
          "nbn",
          "NBN",
          "NBN &amp",
          "nbn",
          "ADSL NBN",
          "NBN",
          "ADSL NBN",
          "NBN",
          "nbn",
          "NBN NBN",
          "NBN",
          "NBN",
          "NBN",
          "nbn",
          "NBN",
          "NBN",
          "NBN",
          "nbn",
          "NBN",
          "NBN NBN",
          "NBN",
          "@NBN_Australia NBN",
          "nbn",
          "FTTP NBN",
          "NBN NBN NBN",
          "NBN",
          "NBN",
          "NBN FTTP",
          "NBN",
          "ADSL NBN",
          "NBN",
          "NBN",
          "NBN",
          "@NBN_Australia",
          "NBN",
          "nbn",
          "NBN",
          "NBN",
          "Optus",
          "NBN",
          "NBN",
          "NBN",
          "nbn",
          "NBN",
          "NBN",
          "@NBN_Australia",
          "nbn",
          "NBN",
          "NBN",
          "NBN Co",
          "nbn",
          "nbn",
          "ADSL NBN",
          "nbn",
          "@NBN_Australia",
          "NBN",
          "NBN",
          "NBN",
          "NBN",
          "NBN HFC",
          "NBN",
          "NBN Telstra",
          "NBN",
          "NBN",
          "NBN",
          "Telstra",
          "NBN",
          "NBN HFC",
          "NBN",
          "NBN NBN",
          "NBN",
          "nbn",
          "NBN Optus",
          "NBN",
          "NBN",
          "nbn",
          "NBN",
          "nbn",
          "NBN",
          "Labor",
          "NBN",
          "NBN",
          "NBN Co",
          "NBN",
          "NBN",
          "NBN",
          "NBN Telstra",
          "NBN",
          "NBN NBN",
          "NBN",
          "NBN",
          "NBN",
          "NBN",
          "@NBN_Australia",
          "FTTP",
          "NBN NBN",
          "NBN",
          "@NBN_Australia",
          "NBN",
          "nbn",
          "Aussie Broadband",
          "NBN",
          "NBN",
          "NBN",
          "NBN",
          "NBN",
          "NBN",
          "NBN",
          "NBN",
          "NBN",
          "nbn",
          "NBN",
          "NBN",
          "NBN",
          "NBN",
          "NBN",
          "NBN",
          "NBN NBN",
          "NBN",
          "FTTP",
          "NBN",
          "NBN",
          "NBN",
          "NBN",
          "NBN FTTP",
          "NBN",
          "NBN",
          "NBN",
          "NBN &amp",
          "NBN",
          "NBN",
          "NBN",
          "NBN",
          "nbn",
          "NBN",
          "NBN",
          "NBN",
          "NBN",
          "nbn",
          "NBN",
          "NBN",
          "NBN",
          "NBN",
          "NBN",
          "NBN",
          "NBN",
          "NBN",
          "NBN",
          "NBN",
          "NBN",
          "NBN",
          "nbn",
          "NBN",
          "nbn",
          "NBN",
          "NBN",
          "NBN",
          "nbn",
          "nbn",
          "NBN",
          "NBN",
          "NBN",
          "NBN News",
          "NBN NBN",
          "NBN",
          "NBN",
          "FTTP",
          "FTTP",
          "NBN",
          "NBN",
          "NBN",
          "NBN",
          "NBN",
          "nbn",
          "NBN ISP",
          "NBN",
          "NBN",
          "NBN",
          "NBN",
          "NBN NBN",
          "NBN",
          "nbn",
          "NBN",
          "NBN",
          "NBN",
          "NBN",
          "NBN",
          "NBN",
          "NBN",
          "NBN",
          "NBN",
          "NBN",
          "NBN Co",
          "NBN",
          "NBN",
          "NBN",
          "NBN",
          "NBN",
          "NBN",
          "NBN",
          "FTTP NBN",
          "NBN",
          "NBN ISP",
          "NBN",
          "nbn",
          "NBN",
          "Telstra",
          "NBN",
          "NBN",
          "NBN",
          "NBN",
          "Optus NBN",
          "NBN",
          "NBN",
          "@NBN_Australia",
          "NBN",
          "@NBN_Australia NBN",
          "Aussie Broadband",
          "nbn",
          "NBN NBN",
          "NBN",
          "NBN",
          "nbn",
          "nbn",
          "NBN",
          "NBN",
          "NBN",
          "nbn",
          "NBN",
          "NBN",
          "NBN",
          "NBN",
          "nbn",
          "nbn",
          "LNP",
          "@DoctorKarl NBN",
          "NBN",
          "NBN",
          "NBN",
          "NBN",
          "NBN Telstra",
          "nbn",
          "NBN",
          "nbn",
          "NBN HFC",
          "HFC NBN",
          "ISP",
          "nbn",
          "NBN",
          "NBN",
          "NBN",
          "NBN",
          "NBN",
          "NBN",
          "NBN",
          "nbn",
          "NBN NBN",
          "NBN",
          "NBN",
          "NBN Telstra",
          "NBN",
          "NBN",
          "NBN",
          "NBN",
          "nbn",
          "NBN",
          "NBN",
          "nbn",
          "nbn",
          "NBN",
          "ISP",
          "nbn",
          "NBN",
          "NBN",
          "NBN",
          "NBN",
          "@NBN_Australia",
          "NBN",
          "nbn",
          "NBN Telstra",
          "NBN",
          "NBN",
          "NBN News",
          "NBN &amp",
          "ADSL",
          "nbn",
          "nbn",
          "NBN",
          "ADSL NBN",
          "NBN",
          "NBN",
          "NBN HFC",
          "NBN",
          "NBN",
          "NBN",
          "NBN",
          "FTTN",
          "NBN",
          "NBN",
          "NBN",
          "NBN",
          "NBN",
          "NBN",
          "NBN",
          "NBN Co",
          "Optus NBN",
          "NBN",
          "NBN",
          "NBN NBN",
          "NBN",
          "@NBN_Australia",
          "NBN",
          "nbn",
          "Telstra",
          "NBN",
          "LNP",
          "LNP NBN",
          "nbn",
          "NBN",
          "NBN",
          "Telstra",
          "NBN",
          "NBN",
          "Aussie Broadband",
          "FTTP NBN",
          "NBN NBN",
          "NBN",
          "NBN",
          "NBN",
          "NBN",
          "NBN ISP",
          "NBN",
          "NBN",
          "NBN",
          "NBN",
          "NBN",
          "NBN",
          "NBN",
          "HFC NBN",
          "NBN",
          "NBN",
          "nbn",
          "nbn",
          "NBN",
          "NBN &amp",
          "NBN",
          "nbn",
          "NBN",
          "@NBN_Australia",
          "NBN ADSL",
          "NBN Telstra",
          "@NBN_Australia",
          "NBN",
          "NBN",
          "NBN",
          "NBN",
          "NBN",
          "NBN",
          "Optus",
          "NBN",
          "NBN",
          "NBN",
          "NBN",
          "NBN",
          "NBN",
          "NBN",
          "NBN",
          "NBN NBN",
          "NBN",
          "nbn",
          "NBN",
          "NBN",
          "NBN",
          "NBN NBN",
          "NBN",
          "NBN",
          "LNP NBN",
          "NBN Telstra",
          "NBN",
          "NBN",
          "NBN",
          "NBN NBN",
          "NBN",
          "NBN",
          "Labor",
          "NBN",
          "NBN",
          "nbn",
          "NBN",
          "NBN",
          "NBN",
          "NBN Co",
          "HFC NBN",
          "@DoctorKarl NBN",
          "@NBN_Australia",
          "NBN",
          "NBN",
          "NBN",
          "NBN",
          "NBN News",
          "HFC",
          "NBN",
          "NBN",
          "@DoctorKarl NBN",
          "NBN ADSL",
          "NBN",
          "LNP",
          "NBN",
          "LNP",
          "NBN",
          "NBN Co",
          "NBN",
          "NBN",
          "@NBN_Australia",
          "nbn",
          "NBN",
          "Labor",
          "nbn",
          "NBN HFC",
          "NBN",
          "NBN",
          "NBN",
          "nbn",
          "NBN &amp",
          "nbn",
          "@DoctorKarl NBN",
          "HFC",
          "NBN",
          "NBN",
          "NBN",
          "HFC",
          "HFC",
          "LNP NBN",
          "NBN Telstra",
          "NBN",
          "NBN",
          "nbn",
          "NBN",
          "NBN",
          "NBN",
          "Aussie Broadband",
          "nbn",
          "NBN",
          "NBN",
          "NBN",
          "nbn",
          "HFC",
          "NBN",
          "HFC",
          "NBN",
          "NBN HFC",
          "NBN",
          "NBN",
          "NBN",
          "NBN",
          "NBN HFC",
          "HFC",
          "HFC",
          "@NBN_Australia NBN",
          "LNP NBN",
          "FTTP",
          "Telstra",
          "NBN",
          "NBN",
          "NBN",
          "nbn",
          "@DoctorKarl NBN",
          "NBN",
          "@DoctorKarl NBN",
          "HFC NBN",
          "nbn",
          "@NBN_Australia",
          "NBN",
          "NBN HFC",
          "NBN",
          "NBN",
          "NBN",
          "NBN",
          "NBN NBN",
          "NBN",
          "NBN",
          "FTTP NBN",
          "NBN",
          "NBN",
          "NBN",
          "NBN",
          "NBN",
          "NBN",
          "NBN News",
          "@DoctorKarl NBN",
          "@DoctorKarl NBN",
          "NBN",
          "NBN",
          "NBN",
          "NBN",
          "NBN ADSL",
          "NBN ISP",
          "nbn",
          "NBN",
          "NBN FTTP",
          "NBN",
          "NBN",
          "NBN",
          "NBN",
          "nbn",
          "HFC NBN",
          "NBN NBN",
          "NBN",
          "NBN",
          "NBN",
          "NBN NBN NBN",
          "Optus NBN",
          "NBN HFC",
          "NBN NBN",
          "NBN NBN NBN",
          "NBN",
          "NBN",
          "@NBN_Australia",
          "NBN",
          "NBN",
          "NBN",
          "@NewtonMark @NBN_Australia",
          "NBN",
          "NBN",
          "NBN",
          "Optus NBN",
          "NBN",
          "@NBN_Australia",
          "NBN",
          "NBN",
          "nbn",
          "@NewtonMark @NBN_Australia",
          "NBN Co",
          "Optus",
          "NBN NBN",
          "NBN",
          "NBN",
          "NBN",
          "HFC NBN",
          "NBN NBN",
          "NBN NBN",
          "NBN ADSL",
          "nbn",
          "nbn",
          "NBN",
          "NBN",
          "NBN",
          "NBN",
          "NBN",
          "NBN",
          "nbn",
          "NBN",
          "NBN",
          "NBN",
          "NBN",
          "NBN",
          "NBN",
          "NBN",
          "NBN",
          "NBN",
          "HFC",
          "NBN",
          "Telstra",
          "NBN",
          "NBN",
          "NBN",
          "NBN",
          "NBN",
          "NBN",
          "NBN",
          "Telstra",
          "NBN HFC",
          "nbn",
          "NBN",
          "NBN NBN",
          "NBN",
          "NBN FTTP",
          "NBN",
          "LNP",
          "NBN",
          "NBN",
          "NBN Telstra",
          "NBN",
          "NBN",
          "NBN HFC",
          "NBN",
          "NBN ADSL",
          "NBN",
          "NBN",
          "LNP NBN",
          "NBN NBN NBN",
          "NBN",
          "NBN",
          "NBN",
          "nbn",
          "HFC",
          "NBN",
          "Aussie Broadband",
          "nbn",
          "NBN",
          "nbn",
          "@NewtonMark @NBN_Australia",
          "NBN NBN",
          "Optus",
          "ADSL NBN",
          "NBN",
          "Optus NBN",
          "NBN",
          "NBN",
          "HFC",
          "NBN",
          "NBN",
          "LNP NBN",
          "NBN",
          "LNP",
          "NBN",
          "Aussie Broadband",
          "NBN HFC",
          "@NBN_Australia",
          "NBN",
          "@NBN_Australia",
          "@NBN_Australia",
          "NBN",
          "NBN",
          "nbn",
          "NBN",
          "nbn nbn",
          "nbn",
          "NBN",
          "NBN NBN",
          "NBN",
          "NBN",
          "NBN HFC",
          "@NBN_Australia",
          "nbn",
          "NBN",
          "NBN",
          "NBN",
          "nbn",
          "nbn",
          "NBN NBN",
          "@NBN_Australia",
          "NBN",
          "nbn",
          "NBN",
          "HFC NBN",
          "HFC NBN",
          "HFC NBN",
          "@NBN_Australia",
          "HFC",
          "Telstra",
          "HFC",
          "NBN",
          "Telstra",
          "NBN",
          "HFC NBN",
          "NBN",
          "FTTN",
          "NBN",
          "NBN",
          "@NBN_Australia",
          "HFC NBN",
          "NBN",
          "NBN",
          "NBN",
          "NBN",
          "NBN",
          "@NBN_Australia",
          "NBN",
          "NBN Telstra",
          "HFC NBN",
          "NBN",
          "NBN",
          "nbn nbn",
          "NBN",
          "nbn",
          "NBN",
          "NBN",
          "NBN",
          "NBN",
          "nbn",
          "NBN ADSL",
          "nbn",
          "NBN",
          "HFC",
          "NBN",
          "@NBN_Australia",
          "NBN",
          "NBN",
          "nbn",
          "FTTP",
          "NBN",
          "NBN",
          "NBN",
          "NBN",
          "NBN",
          "NBN",
          "NBN",
          "@NewtonMark @NBN_Australia",
          "Telstra",
          "NBN",
          "NBN Co",
          "NBN",
          "NBN",
          "@NBN_Australia",
          "FTTP",
          "@NBN_Australia",
          "Optus NBN",
          "NBN",
          "nbn",
          "NBN",
          "NBN",
          "HFC NBN",
          "NBN",
          "FTTN",
          "NBN",
          "@NBN_Australia",
          "ADSL",
          "@NBN_Australia",
          "NBN",
          "@NBN_Australia",
          "HFC",
          "ISP",
          "nbn",
          "@NewtonMark @NBN_Australia",
          "Optus NBN",
          "NBN",
          "HFC",
          "FTTP",
          "NBN NBN",
          "NBN",
          "ADSL",
          "NBN",
          "NBN NBN",
          "@NBN_Australia NBN",
          "Labor",
          "NBN",
          "FTTN",
          "LNP",
          "NBN",
          "NBN",
          "NBN",
          "NBN",
          "NBN Telstra",
          "NBN",
          "NBN",
          "@NBN_Australia",
          "NBN",
          "NBN NBN",
          "HFC NBN",
          "HFC NBN",
          "@NBN_Australia",
          "NBN",
          "NBN",
          "LNP",
          "HFC",
          "NBN",
          "NBN HFC",
          "NBN",
          "NBN Optus",
          "NBN",
          "NBN",
          "NBN",
          "NBN",
          "NBN",
          "Telstra",
          "NBN",
          "HFC",
          "NBN",
          "nbn",
          "nbn",
          "NBN",
          "NBN",
          "NBN",
          "NBN HFC",
          "@NewtonMark @NBN_Australia",
          "Telstra",
          "NBN",
          "nbn",
          "NBN",
          "FTTP NBN",
          "@NewtonMark @NBN_Australia",
          "NBN",
          "NBN",
          "NBN NBN",
          "NBN FTTP",
          "NBN",
          "NBN",
          "nbn",
          "NBN",
          "NBN",
          "NBN",
          "ISP",
          "NBN",
          "NBN",
          "NBN NBN",
          "NBN",
          "NBN",
          "NBN NBN",
          "NBN",
          "NBN",
          "NBN",
          "NBN",
          "NBN",
          "nbn",
          "NBN",
          "@NBN_Australia",
          "nbn",
          "NBN",
          "NBN",
          "NBN Telstra",
          "NBN",
          "HFC",
          "NBN",
          "NBN",
          "NBN",
          "NBN",
          "NBN",
          "NBN",
          "NBN",
          "nbn",
          "NBN ISP",
          "NBN NBN",
          "NBN",
          "NBN NBN NBN",
          "NBN",
          "NBN",
          "NBN",
          "NBN",
          "NBN",
          "LNP NBN",
          "@NBN_Australia",
          "nbn",
          "nbn",
          "@NBN_Australia",
          "NBN ISP",
          "NBN",
          "@NBN_Australia",
          "FTTP",
          "Optus",
          "Optus",
          "NBN",
          "NBN Optus",
          "NBN Optus",
          "NBN",
          "NBN",
          "NBN",
          "NBN FTTP",
          "NBN",
          "NBN",
          "NBN",
          "NBN",
          "@NBN_Australia",
          "NBN",
          "NBN",
          "NBN",
          "NBN HFC",
          "NBN",
          "NBN",
          "NBN",
          "nbn",
          "NBN",
          "NBN",
          "NBN",
          "NBN",
          "NBN",
          "NBN",
          "ADSL",
          "NBN",
          "LNP",
          "NBN",
          "Telstra",
          "NBN",
          "HFC",
          "Optus NBN",
          "NBN",
          "HFC",
          "Optus",
          "Optus",
          "NBN NBN NBN",
          "NBN",
          "FTTP",
          "nbn",
          "NBN",
          "NBN",
          "nbn",
          "nbn",
          "Aussie Broadband",
          "NBN",
          "nbn",
          "nbn",
          "HFC",
          "Labor",
          "Telstra",
          "NBN",
          "NBN",
          "Telstra",
          "NBN",
          "NBN",
          "NBN",
          "NBN",
          "NBN",
          "NBN",
          "nbn",
          "NBN",
          "FTTP",
          "LNP",
          "nbn",
          "NBN NBN",
          "NBN",
          "@NBN_Australia",
          "NBN &amp",
          "HFC",
          "@NBN_Australia",
          "NBN",
          "NBN",
          "@NBN_Australia",
          "ISP",
          "NBN",
          "nbn",
          "LNP NBN",
          "HFC",
          "HFC",
          "NBN",
          "NBN",
          "ADSL",
          "Telstra",
          "NBN",
          "NBN",
          "nbn nbn",
          "NBN",
          "nbn",
          "NBN",
          "NBN",
          "LNP",
          "NBN",
          "NBN",
          "FTTN",
          "@NBN_Australia",
          "NBN HFC",
          "NBN",
          "ADSL",
          "NBN",
          "FTTP",
          "NBN",
          "NBN",
          "nbn",
          "Labor",
          "NBN",
          "LNP",
          "NBN",
          "NBN ISP",
          "NBN",
          "nbn",
          "NBN",
          "NBN",
          "NBN",
          "@NBN_Australia",
          "NBN",
          "nbn",
          "NBN NBN",
          "nbn",
          "NBN",
          "NBN",
          "NBN",
          "NBN",
          "NBN",
          "NBN NBN",
          "NBN",
          "NBN",
          "NBN",
          "NBN",
          "NBN",
          "NBN Optus",
          "NBN",
          "NBN",
          "NBN",
          "NBN",
          "LNP",
          "FTTP NBN",
          "HFC",
          "NBN",
          "NBN",
          "NBN",
          "NBN",
          "@NBN_Australia",
          "NBN NBN",
          "NBN",
          "NBN",
          "NBN",
          "NBN NBN",
          "@NBN_Australia NBN",
          "NBN",
          "NBN NBN",
          "@NBN_Australia",
          "nbn",
          "NBN",
          "NBN",
          "NBN NBN",
          "NBN",
          "NBN",
          "NBN",
          "@DoctorKarl NBN",
          "NBN",
          "@NBN_Australia NBN",
          "nbn",
          "NBN",
          "NBN",
          "NBN",
          "NBN",
          "FTTP",
          "NBN",
          "nbn",
          "@NBN_Australia",
          "@NBN_Australia",
          "NBN",
          "NBN",
          "NBN",
          "NBN",
          "NBN",
          "nbn",
          "NBN",
          "NBN",
          "NBN",
          "Aussie Broadband",
          "nbn",
          "NBN",
          "nbn nbn",
          "@NBN_Australia",
          "nbn",
          "nbn",
          "NBN",
          "NBN",
          "nbn nbn",
          "NBN",
          "NBN",
          "NBN",
          "nbn",
          "NBN NBN",
          "NBN",
          "NBN",
          "nbn",
          "NBN Optus",
          "NBN",
          "NBN",
          "NBN",
          "ADSL NBN",
          "nbn",
          "NBN",
          "NBN",
          "nbn",
          "NBN",
          "NBN",
          "NBN",
          "NBN",
          "NBN",
          "ADSL",
          "NBN News",
          "nbn",
          "NBN NBN",
          "NBN",
          "NBN",
          "FTTP",
          "NBN",
          "NBN",
          "nbn",
          "NBN",
          "NBN",
          "NBN NBN",
          "NBN",
          "NBN",
          "NBN",
          "NBN",
          "@NBN_Australia",
          "NBN",
          "nbn",
          "FTTN",
          "NBN",
          "NBN News",
          "nbn nbn",
          "NBN",
          "nbn",
          "nbn",
          "NBN",
          "NBN",
          "NBN",
          "NBN",
          "NBN",
          "NBN",
          "NBN",
          "Telstra",
          "NBN",
          "nbn nbn",
          "NBN",
          "ISP",
          "NBN",
          "NBN Telstra",
          "@NBN_Australia",
          "NBN",
          "NBN",
          "NBN",
          "NBN",
          "nbn",
          "ISP",
          "NBN",
          "@NBN_Australia",
          "NBN",
          "Telstra",
          "NBN",
          "nbn",
          "@NewtonMark @NBN_Australia",
          "FTTP",
          "ISP",
          "NBN",
          "NBN",
          "NBN",
          "ISP",
          "nbn",
          "ISP",
          "NBN",
          "NBN",
          "nbn",
          "NBN NBN",
          "NBN",
          "NBN",
          "NBN",
          "@NBN_Australia",
          "NBN",
          "NBN",
          "NBN",
          "@NBN_Australia",
          "nbn",
          "nbn",
          "NBN",
          "NBN",
          "NBN",
          "NBN",
          "NBN",
          "NBN",
          "@NBN_Australia",
          "NBN",
          "nbn",
          "NBN",
          "Aussie Broadband",
          "nbn",
          "NBN",
          "NBN",
          "Optus NBN",
          "NBN",
          "Optus NBN",
          "NBN",
          "NBN",
          "NBN",
          "nbn",
          "NBN",
          "NBN",
          "nbn",
          "NBN",
          "NBN",
          "nbn",
          "nbn",
          "@NBN_Australia",
          "FTTN",
          "FTTP NBN",
          "NBN",
          "NBN",
          "NBN",
          "NBN NBN",
          "NBN",
          "NBN",
          "NBN",
          "NBN",
          "NBN",
          "NBN",
          "NBN",
          "NBN",
          "Telstra",
          "@NBN_Australia",
          "NBN",
          "NBN",
          "NBN",
          "NBN",
          "NBN",
          "NBN",
          "NBN HFC",
          "NBN",
          "NBN",
          "NBN",
          "NBN",
          "NBN",
          "Optus",
          "NBN",
          "nbn",
          "NBN",
          "NBN",
          "@NBN_Australia",
          "nbn nbn",
          "nbn nbn",
          "Telstra",
          "NBN",
          "NBN",
          "HFC",
          "nbn",
          "NBN"
         ],
         "x0": " ",
         "xaxis": "x",
         "y": [
          0,
          1,
          0,
          2,
          0,
          0,
          0,
          0,
          0,
          0,
          0,
          0,
          1,
          3,
          0,
          1,
          0,
          1,
          8,
          0,
          0,
          0,
          4,
          0,
          0,
          0,
          0,
          0,
          1,
          0,
          0,
          2,
          0,
          1,
          3,
          0,
          0,
          0,
          1,
          0,
          0,
          5,
          0,
          0,
          0,
          4,
          5,
          1,
          0,
          0,
          0,
          0,
          0,
          0,
          0,
          0,
          0,
          0,
          0,
          0,
          0,
          0,
          0,
          0,
          0,
          1,
          0,
          0,
          0,
          1,
          0,
          0,
          3,
          0,
          3,
          0,
          1,
          1,
          0,
          0,
          1,
          2,
          3,
          4,
          1,
          0,
          0,
          0,
          0,
          0,
          1,
          0,
          2,
          1,
          0,
          0,
          0,
          0,
          0,
          0,
          0,
          0,
          0,
          0,
          0,
          1,
          2,
          0,
          17,
          0,
          0,
          0,
          1,
          0,
          0,
          0,
          6,
          0,
          0,
          1,
          28,
          0,
          0,
          0,
          0,
          0,
          5,
          0,
          0,
          0,
          0,
          0,
          34,
          0,
          1,
          1,
          3,
          0,
          0,
          0,
          1,
          0,
          1,
          0,
          0,
          0,
          0,
          0,
          2,
          14,
          0,
          0,
          0,
          2,
          1,
          0,
          0,
          0,
          0,
          0,
          0,
          2,
          1,
          5,
          0,
          1,
          0,
          0,
          0,
          1,
          0,
          0,
          1,
          0,
          0,
          0,
          0,
          0,
          0,
          0,
          0,
          10,
          3,
          0,
          1,
          0,
          0,
          0,
          0,
          0,
          1,
          1,
          8,
          0,
          2,
          0,
          0,
          3,
          0,
          1,
          0,
          0,
          0,
          3,
          0,
          0,
          0,
          10,
          3,
          0,
          0,
          0,
          0,
          0,
          0,
          1,
          1,
          0,
          1,
          0,
          0,
          1,
          0,
          0,
          1,
          2,
          3,
          0,
          0,
          0,
          0,
          0,
          0,
          1,
          14,
          0,
          0,
          0,
          1,
          1,
          0,
          0,
          3,
          0,
          0,
          0,
          1,
          0,
          0,
          0,
          22,
          0,
          0,
          0,
          0,
          0,
          4,
          3,
          7,
          0,
          1,
          0,
          0,
          1,
          0,
          0,
          0,
          0,
          0,
          0,
          0,
          0,
          0,
          0,
          1,
          0,
          0,
          0,
          0,
          2,
          0,
          0,
          0,
          2,
          0,
          0,
          0,
          0,
          0,
          0,
          0,
          0,
          1,
          4,
          1,
          4,
          1,
          0,
          1,
          0,
          0,
          0,
          1,
          0,
          2,
          0,
          1,
          0,
          0,
          0,
          1,
          0,
          0,
          1,
          0,
          1,
          0,
          1,
          0,
          0,
          0,
          0,
          0,
          0,
          0,
          1,
          0,
          0,
          3,
          0,
          0,
          2,
          0,
          1,
          2,
          1,
          0,
          0,
          1,
          0,
          1,
          0,
          5,
          9,
          0,
          1,
          6,
          0,
          2,
          3,
          0,
          0,
          0,
          1,
          0,
          6,
          0,
          0,
          3,
          0,
          3,
          2,
          0,
          0,
          0,
          3,
          4,
          0,
          0,
          1,
          4,
          1,
          0,
          58,
          0,
          1,
          0,
          35,
          1,
          0,
          0,
          6,
          0,
          2,
          1,
          1,
          0,
          0,
          0,
          0,
          2,
          0,
          0,
          0,
          0,
          0,
          0,
          0,
          16,
          0,
          0,
          3,
          0,
          1,
          1,
          0,
          1,
          0,
          0,
          0,
          0,
          0,
          0,
          0,
          8,
          0,
          5,
          0,
          0,
          0,
          0,
          0,
          25,
          2,
          0,
          45,
          2,
          3,
          0,
          6,
          3,
          0,
          0,
          1,
          0,
          1,
          0,
          0,
          0,
          0,
          1,
          0,
          0,
          1,
          0,
          0,
          1,
          0,
          0,
          2,
          43,
          0,
          478,
          1,
          0,
          0,
          0,
          0,
          0,
          0,
          0,
          1,
          0,
          0,
          2,
          2,
          4,
          20,
          4,
          2,
          0,
          2,
          0,
          0,
          0,
          0,
          0,
          1,
          0,
          0,
          0,
          3,
          0,
          8,
          0,
          0,
          0,
          0,
          0,
          0,
          2,
          8,
          0,
          0,
          2,
          0,
          0,
          1,
          0,
          0,
          0,
          1,
          1,
          0,
          1,
          0,
          0,
          7,
          0,
          1,
          0,
          0,
          0,
          3,
          1,
          2,
          0,
          0,
          4,
          0,
          0,
          1,
          0,
          0,
          0,
          1,
          0,
          0,
          2,
          0,
          1,
          0,
          0,
          0,
          0,
          0,
          1,
          9,
          13,
          0,
          0,
          0,
          0,
          0,
          0,
          0,
          0,
          0,
          2,
          0,
          0,
          1,
          0,
          0,
          3,
          1,
          1,
          0,
          2,
          0,
          0,
          2,
          0,
          0,
          1,
          1,
          1,
          0,
          1,
          1,
          1,
          1,
          0,
          1,
          0,
          0,
          0,
          20,
          6,
          17,
          1,
          5,
          0,
          0,
          5,
          2,
          9,
          1,
          3,
          1,
          8,
          0,
          0,
          0,
          4,
          0,
          0,
          1,
          0,
          0,
          0,
          2,
          0,
          17,
          1,
          0,
          6,
          0,
          1,
          0,
          0,
          0,
          0,
          0,
          0,
          0,
          0,
          0,
          0,
          1,
          2,
          0,
          3,
          1,
          0,
          0,
          4,
          0,
          1,
          0,
          1,
          0,
          0,
          0,
          0,
          0,
          0,
          1,
          0,
          0,
          1,
          3,
          1,
          0,
          1,
          0,
          0,
          0,
          0,
          202,
          2,
          4,
          0,
          0,
          8,
          0,
          1,
          2,
          0,
          0,
          0,
          0,
          2,
          0,
          0,
          6,
          0,
          0,
          2,
          0,
          19,
          1,
          0,
          2,
          4,
          1,
          1,
          5,
          2,
          11,
          17,
          4,
          2,
          3,
          0,
          0,
          1,
          0,
          0,
          0,
          0,
          2,
          2,
          0,
          1,
          0,
          0,
          0,
          4,
          1,
          0,
          0,
          0,
          13,
          0,
          4,
          1,
          0,
          1,
          1,
          0,
          1,
          0,
          0,
          0,
          2,
          0,
          1,
          1,
          0,
          1,
          1,
          2,
          1,
          1,
          0,
          0,
          0,
          2,
          0,
          2,
          0,
          0,
          0,
          0,
          0,
          0,
          0,
          0,
          0,
          0,
          1,
          1,
          0,
          1,
          1,
          4,
          0,
          0,
          0,
          2,
          2,
          0,
          0,
          0,
          2,
          0,
          0,
          1,
          1,
          0,
          0,
          1,
          1,
          0,
          0,
          11,
          0,
          1,
          1,
          2,
          0,
          0,
          0,
          0,
          0,
          1,
          1,
          8,
          2,
          7,
          0,
          7,
          13,
          12,
          0,
          0,
          0,
          1,
          0,
          4,
          1,
          0,
          1,
          0,
          1,
          0,
          0,
          0,
          3,
          0,
          0,
          0,
          0,
          1,
          2,
          0,
          1,
          0,
          1,
          0,
          0,
          0,
          0,
          1,
          0,
          1,
          4,
          0,
          0,
          4,
          0,
          1,
          241,
          0,
          0,
          0,
          3,
          4,
          0,
          0,
          2,
          0,
          0,
          0,
          2,
          0,
          0,
          0,
          0,
          1,
          0,
          8,
          2,
          0,
          0,
          1,
          1,
          2,
          1,
          0,
          0,
          5,
          0,
          3,
          0,
          1,
          0,
          1,
          0,
          0,
          0,
          0,
          0,
          8,
          1,
          0,
          3,
          1,
          0,
          0,
          0,
          0,
          0,
          0,
          0,
          0,
          3,
          6,
          0,
          3,
          0,
          0,
          0,
          0,
          0,
          1,
          5,
          1,
          0,
          0,
          0,
          1,
          2,
          0,
          0,
          1,
          0,
          0,
          1,
          0,
          0,
          0,
          1,
          1,
          0,
          0,
          0,
          0,
          0,
          0,
          1,
          0,
          4,
          1,
          2,
          1,
          0,
          0,
          0,
          0,
          0,
          0,
          0,
          1,
          1,
          1,
          0,
          0,
          0,
          1,
          0,
          1,
          0,
          0,
          1,
          0,
          1,
          0,
          0,
          1,
          0,
          0,
          0,
          1,
          0,
          0,
          0,
          0,
          1,
          0,
          0,
          0,
          0,
          0,
          0,
          0,
          0,
          0,
          1,
          0,
          4,
          1,
          4,
          0,
          0,
          0,
          13,
          2,
          0,
          1,
          0,
          0,
          0,
          2,
          0,
          5,
          1,
          0,
          0,
          0,
          2,
          10,
          1,
          0,
          0,
          0,
          0,
          0,
          33,
          2,
          0,
          0,
          3,
          3,
          0,
          1,
          4,
          0,
          1,
          4,
          1,
          0,
          1,
          0,
          0,
          0,
          0,
          0,
          0,
          0,
          1,
          4,
          0,
          1,
          0,
          0,
          3,
          0,
          0,
          0,
          0,
          0,
          0,
          0,
          0,
          2,
          2,
          1,
          0,
          0,
          0,
          0,
          0,
          0,
          1,
          3,
          1,
          0,
          3,
          0,
          2,
          0,
          0,
          2,
          0,
          0,
          0,
          1,
          0,
          0,
          0,
          0,
          0,
          0,
          0,
          0,
          1,
          1,
          0,
          2,
          0,
          0,
          0,
          0,
          0,
          0,
          0,
          1,
          0,
          0,
          0,
          0,
          0,
          0,
          0,
          0,
          5,
          0,
          0,
          1,
          1,
          0,
          0,
          1,
          4,
          2,
          0,
          2,
          1,
          0,
          0,
          2,
          0,
          0,
          0,
          0,
          2,
          0,
          6,
          0,
          1,
          0,
          0,
          0,
          0,
          1,
          0,
          0,
          8,
          0,
          2,
          0,
          0,
          0,
          0,
          0,
          1,
          0,
          0,
          0,
          0,
          12,
          1,
          2,
          0,
          0,
          1,
          0,
          1,
          1,
          3,
          8,
          1,
          0,
          0,
          1,
          0,
          0,
          0,
          0,
          1,
          0,
          0,
          0,
          1,
          0,
          1,
          3,
          0,
          0,
          3,
          1,
          0,
          0,
          1,
          0,
          0,
          0,
          1,
          0,
          13,
          0,
          0,
          1,
          0,
          0,
          0,
          1,
          0,
          0,
          0,
          0,
          0,
          0,
          2,
          3,
          0,
          0,
          0,
          1,
          2,
          1,
          0,
          0,
          0,
          1,
          9,
          0,
          0,
          0,
          1,
          2,
          0,
          1,
          0,
          0,
          1,
          0,
          1,
          1,
          2,
          0,
          0,
          0,
          1,
          3,
          0,
          1,
          0,
          0,
          2,
          0,
          1,
          0,
          1,
          0,
          0,
          0,
          3,
          0,
          0,
          0,
          0,
          1,
          1,
          0,
          0,
          0,
          1,
          0,
          1,
          1,
          0,
          0,
          0,
          0,
          0,
          2,
          0,
          0,
          0,
          0,
          0,
          0,
          0,
          0,
          0,
          0,
          13,
          1,
          0,
          1,
          0,
          0,
          0,
          5,
          0,
          0,
          0,
          0,
          0,
          1,
          4,
          0,
          0
         ],
         "y0": " ",
         "yaxis": "y"
        }
       ],
       "layout": {
        "autosize": true,
        "boxmode": "group",
        "legend": {
         "tracegroupgap": 0
        },
        "margin": {
         "t": 60
        },
        "template": {
         "data": {
          "bar": [
           {
            "error_x": {
             "color": "#2a3f5f"
            },
            "error_y": {
             "color": "#2a3f5f"
            },
            "marker": {
             "line": {
              "color": "#E5ECF6",
              "width": 0.5
             }
            },
            "type": "bar"
           }
          ],
          "barpolar": [
           {
            "marker": {
             "line": {
              "color": "#E5ECF6",
              "width": 0.5
             }
            },
            "type": "barpolar"
           }
          ],
          "carpet": [
           {
            "aaxis": {
             "endlinecolor": "#2a3f5f",
             "gridcolor": "white",
             "linecolor": "white",
             "minorgridcolor": "white",
             "startlinecolor": "#2a3f5f"
            },
            "baxis": {
             "endlinecolor": "#2a3f5f",
             "gridcolor": "white",
             "linecolor": "white",
             "minorgridcolor": "white",
             "startlinecolor": "#2a3f5f"
            },
            "type": "carpet"
           }
          ],
          "choropleth": [
           {
            "colorbar": {
             "outlinewidth": 0,
             "ticks": ""
            },
            "type": "choropleth"
           }
          ],
          "contour": [
           {
            "colorbar": {
             "outlinewidth": 0,
             "ticks": ""
            },
            "colorscale": [
             [
              0,
              "#0d0887"
             ],
             [
              0.1111111111111111,
              "#46039f"
             ],
             [
              0.2222222222222222,
              "#7201a8"
             ],
             [
              0.3333333333333333,
              "#9c179e"
             ],
             [
              0.4444444444444444,
              "#bd3786"
             ],
             [
              0.5555555555555556,
              "#d8576b"
             ],
             [
              0.6666666666666666,
              "#ed7953"
             ],
             [
              0.7777777777777778,
              "#fb9f3a"
             ],
             [
              0.8888888888888888,
              "#fdca26"
             ],
             [
              1,
              "#f0f921"
             ]
            ],
            "type": "contour"
           }
          ],
          "contourcarpet": [
           {
            "colorbar": {
             "outlinewidth": 0,
             "ticks": ""
            },
            "type": "contourcarpet"
           }
          ],
          "heatmap": [
           {
            "colorbar": {
             "outlinewidth": 0,
             "ticks": ""
            },
            "colorscale": [
             [
              0,
              "#0d0887"
             ],
             [
              0.1111111111111111,
              "#46039f"
             ],
             [
              0.2222222222222222,
              "#7201a8"
             ],
             [
              0.3333333333333333,
              "#9c179e"
             ],
             [
              0.4444444444444444,
              "#bd3786"
             ],
             [
              0.5555555555555556,
              "#d8576b"
             ],
             [
              0.6666666666666666,
              "#ed7953"
             ],
             [
              0.7777777777777778,
              "#fb9f3a"
             ],
             [
              0.8888888888888888,
              "#fdca26"
             ],
             [
              1,
              "#f0f921"
             ]
            ],
            "type": "heatmap"
           }
          ],
          "heatmapgl": [
           {
            "colorbar": {
             "outlinewidth": 0,
             "ticks": ""
            },
            "colorscale": [
             [
              0,
              "#0d0887"
             ],
             [
              0.1111111111111111,
              "#46039f"
             ],
             [
              0.2222222222222222,
              "#7201a8"
             ],
             [
              0.3333333333333333,
              "#9c179e"
             ],
             [
              0.4444444444444444,
              "#bd3786"
             ],
             [
              0.5555555555555556,
              "#d8576b"
             ],
             [
              0.6666666666666666,
              "#ed7953"
             ],
             [
              0.7777777777777778,
              "#fb9f3a"
             ],
             [
              0.8888888888888888,
              "#fdca26"
             ],
             [
              1,
              "#f0f921"
             ]
            ],
            "type": "heatmapgl"
           }
          ],
          "histogram": [
           {
            "marker": {
             "colorbar": {
              "outlinewidth": 0,
              "ticks": ""
             }
            },
            "type": "histogram"
           }
          ],
          "histogram2d": [
           {
            "colorbar": {
             "outlinewidth": 0,
             "ticks": ""
            },
            "colorscale": [
             [
              0,
              "#0d0887"
             ],
             [
              0.1111111111111111,
              "#46039f"
             ],
             [
              0.2222222222222222,
              "#7201a8"
             ],
             [
              0.3333333333333333,
              "#9c179e"
             ],
             [
              0.4444444444444444,
              "#bd3786"
             ],
             [
              0.5555555555555556,
              "#d8576b"
             ],
             [
              0.6666666666666666,
              "#ed7953"
             ],
             [
              0.7777777777777778,
              "#fb9f3a"
             ],
             [
              0.8888888888888888,
              "#fdca26"
             ],
             [
              1,
              "#f0f921"
             ]
            ],
            "type": "histogram2d"
           }
          ],
          "histogram2dcontour": [
           {
            "colorbar": {
             "outlinewidth": 0,
             "ticks": ""
            },
            "colorscale": [
             [
              0,
              "#0d0887"
             ],
             [
              0.1111111111111111,
              "#46039f"
             ],
             [
              0.2222222222222222,
              "#7201a8"
             ],
             [
              0.3333333333333333,
              "#9c179e"
             ],
             [
              0.4444444444444444,
              "#bd3786"
             ],
             [
              0.5555555555555556,
              "#d8576b"
             ],
             [
              0.6666666666666666,
              "#ed7953"
             ],
             [
              0.7777777777777778,
              "#fb9f3a"
             ],
             [
              0.8888888888888888,
              "#fdca26"
             ],
             [
              1,
              "#f0f921"
             ]
            ],
            "type": "histogram2dcontour"
           }
          ],
          "mesh3d": [
           {
            "colorbar": {
             "outlinewidth": 0,
             "ticks": ""
            },
            "type": "mesh3d"
           }
          ],
          "parcoords": [
           {
            "line": {
             "colorbar": {
              "outlinewidth": 0,
              "ticks": ""
             }
            },
            "type": "parcoords"
           }
          ],
          "scatter": [
           {
            "marker": {
             "colorbar": {
              "outlinewidth": 0,
              "ticks": ""
             }
            },
            "type": "scatter"
           }
          ],
          "scatter3d": [
           {
            "line": {
             "colorbar": {
              "outlinewidth": 0,
              "ticks": ""
             }
            },
            "marker": {
             "colorbar": {
              "outlinewidth": 0,
              "ticks": ""
             }
            },
            "type": "scatter3d"
           }
          ],
          "scattercarpet": [
           {
            "marker": {
             "colorbar": {
              "outlinewidth": 0,
              "ticks": ""
             }
            },
            "type": "scattercarpet"
           }
          ],
          "scattergeo": [
           {
            "marker": {
             "colorbar": {
              "outlinewidth": 0,
              "ticks": ""
             }
            },
            "type": "scattergeo"
           }
          ],
          "scattergl": [
           {
            "marker": {
             "colorbar": {
              "outlinewidth": 0,
              "ticks": ""
             }
            },
            "type": "scattergl"
           }
          ],
          "scattermapbox": [
           {
            "marker": {
             "colorbar": {
              "outlinewidth": 0,
              "ticks": ""
             }
            },
            "type": "scattermapbox"
           }
          ],
          "scatterpolar": [
           {
            "marker": {
             "colorbar": {
              "outlinewidth": 0,
              "ticks": ""
             }
            },
            "type": "scatterpolar"
           }
          ],
          "scatterpolargl": [
           {
            "marker": {
             "colorbar": {
              "outlinewidth": 0,
              "ticks": ""
             }
            },
            "type": "scatterpolargl"
           }
          ],
          "scatterternary": [
           {
            "marker": {
             "colorbar": {
              "outlinewidth": 0,
              "ticks": ""
             }
            },
            "type": "scatterternary"
           }
          ],
          "surface": [
           {
            "colorbar": {
             "outlinewidth": 0,
             "ticks": ""
            },
            "colorscale": [
             [
              0,
              "#0d0887"
             ],
             [
              0.1111111111111111,
              "#46039f"
             ],
             [
              0.2222222222222222,
              "#7201a8"
             ],
             [
              0.3333333333333333,
              "#9c179e"
             ],
             [
              0.4444444444444444,
              "#bd3786"
             ],
             [
              0.5555555555555556,
              "#d8576b"
             ],
             [
              0.6666666666666666,
              "#ed7953"
             ],
             [
              0.7777777777777778,
              "#fb9f3a"
             ],
             [
              0.8888888888888888,
              "#fdca26"
             ],
             [
              1,
              "#f0f921"
             ]
            ],
            "type": "surface"
           }
          ],
          "table": [
           {
            "cells": {
             "fill": {
              "color": "#EBF0F8"
             },
             "line": {
              "color": "white"
             }
            },
            "header": {
             "fill": {
              "color": "#C8D4E3"
             },
             "line": {
              "color": "white"
             }
            },
            "type": "table"
           }
          ]
         },
         "layout": {
          "annotationdefaults": {
           "arrowcolor": "#2a3f5f",
           "arrowhead": 0,
           "arrowwidth": 1
          },
          "colorscale": {
           "diverging": [
            [
             0,
             "#8e0152"
            ],
            [
             0.1,
             "#c51b7d"
            ],
            [
             0.2,
             "#de77ae"
            ],
            [
             0.3,
             "#f1b6da"
            ],
            [
             0.4,
             "#fde0ef"
            ],
            [
             0.5,
             "#f7f7f7"
            ],
            [
             0.6,
             "#e6f5d0"
            ],
            [
             0.7,
             "#b8e186"
            ],
            [
             0.8,
             "#7fbc41"
            ],
            [
             0.9,
             "#4d9221"
            ],
            [
             1,
             "#276419"
            ]
           ],
           "sequential": [
            [
             0,
             "#0d0887"
            ],
            [
             0.1111111111111111,
             "#46039f"
            ],
            [
             0.2222222222222222,
             "#7201a8"
            ],
            [
             0.3333333333333333,
             "#9c179e"
            ],
            [
             0.4444444444444444,
             "#bd3786"
            ],
            [
             0.5555555555555556,
             "#d8576b"
            ],
            [
             0.6666666666666666,
             "#ed7953"
            ],
            [
             0.7777777777777778,
             "#fb9f3a"
            ],
            [
             0.8888888888888888,
             "#fdca26"
            ],
            [
             1,
             "#f0f921"
            ]
           ],
           "sequentialminus": [
            [
             0,
             "#0d0887"
            ],
            [
             0.1111111111111111,
             "#46039f"
            ],
            [
             0.2222222222222222,
             "#7201a8"
            ],
            [
             0.3333333333333333,
             "#9c179e"
            ],
            [
             0.4444444444444444,
             "#bd3786"
            ],
            [
             0.5555555555555556,
             "#d8576b"
            ],
            [
             0.6666666666666666,
             "#ed7953"
            ],
            [
             0.7777777777777778,
             "#fb9f3a"
            ],
            [
             0.8888888888888888,
             "#fdca26"
            ],
            [
             1,
             "#f0f921"
            ]
           ]
          },
          "colorway": [
           "#636efa",
           "#EF553B",
           "#00cc96",
           "#ab63fa",
           "#FFA15A",
           "#19d3f3",
           "#FF6692",
           "#B6E880",
           "#FF97FF",
           "#FECB52"
          ],
          "font": {
           "color": "#2a3f5f"
          },
          "geo": {
           "bgcolor": "white",
           "lakecolor": "white",
           "landcolor": "#E5ECF6",
           "showlakes": true,
           "showland": true,
           "subunitcolor": "white"
          },
          "hoverlabel": {
           "align": "left"
          },
          "hovermode": "closest",
          "mapbox": {
           "style": "light"
          },
          "paper_bgcolor": "white",
          "plot_bgcolor": "#E5ECF6",
          "polar": {
           "angularaxis": {
            "gridcolor": "white",
            "linecolor": "white",
            "ticks": ""
           },
           "bgcolor": "#E5ECF6",
           "radialaxis": {
            "gridcolor": "white",
            "linecolor": "white",
            "ticks": ""
           }
          },
          "scene": {
           "xaxis": {
            "backgroundcolor": "#E5ECF6",
            "gridcolor": "white",
            "gridwidth": 2,
            "linecolor": "white",
            "showbackground": true,
            "ticks": "",
            "zerolinecolor": "white"
           },
           "yaxis": {
            "backgroundcolor": "#E5ECF6",
            "gridcolor": "white",
            "gridwidth": 2,
            "linecolor": "white",
            "showbackground": true,
            "ticks": "",
            "zerolinecolor": "white"
           },
           "zaxis": {
            "backgroundcolor": "#E5ECF6",
            "gridcolor": "white",
            "gridwidth": 2,
            "linecolor": "white",
            "showbackground": true,
            "ticks": "",
            "zerolinecolor": "white"
           }
          },
          "shapedefaults": {
           "line": {
            "color": "#2a3f5f"
           }
          },
          "ternary": {
           "aaxis": {
            "gridcolor": "white",
            "linecolor": "white",
            "ticks": ""
           },
           "baxis": {
            "gridcolor": "white",
            "linecolor": "white",
            "ticks": ""
           },
           "bgcolor": "#E5ECF6",
           "caxis": {
            "gridcolor": "white",
            "linecolor": "white",
            "ticks": ""
           }
          },
          "title": {
           "x": 0.05
          },
          "xaxis": {
           "automargin": true,
           "gridcolor": "white",
           "linecolor": "white",
           "ticks": "",
           "zerolinecolor": "white",
           "zerolinewidth": 2
          },
          "yaxis": {
           "automargin": true,
           "gridcolor": "white",
           "linecolor": "white",
           "ticks": "",
           "zerolinecolor": "white",
           "zerolinewidth": 2
          }
         }
        },
        "xaxis": {
         "anchor": "y",
         "autorange": true,
         "domain": [
          0,
          0.98
         ],
         "range": [
          -0.5,
          32.5
         ],
         "title": {
          "text": "NER"
         },
         "type": "category"
        },
        "yaxis": {
         "anchor": "x",
         "autorange": true,
         "domain": [
          0,
          1
         ],
         "range": [
          -26.55555555555555,
          504.55555555555554
         ],
         "title": {
          "text": "favs"
         },
         "type": "linear"
        }
       }
      },
      "image/png": "[encoded data removed]",
      "text/html": [
       "<div>\n",
       "        \n",
       "        \n",
       "            <div id=\"f9b479ab-5394-4a1f-91f7-0c16a5797042\" class=\"plotly-graph-div\" style=\"height:600px; width:100%;\"></div>\n",
       "            <script type=\"text/javascript\">\n",
       "                require([\"plotly\"], function(Plotly) {\n",
       "                    window.PLOTLYENV=window.PLOTLYENV || {};\n",
       "                    \n",
       "                if (document.getElementById(\"f9b479ab-5394-4a1f-91f7-0c16a5797042\")) {\n",
       "                    Plotly.newPlot(\n",
       "                        'f9b479ab-5394-4a1f-91f7-0c16a5797042',\n",
       "                        [{\"alignmentgroup\": \"True\", \"customdata\": [[\"Why do LNP want a #NBN tax? Better to save on recurrent power ant maintenance cost by replacing copper with fibre. But I guess it would allow extra price gouging by whichever mate they sell it to!! #auspol\"], [\"@NBN_Australia This is so confusing. The new @NBN_Australia wholesale plans announced on the 26/11/19 are reducing upload speeds for the top end plans. Now you're suggesting that users upload backup data to the cloud... #nbn #slowupload\"], [\"@Optus @NBN_Australia starting to get a bit ridiculous now, haven't been able to access my internet for over 12 hours. Can't even do anything about it because I don't get any reception to the Optus network in my house either! Horrible.\"], [\". Hey @Optus NBN is down AGAIN in Hoppers Crossing Victoria, Seems like there\\u2019s issue with @NBN_Australia almost everyday. Can\\u2019t get any work done with this crap happening all the time. https://t.co/K0jmy8ByCm\"], [\"@NBN_Australia 2/2 so we waste time troubleshooting. Hours later they get note from nbn saying it's area outage... too late!!\"], [\"@NBN_Australia This is frustrating. ..I'm not talking about social media. I'm saying nbn as a whole needs to better manage customer experience when it comes to outage. E.g, when there is outage, I call my provider and they can't see if it's an area outage or just me.\"], [\"Our FttB NBN connection has developed a new habit, randomly losing line sync in the middle of day \\ud83d\\ude21\\n\\nTried replacing the modem, no difference https://t.co/eMSCEJk1yW\"], [\"@Species1951 @AusRepublic @TurnbullMalcolm I wouldn't say Abbott is Malc's mate in any, which, way, shape or form.  Oh to be a fly on the wall when Murdoch scuppered the NBN.  Murdoch can't publish enough fanmail for Abbott.\"], [\"So now if I want to connect the $380 device we were sold to fix the poorly working backup connection while we wait for the poorly ordered NBN location move to be completely cancelled before it can be re-ordered correctly, I need to buy another sim card for $80/mth to make it work\"], [\"@bantambaby @3wombats I just spent 15 minutes talking to \\\"Justin\\\" from the NBN. The imbecile didn't realise in all that time I was taking the piss, became very profane when I finally let on. The joys of retirement &amp; living in a remote area, you take your fun &amp; entertainment whenever you can.\"], [\"@Aussie_BB Are you guys able to make @NBN_Australia address a network shortfall in an apartment building where all other units are connected? I\\u2019ve had things continuously put back for over 18 months now.\"], [\"I was kinda nervous about the NBN cause I've heard mixed reviews but goddamn\\n\\nIt's actually good..\"], [\"@shhartley I got Optus NBN installed in March. I love it.\"], [\"Excitement all round at our house. NBN installed today. We have gone from speeds of 3mbs for downloads to 20-40mbs!\"], [\"NBN outage \\ud83d\\ude21 no KookaCam\"], [\"@NBN_Australia is this a scam? \\ud83e\\udd14 https://t.co/avDK1iV1wb\"], [\"@Rtros couldn't live without NBN tbh\"], [\"@AusRepublic @TurnbullMalcolm It's the current standard of Australian politicians, like when you and your mate Abbot spent $50+ bn to butcher the NBN with a mish mash of technologies, or when Dan Andrews paid $2+ bn NOT to build the East West link. You should know - you're part of it!\"], [\"apparently i get NBN tomorrow, but how do i know if its available? do i get a letter through the mail?\"], [\"#nbn on of the problems about FTTN that you cant get the same VDSL sync all the time\"], [\"@NBN_Australia My house is \\\"too big of a job\\\" according to NBN, it will cost too much to do all the digging and wiring from my house to the node. I am on the back of a block without easy access to a node or power lines \\ud83e\\udd37\\u200d\\u2640\\ufe0f NBN technicians have come 4 times and scratched their heads.\"], [\"Extremely slow internet for past few days @TPG_Telecom ... NBN is not that fast what they claim\"], [\"@Ultimateqestion @themarkjacka That sure explains the NBN\"], [\"No Internet in my house this morning. Forced to rely on mobile data which is more stable than NBN @AndyB_Aussiered\"], [\"@Charalanahzard Man I just got the NBN at my place and our internet speed tripled, too bad it's still 400+Mbps than that!!!\"], [\"@Megacurve Sorry to hear the services are still not back up and running, but great to hear Optus are keeping you up to date. You're talking to the right people. Can we ask - is there anyone at your home that is medically vulnerable? If so please provide additional information. ^Maya\"], [\"Joy of joys... Apparently the cancellation of previous incorrectly ordered #Telstra #NBN connection has still not been cancelled so that it can be correctly reordered.... O_o Yup.... Surprised... Not in the least.\"], [\"@mana_kailani @davidbewart Might've thought it was Nicole from the NBN , know who'd I'd rather talk to\"], [\"@PaulFletcherMP @MarkCoultonMP @NBN_Australia Except when the NBN is down, or the weather isn't perfect, or it's raining, or windy, or......\\n\\nI'll call that blue vehicle a 'Unicorn', because that's how often you'll see one out in the wild.\"], [\"@NBN_Australia I appreciate that. However my point is that I currently pay a certain amount and receive 110mbps on the current network. For the same \\namount/month, on the NBN, I will receive a far slower speed. This is meant to be progress, not regress. That just makes no sense to me. #auspol\"], [\"@Telstra_news What\\u2019s the latest news on the cyber attack which has caused the NBN outage?  It\\u2019s been ongoing for the last 48hrs.\"], [\"@_catburger @NevarcBB Ahha. Rip.\\nThe only thing I use on ethernet now is the switch. When we got nbn had the same thing of the router moving from a room that made sense, to our bedroom and so I decided to just test using WiFi and it's been really stable and fast for our PCs and PS4 so.\"], [\"Hopefully will have internet after today. The NBN technician is coming between 8-12 finally. Been without internet since Saturday and it\\u2019s driving me insane.\"], [\"@BreakOneBarrier I don't usually play NBN but I'm gonna play the shit out of that lol\"], [\"The whole NBN technical support process is as shite as the NBN. I've taken time off work this morning (not a convenient time to do that either) only to have the tech ring and say they can't make the 4hr time slot allocated and they will be late is that ok?..not it's effing Not!\"], [\"@BrettMasonNews @SBSNews @TurnbullMalcolm @AusRepublic That Malcolm is like dog with a bone, why did he not display that tenacity to perfect the NBN? \\ud83e\\udd28\"], [\"@SuperSpuddles Sounds about right for Aus.\\nInwent from Cable to NBN and my internet got worse.\"], [\"@Optus You guys can stop sending me reminders to set up NBN. I\\u2019ve received two since successfully doing so.  Don\\u2019t you check before sending threats?\"], [\"@NevarcBB @Lelielisme I used to have my modem/router plugged into the ethernet port in my room with enough ports. However, since I got NBN (in the lounge) I've just had the one giant ethernet cable running through the house to my desktop lol, I don't have a network switch or anything in my room atm\"], [\"@NBN_Australia @SirWufflesTheII \\\"That's not want we're wanting\\\"\"], [\"#ABC774 still pretending 5G will be a replacement for fixed broadband. We still need a FTTP #NBN. \\n#Auspol #Fraudband\"], [\"I just got NBN connected n it feels like my phone is at its first music festival n has just dropped two pingers\"], [\"@SenatorMcGrath No that would be the NBN\"], [\"That totally screwed feeling as the stupid Australian media touts cheaper @NBN_Australia while upload speeds are strangled, @mcannonbrookes can you believe how backwards Australia's internet has become?\"], [\"@markjs1 @NBN_Australia @Aussie_BB There is not a day that our NBN doesn\\u2019t go down ....\"], [\"It's utterly bizarre &amp; a clear case of 'magical thinking' by @NBN_Australia to encourage even more demand upon INFRASTRUCTURE THAT CANNOT COPE WITH CURRENT DEMAND!!\\n\\n..what the FUCK is going on?!!\\n\\n@Aussie_BB #NBN #auspol\"], [\"I really don't understand what @NBN_Australia is trying to achieve by lowering the cost of higher speeds &amp; thus encouraging customers to migrate to a higher speed tier..\\n\\nWhen we ALL know the current infrastructure will not be able to cope with MORE data demand..\\n\\n#NBN #auspol\"], [\"Aussie Broadband $50 off first month! \\nReferral code: 2196434 #NBN #broadband #internet #discount #credit #deal #saving #code #referral #reliable #customerservice #passion #it #aussie #aussiebroadband #mate #connect #join\"], [\"The funny sensation of excitement on a stranger's NBN \\ud83d\\ude4c\"], [\"@Optus v. Disappointed that home #phone hasn\\u2019t been repaired/worked for 3 weeks. We can\\u2019t phone 90+ relatives who doesn\\u2019t use internet. Poor service. Blamed on @NBN_Australia but that\\u2019s not the case now.\"], [\"@sprintcare Uncomfortable buying a phone sight unseen and he then stated I had 30 days to return it. I the nbn said I didn't feel comfortable again and he stated what part of what are you incapable of understanding. I said excuse me and he stated he was not going to repeat himself I then\"], [\"Zin Williamn an immer Freee iglig ar f ur all-eae en eam a NBN ninue  elebrae e eae a a in bakeball  KTLg7TW\"], [\"@fatieIe Used to have to watch in 240 P a few years ago before NBN. Dark times indeed\"], [\"NBN is just going horrible. \\ud83d\\udd95\\nBring back ADSL\"], [\"@DoctorKarl Australia's internet speeds are pathetic and NBN was outdated before it was even rolled out\"], [\"@CRN_au Is there any update on the cyber attack that has caused the NBN outage over the last 2 days? Has it been traced back to China yet?\"], [\"@Telstra @Telstra_news @iTnews_au  @NBN_Australia Is there at update on the cyber attack that has caused the NBN outage over the last 2 days? Has it been traced back to China yet?\"], [\"Does anybody know what\\u2019s happening with the major NBN outage? Apparently it\\u2019s under attack from overseas.\"], [\"@acyberexpert @decryption @georgeharito @CaNerdIan I was confused how a Canadian was going with an Australian NBN modem myself. Mine is just laying on its side very unceremoniously.\"], [\"@David_EC_Reid This isn't the experience we're wanting for you, David. I'd be disappointed too. Please ask your provider to test your lines. They'll be able to find where the issue lies. If it's an issue with nbn our nbn support team will work with your provider to fix it. ^Rose\"], [\"@DaphneDarling_x That is totally crap, is it nbn?\"], [\"NBN speed - you can\\u2019t beat it, thank god we weren\\u2019t allowed to keep our cable system where you could download stuff! #nbnisuseless https://t.co/ghphTfgXXz\"], [\"@Interdoorsman Hey Interdoorsman, there's a number of factors that might affect your connection. Have you reached out to your provider to carry out some line testing? If it's an issue with our infrastructure our nbn support team will work with your provider to fix it. ^Rose\"], [\"@SkillUpYT @Charalanahzard I'm a 2 hour drive outside of sydney and this is what I'm working with on the NBN. https://t.co/FAZXzohbsc\"], [\"@D_Melissa2 @CalvinMcClure9 @mana_kailani @TurnbullMalcolm What other good things Melissa? The NBN is a travesty, he purchased the prime ministership otherwise they would never have voted for him &amp; have you met Lucy \\ud83e\\udd14\"], [\"@SkillUpYT @Charalanahzard I just finally got nbn and my speeds are 1/10th of that\"], [\"@beckykate85 Hi Becky, sorry for the late response. I apologise for any frustration caused by the delay in moving your internet service. Is an ADSL, Cable or NBN service that is due to be connected? \\nWhat has been advised is causing the delay? -Ivan\"], [\"@FunTechalyst Mobile data is about 2% of all data in Aus right now. 5 g just does not have the capacity to Cary the huge amounts of data the NBN can. We need them both.\"], [\"@KrisMuree Hi Kishore, sorry for the late response. I apologise that you have had an ongoing internet issue that is yet to be resolved. Do you have an ADSL, Cable or NBN service? \\nHave you been affected by a network issue or is this specific to your service? What has been advised? -Ivan\"], [\"The internet was nice while it lasted. Had to return the generator off so we (and neighbours) can sleep, which means NBN off and the fridge will have to stay cool itself until the morning. It'd be nice to wake up with the power back but yeah i doubt it.\"], [\"@jasonimms @Charalanahzard How do you get over 800 in Australia? Our nbn doesn't even hit 50\"], [\"@Aussie_BB Thanks but I already called. NBN seems to have told AussieBB as much as they\\u2019ve told me - zilch, only \\u201csolution\\u201d is to just wait until they decide to hook it up properly, in contrast to whatever NBN did the last couple of times \\ud83d\\ude1e\"], [\"@CalvinMcClure9 @mana_kailani @TurnbullMalcolm I like Malcolm, his family are lovely too. Yes people say the NBN but they don\\u2019t remember other good things. I miss him, he was a hell of a lot better than Morrison.\"], [\"@NBN_Australia I\\u2019ve had this fault since August but only lodged it 2 weeks ago due to it getting progressively worse. Apparently NBN was fixed today but I\\u2019m still having the same issue \\ud83d\\ude15 so my issue is not the issue they thought it was. Not good enough!\"], [\"Looking forward to my 100Mbps cable connection being forcibly disconnected for slower, less stable, more expensive \\\"NBN\\\" plans.\"], [\"@NBN_Australia After 23 hours without power it has returned. So has nbn.\\nNeeding power to run the phone seems to be a very backwards step compared to the copper network that kept working in these conditions.\\nI would describe it as a fundamental design flaw when a system is so sensitive.\"], [\"@David_EC_Reid @NBN_Australia Adam Russo supported the NBN from Day 1.  It\\u2019s a bust.\"], [\"@Locked4YourFeet @QueenSalt1 Hills District too, but south of Rouse Hill. Where I lived prior to this was a 5 min drive... NBN was incredibly reliable, consistent crazy high speeds. So who the hell knows. But I'm fed up by it all... I try not to think about it but its My WORK. Agent gives zero shits.\"], [\"NBN, what a joke, I had better speeds with dial up!!!!\"], [\"@pieman_78 Call nbn, they say speak to your provider. Call belong, they say they can\\u2019t do anything because that\\u2019s something nbn done. Whatever else, the system is built on never being able to hold anyone to account.\"], [\"@australian Inspiring words from Malcolm, I\\u2019m guessing he will first fix NBN before returning as supreme leader, or is now not the time to talk about that?\"], [\"@QueenSalt1 I've been FAR too patient and kind to this agent. Nearly 8 weeks from moving in, and he's just fed me BS all along insisting it has NBN, despite me fwding emails FROM NBNco saying it never has and doesn't have NBN. Prick. Fucking prick.\"], [\"I can\\u2019t wait for Friday. NBN tech booked in to fault find why the service drops out when it rains. \\n\\nThis is almost certainly going to go as well as it sounds it could.\"], [\"Had the dreaded call today that I must change over to @NBN_Australia soon. I currently have Cable Internet with @Telstra that works great, and I get 110mbps. I was told today I will expect about 45mbps when I migrate to NBN. How the hell is this progress?!? #auspol #nbn\"], [\"@acryptae I'm actually on nbn as well\\ud83d\\udc40\"], [\"@MaxMaximilan @AusIndiMedia @SeanBradbery I highly doubt they left it as it because it was \\\"better\\\" than the FTTP offered by the NBN, I think it's more likely that you 'thought' wrong.\"], [\"@QueenSalt1 My last place had NBN - 90-100 Mbps DL, ~50+ upload. I cam, so #1 for the house I was to move to was NBN. This agent lied. I was too stupid to believe him despite not seeing an NBN box. Assumed NBN could be connected in other ways w/o a box. Lesson learned. Trust no agents. https://t.co/DgS7YpLogE\"], [\"@AusIndiMedia @fount8 Omg. After seeing your comprehension regarding the NBN I.e wouldn't have a fkn  clue.. I can only assume you're logic regarding climate change is about as comprehensive as most teenage hippies.. I.e you're brainwashed and clueless! #CLIMATEHOAX\"], [\"@Charalanahzard @jasonimms It\\u2019s because Australian internet is so expensive and slow. The internal network is not good, and the undersea links are highly congested and long. Unfortunately that would have changed significantly if the NBN was rolled out. I got the shits and moved to Europe due to this\"], [\"@AusIndiMedia @littlbit21 I can safely say that I know for a FACT that the NBN, in my case, FTTP is 100x better than adsl2!\"], [\"@RitzStuart @SBSNews If the votes are cast online via NBN it will be 2060 before the results are in.\"], [\"@DrKimJohnstone @AusIndiMedia @SeanBradbery And lol at your stupid response Dr.. Clearly you don't have a clue what you're talking about.. \\\"ADSL didn't have to go through a copper wire installed in the 1950s\\\" yet you think NBN does? Rofl.. don't give up your day time job...\"], [\"@isekai_trash @FormulaOneWorld I got the NBN so I could stream smoothly though, so yeah, I am awaiting for Friday AEST to get my builder to come and change my PC Case, and then I will just mod my F1 2019 (The Black Red car for example) and yeah . haha! I'll stream .\"], [\"@deniseshrivell Submarines are like expensive cars, you just keep pouring money into them with no return, unlike the NBN which would be a better proposition\"], [\"@iiNet This isn't the feedback, i have a year of records. I have been ridiculously patient, getting constantly overcharged, you guys cancelling NBN, not giving me sufficient answers. This will be fun.\"], [\"So @NBN_Australia sent an \\u201cappointment reminder\\u201d but neither date nor time. Comment is superfluous.\"], [\"@iiNet A year I've been trying to get NBN to work, and i have to deal with this...\"], [\"@ScanAustralia @acmadotgov @PaulFletcherMP this looks like your department. A fake nbn website still alive after being reported seems a bit crap\"], [\"@Charalanahzard Aussie here yet to get NBN. Strong 4 mbps \\ud83d\\ude2d\\ud83d\\ude2d\\ud83d\\ude2d\\ud83d\\ude2d\\ud83d\\ude2d\\ud83d\\ude2d\\ud83d\\ude2d\\ud83d\\ude2d\"], [\"@PaulBurkhill @NBN_Australia Well, @NBN_Australia My ISP sent out a tech, and it's amazing the equipment you can now get. He tested my line and said that the fault lies about 104m from my house ..which incidentally is the distance to the NBN pit!!!! Flaky internet for TWO DAYS.\"], [\"@NBN_Australia Thanks. I called Optus shortly after it went out and they are sending sms with updates. I have a reference number.  Last said it was a complicated network fault... still no nbn internet and so no land line phone at 5:35PM Wednesday.\"], [\"NBN rng reman  g,  mlex, and neran elra  va @ZDNe &am; @de\"], [\"@Charalanahzard Oh you think you're better than NBN???\"], [\"@sunanda_creagh @ConversationEDU Malcolm Turnbull wants to fix the web?  He well and truly fixed it with the NBN.\"], [\"@Charalanahzard @ChampChong chelmer got nbn a few months ago it is going alright now at least uwu https://t.co/w62PIkyCgC\"], [\"@GrayConnolly @AndyB_Aussiered Another day another NBN outage https://t.co/RIM7TIjt4g\"], [\"#NewProfilePic\\n#NBN compatible #copper\"], [\"Yet another phishing call on the landline, this time claiming to be from @NBN_Australia, with a technician explaining I'm not getting full speeds because of congestion. I hung up.\"], [\"@Charalanahzard cries in nbn\"], [\"@davejrt_ We've got you beat... we have the NBN...\"], [\"NBN riin remain  i,  mlex, and unerain Telra\\n \"], [\"@arafattehsin Hi Arafat, NBN Co has reported that the issue has been resolved. We're seeing that your service is now working. Please let us know if there is still an issue with your internet service. -Mel\"], [\"@HarrisonRising When I finish eating anything I have to nbn show my nb hands like a black jack dealer , all gone, nothing for you!!\"], [\"@craigparsons777 If a fault is found, and they are unable to fix the issue, they are required to follow their internal process and lodge an incident with nbn relating to this matter. 2/3\"], [\"@Aussie_BB I'm still connected to ADSL unfortunately, as my area doesn't have the NBN just yet, so I don't know if that helps whatsoever sorry. \\ud83d\\ude14 Should I provide on my area? I don't know if that would help either lol. Sorry about this by the way.\"], [\"@craigparsons777 Hi Craig, we apologise for any inconvenience this has caused. We refer you back to your service provider as they provide you with the service, nbn is the wholesaler of the network. ^Lisa 1/2\"], [\"So @NBN_Australia, why are you rejecting a fault from my provider? Constant sync drops and speed issues, your own line test says unstable. I know you're sick of attending my premises, but if you fix it you can stop\"], [\"@BombersFan44 Hey there! It really depends on the type of NBN service you do have, do you know what type you are connected too so I can give a rough estimate on speed? (this is no way confirming or guaranteeing your speeds) - Ashley\"], [\"NBN riin remain  i,  mlex, and unerain Telra \"], [\"@SorifFN Who\\u2019s going to tell him about the NBN bottle necks during the day\"], [\"NBN Confirmed in the next few weeks :)))))\\nLETS GO BOYS no more 2.5K Bitrate 648p streams\"], [\"@georgeharito @CaNerdIan yeah, that\\u2019s a standard issue NBN HFC modem\"], [\"@CaNerdIan @decryption I spot an NBN logo there\\u2026\"], [\"@Telstra I\\u2019ve cancelled my NBN order. Your overseas call centres are too painful to deal with and no one willing to help. With that and your poor new mobile plans I probably won\\u2019t be a Telstra customer at all soon.\"], [\"Is NBN fixed wireless/Skymesh down?\"], [\"Do you have a desire to start up the first Twitch and High Tea emporia is the wheatbelt? Convert these analogue gamers into high speed immersive environs with coffee machine and NBN - EOIs open for a short time only https://t.co/DVStwTntSV\"], [\"@australian Don't worry.  Kev has the infrastructure plans on the back of a beer coaster, shovel ready. Just like the NBN plan he had.\"], [\"@NBN_Australia Sadly not, always from private numbers. I got called a lovely collection of adjectives mainly beginning with F, B and C yesterday from someone who who claimed to be from Telstra.\"], [\"I could appear on A Current Affair and complain about my NBN telling them my issues ever since I was forced to switched over\"], [\"@AndyB_Aussiered I cannot record on @OptusSport ever since NBN was connected at my premises. Have been complaining all day but it\\u2019s no use. Using HFC cable on 50/20. Can I get satellite for free if the problem persists https://t.co/gvZVv6bC5Q\"], [\"@FunTechalyst The NBN was a great idea... 20 years ago.\\n\\nThe issue was they took too long to implement it.\"], [\"@RedSinker @acmadotgov @NBN_Australia My thoughts exactly, NBN Making NBN worse, taking away our upload speeds making us pay business prices, subpar internet to most of Australia\"], [\"Why can't 'Nicole from the NBN' get the hint that I don't want to speak to her? Don't they realise we know it's a scam? Why do they persist? Each time we have their number blocked, they use another. We need our landline, but oh, this stretches the patience very thinly.\"], [\"@Alric181 Hi Alric, unfortunately, we don\\u2019t have access to view outages, this is solely handled via your service provider. Make sure to raise this with them and if they require assistance, your provider has direct access to our nbn support team. Let us know when you\\u2019re back online! ^Lisa\"], [\"@Aussie_BB Hi I was thinking to go with you guy's when NBN is within my area, that being said I've recently received a letter about the deals and was thinking the expensive deal NBN 100, but am I guanteed the speed that you provide? I need something better than Optus \\ud83d\\ude02\"], [\"@abcnews Not before time. We have had up to 6 calls a day. The most prolific being a caller, Natalie, from NBN claiming to cancel our account after claiming to call us for past 24 hrs. We no longer answer unfamiliar numbers &amp; that risks missing calls possibly from Hospitals etc. \\ud83d\\ude21\\ud83e\\udd2c\\ud83d\\ude21\"], [\"Doddery Dad: \\\"I've bought a new [landline] phone.\\\"\\nMe: \\\"How come?\\\"\\nDD: \\\"Well, since I got the NBN put on the phone's been rubbish so I got a new phone.\\\"\\nMe: \\\"And how's that been?\\\"\\nDD: \\\"Really good; it's got a nice loud ring.\\\"\"], [\"@JustDrew_2 Hi Drew. Thanks for reaching out. Feel free to send us mum's full address and we'll see what we can find. You said new home. Is it part of a new estate? Do you know if the builder submitted an application to nbn and what stage they're apart of if any? Chat soon - Maya\"], [\"@lynlinking @MSMWatchdog2013 @canberratimes They will he out of date ( like the NBN) when they\\u2019re delivered !\"], [\"@Megacurve Hey Adrian, we're sorry to hear your service is still out. Unfortunately, we don\\u2019t have access to view outages. Make sure to raise this with your service provider and if they require assistance, your provider has direct access to our nbn support team. ^Lisa\"], [\"No big surprises in the prelim construction data, res still falling, non-res a solid gain q/q and engineering construction broadly flat (drags likely to be from lower roads activity and end of the NBN rollout). Construction likely to be a modest drag in GDP data out next week\"], [\"@prudinx @thebrewerchef1 @Kynes3 @beg_chris @JennyPineapple2 @BlakandBlack @BiffFitz @potcalling @CapesJoy @budcoe @WgarNews @seaprod100 @baetherington @lynlinking @3wombats @janettj777 @RobRobbEdwards @LadyPoop2 @Absurd_Penguin @Triplejay58 @Penny_MadamLash @MorpheusBeing @Michz45 @WhteRbbnAdvocat @paulinehollywoo @mormorlady @On_Da_Ball @greenleftweekly @AustralianLFIR @FaiMujer @JeremyPoxon @KleinRevd @lizettewatson2 @MarkPlackett1 @GoldCoastNurse @nakkiahlui @benjnielsen @abcadelaide @anne_clothier @PoliceFederati1 @fanniebay Oh &amp; the NBN\\n\\nHow come it\\u2019s always Labor followed by the Libs?\\n. https://t.co/6FXNKf6iB6\"], [\"@NBN_Australia you lot are beyond contempt.  My provider tells me it's an NBN fault yet you direct me back to my provider, take some responsibility\"], [\"@KathyReid @ajdlinux The NBN didn't die, it was murdered.\"], [\"@bikiniNsweater Hi, NBN Co is currently performing a routine maintenance that is affecting service in your area. The issue started earlier 08:00 AEDT and is expected to be finished by 27/11/2019 16:00 AEDT. -Mel\"], [\"@Terrytoo69 Do a speed check now and screengrab it or write it down. Then you'll have some stats to quote when you inevitably complain about how slow the NBN is.\"], [\"@NahBabyNah Nice try NBN, but nah\"], [\"@Terrytoo69 Go for the stuff up option. I am apparently part of an NBN outage which is expected to be restored by 02/12\"], [\"@KathyReid Remember the days when we were all looking forward to the NBN because we wouldn't have to deal with Telstra any more\"], [\"#NBN supposed to arrive on Friday. Do I cancel lunch and hang around or just take it as read that this will be another stuff up?\"], [\"@NBN_Australia Still waiting to connected! 3rd time! NBN installers are useless! We have no broadband as it was disconnected! Against the law apparently to reconnect us! Would be better if NBN bothered to show up and connect us! #NBNfailure #NBNpoorservice #NBNlaughingstock\"], [\"Hi @internode -&gt; we finally just got NBN after literally 10 years of waiting, but it keeps dropping out - about 4 times in the last 1hr or so! Started getting bad yesterday... Is this what we've got to look forward to? Why would it continually be dropping out and what is the fix?\"], [\"@NBN_Australia 3rd time lucky!\\nNow we\\u2019ve had our broadband disconnected and it\\u2019s \\u201cagainst the law\\u201d to switch it back on let\\u2019s hope the NBN engineer turns up this time. My work are losing patience with the 3 days I\\u2019ve had to take off so far!! #NBNfailure\"], [\"@LennaLeprena @lynlinking @davidbewart Thank God someone doing something about it.  After about 30 calls from them  threatening to cut off my internet because they had tried \\\"unsuccessfully\\\" to contact me ? I finally got NBN and STILL GOT ANOTHER CALL.\\n\\nDespite the fact I hang up on them this roboscam still continues\"], [\"@SkyNewsAust Thats funny because everyone I know has terrible speed and connection issues yet have to pay way more than before.\\n\\nRegardless with copper involved it\\u2019s all outdated tech that bottlenecks.\\n\\nNBN is a complete joke.\"], [\"@Aussie_BB @NBN_Australia I have the answer for you - you will never be able to deliver what you are promising as the @NBN_Australia node is located too far. It's like being a car producer &amp; selling a car with no wheels - you simply won't be able to drive. \\n\\nThe fault number is 7136534\"], [\" #nbn TC-4 bunle fr ig en uer aing nly ne lan an be ue n e MTM e er are fr FTTP nly a i age CmaPMTu\"], [\"@NBN_Australia B 4 NBN we were paying $60/mo for 18-19 mps. After NBN we're paying $60 for 5 mps. more interruptions and no service when we call.\"], [\"The pleasing feeling of loving beneath someone's NBN \\ud83d\\ude44\"], [\"@Aussie_BB @NBN_Australia Hi Ash! We have been contacting you regularly since we're forced to switch to @NBN_Australia and we've been logging the faults very regularly. Seems impossible that in the modern country like Australia has such a bad internet. Should this be called a scam? I guess - yes.\"], [\"@iiNet Please do John.  Please also put as much pressure on NBN on my (and presumably other customers\\u2019 ) behalf to fix this issue\"], [\"@phbarratt Let\\u2019s hope those mills don\\u2019t depend on the nbn.\"], [\"Aussie Broadband $50 off first month! \\nReferral code: 2196434 #NBN #broadband #internet #discount #credit #deal #saving #code #referral #reliable #customerservice #passion #it #aussie #aussiebroadband #mate #connect #join\"], [\"The NBN has dropped its wholesale pricing plans which will see some of the fastest internet in Australia cost less. @TrevorLong #9Today https://t.co/mF7Ck0C4mQ\"], [\"@SilvertonPark @LeonByner5AA Typical Adelaide inferiority complex. Blakey has the fool sussed.\\nHis show is aimed at people who can\\u2019t get the NBN hooked up...\"], [\"@MarshBrentnall @AlanJones @ScottMorrisonMP @DebFrecklington @BradfieldThe Well researched Marshall. \\nSome foresight is needed, similar to the snowy scheme in the 50's and 60's which took 25 years to build at a cost of $820 million.\\nSurely a better proposition than the hopeless NBN or snowy 3 ?\"], [\"To celebrate Thanksgiving this week, here is a word of thanks from an employee here at NBN!\\n#thanksgiving #thankful #gratefull #thankfulgratefulblessed #family #support https://t.co/Q6CGG9w7o8\"], [\"To celebrate Thanksgiving this week, here is a word of thanks from an employee here at NBN!\\n#thanksgiving #thankful #gratefull #thankfulgratefulblessed #family #support #nbngroup https://t.co/qvnLvaJU82\"], [\"@MyRepublicAU Any updates on this? I'm in Pennant Hills NSW and have been without NBN for 12hrs now.\"], [\"NBN Thanksgiving Day Break Camp will be in Session today from 1pm-5pm. IF you decide to attend please be careful Driving. Parker Parks and Recreation..... @townofparkerco @ParkerRec\"], [\"Finally connected to the new NBN internet and first series I watched was the 4 episodes of #SBS #thehunting  #Australiandrama it was excellent and sadly realistic https://t.co/bZ8gYRqVcg\"], [\"@Telstra Rockingham W.A 6168 NBN issues are still persisting in the area! Plz fix this issue!! https://t.co/ihhWx8Ptj8\"], [\"@JoanBloggs @abcnews To be fair no one had electricity or nbn coverage because of the storm..... so even if it was on we were all in the dark ,so to speak....we could have all been wiped off the face of the earth and parliament would have still droned on\"], [\"Anyone got any good suggestions for how to get rid of scammers trying to tell me my NBN connection through a provider I\\u2019m not with has issues? I\\u2019m tempted to get a very loud recording of a dial up modem or fax machine to blast at them although all suggestions welcome.\"], [\"@D_Melissa2 @TurnbullMalcolm @AlboMP @RichardDiNatale @AusRepublic Not bloody Likely, he's been the most ineffective PM since Gorton and that is saying something.\\nDon't forget that he got 100Mbps NBN to his place whilst others around him didn't\\nYou want to support him regardless of what he is done well I think that may be cognitive disonance Mel\"], [\"The immediate feeling of concentration because of a NBN \\ud83e\\udd13\"], [\"@01Ellehcim @D_Melissa2 I forgot the NBN. Yeah, that's an extra $65.\"], [\"@arafattehsin 2/2 The NBN network engineers are monitoring the situation and once the power is restored they will perform health checks on the network to confirm stability. We understand the importance of your service and we apologise for the inconvenience. -Mc\"], [\"@Telstra Rockingham W.A 6168 NBN internet is down since 12pm today. Your site as always says no outage yet clearly there is. We've had numerous technicians come out &amp; my neighbor's internet cuts out when mine does.  Plz fix ASAP!\"], [\"@Aussie_BB Is there another NBN outage. My NBN keeps dropping out every couple of minutes. Its been doing this all  last week just about. I'm paying for a service that I'm not even getting. It's ridiculous!\"], [\"@TurnbullMalcolm, @AlboMP, @ScottMorrisonMP So if you've been stupid enough to move your phone from a fixed phone line to a \\\"Netphone\\\" (NBN crap), you have no phone in a blackout. What do people without a mobile phone do if a power outage takes their phone our in an emergency?\"], [\"#nbn @NBN_Australia is the biggest discrimination in australia history \\n\\nthe FTTP should be for everyone like GAS and WATER\"], [\"@D_Melissa2 @TurnbullMalcolm @AlboMP @RichardDiNatale @AusRepublic Hmmm Mal lost me at pissing up billions on NBN...\"], [\"@TPG_Telecom Thanks.After 30mins14scs I got through a support person who tried to assist but no luck. Its annoying and ridicules me to pay so much for NBN as I get download speed of 9.9MBps and upload of 0.3MBps aftr being on a popular plan. Follow up call is scheduled to further investigate.\"], [\"@D_Melissa2 @bagsnotfirst Ok. We don't have it - we don't watch sport - between my NBN and my streaming services I think I'm paying around $110 a month. Complicated stuff!\"], [\"@nightxshade Thanks for additional information Liz. I would be more than happy to investigate your connectivity, and should an NBN technican be required, we will liaison with the teams and have this organised. If you could please send through a DM, I will get back to you -Quade\"], [\"@MarkDCali @NewtonMark @simonhackett @dobes @jxeeno Every single NBN price tier is an artificial premium. On an FTTP service it doesn\\u2019t actually cost NBNco any more to run your service at full GPON rate (2400/1200) rather than 12/1.\"], [\"@01Ellehcim @bagsnotfirst Not that much if you have basic package plus it\\u2019s usually bundled with NBN\"], [\"@hexsteph @EA_Australia Power will come back, NBN will go down - mines been out for 2 months.   Welcome to the mountains...\"], [\"@NBN_Australia All right. Apart from this, I had my 4TH failed NBN installation appointment yesterday. \\nCan you people, as a professional organisation, liaise with the managers/body corporate of unit blocks such as to abide by their rules of installation?\\n(screen shot follows -manager of units) https://t.co/jLJqlGCw9c\"], [\"@skipurple2 No Electricity, No NBN, the traffic lights on the highway are still out, the servo on the other side of the highway has barriers up stopping people entering &amp; the mobile tower behind it is doing a fine imitation of a dodo.\\n\\nAnd the battery indicator on this laptop has gone red.\"], [\"Completed a @Telstra speed run today - man called to book an NBN appointment. Knew what he would be asking, ID verified and appt. booked in 2 minutes flat. Gotta be some kind of record.\"], [\"Only on the NBN can you have dog shit upload speed for no reason and you need to restart your modem/router to fix it.\"], [\"@TPG_Telecom The internet is down and NBN is very slow !! #Been trying to connect with tech support and no one is answering the call been online and waiting for last 20 mins and waiting for my call to be answered left to hear only music !! Can someone explain whats going on ?\"], [\"@PORTABLEAIRSYD The NBN was obsolete the day Rudd steamed it up on the back of a serviette.\"], [\"@girlgerms @ahontwi @dawnstarau I wonder what % of nbn users even have lines capable of 100/40mbps.\"], [\"@mrpford Oh no I've had a long running problem with NBN I was going to phone them if I got no response by Friday. Damn. I'm so very sorry so much useful information has come from today tonight show.they investigate unlawful dealings scammers and business frauds. We all need this clarity\"], [\"@PORTABLEAIRSYD and the NBN will be obsolete in 10 years.\"], [\"Today we connected to the NBN. Fairly painless although some fresh DNS fuckery bullshit in trying to get our mystery android box to show us live Japanese TV again.\"], [\"@tropicalontour Still NBN internet out. No land line. Using Mobile. Usually have data off.\\u263a\"], [\"@iiNet hi had a new nbn connection put in today and we can\\u2019t find the wifi password.  What\\u2019s the easiest way to obtain this?\"], [\"@Aussie_BB Don\\u2019t. NBN sucks.\"], [\"@theboltreport Had I had access to the Internet (don't start me on the NBN) I could have pulled up that eight months before he was on Alan Jones' show on 2GB saying the $700,000 subsidy should stop.\"], [\"Also NBN is coming soon, so maybe some litty streams \\ud83d\\udc40\\ud83d\\udc40\"], [\"Well wouldn't you know it, only 5 days after having the NBN working perfectly fine, the connection is suddenly gone to crap. @Optus, you are a piece of work.\"], [\"@Optus now we're being told an NBN technician has been booked in tomorrow...but me and my husband work...we also didn't consent for this appointment to be made. The ombudsman is looking great right now.\"], [\"@Telstra I have a problem with the landline phone not being connected- will the NBN technician fix that?\"], [\"Without being in any way political but it is my personal experience that the NBN sux ...\"], [\"NBN work challenge... please\"], [\"@EsmaVersace I'm afraid we don't have any further information on an expected repair time until NBNCo provide an update. In the meantime our NBN Support teams can discuss interim connection options for the downtime. Are you subscribed to one of our Business plans or a consumer service? Greg\"], [\"@UrsulaFoxMills From the details I can see the order is still active - I've emailed the NBN specialist assigned to one of your earlier contacts and his team leader asking for a return call to follow up once he's available next. Greg\"], [\"@australian Says the great anti price on carbon warrior, Pedro protector, climate change denying, NBN ruining, Abbott supporter. The woman is a disgrace to a progressive Australia!\"], [\"@iiNet Any update on the repairs? I just got home and the NBN is still down\"], [\"@9NewsMelb @CUhlmann Does that mean infrastructure upgrades akin to nbn?\"], [\"@Politics_SMHAGE @fergushunter This looks more like a press release than a news article.\\nNBN have always promised certain speeds and quality, but never deliver what they claim. That wasn't worth mentioning?\"], [\"@scientistkeefe gotta be honest with u chief, nbn's way better than anything the philippines has to offer\\n\\nand we're very close to myanmar and cambodia in the rankings\"], [\"NBN: \\\"We will be calling you today! Don't miss the call! Here is the caller ID!\\\"\\n\\n[the call comes in, rings for 5 seconds, hangs up as soon as I pick up]\"], [\"@DionysiusRob @Bart3005 @AusIndiMedia I didn't know that.  I'm happy to learn more about the NBN from you, if you don't mind sharing information with me.\"], [\"@Tailgator1 @juhasaarinen @jxeeno @dobes Internode used PPPoE, so their NBN stuff worked mostly the same way as their also-PPPoE ADSL stuff. IPoE has (or had) the problem, PPPoE always worked.\"], [\"@cparsons777 Hi there, that is concerning to hear. Have you reached out to your provider? Your provider can raise a request with the nbn support team. We'll then work closely with your provider to fix the issue. ^J\"], [\"@LevelRazor Hi there, this tells me they're unable to pick up the signal or even perform a line test. As a wholesaler, the speeds received can be impacted by a factor of things, including how your service provider builds their network over the nbn. Your service provider can raise a 1/2 Maya\"], [\"@themarkjacka Wondering if it would have been even faster with a decent NBN.\"], [\"@haz61283189 HI Haz, I appreciate the time taken to contact us and hope you can get the assistance you need soon, I can help have these problems followed up by our NBN Support trams - if you can follow our account I'll be able to send a private message to get this underway. Greg\"], [\"@GordyPls Save on headers. All NBN packets goes to you. You can print out all the data and then snail post it to us. Simple\"], [\"Coming up in NBN News.. \\n#NBNNews https://t.co/mq72LvLrSL\"], [\"@GordyPls The concept of over provisioning a service to account for header and encaps overhead isn\\u2019t new and has been a standard WAN product factor since before NBN was born. NBN chose to do this solely because they don\\u2019t exist to satisfy consumer sentiment. \\ud83d\\ude44\"], [\"1. Go to check if NBN is available at new house. \\n2. \\\"Address check not currently available.\\\"\\n3. Confidence and general joy drops...\"], [\"@Neil11450147 @WallyChemist @EddyJokovich According to Turnbull the current NBN is fantastic and broadband rankings are rubbish. So I wouldn't trust a word Turnbull says\"], [\"@NBN_Australia I asked mt ISP to do some line testing but they are unable to see sync rates for FTTP ? \\n\\nSo who is responsible for my speeds and can get them fixed\"], [\"@NBN_Australia @ozcjr WE RECO YOU FUAKING STOP INSULTING US AND INSTALL FTTP FOR FREE!!\"], [\"@cyhfins I'm about to fly bavk to Detroit, Mi no cap, taken by my parents from my hometown, to this 4th world known as Australia, really pissed me the FUAK OFF . \\n\\nThe NBN for example is a joke . Finally Fibre *somewhere* in teh pipeline, HAHAHAHAHAHA, It outages vs all old copper lines.\"], [\"@DionysiusRob @Bart3005 @AusIndiMedia I will insist that @TonyHWindsor has no authority or knowledge to comment on this issue.  When he was in minority government, he didn't even use a computer at the time Kev made the NBN commitment. He is late to the game. His technology knowledge is irrelevant.\"], [\"NBN is going to be useless if it keeps dropping out like it is this afternoon!! \\n\\nStays connected for a few minutes and then... nothing! \\ud83e\\udd37\\ud83c\\udffb\\u200d\\u2642\\ufe0f \\n\\n*sigh*\"], [\"@AusIndiMedia Gee I am one who is happy with my NBN, went from 3.9 to 47Mbs and is relaible, so far, And it is not the full 100% fibre system we were promised and should have got.\"], [\"Me to NBN guy over phone: I need a call an hour before you arrive to organise someone to open the door\\n\\nNBN Guy: no worries, of course\\n\\nMe: 100%? Cant stress this enough\\n\\nNBN: Happens every time, yes\\n\\nNBN Guy: \\\"im at your door\\\"\\n\\nfuck me dead\"], [\"@Telstra I checked online and couldn\\u2019t see any outages listed for my area, but do you mind double checking if any outages reported in 2226, Jannali? We had a storm come through and nbn went out at same time. Please advise.\"], [\"@geoff_wales 4G will be way slower, way more expensive, way less reliable than an NBN connection. \\n\\nMy NBN gets 90mbps+ down and 40mbps up. SFA latency or packet loss. \\n\\nI have neighbours using same hardware having shit results coz their cheaper ISP oversold bandwidth and has bottlenecks.\"], [\"@geoff_wales I'd like something other than anecdotes thanks. And comparisons to what it was like without NBN, and total data through-put over time.\"], [\"@Gunsinaustralia @Bart3005 @AusIndiMedia Nah - you're trying to blame a minor education problem for the woeful political decisions of the Abbott government. They wrecked any chance for the NBN to be what it should have been! The rollout process was just getting into gear when these luddites came on the scene...\"], [\"#qt Before making decisions, Morrison must wait for faxes from \\\"God\\\" (\\\"Heaven\\\" is NBN free)\"], [\"@Optus Also, I was told no one will turn up today and lo and behold someone turns up at my door asking for NBN connection.\"], [\"@Optus I just talked to an NBN technician at my house. I was confused by the question he was asking because we don't have NBN, we are getting Cable internet installed. Turns out your call centre sent out the wrong technician and wasted their time as well as ours.\"], [\"@Mr99er @MeckeringBoy @Senator_Patrick @JacquiLambie @MRobertsQLD @Stirling_G @Westpac Love the marketing speak naming of \\\"ensuring integrity\\\" when @ScottMorrisonMP is surrounded by Taylor's #watergate #grassgate, drought envoy 600 grand expenses, Dutton's dodgy #Palladin, 90bn NBN wasted. These guys have ZERO integrity.\"], [\"I just got the nbn connected and my my free to air tv won\\u2019t work? It says no signal? Can something just go right fuck\"], [\"@petehanssens @jdub I\\u2019ll suspect this is just a paper launch. The economics of how NBN sells to ISPs is that the ISPs can\\u2019t afford to actually sell this\"], [\"@RealNickHodge Remember all that errant nonsense about NBN being an enabler for a \\u201csmart grid?\\u201d Oh, my sides.\"], [\"@jxeeno hi mate. I'm enjoying having all the NBN crimes in one place\"], [\"Well i ea wa uiably eein N by e au, min yu Ju NBN in NBN in \"], [\"NBN offering 1000/50Mbps\\u2026 what?! that makes\\u2026 no sense\"], [\"@TPG_Telecom any issues with NBN right now? No internet here in Hurstville area.\"], [\"My 4G mobile internet is faster than the home NBN internet and I, for one, think that's a beautiful example of Australian patriotism :')\"], [\"@TPG_Telecom did NBN just drop out in Wetherill Park? Trying to work from home and it died in the middle of a video conference...\"], [\"Porter's opposition to real national integrity protects corruption from scrutiny. Think Turnbull wrecking the NBN.\"], [\"@PaulFletcherMP Have you got to have the NBN connected before you can get a deal?! \\ud83d\\ude44\"], [\"@LJPatton @bengrubb @acccgovau It is being unwound though. That's why NBN Co created virtual NNI\"], [\"@juhasaarinen @jxeeno @dobes All this wretched bullshit was in furtherance of a propeller-hat rocket scientist aim of NBN, which was that an end user could have up to four retailers, separate service providers on each UNi-D, separated from each other.\"], [\"@stilgherrian @NewtonMark @juhasaarinen @jxeeno @dobes The NBN is as good as it could have been given the quality of the politicians we have elected.\"], [\"@juhasaarinen @jxeeno @dobes So the only reliable way to run IPv6 on NBN is to devolve session termination to the user\\u2019s modem and run PPPoE.\"], [\"@NewtonMark @juhasaarinen @jxeeno @dobes Mark, are you suggesting that the NBN isn\\u2019t as good as it could\\u2019ve been?\"], [\"\\u201cThis is Nicole from NBN...\\u201d\"], [\"NBN   ae \"], [\"@dobes @jxeeno @NewtonMark What does NBN use over there? PPPoE?\"], [\"@DionysiusRob @Bart3005 @AusIndiMedia If you want to blame anyone, blame the old folks who didn't understand why FTTP was so important. They are the ones that held up the project refusing to allow NBN workers to dig trenches to their homes.\"], [\"That scam phone-calling recorded 'bot calling herself Nicole claiming to be from NBN is annoying today\\nShame it can't self-destruct!\\nJust a reminder: NEVER answer your phone with 'yes' - that's what its after\\nI always answer 'hello' then hang up!\"], [\"@NBN_Australia I think you\\u2019ve misunderstood my message. It was pointing at:\\n1. The ongoing instabilities on my NBN connection, and\\n2. The fact it take 6 whole days for my ISP to give me a simple update.\\n\\nBoth are pathetic.\"], [\"NBN   emrriy u 100Mb rie ring 2020 Pn  er rmin riing rm nury 1 \"], [\"@Marie_Perold further assistance, your provider has direct access to our nbn support team who can advise of any updates relating to disruptions with your service. This team will liaise directly with your provider to deliver updates to pass on to you. Let us know how you go. ^Audrina 2/2\"], [\"@NewtonMark @drzax @NBN_Australia yes, i tend to start shouting without much prompting every time i talk about the NBN\"], [\"@NBN_Australia The response we got from Telstra was there was an unexpected issue. No further explanation and still no connection.\"], [\"@NBN_Australia @codelikeagirlau When will there be a royal commission into the NBN? https://t.co/SEHJrAA96E\"], [\"@NBN_Australia NBN is the worst tech idea Australia has ever had... I now pay more for less. A horribly planned disaster is NBN. https://t.co/s11pgZhitq\"], [\"@jk_rowling I could write a middle part between Rudd's, James and Lollies and NBN\"], [\"@danilic @Optus @NBN_Australia What type of NBN technology is it at your new place?\"], [\"My business phone was #disconnected for 6 months my 5 #email addresses had to be re-established and my 5 #websites are down after 280,000 hits. My business is #destroyed all because I reconnected to #Optus via #NBN what a disaster!\"], [\"@AusIndiMedia Luckily we could avoid the NBN\"], [\"@RedJules4 @slsandpet I get 'Nicole' telling me they are going to disconnect my NBN. Wish they bloody would cause it's useless \\ud83d\\ude02\\ud83d\\ude02\\ud83d\\ude02\"], [\"@danilic @Optus @NBN_Australia You\\u2019re going to need an incredible amount of LUCK!! The @NBN_Australia is a total basket case, shambles, joke!\"], [\"@SFoskett Oh no! Did you get connected to Australia's NBN somehow?\"], [\"@NBN_Australia is there a service issue in Mel at the moment. NBN modem will not comment at all\"], [\"Aussie Broadband $50 off first month! \\nReferral code: 2196434 #NBN #broadband #internet #discount #credit #deal #saving #code #referral #reliable #customerservice #passion #it #aussie #aussiebroadband #mate #connect #join\"], [\"@Optus There is no need for a closer look-just an update on the current nbn outage!\"], [\"@SamDouglas42 Sam once NBN have finished the rollout in your area, there is no choice of adsl and copper. The choice is NBN or some wireless solution\"], [\"@yaakov_h Nice!!! I can\\u2019t wait for 100/40 I just hope NBN doesn\\u2019t change the wholesale plans before I get in to lower upload speeds!\"], [\"@paulinehollywoo @tagwacheit @realdropbeared Yes,  it is s good concept,  but like the NBN it's not been properly funded. The volume &amp; breadth of data is mind bogglingly huge.  Pathology, inpatient, emergency, ambulance, pharmacy, imaging (which in themselves are huge datasets), clinic records ... it needs massive $.\"], [\"@Optus Ok-there has been an nbn outtage since Friday so I don\\u2019t think it is my account, unless that outage has now been resolved.\"], [\"@Fckmona_baalbki @JadChaaban Live on nbn\"], [\"Homosexual couples should. It is my belief both heterosexual and homosexual couples should have equal rights under secular law. Is this really what NBN endorses a homosexual only nation with heterosexuals denied of basic human rights? I am very confused by this.\"], [\"@LulBit_ME Hol up ... backspace ... you met who at NBN??\"], [\"k\\ud83d\\ude02\\ud83d\\ude02\\ud83d\\ude02 damn we me a NBN \"], [\"@alexwantscoffee @PoliBard @Yeahnahtoyou @minkelCT @KKeneally @GuardianAus 1. Cable is fibre\\n2. Never had to pay for a nbn before.\\n3. Fibre may be standard now but not tomorrow \\n4. I was referring to Conroy. He knew it was a dud.\"], [\"@dankarz \\u0648 NBN\"], [\"@Telstra Why do you charge so much for NBN? You promise speeds of 40mb/s and I'm only getting 400kb/s. That is 100x slower than promised. This needs to be fixed!\"], [\"@NickRossTech Went down the rabbit hole looking at some of her followers, strangely US centred for an Australian, but OMG what a collection of mixed nuts \\ud83e\\udd5c\\ud83e\\udd5c\\ud83e\\udd5c Makes Malcolm Turnbull's ravings on the NBN seem also sensible, almost!\"], [\"Wouldn't be a storm without the NBN being kicked out. Man I love how a storm disrupts our 21st century 'broadband' network\"], [\"@marzfn @pricecuh u can buy some weird shit to make ur internet better but it is expensive, nbn will do the job fine\"], [\"@pricecuh @marzfn that is the best nbn connection type, congrats price u have won the lottery. You will have the best possible internet in australia u can pay for. 100 down 40 up\"], [\"#nbn gave up tonight, up for five minutes then down for five. Rain and storms since when has that affected a land based communications network. LNP sabotage.\"], [\"@Uppyn @DoctorKarl The ALPs design was world leading at the time. Abbott did his usual smash and bash and there you have it! End of a decent NBN compliments of Tones and Mal.\"], [\"@AusIndiMedia Our ADSL2+ was 5Mbps (if we were lucky). NBN gives us 47Mbps. Fibre to the node. Dropouts no more often than before.\"], [\"@MitchRobinson05 @Telstra I'm on the NBN for like $80 a month. Unlimited 100 plan and get around 97mbps.\\n\\nI can download roughly 8-10MB/s.\\n\\nNot bad but still moth\"], [\"Who needs #NBN when your mobile phone data speeds are much faster.\\nPerhaps time to dump the home NBN. https://t.co/vdwYkBl8PO\"], [\"Ok.. who can explain this to me.. the wifi network is up and running, but the NBN link to the outside world is down.. why can't I connect to my own wifi and access my local network? @iiNet ? https://t.co/JVUWOn2sek\"], [\"@AusIndiMedia You should have asked about dropouts, NBN won\\u2019t spend the money. Even Telstra maintained their lines better\"], [\"@TC08355763 Check the nbn website to see if you are connected then ring who ever is your service provider\"], [\"@AusIndiMedia I sometimes think my dialup was faster than my NBN is at times.\"], [\"@iiNet Just a tip. If your faults team wants to set an appointment for a technician you may want to actually see if anyone can actually be home for said appointment first. Why the technician needs to come to my house when your tech support said the fault appears to be on the nbn side is\"], [\"@miranda_maybe In fact my NBN, through avoiding Rupert's HFC on purpose, is good. I'm happy to share. Let me know.\"], [\"@VodafoneAU we\\u2019ve been having dozens of dropouts on our HFC NBN connection over the past few weeks in east Sydney. Makes it almost unusable in the evenings. Are there known issues?\"], [\"Six (6!!!) days after my @NBN_Australia grade internet was playing up for the day (because it was a day ending with a Y), and finally my ISP sends me a status update that my internet should be fine now.\\nThat\\u2019s service for you!\"], [\"@stilgherrian @zdnetaustralia He continued...\\n\\\"The seven nbn connection types we have now means it'll be impossible for people to compare their services with their friends.\\\" Off that hook!\"], [\"@AusIndiMedia We have wireless NBN and are moving in 18 months time also out of fibre to the node range. We've lucked out.\"], [\"@PeterRelph @Caroleina2 @slsandpet @TurnbullMalcolm Sure...and all the more culpable because he was tech-savvy enough to understood the implications of a dog's breakfast NBN. Implications that probably eluded the crude clumsy ignorant Abbott....and neither did he care.\"], [\"@slsandpet Ditto, Nicole from the NBN, five times yesterday, landline in the bin.....\"], [\"@AntB77 Yes. It\\u2019s worked continuously for three hours during a period when NBN has had two outages.\"], [\"@NewtonMark Airplane wifi more reliable than NBN? \\ud83d\\ude01\"], [\"@AusIndiMedia Certainly had better reliability. I get frequent drop outs with NBN - particularly when it rains.\"], [\"Two hours to download all 54 GB of Logic Pro X's sound libraries over the NBN. Not too bad.\"], [\"@Telstra come on! I sign up to the top level of nbn last week. 4 days later and  it\\u2019s been completely off for 4 full days with no update! 50% connection rate is bad even for you! #needanupdate #beaconhill\"], [\"@slsandpet The only ones we get are the fake NBN robocalls, but sometimes 5 or 6 a day. Why can't they be stopped? I've reported the calling numbers many times. You'd think the real NBN would be interested in seeing an end to them?\"], [\"@BrowntownBrew @WallyChemist @EddyJokovich I think most problems are due to high CVC fees. A small % due to the technology. And they are not charging the full cost. I suspect large write downs in the value of the NBN will have to happen\"], [\"@dez_blanchfield @ATTBusiness That's more than the entire NBN !\"], [\"@rosewal If you use (I think it was the Ookla app) you can measure your current speed and then compare it to when NBN is connected. Being a shift worker, I\\u2019m not always working 9-5 so think I was the last one to be connected. Telstra became *very* available/helpful when time to switch\"], [\"@iiNet Yeah - we try that often. NBN box lights just blink away. It does this a lot, but I thought there might be a known network fault.\"], [\"@rosewal The whole of NBN=cluster\"], [\"@copperec I'm not sure, saw a dude with NBN vest on ages ago drilling into our building but assumed it was most likely kerb. How can I tell?\"], [\"@Caroleina2 @PeterRelph @slsandpet @TurnbullMalcolm wasn't a fool. He knew what he was doing to the NBN....and to Australia. He knew how short-sighted (and ultimately, costly) it was to advocate the cut-price, dog's breakfast version. But his PM insisted on 'Not Labor' as the only defining policy. #auspol\"], [\"@Optus It would be best if you could just update those of us impacted, not sure why a private conversation needs to happen-surely there should be transparency on issues like a nbn outrage impacting many people?\"], [\"@PeterRelph @slsandpet It was proposed under her govt, I think. I must admit I get confused bc that time was.. well you know. \\nI really wanted the NBN they proposed - yes, it would've cost a bundle, but that's what happens when buying the best of the best - then you don't worry for abt it 50yrs\"], [\"@NickRossTech @TurnbullMalcolm He was tasked by Tony to destroy the NBN and he should be proud of how he so comprehensively achieved that\"], [\"@rosewal Good luck, doubt the nbn will work first time up.\"], [\"@dg_davies @spitspatspot @Rachael_Swindon I disagree, 5g is rolling out here after our nbn was ruined on Murdoch\\u2019s request. I\\u2019d rather have high speed fibre to my house it\\u2019s my own secure network. We have a poorly performing network with old wires they won\\u2019t replace to save $\"], [\"It's official... After a few weeks of not even being able to load my emails at home... I am breaking up with the NBN. I will be moving in with 4-soon-to-be-5G only. \\n\\nIf you need to contact me in the meantime please send a carrier pigeon...\"], [\"@NBN_Australia My HFC in northside Brisbane has been dropping out intermittently for hours at a time for the last week. My ISP (Aussie BB) logged a fault and a crew came out and pulled up my lawn on Saturday but I haven't heard anything and my lines dead for 6 hours now, help!\"], [\"nbn strikes again\"], [\"I miss dial up internet. It just worked, not like this NBN shite\"], [\"@MattNotFront @Telstra EVERY DAY!!!  They used to be good but I think they then got greedy.  I supposedly have NBN but it\\u2019s crap!  I upgraded to a faster option but nothing changed!!\"], [\"@NBN_Australia The fibre optic cable has already been laid out so why can\\u2019t you just do as you\\u2019re told right now and deliver the NBN already?!!!\"], [\"The peaceful sensation of optimism off a NBN \\ud83d\\ude27\"], [\"@stilgherrian @zdnetaustralia Also: another @NBN_Australia HFC outage must before 4pm. I was beginning to think I might last 24 hours without one, but they\\u2019re incapable of achieving that. #nbn\"], [\"NBN to be given freer cock and balls on greenfield sites\"], [\"nbn is finally back\"], [\"@DoctorKarl It all starts with Paul Keating and his election to go with 3G.   If he had stayed as it was we would never have had NBN.  We would have Telstra and 5G Over multiplex copper fibre hybrids   Much higher speeds\"], [\"@zdnetaustralia No, really. He said that. Also, \\u201c'I am really proud of the achievement of the NBN in very, very difficult circumstances.\\u201d #nbn\"], [\"Current internet provider is trying to get me to sign up for a 36 month contract totaling $23,400. Um, they obvs haven\\u2019t heard of the NBN. https://t.co/nNv4U0hfBi\"], [\"Coming up in NBN News tonight.. #NBNNews https://t.co/dG8gfp0uEW\"], [\"@AusIndiMedia Me.  I have almost daily discussions with people about how crap NBN &amp; 5G are.\"], [\"@AusIndiMedia @SeanBradbery Of course ADSL was faster ... it didn't have to go through a copper wire installed in the 1950s. What really really irks is there is no way to change back. I feel so powerless. Some nights it's better to hotspot off my phone than rely on the #NBN\"], [\"@ThreeeBens @Cameron__Ellis @FoxCricket Who has satellite nbn, like 1% of the population? That's hardly a widespread excuse\"], [\"Love the nbn being down for the 3rd day in 4 :)\"], [\"@RalphusWoof @MrKRudd @smh @theage You know the liberals were the ones who went over budget when they took over the NBN project right?\"], [\"@Telstra all good for you to be there 25/7. How about providing an efficient ADSL service while we wait for NBN. Download speed between 0.5- 5.0.Upload speed 0 (most of the day)- 0.2.\\nHow can we operate a business. I've already made a complaint and it's worse\"], [\"@SeanBradbery @AusIndiMedia well what were you arguing? you said it'd have been better with no NBN...\"], [\"@SeanBradbery @AusIndiMedia Your argument is predicated on something which is not factual - arguing the NBN is 'slower' than the previous copper-based backbone of our internet connectivity is simply not true. If we had the volume of traffic we have now going through the system we had then, it'd be DEAD.\"], [\"@jendudley saw a lot of that in my area in the months before and after NBN HFC went live\"], [\"@SeanBradbery @AusIndiMedia I'd argue that we'd have a completely collapsed internet and no viable streaming services had it not been done, and the infrastructure would be entirely private owned.\\n\\nWe'd be worse off. It absolutely is better than no NBN.\"], [\"For the past month or more I have had major drop outs I had a couple technicians come out the problem is my NBN lines need to be changed. \\n@NBN_Australia are shit you figure out the problem and instead of sending someone out to fix it they deny your request \\ud83d\\udd95\"], [\"@NBN_Australia any way to get notified of NBN activation at a specific address?\"], [\"@ScottMorrisonMP When is your trash government going to pressure mod authors to clarify installation or compatibility specs of nexus mods now that they're on vortex? Downloading npc texture overhaul packs for new vegas is STILL an absolute nightmare on NBN. \\n\\nAlso: you're racist.\"], [\"ORE #NBN ADNESS \\u201cNBN ju mleed a greenfield fary build, ere ging  ave beeen 15-3 aff in ere ver e nex fe year Tey inalled ne er (FTTN), and e ge 5 dn and 22 u Every ne f ur neigbr g FTTP inalled\\\" \"], [\"@jendudley I still haven't got around to signing up to NBN even though I know I need to. I figure there's no rush\"], [\"Things they don\\u2019t tell you about the NBN: it can disable your internet connection even if you\\u2019re not on it. This will be my third day-long outage in the past month. #nbn https://t.co/STMei8wDgp\"], [\"@AusIndiMedia @SeanBradbery My existing VDSL2 was better than NBN so they left it as it is. Thank goodness.\"], [\"@DoctorKarl @cheryl_kernot Ask: \\nMr Abbott who was desperate for job of PM\\nMr Turnbull (Mr Innovation Nation) who should have known better, but whose ego got in the way of both a world standard NBN as well as a Climate Change Policy\\nMr Murdoch who seems to think of himself as President of the World.\"], [\"Still got 5 days to delay my NBN deployment, NBNCo - get on it!\\n\\n(again, they could just delay it *after* the date, nothing stopping them there)\"], [\"@MitchRobinson05 @Telstra Luckily your content is better than the NBN \\ud83d\\ude02. You will notice an improvement because they will have slowed your internet over the last few months to make it appear faster.\"], [\"@AusIndiMedia @lesleygood1 Still to get NBN. So can't comment on speed.\"], [\"@MargotSaville @AusIndiMedia We were at least told by NBN Co that we shouldn't bother to connect as they couldn't do better than our pretty average vdsl connection.\"], [\"I have spent far too many hours on the phone to internet and telecomms \\u201cservice providers\\u201d in 2019 to continue being patient with them.  Vodafone, Zen, Optus and NBN, you have all wasted hours of my life and thousands of pounds/dollars of my family\\u2019s money.  #thenextscandal https://t.co/0UaYQwZDS6\"], [\"@PhillipAdams_1 First World problems, there is not one remote indigenous Community up here in the Top End that I know of that has access to the NBN. At the Jilkminggan community the mob needs to stand in one corner of the school basket ball court to get mobile phone reception.\"], [\"@AusIndiMedia On average I did and it cost less however the #NBN has inconsistently reached faster speeds of 75Mbps but yesterday it was https://t.co/7vgZIv8WZO\"], [\"@PhillipAdams_1 We're on the list for satellite NBN too. Hoping we can keep our ADSL 2+ instead. Our alternative is a local startup offering wireless in the district, getting v good raps so far. They've scheduled a tower near us in coming months. We aim to avoid NBN altogether if we can.\"], [\"@AusIndiMedia Yup. NBN is CRAP!\"], [\"@Telstra: we had a new @NBN_Australia modem installed that caused loss of access to WiFi. Called more than 30 times - no resolution. Complaint manager scheduled technician for 22/11 - no one showed up. Scheduled another for today 25/11 - again no one showed up. Woeful service.\"], [\"All you NBN haters, you were wrong it\\u2019s legit! Good shit @Telstra.\"], [\"There comes the nbn. There goes the asbestos lined old conduit.\"], [\"@RobinFox01 @DodoAustralia @Optus @NBN_Australia Techies came &amp; said cable was cut in the ceiling (I'm in an apartment). They suggested an external tradesperson but after they left I found out the only ppl in ceiling the day it dropped out were Telstra/NBN techies. Why would they snip their own (labelled) cable? Farcical!\"], [\"@Songheart @LJPatton @AlboMP I have excellent affordable NBN without a single glitch. I don't need 5G.\"], [\"@michellegrattan @smh \\\"One of the few significant legacies\\\":\\n- NDIS\\n-Gonski\\n-CARBON TAX\\n-Mining Tax\\n-NBN\\n\\nTell me, what has the LNP achieved in the last 6 years, beyond undoing or destroying good policies?\"], [\"Man I wish the LNP hadn\\u2019t got in the way of the NBN we all wanted. Paying through the nose for speeds often at 10mbps is just a rort.\"], [\"@Optus what on earth is going on with nbn?. I am having to connect with an ethernet cable for goodness sakes! And dont ask silly questions such as 'have you?.....' connection is appalling\"], [\"@NBN_Australia Our provider is not at fault. Of course we've spoken to them. I've tried calling NBN but of course, again, no response. Your prices are higher than any provider, service slower and lots of shut downs.  It's a disgrace.\"], [\"Imagine if we had a reliability standard for NBN connections tho\"], [\"@PhillipAdams_1 NBN was due to be installed in August. I\\u2019m still waiting for the technician to arrive. I live in suburban Melbourne. ?? Wtf Telstra?\"], [\"@AdamFowler_IT @adamjonwilliams I'm still on 4G, maybe one day this NBN thing will work here...\"], [\"@AdamFowler_IT I still agree with him now and I agreed with him then, getting fiber everywhere would have been too much, this way I got a bump from 2mbits which is the best free market could achieve, to 100mbit under NBN, that's a success by any measure.\"], [\"Aussie Broadband $50 off first month! \\nReferral code: 2196434 #NBN #broadband #internet #discount #credit #deal #saving #code #referral #reliable #customerservice #passion #it #aussie #aussiebroadband #mate #connect #join\"], [\"@PhillipAdams_1 We\\u2019ve had FTTP since 2015, yet to have a single problem other than a outage a couple of years ago when some idiot cut the cable. \\nLabor\\u2019s NBN is awesome. The libs fucked it up\"], [\"If you experience a technical site blocked scenario simply opt out NBN network, use provider own network not configured to NBN. Optusnet Telstranet TPG other satellite configured technologies, you see these corporate grade or industry grade mobile function 100 percent correctly.\"], [\"Zin Williamn an immer Freee iglig ar f ur all-eae en eam a NBN ninue  elebrae e eae a a in bakeball  2ni6X06Kg\"], [\"have you looked at the Amazon Fire OS Mobile, it does use the asop (secure feature) simular to the Blackberry Leap but these phones do see NBN network being to leaky and these mobiles blocking sites that you might be navigating upon.\"], [\"@BrianE_Cambs You may well have been at an NBN meeting in York a few years ago? When a lady whose name i can't remember did a talk about lobarions. I was just captivated and entranced\"], [\"One western conference team is spending the league hiatus by aggressively shopping wings. Expect a pair of moves to process once the NBN resumes.\"], [\"@CraigGWelch @DoctorKarl @RuthTownsendlaw We live on a large island.  I get 100mbs as promised by the NBN and my ISP.  I can pay to get 1gbs.  Not that I need that speed. 100mbs is already insane!!! Tell me why I need more?\"], [\"@MD00042 How did Turnbull screw the NBN? The fault lies with Kevin who mandated an opt-in policy. It forced old people who never used the internet to have a trench dug to their home to deliver fibre. It delayed the process and cost hundreds of millions. Turnbull fixed Kevin's screw-up.\"], [\"@Alabasterade @AusIndiMedia How did Turnbull screw the NBN?  The fault lies with Kevin who mandated an opt-in policy.  It forced old people who never used the internet to have a trench dug to their home to deliver fibre. It delayed the process and cost hundreds of millions. Turnbull fixed Kevin's screw-up.\"], [\"The spiteful feeling of apprehension through the NBN \\ud83c\\udfb6\"], [\"The concise sensation of falling through a NBN \\ud83d\\udcda\"], [\"#auspol\\n#LNP #GovOfContempt\\nCreated lags&amp; waits, trumpeted phony info, crammed more people in, created disruption, neg' altered fund trajectory of services with no proportionate rise for 2M population incr', devalued the Aus dollar, sold off national assets&amp; built a dodgy NBN.\"], [\"i just finished moving today, to an NBN ready area. Streaming couldnt come sooner :D lets get to work\"], [\"@NBN_Australia THe NBN seems to be out of action so often that I've had to add a backup 4g service which performs faster!\"], [\"@damoisonboard Hi Damien, the latest updates we have on this HFC outage is that almost everyone should be coming online, out of interest what are the lights on the NBN box currently doing and have you pushed the reset button on your router? Cheers, Bec\"], [\"NBN and energy verau a e enre  Abanee enm   va @ABCNew\"], [\"@Crypto_Even @cz_binance Can certainly be successful but they need to create their own shitcoin as well, let's say NBN.\"], [\"@MGK_Ganondorf @Zaki1f7 How dare you! I just got nbn and it's been nothing but beautiful! Haha.\"], [\"@Equolvv moved to my mums house and it\\u2019s got nbn so :)\"], [\"But could do NBN livechat. Co/jbyvkahwvy - Limited Stock!\"], [\"@MWChatShow I strongly resent your claim that our internet here in Australia is pathetic. I've refuted you in a short video I'm uploading, it's 50 meg, and I've got the fastest NBN there is!\\n\\nSo just you wait the 30-40 minutes while this tiny file uploads &amp; then I'll show you! \\ud83d\\udc0c #broadband\"], [\"@SymmQt NBN with 300 ping\"], [\"wish u americans could experience the nbn network here in aus cause i used to get 50mbs on my old internet now i get lucky to his 20mbs so be thankful for ur 100mbs or 70mbs and dont say its shit cause remeber aus internet is like going back to 1997\"], [\"I ge 403 Mb fr nliied Telra and NBN \"], [\"@NBN_Australia *access\"], [\"@NBN_Australia It has been raised. Tuesday 6pm resolution. Definitely not good enough. We\\u2019ll go satellite and kill NBN access. It\\u2019s an absolute disgrace and my parents need 24/7 phone acres for health reasons. ADSL was fantastic. Shame you won\\u2019t roll back.\"], [\"@LJPatton @AlboMP NBN is shit always was. 5G will kill it off.. I have a 4G dongle in Eden NSW it's a more regular service than the NBN in the area. And that's a marginal seat. Worked for Telstra years ago. Laughed when they said fibre would meet copper. It's like a new train pulled by an old ute.\"], [\"@PhillipAdams_1 Sounds like @NBN_Australia fail\"], [\"@NickRossTech @TurnbullMalcolm @matt_barrie @TurnbullMalcolm and @HonTonyAbbott should be tried for treason for what they did to our national infrastructure. The original-plan NBN was our future. It\\u2019s destroyed now.\\n#auspol\"], [\"@NBN_Australia Don\\u2019t give me that same bullcrap answer you give to other people that won\\u2019t wash with me at all!! You might have gotten away with it saying that to other people but not me!! You will do as you\\u2019re told and give me an exact estimate right now!! When am I getting the NBN?! Go!!!\"], [\"@LJPatton @AlboMP The Coalition ruined the NBN, on purpose or sheer incompetence, who knows. We need better infrastructure all around, built by the government for the public.\"], [\"@Telstra you guys are rubbish i pay lots of money a month for internet that never works, drops out or has slow dial up speed on NBN. Not only that i had your workers lie to me lastnight refusing to put me through to billing saying they cant take my call. https://t.co/ueicIyQMVb\"], [\"@SkyNewsAust And he scored an Own Goal I live in his electorate as far as I know the NBN is just 3 letters\"], [\"The lovely feeling of worry beneath a NBN \\ud83d\\udd11\"], [\"@NBN_Australia Well considering Optus didn\\u2019t even know there was an outage for over 12 hours I can\\u2019t really rely on them. Would be better if you announced on your main page rather than relying on a myriad of different service providers\"], [\"@iiNet NBN down again. Time to find a new provider\"], [\"Politicians: \\\"We have to put a stop to fake news, misinformation, disinformation and conspiracy theories!\\\"\\n\\nAlso Politicians: \\\"There is no such thing as climate change!\\\" - \\\"The economy is doing fine!\\\" - \\\"The NBN is lightning fast!\\\" https://t.co/pY3MnMezFB\"], [\"@PhillipAdams_1 The NBN will go down as one of the biggest wastes of taxpayer money in Australia\\u2019s history!\"], [\"@MitchRobinson05 @ChiefsESC @triplezerotv Steel yourself it may not be as good as they tell you, just a warning from someone with NBN.\\n\\nPS: I don't think your coach will let you telecommute to training.\"], [\"NBN connected tomorrow! Look out for my stream schedule. Also dropping some content soon with @ChiefsESC ft. @triplezerotv!\"], [\"@iiNet hey, NBN is down in Melbourne again, and as usual status pages says it's all good, and phone support wait is 'over an hour'. Can you please put out some info!\"], [\"@iiNet Your DNS servers are down. Again. (NBN customer in Brunswick East here.)\"], [\"@deniseshrivell @JaneCaro How did we end up with shit NBN?\\nOne word, one very evil word: Murdoch !\"], [\"Fourth try at downloading a movie from your NBN dumpster fire @TurnbullMalcolm \\nYou should shut your fucking mouth about the NBN dickhead!\\ud83d\\ude44\\ud83d\\ude21\\ud83d\\ude21\\n#Justsayin\\n#Auspol\"], [\"@iiNet NBN down for the fourth time in the past month. Not able to sit on hold waiting to speak with someone so can you please arrange an alternative? Thank you.\"], [\"literally fuck the nbn I HAVE HOMEWORK\"], [\"@Aussie_BB Both my friend and myself got some issues to access Chinese website using your NBN and none of your customer support help. Until now this still an issue\"], [\"@cowiiiie @topguNtv @Aussie_BB Yeah that's what I mean. It's one of the biggest flaws with the NBN. We probably wouldn't have these issues if they just replaces everyone's cables in the first place.\"], [\"Nice work @Telstra ... issues with internet, \\\" system glitch\\\" inability to have an NBN connection processed and no real time frame for having it rectified...at least you offered the disconnection team \\ud83d\\ude02\"], [\"@weezmgk @White_Blinds @DoctorKarl The original charter for the NBN was to connect ALL Australians, especially those in remote areas. \\nThat's what this dude is talking about. A majority of the cost of the NBN was going to be in connecting those remote communities. It still hasn't happened.\"], [\"The beautiful sensation of missing before someone's NBN \\ud83d\\ude25\"], [\"The hyper sensation of grief through the NBN \\ud83c\\udf41\"], [\"@PhillipAdams_1 Use the time when the internet is down to give thanks to the LNP for worthless white elephant that is the NBN.\"], [\"@JACPointon @barobertson111 That ROI on successive governments ensuring the NBN didn't adversely affect Telstra.\"], [\"@InsidersABC How about revising the NBN and getting fibre to the premises... the ongoing benefits are enormous...\"], [\"@TurnbullMalcolm would you agree that you buggered up the NBN a bit?\"], [\"Hey Alex - you should help convince your old man to never comment on the NBN. He makes a total fool of himself everytime because his position is absolutely indefensible and borderline criminal @TurnbullMalcolm @alexbhturnbull @NickRossTech\"], [\"I\\u2019m holding off changing to the NBN. My present cable is 110Mbps. When the NBN comes in I\\u2019ll have to pay an EXTRA $30 to raise my speed to 80Mbps. That's progress! At least I don\\u2019t need to change for another 11 months.  #TheProjectTV\"], [\"@TPG_Telecom Still no NBN in 4122 QLD. What\\u2019s going on?\"], [\"@NBN_Australia @emlafudd So I take it dropouts are not normal? especially with VOIP - I am not on NBN yet but thinking about it.\"], [\"@DuncanWatson8 @PhillipAdams_1 They should know Malcolm is not electronically minded. Once he pulled Labor\\u2019s pro-type into bits, he couldn\\u2019t replicate an equally workable model...\\nA Humpty Dumpty for the 21st century , he couldn\\u2019t put all the pieces back together again,\\n#NBN LNP fail\"], [\"@PhillipAdams_1 Complain, complain, complain,, if it's not smoke it's NBN, if it's not capitalism it's the monarchy,,,,,\\nI swear you would have been much better off moving to Russia or China Phillip...\"], [\"@swan276_g @PercyKaren @lenoretaylor @malcolmturnbull @GuardianAus @murpharoo No he prefers a NBN that is finished before we are dead and does not have us paying $500/month for basic broadband\"], [\"@PhillipAdams_1 We were on satellite nbn for years. Sounds like yours isn't working properly.\"], [\"@PhillipAdams_1 Now is not the time to talk about the NBN! \\ud83e\\udd26\\u200d\\u2642\\ufe0f\"], [\"@NBN_Australia I\\u2019m not going to keep hassling my RSP when the issue is cleary yiur infrastructure. Don\\u2019t try and pass the buck. NBN should be the ones fielding the irate consumers.\"], [\"Finally had NBN connected at the farm.  On a scale of 1 to 10 - 0.   Minus 0.  No satellite signal at all when there\\u2019s so much as a whisp of cloud. Or, it seems, smog from bushfires\"], [\"@NBN_Australia @risb0r Maya... we simply need things fixed! For a paid service, this is ridiculous! This whole NBN Co is a global joke! Pathetic and incompetent. For such a nation as Australia to have such useless technology! Shame...\"], [\"HFC NBN, not fit for purpose. https://t.co/bidqFKkO1C\"], [\"@margo694 @DoctorKarl CVC just adds to the issues. Driving me crazy as a content creator how they messed up the NBN.\"], [\"@NewtonMark Five nines for @NBN_Australia means 9.9999%\"], [\"@TPG_Telecom Would love to go to NBN, but not to get my landlord to approve it as works need to be done.\"], [\"@_msmithBNE ADSL2+ standard upload speed is up to 1Mbps and you may need to consider getting NBN so you'll have an option for a higher upload speed. (2/3) -Riezl\"], [\"@mmmaxi @DoctorKarl It\\u2019s not a competition. Didn\\u2019t mean it like that. Inventing the internet doesn\\u2019t mean you can\\u2019t fuck up the NBN and Australian internet speeds \\ud83d\\ude02\"], [\"@NBN_Australia Thanks Maya. It\\u2019s been down 6 times again in the past 24 hours for varying time periods. Each time I\\u2019ve called the service provider they tell me the issue is with NBN and there is nothing they can do. What can I now do to address this unreliability?\"], [\"Here's what's coming up in NBN News tonight. #NBNNews https://t.co/bxSPWY8p96\"], [\"@deniseshrivell @BelindaJones68 Our NBN supposed to be ready July-Sept 2019, then Dec-Feb 2020 &amp; now April-June 2020 in electorate of Wentworth!...on HFC or cable TV already there connected to fibre node on street. Pretty subpar. At the moment we battle with inconsistent copper speeds of 2-14mbps! Over it!\"], [\"@AynRandy The country's NBN has been fucked for 6 straight years.\"], [\"@AynRandy Buddy that\\u2019s just the NBN\"], [\"@DoctorKarl Thank you @TurnbullMalcolm \\n\\nThis is your legacy.\\n\\nAn absolute train wreck of an NBN that needs to be replaced before it is even finished.\\n\\nOh, and also continuing the trend of no action on climate change\"], [\"@Latte_Bogan @MeckeringBoy @danteruker @JoanBloggs I've got the real NBN hooked up and it isn't any better than ADSL (I tested before and after) bc I haven't paid for the most expensive plan. So I got screwed even WITH fibre!\"], [\"My NBN has been fucked for 2 straight days\"], [\"@DoctorKarl How ? The majority voted for the LNP that\\u2019s how #NBN\"], [\"@MeckeringBoy @JoanBloggs Yes do it once and do it right. I have a nephew working as a project manager for an NBN contractor originally from the telco sector. He says the whole operation is a complete shambles from logistics to procurement to execution. Nobody knows what anyone is doing.\"], [\"Pissed off!! NBN only morning max 8mbps, supposed to be 25 mbps. LNP YOU ARE A BS PARTY. https://t.co/UxdFB8kKtx\"], [\"@JoanBloggs @MeckeringBoy Absolutely! Hindsight is a wonderful thing but NBN has been such a monumental fuck up we would have been better off giving the 50 odd billion to the telcos originally to build out their mobile wireless networks.\"], [\"@AsharKhaan Hi Ashar, we understand that your assigned Engineer has been in touch and the case has been raised with NBN Co for further investigation. Further updates will be given via SMS or phone call as soon as it becomes available. Thank you for your patience. -Basil\"], [\"@Aussie_BB Aussie broadband is the worst NBN service provider I have ever been deal with before. The support team is totally rubbish\"], [\"@DoctorKarl Speak to people working on the NBN. The technology being installed is outdated by a decade.\"], [\"@NBN_Australia phoned - female was very unhelpful , and cut me off.  called again   Indian man was very helpful.....\"], [\"@milczy @Ixzianna @DoctorKarl Not paying for nbn but despite the horror stories I may be convinced to switch haha.\"], [\"@ICOffender @ASUS I tried for days to connect it directly to the NBN - no luck - plugged it not an access point and bang diddy 4k Video across the street lol\"], [\"@Qldaah The #NBN is a national tragedy. The Labor/Greens plan was sound and futureproof, then that moron @TurnbullMalcolm and his fellow idiots in the @LiberalAus destroyed it to appease their disgusting legacy media friends and pay billions into the pockets of corrupt business.\"], [\"@philnash Sorry to hear, Phil. This would be frustrating for me too, especially over the weekend. If your services are currently affected, your service provider can reach out to nbn directly using their internal systems.We hope your services will resume as soon as possible. ^Maya\"], [\"@AsharKhaan We apologise for the inconvenience and understand your frustrations regarding your non-working service. Our third party provider declared a nationwide outage within the NBN HFC technology that affected your service right after its installation. -Basil\"], [\"@JoanBloggs @PT_here Not \\u201cmay\\u201d leave lives at risk!\\n\\nNBN does and WILL leave lives at risk.\\n\\nPowered nodes die in floods, fires, storms. If you have power at home but power to the node is cut for whatever reason you lose internet *and* landline. \\nJust when you need it most.\\ud83d\\udc80 #auspol #nbn #bushfires\"], [\"@PercyKaren @seaprod100 @malcolmturnbull @GuardianAus @lenoretaylor @murpharoo Turnbull is not part of the solution he is a part of the problem. NBN, PM a disaster at both.\"], [\"@zalisteggall @blanketcrap @abcnews Imagine how far ahead we would be with renewables research and developement etc.. together with a fibre NBN.. this country would have been rocking and the envy of the world... shameful waste\"], [\"@jameshultgren @Ixzianna @DoctorKarl I am assuming you are not on nbn and paying for 100mbps but that\\u2019s fucking atrocious\"], [\"Exploration research? Let\\u2019s hope the NBN fails in the back of the air con chauffeured car, that way the work they\\u2019re doing on their phones &amp; laptops is zero, so they\\u2019re forced to look out the window &amp; get uncomfortable. #ClimateEmergency #dayzero #watergate https://t.co/W22hvKqGfs\"], [\"@NBN_Australia @codelikeagirlau I\\u2019m getting really sick of you rescheduling the nbn release date for my area!! You keep on doing it over and over and over again!! When will it be released?!! Give me an answer!  I\\u2019m sick of your constant ignorant arrogance! And I\\u2019m sick of my tax money being wasted away likethis\"], [\"@DoctorKarl In our cities we have 1000Mb/s internet. I have 300Mb/s internet in a regional area. The speed of the NBN is controlled by politics not technology.\"], [\"@437BennyBoyd Hey disco, not what we like to see, there are some known outages and issues with some HFC connections this weekend. Have you raised this with your provider so they can perform a line test and get this resolved? ^Del\"], [\"@TPG_Telecom how long are you going to take to fix the NBN service we get through you.down and intermittent service the last 4 days.i am a trader and should be reimbursed for loss of income\"], [\"@spiralmusic @DoctorKarl More to the point, one party's campaign promise was that they'd give us a shittier NBN than the other party, and we voted them in\"], [\"@TheCalebBond Wrecked the NBN, trashed carbon reduction, increased refugee cruelty etc etc\\n\\n\\\"We need more like him.\\\"\\n\\nyeah.... nah.\"], [\"@PeddleGraeme Hi Graeme, we are currently experiencing outages on our HFC network. Our teams are working hard to rectify the situation. Your provider will be notified when the network issue is resolved. Sorry for the inconvenience caused. ^Brian\"], [\"@Ultimateqestion Hi there, we are currently experiencing outages on our HFC network. Our teams are working hard to rectify the situation. Your provider will be notified when the network issue is resolved. Sorry for the inconvenience caused. ^Brian\"], [\"@deniseshrivell @mrn487 What? The LNP\\u2019s $53 billion NBN delivers massively slower speeds to private school children in the mansions of Point Piper compared to kids in Mongolian yurts?\"], [\"@Telstra now all I have to do is work out why my mobile phone wont connect to my NBN/Telstra modem\"], [\"@chris_griffith @TurnbullMalcolm The poor state of the NBN with Australia being ranked 62nd in fixed line broadband download speeds is a testimony to Malcolm Turnbull's incompetence. #auspol\"], [\"@1motherwolf @MeckeringBoy We just had the NBN cables put down last week here - the workers make a mess which they didn\\u2019t clean up \\nI am going to stay on my 3G I think after reading your experience @1motherwolf\"], [\"@NQWombat That\\u2019s not good to hear Mark. Are you experiencing it with anything else? Contacting your provider directly, they can check the network for any issues. If the issue is with the nbn they will let our specialist team know. ^Brian\"], [\"@DoctorKarl Unparalleled leadership achieved the \\\"notable\\\" speeds of our one and only \\\"outstanding\\\" (for all the wrong reasons) NBN.\"], [\"The beautiful feeling of liking through the NBN \\ud83d\\udc9c\"], [\"@NBN_Australia @risb0r What about a post incident report on what actually happened, and what NBN plan to do to ensure it doesn\\u2019t happen again. No more CiC. NBN can\\u2019t hide behind that forever! We need transparency.\"], [\"Aussie Broadband $50 off first month! \\nReferral code: 2196434 #NBN #broadband #internet #discount #credit #deal #saving #code #referral #reliable #customerservice #passion #it #aussie #aussiebroadband #mate #connect #join\"], [\"@PerthObserver Hi there, all outage info is referred to your service provider. They have access to this information only using their internal processes. If they require any update, they can reach out to their nbn support team. ^Maya\"], [\"@TonyB_Melb @randlight @TurnbullMalcolm LIBS consistent..NEVER ADMIT to screwing up..\\\" we do NBN cheaper. ( it just wont work like the ORIGINAL LABOR PLAN )\"], [\"@mormorlady Sorry, I'm not buying it. Maybe if he was a little more assertive? He was to busy also sent in by Abbott to \\\"destroy\\\" the NBN, and he did just that. No excuses\"], [\"@iiNet Hey whats going on with NBN at the moment? Its been down for 3 hours now and I don't know why..? There an issue?\"], [\"@MRobertsQLD @barula Clinton foundation donation\\n (Slush funds)\\nOver priced infrastructure initiatives.\\n(Slush funds)\\nOver priced nbn (Slush funds)\\nForeign aid (Slush funds)\\nRenewables (Slush funds)\\nWater rights ( Slush funds)\\nThe whole fcking thing is run by criminals who legislate to consficate\"], [\"@maexar Hey Maexar, we are currently experiencing outages on our HFC network. Teams have been working hard to get this resolved. We will update your provider with new details as soon as they are available. Hope to see you back online soon. ^Del\"], [\"@MsKatastrofic @Uberstooks Yeah. You get $50 of your next bill for the refer a friend promotion. They sent a text today advising NBN would be out on a certain day. We won\\u2019t be home so reschuled to the next day. Got a text 10 minutes later confirming the change. Very good communication so far.\"], [\"@NewtonMark @NBN_Australia Yeah, I'm still on a ADSL2 which now they've sorted the pits out is solid. The new HFC line runs low across a busy street and *through* a tree. The possums like it but I'm not keen.\"], [\"Gah. My NBN is being a dick again. Hotspotting it is. Hopefully when they say they are looking into it they actually are. I'm not entirely filled with confidence though.\"], [\"@NewtonMark @NBN_Australia The amount of FAN level outages I get on my NBN HFC connection is insane. They are forever scheduling business hours outages and I\\u2019ll still get a couple of unscheduled ones that are long enough that they get flagged as an outage by my RSP. Let alone the constant interface flaps.\"], [\"4 drop outs in service with @Optus NBN in the space of an hour. Even with a new modem installed last night. \\n\\nIf this continues throughout today, I\\u2019ll be disconnecting my service, without penalties and moving to another provider.\"], [\"@SchoonerLita @EddyJokovich @MSMWatchdog2013 LNP will never progress a NBN upgrade. That would be an admission of guilt\"], [\"@JacobJackman500 Yep, that's NBN.\"], [\"@BernardKeane 26 times libs blocked labor ,,Never forget or forgive ,,they with nats do same regarding climate change ,,same with NBN How good are they?\"], [\"@TPG_Telecom @BeakyFeatures I\\u2019m in Croydon, NSW and have been having the same issue. Clearly the NBN HFC outage has not been resolved in this area. I\\u2019ve sent a DM with account details.\"], [\"Hey @NBN_Australia, would love to hear an update on the apparently nationwide HFC problems you\\u2019re having. My provider (@Click_Broadband) can\\u2019t tell me anything and I have been missing home internet all weekend.\"], [\"@NBN_Australia We haven't had a connection for 5 days. Today, we've had intermittent connections for, at most, 10 minutes at a time. It is not acceptable and it's all coming from the HFC infrastructure. #NBNFail\"], [\"@NBN_Australia can someone help me. I am 6 Klms from Brisbane city, my neighbours has the ability to connect to NBN but I don\\u2019t even though we share the same cable. I am being told we have to wait for a major network upgrade which seems to not make sense.\"], [\"@JimmyZ51174789 @DoctorKarl The equivalent of putting in RE everywhere when everything except ideology says to include nuclear. \\n\\nLNP's NBN is their \\\"climate action\\\".\"], [\"@Qldaah I've got FTTP on a 100Mbps plan but today and for the last 2 days this is my speed less than 1Mbps #NBN #auspol https://t.co/NIOcafGmXR\"], [\"@NBN_Australia @NationalFarmers @theGRDC @GrainGrowersLtd @FixBushInternet I agreed to $75 wonderful speed plan -   Telstra  - last bill  bigpond $94.90 =- telephone 43.15 -seemed great  BUT never received invoice - so my speed is   .2 .   I am willing and able to pay   -  BEWARE -  If u have something that works at all well  - KEEP IT\"], [\"@Telstra Have to move from reliable cable 40mbs 200gig to NBN. Told deal was 30mbs 200gig for $10 more. WTF? After saying we might drop ALL our services rep said 40m 200gig as 'special limited time offer.' But contract still the pricier deal for less speed on email.\"], [\"@Telstra is there an NBN outage in Mulgrave Victoria?\"], [\"@NBN_Australia The NBN is a national disgrace. It is so disheartening to see such incompetence from our politicians who lead with such little foresight. We are the laughing stock of the first world. Oh how much better Australia could have been with some ballsy and courageous leaders!!Disgrace!\"], [\"@HeresMooshy Morning Mooshy. Thanks for the reply. To ensure you're kept up with any information, please maintain contact with your service provider. They have pathways of liaising with nbn directly for any further assistance. We hope your services are back up and running soon. ^Maya\"], [\"@DoctorKarl we're on NBN and had zero internet for the last 2 nights, thanks @TPG_Telecom\"], [\"@MeckeringBoy @Newwayofdoing Since we got on the NBN we've had rotten service. It goes out, is  slow and tedious.  And we have to pay more than before. IT'S A RIP OFF.\"], [\"@DoctorKarl @RuthTownsendlaw Oh dear. From our apartment in Paris. We recently saw 400 Mbs in a *hotel* in Amsterdam.\\n\\nSorry Australia. You lost out when you voted for Turnbull and his hair-brained NBN. https://t.co/dGvhKqWVD1\"], [\"@tobyallen My HFC NBN connection has bend off all weekend \\ud83d\\ude2d\"], [\"@PercyKaren @lenoretaylor @malcolmturnbull @GuardianAus @murpharoo Sabotaging our nbn? Turnball prefers copper\"], [\"@NBN_Australia is there an outage in Mulgrave Victoria?\"], [\"@alasnich Turnbull has to take responsibility for the position we're in. He was so obsessed with being PM he sold his principles. Likewise on the republic and NBN. At least Morrison is acting on his beliefs, even if they are catastrophic. Turnbull sold us a pup.\"], [\"NBN HFC speedtest \\u2066\\u2069 \\u2066@NBN_Australia\\u2069 https://t.co/L9qpS5xerh\"], [\"@emlafudd @bensab3 @JimRHoughton @qanon Well Murdoch put in his head the necessity to kill the NBN. He managed to do that very well. Fear of Murdoch I\\u2019m guessing..\"], [\"@ricklevy67 @ScottMorrisonMP So Mal likes to talk about the sins of others, but remains silent on his own, like his silence on just one,  the NBN\"], [\"@White_Blinds @DoctorKarl What Australia currently has, was more expensive than what the original planned full-fibre NBN was projected to cost. We\\u2019ve been had, and those who screwed or up are still out there lying about how their \\u2018solution\\u2019 is good enough.\"], [\"@TurnbullMalcolm @zalisteggall So Malcolm, are you desperate to talk up your record on support for renewables etc. to divert attention from how you personally wreaked our NBN?\\n\\n#remember \\n#lookoverthere \\n#justanotherliberalwreaker \\n#LiberalLogic \\n#auspol\"], [\"@Qldaah As usual would be good if he spoke directly to the NBN staff dealing with the old copper wires - they have a very different take on matters. In my area NBN is on hold while they sort out a plan B as plan A wasn\\u2019t viable. I believe we will get fiber\"], [\"@DoctorKarl I don\\u2019t want the NBN when the copper is switched off, I\\u2019m going 5G. We use 4G now and the landline can go.\"], [\"@TurnbullMalcolm And, your roll in fighting proper NBN.\"], [\"@EddyJokovich I\\u2019ve had FTTP for 5 years. Apart from a minor fault during installation it has been 50Mbps and trouble-free. \\nI can understand that NBN is still not rolled out everywhere, but why are new connections made worse BY DESIGN!\"], [\"@Qldaah Last time I heard Malcolm on the NBN he said it was a huge mess! Depends on what he thinks the current audience wants to hear maybe?\"], [\"@DoctorKarl Because no one listens. The NBN was always going to be obselete in five years . Guess what . It is ! 5G all@the way\"], [\"NBN is having home shows.\"], [\"@DoctorKarl A scam that is NBN. @NBN_Australia @TPG_Telecom @7NewsBrisbane\"], [\"Tank @TunullMallm Wa a weak man yu weeae #NBN will e yu legay  #ualia \"], [\"@MeckeringBoy this is with the NBN \\ud83d\\ude2d https://t.co/vdbybuKaYZ\"], [\"@Qldaah NBN News tonight gave him blathering stupid praise for what may be a surplus. No mention of the squandered opportunities for all Australians  AND nothing of his refusal to properly fund urgently needed aerial fire fighting equipment while relying on overstretchedvolunteer heroes.\"], [\"@DoctorKarl I was in Cambodia in 2003 and internet phone calls cost bugger all. It was the reception part of the call that was the problem. \\u2018Straylia. How is it, that I know nothing about anything to do with the internet except use it, knew that the NBN was going to be a balls up?!\"], [\"@DoctorKarl 15 years of govt interference? I had better than that at home at my own expense before the NBN was even suggested.\"], [\"@Qldaah Very slow on the #SunshineCoast #NBN since February 2019\"], [\"@DoctorKarl Years of NBN being used as a political football?\"], [\"@TurnbullMalcolm @murpharoo @lenoretaylor And the NBN is too bloody slow\"], [\"@lenoretaylor @Reggaeh EVERYTHING about the Liberals is hurting Australia, including Turnbull's shit version of the NBN\"], [\"@Telstra I wouldn't know.  Can't get through to get an update.  Meanwhile my mother's pacemaker better not fail cause the landline AND her mobile (which has data service) can't make any calls. You forced us to take NBN lady month and it's been crap from day 1. I want ADSL back or a refund\"], [\"NBN (My ISP) died, modem is in back up mode. Will try get stream back up, bad sadly I don't think my upload speed is strong enough. \\ud83d\\ude2d\"], [\"@NBN_Australia @Skoeman74 Just trying to understand the nbn business model and why the CEO gets such outrageous bonuses when every complaint is answered by \\\"contact your provider\\\".  Tell me again then, exactly what does nbn do, other than transfer responsibility to the \\\"provider\\\"?\"], [\"@damoisonboard At this stage Damien, NBN have reported some services are coming online and others haven't they have not provided an update to us since 5pm, once we get an update it will be updated on the website as soon as NBN provide one - Ashley\"], [\"@NBN_Australia Well until such time as NBN offers the original design deliverable of FTTP, then anything else is fire hose to garden hose technology. Unless your team can reverse the ridiculous thought process that got us here in the first place, then no you can't really help with anything.\"], [\"@PeterWi05879624 @JaneCaro @TurnbullMalcolm @TurnbullMalcolm was removed because he wanted to do something about climate change. I'm no fan of his after what he did to the NBN but climate action is why he was politically castrated. #auspol\"], [\"@Telstra service guys were digging an NBN pit outside my house yesterday and coincidentally my internet and foxtel around midday. Totally not their fault at all \\ud83d\\ude44 dad called up and they told us they'd examine it over 24 hours and now they're saying we'll be out of service...\"], [\"Saturday movie night with @Optus NBN. \\ud83d\\udc4e\\ud83c\\udffc\\ud83d\\udca9 https://t.co/ZaKEmPg82j\"], [\"@TurnbullMalcolm Says the guy that totally screwed the NBN, stifling innovation and productivity. Your words are hollow, your integrity gone!\"], [\"fuck the nbn\"], [\"@alisterrobbie I went to a 50/20 service on HFC NBN, and I don't miss the download speeds but LOVE the upload capability now!\"], [\"@alisterrobbie An NBN service.\\n\\nMind, the external cabling is appalling. It barely  passed SQ testing, and I was promised remediation. Hasn't occurred, of course. Had to log a fault, which NBN have now placed on indefinite hold while they fix unrelated issues that don't impact my service.\"], [\"@seungriach Not to mention I\\u2019m on the NBN so I\\u2019ll probably still be loading the page by the time they\\u2019re all gone \\ud83d\\ude1c\"], [\"@ReclaimAnglesea Easy to criticise from where he sits now\\nHe had the opportunity to do right when in office but chose not to\\nAll he's going to be remembered for is screwing the NBN\"], [\"@fuq_le You are not missing out on NBN, the bloody thing is useless.\\nWe are on the fastest system, paying 127.00 per month, and it drops out 3 to 5 times a day and to boot slow as a wet week.\"], [\"@MarcTennant We still lodge the fault to NBN for you anyway, irrespective of if there was/is an issue in NBN's network. The option to declare the fault was made by NBN and we need to wait for them to clear the event. Once done, we can push this forward. - Leo\"], [\"@JamesHayles10 Usually it's pretty good, not much choice here, Optus hardly works at all, no NBN either, suppose it's the price you pay for not living in the big smoke\"], [\"@avidJay04 @MarTennan NBN HFC newr i e rimary iue, wi we ave a faul lied fr, ere  - Le\"], [\"@Optus @NBN_Australia Still no service here (I'm in Cairns). Unsure whether an NBN issue, as advised by @Optus, or router issue, as advised by @Optus [tech support]. Maybe you can help me, NBN, as I am getting mixed messages but no subscription TV and very-slow-to-no internet.\"], [\"@MarcTennant There is a current fault within NBN's network affecting some connections. Your service is affected and once NBN resolves the issue in their network, we'll fault the issue with NBN for you once more. - Leo\"], [\"@Qldaah Hold that thought I just have to straighten the string on my tin can works better than NBN\"], [\"As if we needed more signs that Australia's fixed broadband, in technical terms, sucks, here's a run of the mill global survey (unrelated to broadband as such). The fastest available NBN speed tier is not even at the midpoint \\ud83d\\ude44 https://t.co/EAeSPsmBcv\"], [\"Documented evidence that @NBN_Australia has literally no idea what they\\u2019re doing. Each white band is an outage, \\u201cpending\\u201d means it\\u2019s been detected, \\u201cfiring\\u201d means an alert has been sent. #nbn https://t.co/8SnQ5JTaHg\"], [\"@MeckeringBoy 6 hours into uploading a 420mb video to YouTube using NBN on mid-north coast. At least one hour still to go. It's comically slow, but without the laughs.\"], [\"My internet has never been so bad since switching to the NBN. Was told I had to switch even though I had no desire for 'faster' internet. It was fast enough, certainly faster than it is now.\"], [\"My NBN got shaped at the 91st minute. Serves me right for being cheap \\ud83d\\ude02\"], [\"@NewtonMark @NBN_Australia stating*\"], [\"@w0mbatus @Margaretmaryle3 I wish our NBN was as quick as Turnbull\\u2019s defence of it. Before we moved from Canberra we had Rudd\\u2019s NBN. Had to put on a helmet and seatbelt before turning on the computer, it was that fast. @minkelCT\"], [\"@mormorlady @PeterRelph For the same reason the NBN was buggered, because powerful people paid money to have it so.\"], [\"@YaThinkN The useless pillock is going to be lumbered with the failed NBN forever. And rightfully so.\"], [\"@systems_asm @Optus @VodafoneAU Im in fnq and have the same issue man! Optus will blame it on the current NBN outages though. Goodluck getting through to em. https://t.co/PgX9Rnd6RL\"], [\"@khtagh @1994_green He's also getting a little shouty about the NBN being fine.\"], [\"@TheEconomist The @NBN_Australia has been a nightmare &amp; still is. Whatever they have done, I would advise to do the opposite.\"], [\"@YaThinkN He sure is... truly pathetic to defend the delivery of the totally inadequate NBN... so many missed opportunities for all Australians.... but particularly those in regional areas.\"], [\"@dinos22 @NickRossTech @NBN_Australia @Aussie_BB @TurnbullMalcolm Don't know what everyone expects.\\n\\nMalcolm Turnbull the Luddite has been lying through his teeth ever since the NBN was first announced!\"], [\"@Optus is there a problem with the nbn in Yarraville?\"], [\"@NewtonMark @NBN_Australia Be alert, not alarmed, but I suspect they are watching you.\"], [\"@boyter @YaThinkN That makes sense. For Turnbull to claim speedtest results are not accurate. It's as lame as NBN Co making up their own custom tests.\"], [\"@dinos22 @NickRossTech @NBN_Australia @Aussie_BB @TurnbullMalcolm FYI most RSPs should give you same or better speeds to what you have now for the same price (Optus did for me)\"], [\"@NBN_Australia Thanks Lisa. Can you please confirm that NBN do not have access to view their own outages? The service provider explained this was an NBN outage.\"], [\"@Senator_Patrick @Richard_D_Boyle @DeptDefence @lindareynoldswa If they had built a proper NBN..would have been much more valuable asset than this stuff\"], [\"@mormorlady Sounds like NBN denialism\"], [\"@donsman31 Thanks for confirming, was your internet service NBN? Could you please send us a private message with your broadband username so we can take a look and provide further assistance? Sarah\"], [\"@Denham0001 Hey, at this stage we are not aware of any isolated outages in the area, unless you are on HFC then there is a pretty big nation wide NBN issue. Cheers, Ashley\"], [\"@Qldaah Both the infrastructure and the management of the NBN is appalling. I had to go to NBN, now have approx exactly the same 18MBps download I had previously but with far more outages. As soon as 5G data is better priced, I'm cutting off the fixed line.\"], [\"@damoisonboard Hi Damian, at this stage NBN are still investigating the issue and trying to resolve it now. We have been advised to try and get customer to reboot their routers and NBN box now and it should bring you back online. (we are in the process on updated our website message now) - Ash\"], [\"@randlight @TurnbullMalcolm misses the point. I'm getting the same speed on the NBN as I did on ADSL, for the same price. So, the question is - why did we bother spending billions of dollars for exactly what we already had? A waste of \\ud83e\\udd2c money!!!\"], [\"@char_stokely  I would love to kiss you date you. Make love to nbn you also.\"], [\"24 hours of the nbn being out, loving life \\ud83e\\udd26\\u200d\\u2642\\ufe0f\"], [\"@exaggerator_s @randlight @LennaLeprena Yes, that is so wrong, destroying our NBN while investing in fibre elsewhere\"], [\"@cajems1 We're aware of an issue impacting some NBN customers and our tech teams are working to restore services as soon as possible. I've responded to your DM with more details, let's continue our conversation there to avoid any confusion. Sarah\"], [\"hey @Telstra is it possible to get a static IP for my NBN broadband? if so, how much does it cost per month?\"], [\"no surprises the NBN in the street went out\"], [\"@Aussie_BB You claim you can supply higher speeds and a more reliable service so again, how can you do this when you are using the same lines and towers that every other provider uses? You can not make a claim of a faster speed and more reliable service when you use the same NBN services.\"], [\"@KevinGeller4 That's certainly not great to hear Kevin. If you could please send through your appointment details over on our DM thread, I would be more than happy to chase it up with the NBN and see whats going on -Quade\"], [\"@Farlie1 Hi, we are sorry to hear that your experience has been less than ideal. Building the nbn network around Australia does take time and we appreciate your patience thus far. ^Lisa\"], [\"@matthewslaurie @YaThinkN That\\u2019s appalling. I feel for you. One of the best emails I got last year was from iINet saying I didn\\u2019t have to join the NBN but could stay on my VDSL2. It works. https://t.co/SF7rMzCwRR\"], [\"@Qldaah @greensinspa We're getting   NBN soon, so will be interesting to see.\"], [\"@stewartsmith @CenturyLinkSEA How do they compare with NBN\"], [\"@EdWellham @TurnbullMalcolm @murpharoo @lenoretaylor No boomer, I actually didn\\u2019t. It was bad enough listening to his voice while PM. I wouldn\\u2019t willingly put myself through it when he\\u2019s now not the PM.\\n\\nJust wanted to stop by and tell him he ruined Australia\\u2019s already bad internet with NBN and did nothing about climate change ;)\"], [\"@randlight Can\\u2019t remember but sounds believable. Sadly I think once NBN is in that is it.\"], [\"@JoelNapolitano Hey there, we're aware of an issue impacting some NBN customers. Our tech teams are working to restore services as soon as possible (ref id: 21929587). We apologise for any inconveniences caused during this time and we appreciate your patience. Sarah\"], [\"@allymcleangames \\u201cIt enhances my NBN speeds.\\u201c\"], [\"@IndusTrainCons @PhilipSoos He got a bit too defensive as soon as I mentioned NBN, he should have let me finish the question.\"], [\"The blurry sensation of fear before your NBN \\ud83c\\udf46\"], [\"@NBN_Australia Can the tax payers who are affected by the current HFC outage due to YOUR systems becoming unavailable or going offline get an explanation? Current outage is over 24 hours and don't you dare suggest \\\"Call your RSP\\\". #nbn #mtm #hfc\"], [\"@BarrysChins It should be the one particular thing for Malcolm ...\\nDon't mention the NBN ... https://t.co/rk7cSjFCj7\"], [\"@marg_hutton @NBN_Australia Our Telstra cable is down too so.... \\ud83d\\ude09\\ud83e\\udd2c\"], [\"But seriously. \\nConnecting to the NBN was the easiest experience I've ever had with getting the internet connected.\"], [\"@YaThinkN I've had the NBN for 5 weeks, the speed is the same as ADSL2 which I previously had.\\ud83d\\ude02\"], [\"@Qldaah I do too. They'll drag me kicking &amp; screaming onto their NBN mess!\"], [\"@notanotherCathy @lynlinking @TurnbullMalcolm Ditto for NBN\"], [\"Day 1 of having the NBN https://t.co/559ioJ3SMC\"], [\"@NBN_Australia I\\u2019ve done that. They\\u2019ve said they are aware of the issue. Still doesn\\u2019t fix it. All I want is a bit of transparency and responsibility from NBN. Why are we kept in the dark if there\\u2019s a planned outage or upgrade?\"], [\"@TurnbullMalcolm I find it funny when you say that streaming services had not been anticipated. So why build an NBN that STILL doesnt anticipate the future?!\"], [\"@NBN_Australia Telstra have cancelled the technician as they believe there is a known problem and have advised they don\\u2019t know when it\\u2019s going to be fixed!!! \\ud83d\\ude21\"], [\"@Loud_Lass i had an NBN guy install recently. went 100% smooth. we've got HFC too.\"], [\"@PerthObserver We're sorry to hear that.  Unfortunately, we don\\u2019t have access to view outages, this is solely handled via your service provider. Make sure to raise this with them and if they require assistance, your provider has direct access to our nbn support team. ^Lisa\"], [\"@mormorlady @D_Melissa2 I struggle with the NBN!\"], [\"@iiNet what is the process to switch from another company\\u2019s service to yours? Our house is NBN ready but we don\\u2019t currently have NBN\"], [\"@frankjotzo @TurnbullMalcolm How about one on the NBN, could you get him to speak on that?\"], [\"@NickRossTech @NBN_Australia Don't think I've ever had my service drop that wasn't caused by a stupid human (NBN tech pulled my service out at the FTTP box by mistake.\"], [\"@Snow_Crash And most people wouldnt know the term attenuation but signal/noise is kinda self explanatory. But as I said: fair point. Will do better in future when ranting about NBN :) thanks for the correction. https://t.co/W1MhTayWSA\"], [\"@NickRossTech @NBN_Australia @Aussie_BB @TurnbullMalcolm 100% and he isn't a big enough man to admit it! No wonder trust in the government has hit an all time low under the LNP\"], [\".@TurnbullMalcolm you say the NBN isn't terrible? Ok boomer..\"], [\"@TurnbullMalcolm @murpharoo @lenoretaylor You knew about climate change and did barely anything, if not nothing while PM. Also NBN was the worst thing to ever happen to Australia; since Morrison of course; but still, you ruined our already terrible internet.\"], [\"@NBN_Australia Having worked for both NBN and Telstra in the past,  cut the shit and update us. You BOTH can update,  you're just too fucking lazy to do so \\ud83d\\udd95\\ud83d\\udd95\\ud83d\\udd95\"], [\"@Bishop64 Are they both pointing at a time when they pushed a useless, not fit for purpose NBN on us\\n\\u201cThat\\u2019s where our political careers ended\\u201d\"], [\"@TurnbullMalcolm your defence of NBN speeds is really dim for a man who is otherwise self-evidently quite clever. Australia doesn't settle being mediocre in other endeavours, so why defend the mediocrity of this roll-out? Sluggish speeds will crush innovation &amp; competitiveness.\"], [\"@ri6787407 Hi Cri, und lie yure affeed by a nwn iue imain a number f NBN HFC ervie were wrin wi e newr rvider  fully relved ASAP See ur even liin fr mre inf and udae a ey beme available  - Tal\"], [\"@NickRossTech Just checking up on how your recent NBN connection is going. Is it what you expected?\"], [\"@paulwallbank @NBN_Australia Still waiting for the NBN here (7 kms east of the Melbourne CBD). Still plodding along on ADSL.\"], [\"So Malcolm Turnbull has defended his $50B NBN debacle. \\n\\nWell there it is, folks. Living proof that Malcolm Turnbull doesn\\u2019t listen to people.\\n\\nWho would have thought. #auspol\"], [\"@nobby15 @LesStonehouse Brilliant? He singlehandedly (is that even a word?) stuffed up the NBN and we are all still suffering from that particular fuck up!\"], [\"@Mijjy3 @matty_k @EddyJokovich True. There was no reason for LNP to re-spec NBN other than to break it.\"], [\"@Aussie_BB You claim you have a faster and more reliable NBN service, since you use the same NBN lines and towers as every other provider, how can you make this claim? Do you have a dedicated NBN line that no one else has? If the answer is no then the adds you post are a lie.\"], [\"@jtota92 @NBN_Australia Hi Jack - certainly not good to hear you're having some issues with your NBN service. For us to look into this for you, we will need you to send us through a DM. From there, we can further investigate. Zac\"], [\"They are installing NBN in our area now.... I swear if it ruins my internet which works absolutely fine how it is I will be rattled \\ud83d\\ude02\"], [\"@moylecroft @NewtonMark @NBN_Australia @TurnbullMalcolm HFC is well known, the NBN implementation has a few structural quirks which takes a bit of time to understand if you\\u2019re coming from any other operator.\"], [\"@NickRossTech from the same morons that where giving labor shit about the nbn rollout and where are they now not saying shit submarine's out of date way over cost not saying shit makes you really think don't it\"], [\"@moylecroft @NewtonMark @NBN_Australia @TurnbullMalcolm Anything that relied on tangled copper should have been nuked, HFC was a reasonable option if used as part of future plans to progressively replace the coax with glass. Every access technology other than 1:1 glass should be treated as a temporary intermediate step toward it.\"], [\"@NBN_Australia @skatsa That\\u2019s a fantasy that just doesn\\u2019t happen!  Fault found by NBN \\u201cin lead\\u201d from the cabinet on Hurtle Square Adelaide CBD (Pultney Street) on a run down Halifax Street.  Won\\u2019t be fixed unless business get together won their initiative and put in a bunch of complaints together.\"], [\"@cdcAU @NBN_Australia Are you in Newtown? Don't suppose with Aussie Broadband? Also facing the same issue, not back yet for me \\ud83d\\ude22\"], [\"@cdcAU Hi Chris. If there is an outage affecting your services, we recommend reaching out your service provider. They can follow up and gather information from nbn directly. We hope this is resolved as soon as possible for you. ^Maya\"], [\"@Inmaniac you have NBN now will take like 5min\"], [\"guess who's finally getting nbn\"], [\"@NewtonMark @NBN_Australia No bloody network\"], [\"@Marie_Perold We've had that come through to us also now Marie. It appears to be an issue with the NBN boxes. Our teams and NBN are working on this now. My apologies again for the trouble. Rob\"], [\"@EddyJokovich Currently Optus advised me the #NBN Australia wide is down due to a storm. I challenged the statement but he was just reading a notice. In any event I'm now getting less than 1Mbps speeds on a 100Mbps plan. No further notice at this time. #auspol\"], [\"@firebirdasusual You will have ADSL at the moment but if you do a search on NBN website for your address it will tell you what you will get\"], [\"No internet (NBN technician later today) and now this cricket on 7 \\ud83d\\ude21 FML https://t.co/NsghRbm7kj\"], [\"@LesStonehouse While we are on the subject of achievements or lack thereof. I've been advised by Optus that the #NBN is down Australia wide. I've been getting speeds of less than 1Mbps &amp; paying for 100Mbps they're adjusting account but still not a good situation. No further notice ATT #auspol\"], [\"@Internode Hi, the NBN box has been flashing green on the \\u201conline\\u201d status all morning and yesterday\"], [\"Thanks all for the info and sharing of experiences on NBN. I am going to expect the worse and hope for the best\\ud83d\\ude0a\\ud83d\\ude36\"], [\"Looks like HFC is back: #nbn @Aussie_BB https://t.co/HjoQHSyOV3\"], [\"No one has the necessary infrastructure needed to handle this, due to Governments constantly pushing back on necessary upgrades to telecommunications, such as the NBN in Australia or that bullshit that I heard went down in the States.\"], [\"@Bukumbooee @dottigee The NBN. \\\"nuff said. grrrr\"], [\"@LiberalAus If we hadn\\u2019t had 6 years of LNP incompetence, we\\u2019d have a stronger economy, lower unemployment, lower debt, a decent NBN, lower power prices, action on climate change and global respect and credibility.\"], [\"@HeresMooshy @NBN_Australia \\u2018Raise it with you service provider\\u2019 the default answer every time!!  You guys should know if the NBN isn\\u2019t working we shouldn\\u2019t have to keep telling you \\ud83e\\udd26\\u200d\\u2642\\ufe0f\"], [\"@EddyJokovich Obviously the provider for the pathetic mixed #NBN is a #liberal donor. \\nWho is taking a few liberal senators ministers staffers on a lively fun packed junket we know nothing about. \\n#auspol\\n#LNP\\n#ScottMorrison \\n#scomoPromo\"], [\"@bugwannostra @Bobsully12 ...and f***ed the NBN.\"], [\"Aussie Broadband $50 off first month! \\nReferral code: 2196434 #NBN #broadband #internet #discount #credit #deal #saving #code #referral #reliable #customerservice #passion #it #aussie #aussiebroadband #mate #connect #join\"], [\"I have had to go from a cautious advocate of NBN's HFC program into one of its critics. Forever. That's how customers respond when you burn them, they stop talking about your successes and will only ever care about your failures. Good job!\"], [\"I'm now the kind of incandescently furious customer who has no patience whatsoever for @NBN_Australia's bullshit. ESPECIALLY since Thursday, when they finally acknowledged a long-run issue in their network which has been causing my fault which they've kept secret the whole time.\"], [\"Not only can I not use this service to reliably offer services to my users, I can't even use it myself: It's been WEEKS since I've felt confident about being able to have a videoconference for work, one of the primary NBN use cases. They almost all get interrupted.\"], [\"On Oct 20 I had 8.5 hours of downtime. I had 1.5 hours on Nov 7th, a bit over an hour after an @NBN_Australia tech had left the premises after giving me a green report card. I had another hour offline last week. 16 hours yesterday/today. Hundreds of random 5-20 minute failures.\"], [\"So at that point I \\\"escalated.\\\" MPs have a vector into @NBN_Australia which bypasses the usual front-of-house. If they're screwing you around, that's one way to make them reassess their priorities. I pulled that lever; New appointment the following week. Winning!\"], [\"@SilleScott Can't see any clear signs of issues for the area at this time, Scott. What kind of NBN connection is it you're using there and what testing's been tried to help narrow down any cause for interruption? - Tal\"], [\"@TomMcIlroy The lawyer, the merchant banker and NBN \\\"hero\\\" lectures everyone on science and engineering. #GFY Turnbull\"], [\"@emiliaattwood Hi Emilia, we're sorry to hear that. Unfortunately, we don\\u2019t have access to view outages. Make sure to raise this with your service provider and if they require assistance, your provider has direct access to our nbn support team. Let us know when you\\u2019re back online! ^Lisa\"], [\"@fenham @Loud_Lass I just got rid of the NBN and went Broadband. Faster and cheaper\"], [\"@iiNet Hi team. Is there nbn problems in Forrestfield, WA? Our nbn is down and has been for a few hours.\"], [\"@Telstra a person in your call centre just told me the nbn in 80% of NSW is out of action. I was told they\\u2019d try to fix it by 4 Dec, or maybe 12 Dec. Is this true? Presumably your CEO is on the case if it is.\"], [\"@NickRossTech @Stay_young4now @Aussie_BB @NBN_Australia @TurnbullMalcolm I wish Turnbull would come clean on what he did to the NBN. Does it weigh on his conscience? Will he take it to the grave with him?\"], [\"@Cornaum @Loud_Lass Robocall - I didn\\u2019t get the name told press 1 to talk to technician so I hung up. Tried to call NBN but it\\u2019s all recordings and then they hang up. NBN message does say that they generally write and rarely call!\"], [\"@TurnbullMalcolm @murpharoo @lenoretaylor Turnbull will be credited and deservedly long remembered as the man who skuttled the NBN. Scores of duped subscriber's with no other choice get irritating reminders constantly.\"], [\"@NickRossTech @Aussie_BB @NBN_Australia @TurnbullMalcolm Tell me your Plan B please. I need it as my NBN is unreliable, underpowered and flakey, too. Thanks.\"], [\"Hey @Optus, internet has been down since 7pm last night &amp; ur website is still saying everything is \\ud83d\\udc4d despite other telcos reporting nationwide issues for NBN HFC customers. Do we need to switch providers to get proper customer service? @TPG_Telecom seem to know what's going on..\"], [\"@Optus so many people including myself getting in touch about no @NBN_Australia connection. Sounds like a widespread trend that requires more than a 'DM with your details'\"], [\"@HashTagging101 Morning, thanks for reaching out to us. If you\\u2019re not receiving the service that you should then you must report this to your provider. They will lodge faults with nbn to investigate the issue. ^Lisa\"], [\"@bajopants I won't be streaming it because of my bad upload speed. No NBN till February. Hopefully I'll have a higher upload than 1 mbps\"], [\"@murpharoo @PatsKarvelas @TurnbullMalcolm @lenoretaylor Turnbull is a total coward. Look how he caved to Abbott and Co on the NBN etc.\\nThe man has zero credibility\"], [\"@firebirdasusual Yes. They shut off the old network after 18 months on average so you will have to get an NBN service or have no dedicated home internet.\"], [\"@Aussie_BB Hey gang, our nbn has been down here in Clifton Hill since last night. What\\u2019s going on there eh?\"], [\"@BigV2011WCE Morning Victor. That's a great question, however may need to discuss this with your service provider. Are there any medical alarms at your home? Did your service provider raise a case for you with nbn directly? If so, they can follow up with the team. Hope it's resolved soon. ^M\"], [\"@NickRossTech @NBN_Australia @Aussie_BB @TurnbullMalcolm Hence why my businesses are not on the NBN, and will never use the NBN. It's NOT FIT FOR PURPOSE.\"], [\"Say what you will about @NBN_Australia, they did build a do-nothing, bloated and overpaid bureaucracy in just over a decade that the old Post Master General's department couldn't achieve in 100 years.\"], [\"@paulwallbank @NewtonMark @NBN_Australia No luck with Reboot...\\nI think NBN is \\\"No\\\" Broadband Network \\ud83e\\udd26\\u200d\\u2642\\ufe0f\"], [\"I feel like I\\u2019ve achieved something today - getting the nbn router plugged in and working. The connector is in a weird spot, high up a wall which is unhelpful when the power point is down near the skirting board.\"], [\"@NickRossTech @Aussie_BB @NBN_Australia @TurnbullMalcolm yep - thinking of going to the car yard today trade-in my late model car for 1990's model, - NOT! \\nNBN must be one of the only product releases where people have been forced to accept WORSE service!  #NBN #auspol\"], [\"@stufromoz @NBN_Australia Have they? I can't find that. There is an HFC problem reported from Thursday that NBN claim is largely fixed. Our problem started late Friday.\"], [\"HFC NBN back online. Bang on 09:00. Almost like they were on some kind of schedule for restoration. Now back on the clock wondering how long it\\u2019ll take for the next outage to roll \\u2018round. @NBN_Australia\"], [\"@NickRossTech @Aussie_BB @NBN_Australia @TurnbullMalcolm The weird thing is I've been on iiNet owned cable infrastructure in Geelong for nearly 5 years with barely any outages. Shows what happens when you maintain and upgrade HFC properly. So happy they're not selling it to NBN.\"], [\"Happy days. @NBN_Australia has been down for 15 hours but they claim there is no problem.\"], [\"Hi @NBN_Australia, any update on the HFC service outage (registration not working)?\"], [\"@SElizaP @NBN_Australia @Aussie_BB @TurnbullMalcolm Those Telstra 4G 'backup for when service goes down' TV ads weren't joking were they? Although someone was saying that the modems get confused by having 4G built in. #nbn #auspol\"], [\"@NickRossTech @twigsama @TurnbullMalcolm @NBN_Australia @matt_barrie @Aussie_BB @chaser @acccgovau You realise it\\u2019s your own devices capabilities? HFC is capable of the full 100/40....\"], [\"@Telstra how can your customer service be so bad? I placed a business NBN order 2 months ago. Crickets. Now am getting emails about an order for a site in NSW (my business is in Vic) rang to query. \\u201cWe\\u2019ll fix it\\u201d. Woke up to confirmation of order for address in NSW. Hopeless\"], [\"@NickRossTech @Aussie_BB @NBN_Australia @TurnbullMalcolm Might be. I'm with Telstra.\"], [\"@VodafoneAU I'm a Koganmobile customer (and have notified them) but since a blackout on Sydney's lower north shore yesterday afternoon network speeds very slow. It knocked out my NBN completely so I'm relying on tethering. Typical speedtest: https://t.co/ITfztjR0J6\"], [\"@NBN_Australia so there has been an outage with your HFC NBN for 30 hours and counting but you seem unable to provide updates to your customers on when this outage will be resolved. Very frustrating. Get it fixed asap.\"], [\"@Loud_Lass Before the NBN we had only rare dropouts,now we get them on a daily and sometimes hourly basis. Good luck.\"], [\"@NewtonMark @NBN_Australia In some ways I'm glad I got FTTN, at least it stays up even if it's incapable of reaching the speeds we pay for or I want. Just somewhat faster than potato internet we had before.\"], [\"@asherspira Innovated the sh#t out of the NBN\"], [\"@Optus our NBN internet has been down since yesterday-tried chatting to the tech team online but 30mins later no response. Is there an outrage in Cremorne area Sydney?\"], [\"Seriously, how hard would it be for @NBN_Australia to actually maintain their own publicly accessible outages site?\"], [\"@Loud_Lass I was in rural Alberta Canada last month and saw what broadband looks like. I\\u2019m on HFC drops out all the time. The NBN is a national disgrace.\"], [\"@NickRossTech @TurnbullMalcolm @matt_barrie Mal also said that Governments have to keep reviewing their policies and decisions and that people don\\u2019t like it, but it has to be done. So, since 2014, NBN policy regularly reviewed. Got it.\"], [\"@OzPol_Critic @NBN_Australia The node arrangement is very peculiar. (Dare I say dodgy?)\\nFrom my letterbox I can see the nearest node, but when an #NBN tech turned up to fix mine recently he said I was connected to a different node which is nearly 1km away in the opposite direction.\"], [\"@Optus no internet connection on NBN cable broadband since yesterday evening and I cannot see any outages in website.\"], [\"@Loud_Lass Hybrid Fibre Coax. I assume you already have some sort of service delivered via coax. Doesn\\u2019t really matter much what the metallic bit is beyond the fibre. Copper twisted pair or coax. Works the same. Has to be better than NBN shit fixed wireless .. surely !??\"], [\"NBN and energy veraul a e enre f Albanee enm       va @ABCNe\"], [\"12 hours and @NBN_Australia still haven't been able to sort out the outage on my connection. @Optus says it will be Tuesday before a tech can come out! No phone our internet then I guess #nbn\"], [\"@themarkjacka Liberal party prime ministers have a tendency of thinking they fixed everything. Turnbull has no choice but to support NBN or we would have had a national infrastructure collapse in the communication sector. All of this happened in the Howard years.\"], [\"@themarkjacka Turnbull is an investment banker. He sees value in innovation. Keating created the NBN with a view to starting in regional Australia.\\n\\nWhen it came to big cities, Telstra was the problem and still is. Most of the drawings for cabling tunnels and pits were wrong or didn\\u2019t exist. https://t.co/ViBL5FPYRT\"], [\"A nationwide HFC outage.\\n\\nIn other words someone in NBN is really putting on a spectacular shitshow right now. https://t.co/Hi6zbRdE7q\"], [\"The immediate feeling of exhaustion with a stranger's NBN \\ud83d\\udd11\"], [\"The end of the world is here. @Optus tech support don't get the concept that if ur getting faster then normal upload but no down, ITS NOT THE MODEM. Add to that the fact I went Ethernet strait to NBN box. I dont need a new toy modem when I habe a $500 beast. I need connection\"], [\"@Telstra Only outage was on the 20th at Rockingham 6168. I couldn't call as phone is now connected to nbn. So if nbn is out everything is out. As for calling im at work so its kinda hard\"], [\"@NickRossTech @TurnbullMalcolm @NBN_Australia @matt_barrie @Aussie_BB Yours is way faster than my NBN connection!...NBN for many is absolute rubbish..much of the population now enjoy a going backwards NBN technology..every month my connection reduces by another megabyte...by xmas next year it will 56.6.KBPS!\"], [\"@Loud_Lass Yep they\\u2019re finalising things in our street too, everything\\u2019s gotten worse, slow speeds when trying to watch catch-up/Stan etc \\ud83d\\ude33 not really looking forward to changing to nbn haven\\u2019t heard good things\"], [\"@Sayo_Nara_88 Hi, sorry for the late response. Are you still experiencing an issue with your NBN service? -Ivan\"], [\"@BelongAU what the shit did you guys do to cause like 4 suburbs NBN to just stop working\"], [\"@Kimmy_Ralph I'm terribly sorry to hear you're experiencing issues with your NBN, Kimberly. Can you please DM us your full address so we can take a closer look at this for you? - Kim\"], [\"@CaraMia200 A hint of sympathy for the bastard there Cara !! We cannot have that !! That scumbag screwed the whole NBN rollout to serve Murdoch wishes as you know !!!\"], [\"@mechriot @SmoothCaramel1 @hexsteph Not sure when nbn let RSPs know it was an issue. We put an outage notice up at 3:45pm\"], [\"@NBN_Australia Hello Audrina. It was repaired sometime after my first message. Final outage time indeterminate, but greater than 15 hours. Unfortunately NBN is failing a lot more regularly than ADSL. Down again today (reported to service provider) and it\\u2019s been off for 12 hours....\"], [\"@mechriot @SmoothCaramel1 @hexsteph Hopefully it'll be fixed soon, nbn are still working on it as far as I know\"], [\"@Loud_Lass With my NBN connection I have several line dropouts every day and I have to save my work every 5 minutes to prevent losing data\"], [\"@Loud_Lass #HFC, was the part the deal between #MalcolmTurnbull and Rupert, to save #Foxtel. \\n\\n#NBN #auspol https://t.co/y2Iaa4eRQY\"], [\"@TonyTan63525837 @NBN_Australia You\\u2019ll be cursing NBN once it\\u2019s installed\"], [\"@NBN_Australia still no reply. Could you advice me how I make an official complaint about your lack of service?  No reply and no actual details about current outage. Same response as always-\\u2018contact your service provider\\u2019\"], [\"@Annie19221318 Hey Annie, I'm terribly sorry to hear you're having issues with your NBN. I can't see any reported outages or planned maintenance in the Allawah area currently. Can you please DM us your full address so we can take a closer look at this for you? - Kim\"], [\"@Loud_Lass Commiserations. Think mine is just around the corner, have had robocalls for \\\"NBN\\\" saying they will disconnect my ph in next 24hrs if I don't contact them. Mind you I've had this call for the last 3 months. Yeh maybe a spam call.\\n\\nI sincerely hope  it goes well for you.\"], [\"@Loud_Lass I\\u2019m in Keperra and we changed over to nbn this year, wish we didnt. never had a issue before and now it\\u2019s rubbish. What a joke and waste of taxpayers money\"], [\"@davidiwanow @NickRossTech @Snow_Crash @jendudley @TurnbullMalcolm @NBN_Australia @matt_barrie @Aussie_BB Adelaide has 10gig city but it's restricted to the CBD. But it'd be nice to have at least 1gbps FTTP for businesses outside of the CBD.\"], [\"@NBN_Australia I had a confirmed scheduled appointment for today for one of your technicians to attend my property and install NBN on the premises. This appointment was confirmed via text message on Tuesday and then again on Wednesday only for your tech not to bother to show up!\"], [\"@cinnamoncervine @108 I feel you on the Australian internet issue NBN for the win at 1mbp\"], [\"@Loud_Lass @LennaLeprena The best that can be said about most NBN is you will pay the same amount &amp; get as good as you already have. After contributing to the 56+ billion to ensure you do not get optical fibre\\u2026\"], [\"@Deligracy It\\u2019s called 5g network! I\\u2019m avoiding the NBN if I can\"], [\"The #NBN is a bullshit and the worst broadband in the Aus, even the Earth. Waste our money\"], [\"@themarkjacka @amagickeagle999 Is Malcolm flogging the latest IPO is he...can you ever forget his video talking about marginal cost in relation to the NBN...God help us\"], [\"@Tim52618919 @NickRossTech @stinhambo @TurnbullMalcolm @NBN_Australia @matt_barrie @Aussie_BB Every #NBN thread turns into a speed test contest of worsts and bests \\ud83d\\ude02\"], [\"@NewtonMark @NBN_Australia Good point!\"], [\"@simondotau @NewtonMark @NBN_Australia So if I happened to still be on Telstra HFC your advice would be DO NOT SWITCH?\"], [\"@NickRossTech @NBN_Australia @Aussie_BB @TurnbullMalcolm Welcome to the plight of all NBN customers.\"], [\"#NBN Co fudging it's rollout map. Shows my address on map as being able to connect (blue). But specific address returns \\\"More work required\\\" and \\\"Expected availability  June 2020\\\"\\nNBN Co have no credibility &amp; are BS'ing to meet political directives.\\nShame.\\n#auspol @MRowlandMP\"], [\"@NickRossTech @NBN_Australia @Aussie_BB @TurnbullMalcolm Oh well, at least when they privatise it whichever supporter buys the NBN will get an even better giveaway price since it's rubbish \\ud83d\\ude2c\"], [\"@Optus  hi. I have not been able to access my home internet since returning from vacation about 3  hours ago. The green light on the NBN modem has been blinking continuously.  And its also very unusual not to get any of your agents in the chat room. What is going on?\"], [\"Fixed wireless was incredibly funny in 2008. But can you imagine how humiliating it must be for @NBN_Australia to have zero upgrade plans, and have to pretend \\u2014 in public \\u2014 that it\\u2019s good enough more than ten years later? #nbn https://t.co/knenqjV2zO\"], [\"@sortius @stinhambo @NickRossTech @TurnbullMalcolm @NBN_Australia @matt_barrie @Aussie_BB Can confirm, FTTP was a complete waste of time :p https://t.co/5IbMyqT3RG\"], [\"@NBN_Australia why is ur internet so fucking bad all it does is cut and and all I\\u2019m doing is playing a little bit of PlayStation\"], [\"@Loud_Lass We are lucky to be in 5G area (Optus), and while some teething issues, looking superior to NBN offerings (based on what I have heard)\"], [\"@DobZombie @SallyRMelb @Loud_Lass True. One of my sons lives in a rural area, and he loves the NBN.\"], [\"@LunR_OCE bruh my area has had an nbn outage for the past 4 and a half hours\"], [\"@yvmzy Hi there, what seems to be the trouble with your internet service while awaiting the switch to NBN? - Cas\"], [\"@hexsteph That\\u2019s ok\\u2026 you\\u2019ve got NBN\"], [\"@hexsteph That's what I was hoping to do tonight but the Internet has been down all day :( sadly I have HFC NBN which apparently is down nation-wide!\"], [\"@iiNet This outage has had no update in almost a day. What is going on? Still no internet and seemingly no update on what is happening with this outage. Have our NBN modem simply cycling through its status constantly. Any update would be appreciated.\"], [\"@ThisIsMakena @NBN_Australia That answer is unacceptable. They should not be offering you an FTTN service that can\\u2019t meet speed standards.\"], [\"@NickRossTech @TurnbullMalcolm @NBN_Australia @matt_barrie @Aussie_BB Oh yeah, it could be worse Nick, my new place (2 years old) is literally a non resolveable address on the NBN map. The address with 39 apartments simply doesn't exist.\"], [\"@NBN_Australia Turnbull says @NBN_Australia has good tech but bad PR. No, this is them sucking at both.\"], [\"@CharmsYahoo @NickRossTech @TurnbullMalcolm @NBN_Australia @matt_barrie @Aussie_BB My 18mbit ADSL took 16 years to drop to 15.\\n\\nNot that I'm a copper fan but the degradation was slow.\"], [\"@NBN_Australia \\u201cContact your RSP,\\u201d said the social media people at @NBN_Australia. Yep, did that. \\u201cThey\\u2019ll liaise with us to get your fault fixed.\\u201d Yep, that happened too, but your people lied about it. \\u201cKnown issue,\\u201d but not published.\"], [\"@AboutTheHouse @TimWilsonMP Given the state of the NBN you'd have to start streaming now to watch it when you turn 65.\"], [\"@NBN_Australia Needless to say, I am incandescent with rage that an admission like that was withheld to make way for over a month of misleading deflection from @NBN_Australia before it was made. #nbn\"], [\"@NickRossTech @TurnbullMalcolm @NBN_Australia @matt_barrie @Aussie_BB Cable customers particularly get shafted on this. I've heard of many a HFC customer getting a solid 100 getting significantly less once that garbage is turned on. \\n\\nThe slimy grub sold us out, surprise factor is 0.\"], [\"Today my long-running @NBN_Australia fault got \\u201cprogress,\\u201d in the sense that they acknowledged to my ISP that there is a known fault in my area which is bad enough to cause services to behave like mine but not bad enough to yield the publication of an outage advisory. #nbn\"], [\"@Deligracy Mill park :) we got nbn before when it was fibre to fibre, before the government changed it fibre to node!\"], [\"@NewtonMark @NBN_Australia Unrelatedly, I did get rather wet though.\"], [\"@Optus anyone else in Allawah NSW having issues with their Optus internet NBN. We have had nothing but problems for weeks!\"], [\"@anthonycr0 Lol, my 4GX speeds are faster than my NBN speeds now. lmao \\ud83e\\udd23\"], [\"@NBN_Australia how about a tweet or status update for all of the HFC customers in Australia with out internet? Or is that to much to ask?\"], [\"@stinhambo @NickRossTech @TurnbullMalcolm @NBN_Australia @matt_barrie @Aussie_BB Yeh, we totally didn't need an FTTP #NBN https://t.co/g9cj0HDEld\"], [\"@thornburygrrrl @NBN_Australia I'm in Thornbury and my NBN is down too. Eighteen years of reliable cable Internet and we switch to NBN 2wks ago and nothing but constant dropouts.\"], [\"Power came back 30 min later but not the internet. Got NBN tech booked to come over tomorrow unless they can remote fix it.\"], [\"@Loud_Lass I am at the #GoldCoast  #NBN worst Then #ADSL and 20% more expensive  @TurnbullMalcolm  worst Communications Minister ever\"], [\"Te liar Par a i again \\nabr ble e are derai were li e a Nainal Cnferene were everne rae ie  in are debae lie NBN NDIS  @iberalA ld ae ne f eir failrewae ere #al \"], [\"@Optus is there an NBN outage in Victoria 3150? NBN box is cycling through the flashing lights, get top three solid but Online just flashes then it starts again\"], [\"@NBN_Australia is NBN down in postcode 6027? Is there a link to see current outages?\"], [\"Yay!!!! Labor will fix the liberals stuff up of this horrible slow NBN\"], [\"@Loud_Lass We had fantastic cable internet for 17+ years, then we were forced onto the NBN. Now our internet drops out randomly and regularly. NBN = Nonsensical Bloody Nuisance!\"], [\"@NickRossTech @TurnbullMalcolm @NBN_Australia @matt_barrie @Aussie_BB I'm getting 0.25mbps on 50/20 FTTN #NBN right now. It's an absolute disgrace.\"], [\"@wmaster33 @NickRossTech @TurnbullMalcolm @NBN_Australia @matt_barrie @Aussie_BB vote for LNP broadband\\nFaster,Cheaper, Sooner\"], [\"@ozhomeschool Isn't that a great way to control communications when you feel the \\\"need\\\"?  Just switch off the NBN!\"], [\"@Deligracy Now that we have NBN, the Internet here in Point Cook/Altona area has been fairly consistent\"], [\"@iiNet I'm pissed off. I got a call at 5.20pm AEST about the NBN appointment I have. FROM A PRIVATE NUMBER. I NEVER trust them. I asked details then divulged info. I got another call at 6.07pm and asked details and they said they couldn't divulge. #fishy #NBNFAIL. Wife getting calls too\"], [\"32 hours later &amp; the NBN is still down...\"], [\"@Kynes3 @deniseshrivell I\\u2019ve heard once they declare the NBN \\u201ccomplete\\u201d Telstra is obligated to shut down all other internet access. Wonder what happens to the people in the too hard basket then? There\\u2019s apparently a startlingly growing number of households in the too hard category.\"], [\"@LucyCormack Another lying rodent from within recent list of Liberal pm incumbents. He white-anted 21st nation building NBN while 'communications' opposition spokesman. Then mixed it with 20th century infrastructure &amp; service mentalities, to deliver a 'basket case' &amp; soul destroying model.\"], [\"@Kynes3 @deniseshrivell Nowhere in sight. The NBN site for the last two years has said \\u201cwe expect to have more information about availability and technology in your area soon\\u201d\"], [\"Every time I check the @NBN_Australia rollout status for my address it\\u2019s delayed further. At the start of the year scheduled for Nov-Dec 2019, now Apr-Jun 2020. \\n\\nTotal joke.\"], [\"@Deligracy Once you go cable, it\\u2019s so hard to go back to NBN \\ud83d\\ude2d\"], [\"@adelsalison @TurnbullMalcolm He continually 'white-anted' the NBN, while the opposition's 'Communications' shadow minister. In government, he dismantled optimum nation building 21st century rollout, &amp; compromised service by using 20th century infrastructure &amp; service mentality. Malcolm's a dud, like his NBN.\"], [\"@SIGKILL @NewtonMark @NBN_Australia Though my guess is HFC ain't too shabby (though probably at roughly the same cost as prior cable supplier at a lower speed depending on the NBN plan you choose)\"], [\"@SIGKILL @NewtonMark @NBN_Australia Note: all this is leading to HFC NBN is your only option regardless of the availability unless you have bugger all data requirements and you're well within the primary lobe of a well-provisioned 4G tower with practically LoS :)\"], [\"@NBN_Australia is there an outage guys? Am update@to your paying customers would be appreciated. Living on the 50\\u2019s here on a Friday night!\"], [\"@Loud_Lass it's great my NBN works about 5 days in seven..... 3 days so slow its unusable...and failed totally during the bushfires .....\"], [\"Today I was compelled to move to NBN two hours after the switch I have no internet. How good is our third rate internet thanks for putting Murdoch before the rest of Australia.  @AusLiberalParty @TurnbullMalcolm want to know what really stuffs productivity? Crap infrastructure.\"], [\"Thats the whole LNP plan flog off the #NBN to whoever will buy it, seeing its a creaking network I doubt anyone would take it on, unless for a cash cow and charging us more for less.\"], [\"HFC #NBN has been down since 16:30. Not sure if that\\u2019s due to the storm though.\"], [\"NBN and energy veraul a e enre f lbanee enmi i  via @BCNew\"], [\"NBN HFC is f8cked, again. #nbn\"], [\"NBN is the perfect example of how our political, social and economic system is broken. Politicians promise anything to get elected but we have awful internet because Murdoch wanted to maintain his monopoly and both major parties useless.\"], [\"@anncasatnq Hi Ann, I'm sorry to hear about your NBN speed issues. If you require further assistance with this, please send us a DM with your address, along with your Optus account number and username as we'll be able to investigate this for you. Jono\"], [\"@deniseshrivell Here\\u2019s hoping I may actually get the NBN next time around \\ud83d\\ude44\"], [\"Oh dear the dreaded NBN is finally arriving at my house next Friday wish me luck. I think I am going to need it\\ud83d\\ude2c\\ud83d\\ude31\"], [\"NBN i anding u fee genea n a fi-ake-fi-ave ai \"], [\"NBN and energy veraul a e enre f Albanee enmi i  gHwDXOiYQe\"], [\"@MarcTennant @nbn @iiNet The test will be how quickly the NBN can swap out the modem. Did iiNet give a target for restore?\"], [\"Never mind, guess we aint streaming today huh?!?\\nLove that for me....thanks Telstra + NBN! https://t.co/mYgtMByfFX\"], [\"Every part of my body is crossed in the hopes that the NBN is fixed by the time I'm home.\"], [\"@DavidJay04 @nbn @iiNet we were forced to HFC @iiNet\"], [\"@NBN_Australia Jesus the weather changes and the NBN shits itself. We've all been forced to use your service so the least you can do is make sure it FUCKING works!!!! \\ud83e\\udd2c\\ud83e\\udd2c\\ud83e\\udd2c\\ud83e\\udd2c\"], [\"@Colin_J_Potts I thought the nbn was the bees knees when labor thought it up, now less than a few years and it needs replacing\"], [\"@Inmaniac @Trish_Rulz What are your nbn speeds like?\"], [\"@Heaton_Steven Very sorry to read about the ongoing frustrations trying to have your NBN service connected. This is well below the standard of service that we expect and I sincerely hope that the technician shows as planned this time around. 1/2\"], [\"NBN really crap service internet down for 2 days\"], [\"@SkyNewsAust @fehowarth @TurnbullMalcolm The giant NBN elephant in the room just took a great big shit on his credibility.\"], [\"@michaelkoziol @bengrubb @LucyCormack Mm I'm lovin that innovation at my house when my NBN HFC connection struggles to stream Stan. The future!\"], [\"@NewtonMark @NBN_Australia Please contact your RSP bullshit bullshit blah blah blah boilerplate response\"], [\"@Originaltibbedy @marckean @NickRossTech @TurnbullMalcolm @NBN_Australia @matt_barrie @Aussie_BB It is my understanding that backward compatibility is limited to a version or two.\\n\\nOne of the big delays in Telstra going to DOCSIS3 was apparently because they had old kit (theirs and customers) still on the network.\"], [\"@NBN_Australia But to be honest this isn\\u2019t a stab at NBN. I appreciate it\\u2019s a difficult project. Just that Malcolm Turnbull said in a talk today that people won\\u2019t pay a premium price. Which isn\\u2019t the case for businesses.\"], [\"@NBN_Australia over an hour ago there was a power outage in Mosman, Sydney and nbn still hasn't come back online even though the power has. What's the issue?\"], [\"@BelongAU You are the worst company ever I\\u2019ve dealt with and I don\\u2019t recommend you to anyone of my friends so belong Australia they are the worst broadband and NBN service\"], [\"@HalTurner9 You big spenders will get FTTP NBN and a roundabout . Don\\u2019t forget the GST on your $9.60 is 96cents.\"], [\"@NewtonMark @NBN_Australia Huh I see. Hopefully my box will still be connected when (if) I make it home through this current apocalypse... https://t.co/jzHNJ1uaC7\"], [\"If you are in Oz there are a number of robocall scams happening right now. One claims to be NBN and threatens to cut you off your Internet. The other says they are from your anti virus service and they have debited your account $249 asking you to call back on 61 1300907721. Scams\"], [\"@iamhurtin Hi @iamhurtin,\\n\\nI understand your concern regarding privacy.\\n\\nWe supply pre-configured modems for our NBN services hence, there won't be a need to log in to the router/modem.\\n\\nThe WiFi name and password can be found on the sticker at the bottom or back of the modem/ router. -Mae\"], [\"Does anyone else think of @TurnbullMalcolm every time the NBN does NBN things? #legacy\"], [\"@matt_barrie Good interview. Particularly like the NBN discussion. Shame FTTP was not rolled out but hindsight a wonderful thing.\"], [\"@newscomauHQ NBN is already a dinosaur thanks to Turnbull!\"], [\"@llebkered @smh @TurnbullMalcolm @ScottMorrisonMP @LucyCormack Labor\\u2019s NBN may have been viable in small European countries with large compressed populations. For Australia it was complete madness.\"], [\"@TurnbullMalcolm how about your replace your fibre to the premises with fibre to the node crap then talk about how \\u201cgreat\\u201d the nbn is\"], [\"@WeathermanABC Grahame, there are RED BITS. You never said we\\u2019d be getting a storm with red bits \\ud83d\\ude09 We lost power for a few seconds and the NBN went down.\"], [\"@RossCameron4 The NBN crashes after a blackout, and takes 5 days to fix!\"], [\"@NBN_Australia Why would i care about the rest of Australia when one tiny portion of my entire suburb (and surrounding suburbs) has had NBN for over 3 years already and we don\\u2019t!  You need better planners.\"], [\"Power outage in the area.\\n\\nNo problem. Do stuff until it's back online.\\n\\nOutage blew up the filesystem on my battlestation.\\n\\nNo problem. Got contingencies. Back online fully in &lt;20min. Restored to last reboot.\\n\\nOutage also knocked out ISP...\\n\\n(\\u256f\\u00b0\\u25a1\\u00b0)\\u256f\\ufe35 \\u253b\\u2501\\u253b  Fucking NBN\"], [\"@joshgnosis Textures take a while to download on NBN\"], [\"@Anthony_Klan @LucyCormack Unpopular opinion because it's not backed by evidence or lived experience of too many NBN users\"], [\"@Telstra How dare you via one of your outsourced providers deliver to our home a new NBN modem that we did not order or request. You had no right! When it comes to the NBN we are taking our time working through what is best for us, not you. Disgusted by this tactic.\"], [\"@Optus I contacted you a week ago and booked to have a technician install the NBN box at my new house. When I contacted you today to check where the technician was I was told that my appointment had been cancelled with now warning, and that I would need to make a new booking.\"], [\"@iiNet I don't know why it's a modem issue if the laptop directly connected to NBN box gets no connection. You have offered a loan modem which doesn't help. I will call back on agreed time and ask for service to be cancelled even though you guts have not yet been able to provide it.\"], [\"@iiNet Ok they called just now when I said later this afternoon. Then they have said it's my modem which doesn't  sense. I have tested modem on another NBN box with iiNet and it works, so not modem. I also plugged laptop to NBN box and no internet connection.\"], [\"NBN and energy veraul a e enre f Albanee enmi i \"], [\"@Telstra I have already reported it. That's why we are looking at other providers for the NBN\"], [\"@NBN_Australia @Sir_Thomas_Wynn We're sorry to hear this.... OMG!!!  Putrid service no mtter the provier.  I resisted with @Optus until last month and since then the NBN has not worked more than it's worked.  It's the worst service in Australian history .. Pathetic\"], [\"NBN an energy veraul a e enre f Albanee enm   va @ABCNew\"], [\"@alan_john_moran I was having a good day until you mentioned the NBN\"], [\"@NBN_Australia Yes well to do their simple tests 3 times a day I have to find someone to look after my disabled daughter who relies on wifi devices.which is why I get aggravated when the speed is so slow. When I signed up for nbn I explained said need for good wifi speed and told it was\"], [\"can NBN hurry up and give me the ability to stream. would legit be so crazy, would stream every single event and whatever dont care. just wanna do more for u guys\"], [\"@NBN_Australia Is there currently a statewide outage in Victoria?\"], [\"@Thekunac BWAHAHAHAHAHAHAHAHAHA telstra is building the nbn with the liberal government and its blown out by over 28 billion on liberals watch and Australia has fallen to 61st on internet speed performance \\ud83d\\ude02\\ud83d\\ude02\\ud83d\\ude02\"], [\"NBN ad eery veraul a e ere  Alaee emi i  TJx569\"], [\"@NBN_Australia This is ironic considering my NBN has been down for over 27 hours!\"], [\"@Lifetimeban99 The boats coming it cost the country 16 billion, NBN Telstra could have built it a lot cheaper and cost the tax payer nothing a disaster started by the socialist labor.\"], [\"@LegacyKillaHD The thing is, Australians are fucked with their internet because our Government has no freaking clue. We still have houses connected via fiber cable. Some parts still don't have NBN and most that do either have no service or dramatically slower speeds during traffic hours.\"], [\"@NBN_Australia  When are HFC services back up? I have so many flaps, I\\u2019m almost off the ground like a bird!!!!\"], [\"@michaelkoziol @LucyCormack Remind me what innovation Truffles is responsible for.  Or is he talking about his enthusiastic trashing of the NBN such that it is now held up as the standard of how not to roll out a state owned broadband service?\"], [\"@llebkered @smh @TurnbullMalcolm @ScottMorrisonMP @LucyCormack Oh ... pray tell how NBN would make more money with fibre to node. Oh ... I know ... more pirating of movies!?\"], [\"They're finally starting work for installing the NBN on my street! \\ud83e\\udd73\"], [\"@7NewsSydney So with predicted blackouts, thanks to the Greens and their leader Dum Dum Dan, then can also expect the NBN to crash each time. And it takes  NBN to fix each crash 5 days!\"], [\"@NBN_Australia hi!\\nThe NBN has been down at my place since around 7pm yesterday.\\nContacted my internet provider and was told there was nothing they could do.\\nWondering if there is an estimated time this would be fixed?\"], [\"I don\\u2019t want to brag but the NBN worked for almost 3 full days before we had our first outage.\"], [\"@smh @TurnbullMalcolm @ScottMorrisonMP @LucyCormack Was @TurnbullMalcolm enthusiasm for tech before or after he decided to shaft the country on NBN to appease his overlord and master Rupert Murdoch. Enquiring minds really want to know...\"], [\"@_skyleree If you are still having issues with your service, we'd recommend speaking with your provider so that they can run testing. If there is a fault, they will report it to the nbn teams. Let us know how you go. ^Audrina 2/2\"], [\"@NBN_Australia I'm guessing it's what ever is used for a lookup on the address to set a flag in their backend. Not really sure, we had issues with an ISP years ago, called up NBN they gave us the code that correlated to our address I guess to give to our ISP (who at the time was claiming it'd -\"], [\"@D_Keating The people I know at NBN solved that problem by just not telling people they work at NBN \\ud83d\\ude02\"], [\"@Politics_SMHAGE @TurnbullMalcolm @ScottMorrisonMP @LucyCormack Says man who destroyed NBN...the irony is too much for my brain. The Mad Monk must be having a good laugh...#auspol\"], [\"And the wireless phone they give you to replace your old copper wire network phones will not work when there is no NBN and the NBN does not work when the power is off as there is no NBN modem working! The old phones worked regardless.\"], [\"@smh @TurnbullMalcolm @ScottMorrisonMP @LucyCormack I wish my NBN connection had the background and enthusiasm of the 61 countries it\\u2019s behind\"], [\"@smh @TurnbullMalcolm @ScottMorrisonMP @LucyCormack Like his \\\"innovative\\\" NBN where they bought thousands of kilometres of copper?\"], [\"I'm getting around 5 8's of uptime. (Monitoring from Smokeping). Only since I was forced off cable onto NBN :( https://t.co/Hj6rtWBR8C\"], [\"@Ves_Tod How's his NBN going?\"], [\"@LucyCormack \\u2018Not fucking up the NBN\\u2019 is the closest thing mal would have to a legacy so he\\u2019s really gotta try and sell it\"], [\"@___Madonna___ @percapita @AlboMP Labor didn't even bother to rubbish THE LNP last election over the failed NBN. Instead they went on a tirade of being nice.\"], [\"Behold a fucking miracle!! \\nWorkers actually working on getting the @NBN_Australia installed in Gymea! Love how every time I check the rollout it is delayed. #miracle #nbn https://t.co/7yAbUeL10f\"], [\"@NickRossTech @TurnbullMalcolm @NBN_Australia @matt_barrie @Aussie_BB And those speeds are alot faster than  70% of people on nbn....\"], [\"@DDsD Hell I'm literally on the best nbn can provide for consumers and for me its still no good enough long term in the upload department\"], [\"So here's the rundown of the latest @NBN_Australia saga.\\nMy house is connected to the pole across the street (26m), the pole is 25m away from the closest node.\\nAccording to connection distance test my house is 1k away from the closest node.\\nI'd like this fixed.\"], [\"Feel like lack of updates or customer service. NBN has advised issue with authorization on connections which ISP needs to look at. I call iiNet and they couldn't help and wouldn't pass me to a manager to discuss. Getting a month Bill but no service yet.\"], [\"@iiNet we have moved to a new unit a month ago and iiNet still can't setup connection. I have called multiple times for days with made to do the same trouble shooting and given no updates. Have to call up for an update. NBN have come out confirmed nothing wrong with box.\"], [\"@Chomskyter @NickRossTech @TurnbullMalcolm @NBN_Australia @matt_barrie @Aussie_BB Yep it is. We lost the @NBN_Australia lottery\"], [\"Hey @NBN_Australia , your technicians really pride themselves with good quality of repair work. Take a look at how beautiful the fibre is dangling outside my house, and gracefully swaying with the wind, instead of being housed in the white conduit just like previously. #nbn #FTTP https://t.co/AEoXgzq2ei\"], [\"@skatsa @NickRossTech @TurnbullMalcolm @NBN_Australia @matt_barrie @Aussie_BB Btw why didn't you stick with Optus?\"], [\"@skatsa @NickRossTech @TurnbullMalcolm @NBN_Australia @matt_barrie @Aussie_BB But upload speeds should still be far better than Optus if that's any consolation.\"], [\"It's looking like gardening weather this weekend, but just make sure you're not digging into something you shouldn't be, like a water pipe, gas pipe or an NBN cable. That can become a costly and even dangerous exercise.\\n\\n#gardening  #landscaping #safety #dialbeforeyoudig https://t.co/yu0vvRdLTB\"], [\"@skatsa @NickRossTech @TurnbullMalcolm @NBN_Australia @matt_barrie @Aussie_BB Oops, my bad. NBN dumped it's plan to buy the Optus network. That totally sucks.\"], [\"@skatsa @NickRossTech @TurnbullMalcolm @NBN_Australia @matt_barrie @Aussie_BB It's the same network. NBN took over Optus hfc.\"], [\"@Steve_Pinel And yet ... it\\u2019s a public good worth funding.\\n\\nLike highways, the NBN is not a project that needs to be directly profitable.\"], [\"@gbx500 Sorry to hear that you're experiencing issues with your NBN service. Let us have your customer details via DM. We'd like to have a look as to what is causing the problem and how to improve your connection performance. -Charm\"], [\"@Lachlanbrook10 Luckily I've got NBN full fibre, I have no problem with this.\"], [\"@MadMax_0_1984 @NickRossTech @GrogsGamut @TurnbullMalcolm @NBN_Australia @matt_barrie @Aussie_BB The real NBN is great, FTTP 100mbps, works well, zero dropouts because of water in the pits. Upgradeable easily to 1gbps and beyond. I'm looking forward to Starlink more than 5G.\"], [\"@fount8 @AppleSupport Yes but other devices had internet at the same time. Do you think it\\u2019s because sometimes the NBN can\\u2019t handle multiple devices at the same time?\"], [\"@Zvyozdochka He's backflipping on the NBN apparently, going full fibre\"], [\"@sleepingdingo @AppleSupport You can have WiFi without internet - the WiFi only connects you to the modem, if that is off line you still have WiFi but no internet. Not an uncommon experience for me now that I\\u2019ve gone NBN.\"], [\"@LucyCormack @joshgnosis Pity the media won\\u2019t ask him why he sabotaged the NBN. The idea that you would build fiber infrastructure up to the street and then utilize copper to the premises is......ask him. I dare you\"], [\"Hi @TurnbullMalcolm - you miscalculate the level of frustration with internet speeds in Australia. I along with many others pay a huge premium to get decent internet as @NBN_Australia is currently below par in my suburban area. #startcon #startcon2019 - Your assumption is wrong.\"], [\"@LucyCormack Well he is talking bullshit. He always talks bullshit when it comes to the NBN.\"], [\"@alexkidman \\\"Who here has the NBN?\\\" https://t.co/V9cZEcXhzL\"], [\"@MichelleKHarper Dogs. Wine. Cheese. What\\u2019s not to like? #IloveIt #NiceWork \\n\\nBTW, still no internet, 3 no show appointments by NBN techs so far, 4th one lined up for November 29. Now, where\\u2019d I put that wine? \\ud83d\\ude09\"], [\"@karenabarrett74 Cheers, Karen. This is for which type of NBN service? (fibre to the premises, fibre to the node, HFC etc.) I'm happy to take a closer look on this side if you could pop us a reference or invoice number to assist with locating the account \\ud83d\\ude42 - Liz\"], [\"@NickRossTech @TurnbullMalcolm @NBN_Australia @matt_barrie @Aussie_BB With NBN when it connected to area had 2 years to switch.\\n\\nHave had to cancel a few appointments. First one they sent someone who could not fit under the house to install the lines. The second time family in hospital. Third time they said a Saturday, when I am a ref 1/2\"], [\"@iiNet Many thanks Liz - we have NBN - dropping in and out consistently for the past 24 hours...\"], [\"@Chomskyter @scottyhau @NickRossTech @jendudley @TurnbullMalcolm @NBN_Australia @matt_barrie @Aussie_BB When are they launching it? and can anyone on the NBN get this speed? Or restricted to just certain locations etc?\"], [\"In australia nbn colluding with the government\\nas a monopoly blackmails existing customers\\nto pay for the same service with less speed for more\\nmonthly cost for same internet usage\"], [\"Just want NBN so I can start having a crack at streaming.... supposedly next week it\\u2019s comin into my area... will be nice to step out of the Stone Age and into normal life like everyone else \\ud83d\\ude02\"], [\"@nobby15 Why do I have the feeling that this man and his incompetent government is hell bent on doing as much damage as possible while in power. I sit here at a computer that barely responds because of the crappy NBN and watch the destruction of our country in so many ways. It has to end.\"], [\"@DagogetaTv @ParkerPLLewiz @GeeStatus2 @ItsHazeZeus @PINNACLE127 @trelopes777 @MrTrillmatic @Critt_oh @KoriTheCfcRasta For NBN I'm going with 1,2,3 with Apache as their hardest\"], [\"@TrishKurralinga @NickRossTech @TurnbullMalcolm @NBN_Australia @matt_barrie @Aussie_BB #FibreToThePremises \\n\\nTurnbull's #NBN has been an obstruction for small - medium business.\\nHow much productivity has been lost?\"], [\"As our \\\"landline\\\" phone has never worked properly, since being forced onto NBN, our mobile phones are our only working phones... usually. So let's hope you sort it out soon @Telstra , I'm just thankful we weren't cut off on Wednesday during the catastrophic fire day.\"], [\"Having a bad week with appliances. First, my NBN modem dies, now my living room TV dies. There's a plot afoot to take me back to the 19th Century. #FirstWorldProblems\"], [\"@NickRossTech @TurnbullMalcolm @NBN_Australia @matt_barrie @Aussie_BB at least you have something better than ADSL - we can barely stream anymore with 4 adult gamers living in the house. Can't get 5G either :/ https://t.co/QkJMZUiXSB\"], [\"@fictillius @NewtonMark @NBN_Australia Any critical external service should include a readily available alternate path for delivery. This is the core of why NBN selling product framed as \\u2018business grade\\u2019 is an oxymoron, by design it can only ever be a part of the solution.\"], [\"@AndrewAQLD @NickRossTech @MadMax_0_1984 @TurnbullMalcolm @NBN_Australia @matt_barrie @Aussie_BB I wanted a full fibre networkb and then some idiot like you decided you didn't want to pay for 1st class connectivity for a better future Australia and ruined it by voting the LNP in due to your own greed.\"], [\"@R_Chirgwin They wanted it to fail. Forever the debate about government pursuing large nation building projects will be stifled by 'look at the NBN, government just can't do these things'.\"], [\"@marckean @NickRossTech @TurnbullMalcolm @NBN_Australia @matt_barrie @Aussie_BB Your upstream speed will be substantially improved over the ~2.5Mbps you had with Telstra.\\n\\nDoes that substantial increase in upstream capability bring about part of the drop in downstream?\"], [\"@LordSedgwick @AmyRemeikis We should just be grateful that Abbott and his bunch were  too incompetent to actually achieve anything (aside from destroying the NBN). Morrison, unfortunately, seems to have better aptitude and that is why we are so screwed\"], [\"@deancollins @scottyhau @NickRossTech @jendudley @TurnbullMalcolm @NBN_Australia @matt_barrie @Aussie_BB NBN is also bringing in 1000/50 HFC.\"], [\"@NickRossTech @TurnbullMalcolm @NBN_Australia @matt_barrie @Aussie_BB Yep, my Optus cable gets downgraded to NBN copper on Monday... RIP 100mbs\"], [\"@SphagnumPI @gailqb @welshraisedbog @BBSbryology But when I look at the NBN it appears not to occur at Cors Caron. If it is it then there doesn't appear to be much on the NE and SE bog at least\"], [\"@NickRossTech @AndrewColley @NBN_Australia I'm late to the thread but just for interest was there a previous HFC presentation in the premises? Aerial or underground lead-in?\"], [\"@NickRossTech @TurnbullMalcolm @NBN_Australia @matt_barrie @Aussie_BB Did you have Optus coax before? If so you weren't getting 38Mbps upload.\"], [\"@NickRossTech @TurnbullMalcolm @NBN_Australia @matt_barrie @Aussie_BB I had the apparently BAD hfc of Optus cable - but still achieved 100 Mbps. Now my speeds are 50% slower at 48Mbps. I just don\\u2019t understand how in 2019/2020 we can be going BACKWARDS. BACKWARDS. Thanks FttNasty.\"], [\"@NBN_Australia @thornburygrrrl Morning. I take your point but provider is saying theres NO outage. Unfortunately the outage is at NBN end (as per NBN tech 4pm yesterday in my house). NBN must have vision over that?\"], [\"Finally getting a better internet connection next week, woo. Goodbye ADSL2.\\n\\n...well, at least it'll be a less-shitty internet connection, it's still NBN.\"], [\"@NickRossTech @RoyceWilsonAU @TurnbullMalcolm @NBN_Australia @matt_barrie @Aussie_BB Looks like you didn't win the lottery and get FTTP\"], [\"@Telstra it's nearly 6am, and my nbn, for which l pay $89 a month, has been off for over six hours. Why?\"], [\"Yeeray, i a e ir eam Tay, i e en eam Remember bak  me f e be layer  grae a llege ur e la 10 year a NBN releae i all eae qua  2PCOFYe\"], [\"Thankful thoughts from an employee at NBN!\\nTo celebrate Thanksgiving, we asked our staff to write a note about what they are thankful for and submit it to be posted .\\n\\nWhat are you thankful for?\\n\\n#thanksgiving  #thankful  #thankfulthursday #thankfulgratefulblessed https://t.co/rF0drKi1pn\"], [\"@Telstra Im guessing that the outage around williams landing is the reason my nbn box keeps making a clicking sound.\"], [\"@JackPosobiec I agree. My faith in nbn the justice system is all but gone.\"], [\"Aussie Broadband $50 off first month! \\nReferral code: 2196434 #NBN #broadband #internet #discount #credit #deal #saving #code #referral #reliable #customerservice #passion #it #aussie #aussiebroadband #mate #connect #join\"], [\"@NickRossTech @MadMax_0_1984 @TurnbullMalcolm @NBN_Australia @matt_barrie @Aussie_BB So you did want the government to create the NBN. Glad you finally admit it. \\n\\nWell, see, this is what you get. Don't be so disappointed.\"], [\"@NBN_Australia my nbn is down !!!! i dont like this\"], [\"@NickRossTech @DrofroP @TurnbullMalcolm @NBN_Australia @matt_barrie @Aussie_BB Mmm. Are you saying that the telcos are using nbn fibre to backbone their 5G networks? That\\u2019s not the case. Happy to tell you how it works. DM me.\"], [\"@NickRossTech @TurnbullMalcolm @NBN_Australia @matt_barrie @Aussie_BB Can they not upgrade over that HFC to 1gb speeds\"], [\"@NickRossTech @MadMax_0_1984 @TurnbullMalcolm @NBN_Australia @matt_barrie @Aussie_BB @Telstra Under Labor you wldve still been waiting.\"], [\"@bigjsl @NickRossTech @NBN_Australia I swear one could paid a contractor to complete required works within an hour. Even Telstra provided better install timeframes than this!\"], [\"@NickRossTech @MadMax_0_1984 @TurnbullMalcolm @NBN_Australia @matt_barrie @Aussie_BB You never wanted an NBN?\"], [\"Had to get a new WiFi router for NBN access so now I need to name it... what do we think of these?\"], [\"@NickRossTech @TurnbullMalcolm @NBN_Australia @matt_barrie @Aussie_BB Telstra cable  had for 10 or so years!!! https://t.co/0yPZr92Ij9\"], [\"@AlanShore51 @NickRossTech @TurnbullMalcolm @NBN_Australia @matt_barrie @Aussie_BB Why would you bother with crappy NBN, tried it and binned it as I\\u2019m 1200m from my node severely limiting its capability to deliver adequate internet speeds in today\\u2019s modern house, no way they\\u2019re getting my money in the future. Installed @Optus 5g instead, bit of a difference... https://t.co/zLq8Qr7xNJ\"], [\"@NickRossTech @MadMax_0_1984 @TurnbullMalcolm @NBN_Australia @matt_barrie @Aussie_BB So why did you get it. A tech guy thought his cable was worse than NBN. They're the same you wally. If it's cable.\"], [\"@Idealaw @NickRossTech @kcarruthers @TurnbullMalcolm @NBN_Australia @matt_barrie @Aussie_BB 2 km from Brisbane CBD, no NBN.\"], [\"@NickRossTech @TurnbullMalcolm @NBN_Australia @matt_barrie @Aussie_BB Had the exact same problem today. \\ud83d\\udc22\\ud83d\\udc22\\ud83d\\udc22. The NBN is such a massive fail\"], [\"@NickRossTech @jaraparilla @TurnbullMalcolm @NBN_Australia @matt_barrie @Aussie_BB You're a hero of mine Nick but in this instance I disagree. I don't think the obliviousness that someone has about their actions should be reason to absolve them, or not blame them from their actions. #Abbott is totally responsible for the #NBN debacle\"], [\"@AntB77 @NickRossTech @TurnbullMalcolm @NBN_Australia @matt_barrie @Aussie_BB The NBN website will let you know when your suburb gets a cutoff date. Mine still hasn\\u2019t received a deadline so I assume we\\u2019ve got a few trouble spots \\ud83e\\udd37\\ud83c\\udffc\\u200d\\u2640\\ufe0f\"], [\"@jendudley @NickRossTech @TurnbullMalcolm @NBN_Australia @matt_barrie @Aussie_BB Thanks only had nbn in my area for a couple months. So I should have some time before my download speed gets nerfed\"], [\"@NickRossTech @TurnbullMalcolm @NBN_Australia @matt_barrie @Aussie_BB That is fast. We had 0.1mbps when we signed up with NBN.\"], [\"@jaraparilla @NickRossTech @TurnbullMalcolm @NBN_Australia @matt_barrie @Aussie_BB It would have to include #Abbott. He was the PM who directed #Turnbull to destroy #Labor #FTTP for their useless #MultiModeNBN #FTTN #auspol #LNPfail\"], [\"@Polysymptomatic @sacarlin48 @NickRossTech @MarkPlackett1 @TurnbullMalcolm @NBN_Australia @matt_barrie @Aussie_BB So much to thank Tony Abbott &amp; the LNP for! #NBN #auspol\"], [\"gotta wait till fuckimg friday for someone to come fix the nbn box just great\"], [\"@tuihicks @NBN_Australia Very frustrating. You call the Service provider and they blame NBN, you call the NBN and they say contact your service provider...\"], [\"@minkelCT @Vic_Rollison Before Turnbull became PM he was a good human I thought. Heard him speak a couple of times about all the fantastic things that could be done in Australia. But he changed his NBN idea, stuff up climate change and his ideas on same sex marriage all got too hard!\"], [\"Does anyone at the @NBN_Australia know what\\u2019s going on with the rollout? Even though are whole area is connected, our expected date of connection keeps getting pushed back. Was January 2020, but latest update is June 2020. \\ud83e\\udd14\\n\\n#nbn https://t.co/27qCHrb7yU\"], [\"@Telstra Rockingham W.A. 6168 NBN internet is out since 10:40am today &amp; still ongoing. No outage yet clearly there is one. Plz just fix it plz!\"], [\"@NickRossTech @MarkPlackett1 @Polysymptomatic @TurnbullMalcolm @NBN_Australia @matt_barrie Hmm that a little odd as with having HFC you should be getting almost spot on with your plan.. Have you contact our team yet? Ideally if you have our app you can look at raising a fault there for one of our team members to investigate and you can also run your own testing there\"], [\"@rob0r @TurnbullMalcolm @NBN_Australia @matt_barrie @Aussie_BB I'm not far below their stated expected average speeds. I knew what I was signing up for. Even the current @NBN_Australia TV ad witters on about something to do with busy evening times. #nbn\"], [\"I was absolutely powering through my next assignment which is a big boy.I was in the ZONE and then the internet stopped working.\\nI was on \\\"live chat\\\" for 40 mins because the don't to calls? To be told its the NBN and there's nothing they can do.\\nSo frustrating!\"], [\"@tashhelena Due to the severe heat in Victoria, there are some outages in your area that may affect NBN and mobile services. Our techs are monitoring this and we'd recommend a full modem reset. Apologies for any inconvenience caused in the meantime. Sarah\"], [\"@MarkPlackett1 @Polysymptomatic @TurnbullMalcolm @NBN_Australia @matt_barrie @Aussie_BB Now that I think of it, the front of that has both @NBN_Australia 's haemorrhoids logo plus the word 'arris on it. *snart* #nbn #justcockneythings\"], [\"@NickRossTech @TurnbullMalcolm @NBN_Australia @matt_barrie @Aussie_BB Raise a support ticket with your ISP @Aussie_BB\"], [\"@bswagspeare I was just thinking the other day.\\n\\nIt's time to privatise the NBN.\"], [\"@rlsteelau @debnuts2019 @DanielAndrewsMP Stupid thing is it happens all the time out here and nothing changes. What's worse? Power goes out knocking out nbn so no elderly can call in an emergency! Mobile? Sorry can't have that either.\"], [\"By the next election the LNP will have opened all these new coal mines to find the rest of the world doesn't want to buy it. A giant clusterfuck like the NBN only worse. Everything they touch ends the same way #auspol\"], [\"@NickRossTech @jendudley @TurnbullMalcolm @NBN_Australia @matt_barrie @Aussie_BB Are you on HFC?\"], [\"@NBN_Australia Four days without HFC. What are you people doing???\"], [\"@cricketcomau Cricket Australia \\ud83c\\udde6\\ud83c\\uddfa uploads highlights/clips faster than NBN \\ud83d\\ude1c\"], [\"@NickRossTech @NBN_Australia My mistake: I didn't make myself clear enough. My starting point is that regardless of NBN's failings, we should now be able to see some of its benefits coming onstream - maybe telehealth, maybe something else, but in more than just demo volumes. What's the best example?\"], [\"@LJPatton @NickRossTech @TurnbullMalcolm @NBN_Australia @matt_barrie @Aussie_BB No NBN here, It's ADSL and it sucks\"], [\"@NBN_Australia Chermside QLD - My internet has been dropping in and out since august and now off for a week.  Telstra have finally booked an nbn Technician to come out on Monday! They better turn up as I\\u2019m taking time off work.\"], [\"@NickRossTech @MarkPlackett1 @TurnbullMalcolm @NBN_Australia @matt_barrie @Aussie_BB People do not understand how different digital entrepreneurship would be today had we gone full-fibre.\\nThere are entire sectors of the global digital economy we cannot participate in due to the homonculous version of NBN we have.\"], [\"A pox on the house of the Australian NBN.  This substandard excuse for internet service is pathetic.\"], [\"@Aussie_BB Hi, internet service has been out all day at Yarraville 3013 area, I think it may be nbn but am unsure, do you have any information you can pass on as there\\u2019s nothing on my Aussie for the area and nbn website is unclear, thanks\"], [\"@NickRossTech @CntrlPimpernel @TurnbullMalcolm @NBN_Australia @matt_barrie @Aussie_BB 67.8 is double what we're getting on NBN in North Melbourne.\"], [\"Hey guys! Quick little update! With any luck, I\\u2019ll be moving into a place with a friend early next month! The place will have nbn so hopefully it won\\u2019t be too much longer before I can stream again!!\"], [\"NBN is down so I\\u2019m gonna save my phone data &amp; resist the urge to argue with morons tonight. Have a good evening/day/night, folks.\"], [\"@MySocialMedia6 @DrCraigEmerson Kev's an ideas Man; 2 much 2 quick. All his ideas were good 4 Australia but execution was 2 ambitious &amp; unrealistic.The Legislative legacy is awesome.Worked on incarnation 1 of NBN. I explained perspective is everything when fuelling a new decentralised digital economic paradigm\"], [\"Of ur,  #LNP av mimanagd vrying y av ud #nn #NDIS #Nwar #Rd Hav  ,  i i ding my ad in #au #LNPfai \"], [\"@bollgare @Juzira @ScottMorrisonMP The vast interior has largely been ignored for NBN. Selling it through private retailers has meant a focus on the more densely populated areas.\"], [\"@DogGunn @vishandchips @JulianneClarkey Again, the reason why people complain is because an upgrade needs to be made at all just so that the network isn't anymore at at its already obsolete level.\\n\\nThe NBN was supposed to be the successor to cable without a required upgrade.\"], [\"@NickRossTech @TurnbullMalcolm @NBN_Australia @matt_barrie @Aussie_BB this is so slow ! my FTTN is faster LOL\"], [\"I thought I might get a whole day without an @NBN_Australia outage, and then \\u2026 #nbn https://t.co/0Sail9sYJk\"], [\"@mishyloan @fredanurks @Kynes3 Better than I\\u2019m getting on NBN HFC connected 9 weeks ago. It\\u2019s all still shithouse though.\"], [\"@NickRossTech @TurnbullMalcolm @matt_barrie Sounds like a WOFTAM to me.... much like the NBN...\"], [\"@NickRossTech @TurnbullMalcolm @NBN_Australia @matt_barrie @Aussie_BB And in a decade will it slow like ADSL did from 15mbps to 1mbps\"], [\"@TPG_Telecom @NBN_Australia Where is my NBN CONNECTION AGAIN!!!! Every F!!! Week i DM your account and now AGAIN and AGAIN!!!\"], [\"  all  liial ai in  UK a gunning f FTTP llu vn  Lial Dma #nn\"], [\"@Melbourne_Mum Hi there, I'm sorry to hear about your experience with your NBN install. If you require further assistance, please send us a DM and we'll be able to investigate this further for you. Jono\"], [\"@Optus NBN isn\\u2019t working in St Albans 3021?? So frustrated!! When is the issue can be fix?\"], [\"@ConkyOCE pentanet is better then nbn apparently\"], [\"@Sandrew_0 @AlanShore51 @NBN_Australia Wasn't it all Labor's fault?\"], [\"@AmandaPerram @travellingpeas Yes @TurnbullMalcolm WTF happened to your supposed brain? Let alone that much- vaunted integrity. This rivals your NBN crime for depravity.\"], [\"Under Labr I wa funded Under Labr I wa ging aead Under Labr I wa bullerf fuurerf And w deryed e NBN? Mal and e LNP And wy? Well all rad lead  Murd dn\\u2019 ey? \"], [\"Yesterday my laptop messed with my and today the NBN was down all day and my mobile phone is on the fritz. \\n\\nTechnology is doin me a heckin bamboozle rn.\"], [\"I really can't wait until I have 5G coverage so a can shove the NBN where it belongs.  Sick of dealing with ISP technical support.\"], [\"@TheFlowerDragon We apologise for any inconvenience that this may cause. Our faults team will continue to monitor for any further updates from NBN regarding this issue - Chris\"], [\"@thornburygrrrl Sadly, we don\\u2019t have access to view outages as this is solely handled via your service provider.  If they require further assistance, your provider has direct access to our nbn support team who can advise of any updates relating to a disruption with your service. ^Lisa\"], [\"Yo people of the north...anyone else\\u2019s NBN down in Thornbury area? #thornbury #northcote #preston #nbn\"], [\"After 6mths of aggro with NBN, I'm finally connected... again.\\nLets see if theres been any improvement... \\nEmphasis... IF...\\nWish me luck friends. May the interwebs be with me.\\n\\nIf its been a success... cOnTeNt\"], [\"Okay, NBN connection is back up.\"], [\"@NBN_Australia will be some time December 2022. I understand \\\"issues\\\" arise but seriously !!! ... I am located 2.5 km from Sydney, and just happen to be on the outer edge of the Newtown exchange boundary. And the adsl conection is rubbish, and is getting worse and worse\"], [\"My NBN is as bad as Pakistan\\u2019s batting collapse after lunch\"], [\"@iiNet hi have an nbn connection booked for 26/11 via iiNet.Presume that the modem and any other hardware needs to be received at my house before the installation can take place?\"], [\"@JoshYEG @crimson49er Almost! But also...NBN needs some love? Whats a good 17 influence NBN these days?\"], [\"@Telstra Nothing comes up for my area.. then explain why my nbn gets turn off suddenly https://t.co/xUk3jqYGDZ\"], [\"Like he's more grounded and clued in than online Yangbros, that's not the limiting factor. But for example I once tried to sell him on NBN and made tiny headway but that's playing on easy.\\n\\nOn climate he is at \\\"real but the left/greens are daft and their ideas won't go anywhere\\\".\"], [\"NBN seems to be out for the area. A local friend on a different RSP is out also.\"], [\"Telra faled  ek eed f 80,000 ugraded NBN nnen Ddn mee blgan f 207 underakng  3qTZeqSuL\"], [\"@_k3tan @NBN_Australia @Optus The one thing I really like about the NBN is it provides a real world comparison of a government monopoly provided service VS a free market providing the same service\"], [\"@morganjaffit Surely the sound of epic, speedy downloads through the NBN?\"], [\"@NBN_Australia my provider lodged an NBN fault on my behalf yesterday. 24 hours later, still no internet or follow up. They\\u2019ve said there\\u2019s an NBN outage, what\\u2019s happening?\"], [\"@NBN_Australia @3AW693 @pm_live please b careful of NBN. technicians who turn up to fix issues they then demand you pay them cash for private tasks.\"], [\"The NBN is now driving me to breaking point now.\"], [\"@GrayConnolly I have to use mobile data most of the time which allows me only 50GB a month. Wanting to upgrade my mobile data which is better than the NBN\"], [\"@NBN_Australia It is a nightmare and I want to go on @ACurrentAffair9 or @theprojecttv to tell Australia all about the NBN nightmare. In the meantime, I will boycott the NBN\"], [\"@Optus hey guys, NBN internet is out in glen Waverley, fix it please\"], [\"My NBN is completely down in Bull Creek all morning since 8:30am this morning. Optus said there is a line issue at my premises but it\\u2019s completely down. It\\u2019s an ongoing issue with no fix at all. This is the only service I can get  @GrayConnolly\"], [\"@_k3tan @stephanlivera @NBN_Australia @Optus Brilliant post mate. You've covered all the bases, and all the questions I would have had. If there was a medal, you'd win it. \\ud83d\\ude18 Fuck the NBN buzzword scam. #fiberorgtfo\"], [\"It should honestly be illegal for tradies to work today. Two NBN guys were sent to our place (we didn't know till they came) and they don't look too great. I keep going out and giving them water and making sure they're okay but it's honestly so fucked\"], [\"15/ All in all, for most homes who are using the internet for streaming content, browsing, working from home, using multiple devices, this is a great alternative to the NBN. If all goes well, you'll be happy with it as it presents excellent value for money.\"], [\"4/ For me, the modem remains coloured 'amber' on 5G. I am 600m away with no direct line of sight to the 5G tower. The speedtest results I get are 200mbps down and 35mbps up. In Australia, these results are well above what a residential NBN connection can currently offer.\"], [\"@mindblower46 @MrKRudd You mentioned NBN - Rudd did not trash that, LNP did.\"], [\"@NickRossTech @NBN_Australia I have FTTP NBN. Took the installer about 5mins to lay the fibre cable (thin white cable with sticky back that runs from the front door up two flights of stairs to living room). The service was fully working within 20mins.\"], [\"@NickRossTech in-case any unforeseen delays occur during appointments such as issues with cabling or in this case no HFC signal being received. We're looking forward to seeing you connected ^Rose 2/2\"], [\"@mindblower46 @MrKRudd Do read a different paper David you might actually stumble upon the truth. The NBN was trashed by Turnbull not Rudd. But why let facts get in the way of fantasy.\"], [\"@sarahinthesen8 People believed their NBN solution would be better/cheaper (hey, why is nobody talking about the cost blowouts on that?) ... so why wouldn't be think enough of us are idiots?\\n\\nProbably more \\\"some from column A, some from column B\\\", though.\"], [\"@SirenAU_ @KelLostTheGame That's shit, too bad you can't pay in advance and they not fuck you over like the NBN installation guys\"], [\"NBN i Federa y f \"], [\"The @NBN_Australia is shit. Constant drop outs since we hooked up a week ago. Try working at home...\\nThanks @AusLiberalParty \\n#nbn \\n#auspol\"], [\"Before NBN, phones would work without power, with NBN, phones do not work without power.  If you have a mobile phone, keep it handy, and if you have power, charge your phone now just in case.\"], [\"The number of scam NBN calls to our home land line is escalating dramatically...any ideas about how to solve?\\nOn the verge of disconnecting...99% of legit calls come to mobile anyway.\"], [\"@ScottMorrisonMP If you want to keep Australians safe, how about dealing with issues such as CLIMATE CHANGE?\\neconomically it makes sense to do something NOW, rather than pay more later, or have you not learnt anything from the disastrous way you handled the NBN\"], [\"@NBN_Australia RSP diagnostics done and fault logged to NBN.\"], [\"@Optus We appear to have no NBN trying to run a business here in 2226. Cable maintenance doesn\\u2019t mention NBN being out. How much longer?\"], [\"Anyone else on @Internode having issues with @NBN_Australia not connecting? Or is it a general NBN issue?\"], [\"@Telstra why the fuck does my internet in 2049 barely work between 12-6pm? NBN is an actual pathetic joke. I'm lucky to be on for longer than 10 minutes\"], [\"How are there SEVENTEEN FLOORS  of #NBN offices in this building and STILL no NBN in South Yarra?? #AusPol\"], [\"@NBN_Australia Apparently, I have upstream and downstream sync, but the online light never settles and then the modern starts over after 30 seconds or so.\"], [\"Getting the nbn soon who to go with @MyRepublicAU @iiNet @TPG_Telecom @Internode\"], [\"@RyflyFN @Telstra @RyflyFN you realise it takes up to 24hours for NBN to kick in\"], [\"If I don\\u2019t want NBN, I don\\u2019t get anything and wait for 5G to be rolled out and just rely on my phone data\"], [\"#Australia needs top class NBN and rail...not more roads with tolls. But we are going to build more toll roads and crap NBN and weak rail. Why? corruption means #auspol has been taken hostage by corporates trying to steal public money. Going backwards!!! #markets #investors\"], [\"It\\u2019s the 2nd time this week it\\u2019s happening and is also my longest outage. No plan B, no alternative whatsoever. It\\u2019s NBN or nothing here now the ADSL2+ which has been stable has been switched off\"], [\"There has been no Internet at my premises in 6149 since 8.30am. Can\\u2019t do anything but to use my mobile data which is faster than my NBN capped at 50/20. \\n\\nI could get Optus Sport via satellite for free if this problem persists if I complain @AndyB_Aussiered\"], [\"@weezmgk @DoctorKarl Youre right, for me to make a joke about Karls tweet people would probably have to complain about the NBN speed or have 5G sellers claim that it will be faster\\n\\nSilly me\"], [\"@DoctorKarl maybe its to prevent people who spent hundreds on NBN having anxiety attacks\"], [\"@Optus @NBN_Australia Hi Zac; looks like NBN fixed the issue remotely. Thanks for reaching out. \\ud83d\\udc4d\\ud83c\\udffb\"], [\"@NBN_Australia been trying to connect since 21 October in a new property and NBN have known about a fault in the connection since then yet won\\u2019t come and even try to fix it until 9 Dec. how is this acceptable?\"], [\"nbn is TRASH\"], [\"@Hellharbour \\u201cImproved\\u201d the NBN ?\"], [\"I've been getting a lot of these ads for NBN. Are we close to getting it soon? I'm ready to become a full-time streamer!\"], [\"@zoo_ruler @NBN_Australia Hi George - apologies for the experience you've had with your NBN service. So we can assist with following up, could you please send us through a DM? Zac\"], [\"@suzanne_cass Just words, Suzanne.  And speaking of technology..the outrage of the NBN should not be forgotten\"], [\"w ure ju aking e i\\n#B #FTTP \"], [\"@Optus We are having our NBN service drop out in a daily basis (sometimes multiple times a day). The modem seems to do a soft restart each time. This is the second modem we\\u2019ve had from you guys. Help please\"], [\"@JoshFrydenberg @mmmhotbreakfast Remember that $50b that was used for the nbn that you sabotaged on purpose, you disgrace.\"], [\"I\\u2019m sorry @Optus, @NBN_Australia, but you\\u2019re sending out a technician _tomorrow_ at earliest to look at my connection? Your processes are that complex that it\\u2019ll take a day to figure whether it\\u2019s a physical fault or a logical one? Poor.\"], [\"@Telstra I think I've been on the phone to your support team for two weeks straight. Your call centre blames the modem despite using 3 different modems. Your field tech blames @NBN_Australia but cannot fix the issue. What on earth can I do to get the issue resolved?\"], [\"@suzanne_cass @BelindaJones68 Don\\u2019t forget the NBN ... what a tech marvel\"], [\"@GidgitVonLaRue Happy Birthday! I'd tweet a gif but my NBN is at Iran level this morning. Hope it was a great day and the Colonel spoiled you as you should be.\"], [\"@notgeorgezip @DoctorKarl They're actually more akin to antivaxers or fluoride goofballs. \\n\\nAnyone waiting for 5G to supersede a fibre NBN is going to be disappointed since 5G requires a fibre network to operate.\"], [\"@DoctorKarl I am sure these 5G conspiracy theorists are NBN troll bots wanting to keep Australia\\u2019s internet slower than most third world countries.\\n\\n\\u201cWhat Australia\\u2019s internet needs is more copper!\\u201d\"], [\"@JulianneClarkey Proper fibre-to-the-home NBN, as rolled out at the beginning of the program, is fantastic. It was Malcolm Turnbull half-arsed copper hybrid that is shit.\"], [\"nbn instead\"], [\"@NBN_Australia @KellieRiordan I too live in a country area. Our NBN goes down about once a week for the entire day. \\u201cGetting this resolved\\u201d is going to involve billions of dollars to install a national system that actually works.\"], [\"@buhloone @ITS_YINSE @fatmansu @EastonMajor @Eddied80 @penny_butter @randmhiphoplist @KLDub83 @HipHopHead_1983 @BlackRose96 @__wrkngclssher0 @AceMahony @so_so_chris Cypress Hill's debut album over everything, especially NBN.\"], [\"@EVERALDATLARGE @JoshFrydenberg This is just one of many areas his government has failed to plan for. Whether it be through ignorance (NOBODY knew the Australian population was aging so rapidly\\ud83d\\ude44),\\nideological stupidity (coal WILL help us deal with climate change) or pure malice (DESTROY the NBN),  #LNPFail\"], [\"Aussie Broadband $50 off first month! \\nReferral code: 2196434 #NBN #broadband #internet #discount #credit #deal #saving #code #referral #reliable #customerservice #passion #it #aussie #aussiebroadband #mate #connect #join\"], [\"@joecutcliffe @TurnbullMalcolm Yeah, I figured that would be the beat option. Ridonk. With 5G no way that nbn is gonna be useful. But hilarious that Rupert thought nobbling nbn would actually save his archaic empire.\"], [\"@JulianneClarkey @vishandchips @peterlett @DoctorKarl Because this is some of the NBN shit people deal with. https://t.co/PTB37LjQxQ\"], [\"@NBN_Australia @weemelah1 IInet have moved me back to cable for half the price and double the speed. We should have put pipes carrying water to central QLD and central Australia instead of nbn. Food is more important than email. We can\\u2019t eat nbn.\"], [\"Get your act together. You\\u2019ve already spent way over the planned budget and I\\u2019m surprise this hasn\\u2019t been picked up by the media. I\\u2019m just so disappointed by the appalling service given by @NBN_Australia and @Telstra\"], [\"@NomoreLNP @MrKRudd Cannot even manage to get the nbn to work or build a railway from the airport in Melbourne  worlds most liveable city.. give me Manila over melbourne\"], [\"@OzFacts I remembered some of the original rollout sites. You can search the delivery system for any address on the nbn web site.\"], [\"The merry feeling of apprehension for the NBN \\ud83d\\ude34\"], [\"@shoot_da_spruik @matt_barrie @hoptopbob @niremas Change providers. With wireless there is no assurance that changing providers means changing spectrum. There's a growing group of NBN providers who tell you the network throughput so you can make informed decisions.\"], [\"@vishandchips @peterlett @DoctorKarl So why is the nbn called a third rate, low rent, useless POS? Will it end up being 5g for some and nbn for the rest? True, I don't really understand it\"], [\"@matt_barrie @hoptopbob @niremas just like NBN does between 7-11pm\"], [\"Sadly pathetic that 4 years late we are finally getting NBN in our street and the brochures from the telcos are advertising that they only have several drop outs per evening in peak times as if that\\u2019s impressive \\ud83d\\ude44 #nbnfail #auspol btw thanks @TurnbullMalcolm slow clap \\ud83d\\udc4f\\ud83c\\udffd\"], [\"@shoot_da_spruik @matt_barrie @niremas Hence my tweet about building a proper NBN.\"], [\"remote ass fuckery. this is what we really needed the nbn for\"], [\"How did Australia get into this NBN mess? What a piece of crap NBN is - wasting power over the country....\"], [\"@me_dc At least you got NBN haha #jealous\"], [\"NBN just put in and already not working. No support until tomorrow \\ud83d\\ude1e This is why we don\\u2019t put people like Malcolm in office because they don\\u2019t spend money where it counts \\ud83d\\udcb0\"], [\"@vounasis Really? What issues man? They\\u2019ve been decent I\\u2019m on nbn\"], [\"@Angelgirl997 Hi Emma, I'm sorry to hear about your NBN issues. Please send us a DM with your address, along with your Optus account number and username as we'll be able to investigate this for you. Jono\"], [\"I look at the film clip to \\\"If You Had My Love\\\" by Jennifer Lopez and it still looks way too visionary in 2019 on this country's NBN. #Gruen\"], [\"@hoptopbob @niremas That's not the problem with the NBN. 6 of 10 million households can get 500Mbps to 1Gbps with a line card upgrade and modem on the current network. The problem is the cost is too high for RSPs to get access to the core, so they buy too little and it's congested.\"], [\"@GuardianAus Greatest flop in history akin to NBN.\\nNuclear power is the only way forward. This is deception for something else.\"], [\"@PaulFletcherMP @oliverpeterson @PerthLive6PR @NBN_Australia Not well in your own electorate Paul. My current ADSL connection gets me 3Mbps. Third world, and I\\u2019ve just been pushed back another 6 months to June 2020 (despite having the box on the side of the house for a year). How can it not be connected by now? What a disgrace the NBN is\"], [\"@DoctorKarl This is great. I saw a tweet from someone who bought a 5g modem (they have 5g in their area) and they can bypass nbn altogether\"], [\"@TPG_Telecom We spend almost $100 per month for our internet (NBN) and this is the result we get, sorry guys but your figures are wrong. https://t.co/d6GuKb1dKS\"], [\"Well, bless the NBN technician who received my rebooking for next week, was already on my street doing an installation, saw a car in my driveway and decided to knock and ask if I\\u2019d like my Internet \\u201ca week early\\u201d (actually, it was due today!)... Blessed internet! \\ud83e\\udd29\\ud83e\\udd29\\ud83e\\udd29\"], [\"@Ad_Iudicium_ Yikes! Maybe tell that council though - western Sydney suburbs were nbn connected 5 years ago \\ud83e\\udd37\\ud83c\\udffb\\u200d\\u2640\\ufe0f\"], [\"I'm in love. Connected the NBN up at my place, installed the Disney+ app on my tv and now I'm enjoying The Phantom Menace in 4K HDR. BEAUTIFUL!\"], [\"Good to see Sydney keeping up the pace - house we moved out of three years ago now ready 'to apply for' NBN\"], [\"Finally got NBN and my internet is twice as fast -_-\"], [\"@MrTaoYang Any network upgrades or other maintenance works are handled by NBNCo's technicians and we would be awaiting  further updates from their teams if there are any changes to the restoration. In the meantime our NBN Support teams can discuss interim access options. Greg\"], [\"@PaperFoxx The guy from NBN that came to sort out the connection to my house was pretty good.\\nBut that\\u2019s about the first example ever.\\nThe very best of good fortune in your upcoming quest!\"], [\"@TurnbullMalcolm Presumably power users will be paying for it on top of already high power bills? Like your brilliant #NBN, costs more than ADSL but not as fast or reliable for most people.\"], [\"NBN News apparently doesn't have enough Australian news... but hey those dramatic car chases in the US...\"], [\"@iiNet Thanks for getting back to me. I\\u2019ve done all the usual checks. The status light on my nbn box keeps going from orange to green over and over. My signal strength is flashing red then orange then green over and over. My ocu light is green. Clearly it\\u2019s not right\"], [\"@lucasghayes @TPG_Telecom Haha I'm already with tpg, Luke, have been since I moved out of the Retreat. \\ud83e\\udd23 maybe it's time to start looking around with the NBN and all? Who are you guys with? And are you on NBN yet?\"], [\"Someone on here told me to \\u201cHave fun\\u201d when trying to hook up a wireless printer to the NBN modem. \\n\\nOh boy, I\\u2019m there right now. \\n\\n\\ud83d\\ude23\"], [\"@ABCthedrum @GrayConnolly FFS!  Using the NBN as an example?  After \\\"conservatives\\\" nobbled it.  What a wanker!\"], [\"Invest in the #NBN. FTTP for the original 93% of the population. #TheDrum\"], [\"@JarrodFeng And the higher tiers are still pricey for the NBN.\"], [\"@NightieTime Honesrlt, in Australia, and large parts of the US, internet speeds this fast are hard to access, before we got the NBN these speeds were high impossible over here, and still, the lower tiers aren't that fast\"], [\"@Rjqzy One that has nbn\"], [\"The amazing sensation of sympathy for someone's NBN \\u26a0\\ufe0f\"], [\"From 3pm with @oliverpeterson:\\n\\n\\u2022 Communications Minister @PaulFletcherMP on the roll out of the NBN.\\n\\u2022 The City of Stirling takes its first steps towards banning wheel clamping.\\n\\u2022 Where is the best coffee in Perth? \\n\\n#perthnews #auspol https://t.co/87l4UBeq4p\"], [\"@MatthewPantelis Turn your NBN modem off wait 10sec and turn it back on, our phones go out almost once a week thanks to the NBN\"], [\"Gotta love the NBN https://t.co/PZj3aoO8XQ\"], [\"@ricklevy67 @ScottMorrisonMP @stuartrobertmp How about this for an algorithm, Rolex:\\n\\nReceives \\\"gift\\\" of high-end personal timepiece from political donor;\\nUses home NBN, paid for by taxpayer, for own business, to the tune of over $3000;\\nHas no idea of details of his portfolio when asked by journalists.\\nLies continually.\"], [\"@geoffrey_payne Good point. It's not just the NBN phone, it's any in home medical equipment. Who bloody well compensates ppl for power failure irrespective of whether they are a managed 'cause of a faulty grid or to protect the electricity cartel against legal risks caused by a faulty grid.\"], [\"Bloody @Optus is being hopeless today. First they book a visit to get my NBN hooked up. Then, I get contradictory messages suggesting....nothing. Now I\\u2019ve spent half an hour with on-line chat that results in ....\\u201dsorry I\\u2019m with a different department\\u201d Thanks for nothing Annie\"], [\"@NBN_Australia Is that as of today? They weren't up to date lastnight\"], [\"@CroweDM maybe similar to the NBN experience\"], [\"@MrTaoYang Hi Tao, that\\u2019s not the experience we want for our customers. So you can get this resolved, I would recommend contacting your provider directly. They will be able to run tests to confirm if there is an issue. If the issue is with nbn they will let our specialist team know. ^Brian\"], [\"@ScottMorrisonMP @TheTodayShow Why don\\u2019t you build a technology super highway instead of the shite FTTN nbn? Now there would be some impressive investment.\"], [\"@RewardbetRobert @hayw0od @acmadotgov @Betfair_Aus @sportsbetcomau Gremlins in the NBN?\"], [\"Here's what's coming up in NBN News tonight. https://t.co/w4d6It0HzB\"], [\"@dean_harris If it's an ongoing issue your provider will have a process in place that they can escalate this through to the correct channels. If it's an nbn issue our nbn support team will work with your provider to fix it. We're looking forward to seeing this resolved for you ^Rose 2/2\"], [\"Should I get Optus 5G broadband $70 unlimited now  or wait for NBN when it\\u2019s available in late Feb \\u201820?\"], [\"@RubberFistFight with your provider so that they can run testing. If there is a fault they will report it to the nbn teams. ^Audrina 2/2\"], [\"@Telstra can someone please fix our nbn. I have spent a combined 20 hours on the phone to complaints over the past three months and again today we are back at 2.34mbps. You obviously can\\u2019t fix the problem so please let us cancel our contract\"], [\"@garystark I think you meant to say, \\\"The physical infrastructure near the northern beaches region belonging to the NBN is currently in a degraded state. Some specific customers may be impacted by this developing situation.\\\"\"], [\"@Saint_Benny I guess the speed is dependent on your internet connection. We're on NBN here and it OK.\\n\\nYes, not being able to drop folders is a bugger but you can drop a whole heap of single files together in one drop, maximum 100.\"], [\"You wouldn't have to force people on NBN if it was any good.\"], [\"Hey, @iinet a shout-out to one of your customer Service people, Sujith, who was AMAZING. Our iinet modem failed &amp; while we wait for a warranty replacement, he helped me get  an almost NBN-FTTC-incompatible wireless router online! We have internet back!\"], [\"@maggersz regular NBN as in what?\"], [\"@KellieRiordan Sounds like a nightmare! I have awfully slow speeds on broadband, and I've been looking forward to NBN when I move house at the end of the year. Hoping for a better experience! \\ud83e\\udd1e\"], [\"@Hellharbour Been connected to the NBN yet? I have. Average speed has dropped from 65mb to a \\u201cmax\\u201d of 40mb. It drops out every three days (yesterday for 3 hrs) and the light is permanently yellow - green = good connection. Fucked is a good description\"], [\"@iiNet Can you please put an URGENT priority with your engineers on being able to block incoming calls from overseas? The SCAM NBN calls are getting ridiculous, we get them everyday! Telstra said they could block all countries bar 1 that we call family on.  You cannot. #poorform\"], [\"NBN problems have once again robbed me of my ability to stream! Thanks, @NBN_Australia! And by thanks, I mean SUCK MY FUCKING DICK.\"], [\"still nine days for the nbn to get delayed\\n\\n... let's be real here they have all the time in the world to delay the nbn again they can do it after the date too\"], [\"@CroweDM Investment in a healthy skilled population would boost demand with immediate effect. Investment in unsabotaged NBN would boost productivity. And forget the motorways.\"], [\"@onewhite Thanks for passing this information on to us. All updates will be updated through your ISP and their internal nbn support team. The specialist team will work at resolving this issue for you and will liaise 1/2\"], [\"@infectedarea I have regular NBN and no issues.\"], [\"@KellieRiordan @SteveAustinABC Yeah, they've squibbed it. We're semi-rural and technically on satellite NBN, although for 90% of our use we get by on Telstra 4G (via antenna to tower 14km away)\\n\\nOne saving grace: copper landline is still active for emergencies. But not great juggling multiple services/bills.\"], [\"All I need in life is for @NBN_Australia to keep their commitments, or, you know, call to advise that they can't, so I don't unnecessarily take a day off work. Literally the worst service, and no available appts for another 7 days? And the 2nd cancellation!? Righto... \\ud83d\\udca9\"], [\"@KellieRiordan @SteveAustinABC Bring on 5G wireless for the home so the telcos can break away from this NBN lemon\"], [\"NBN is an utter joke. Since connecting, more time offline than on. Can\\u2019t do business. Paying for a service I don\\u2019t get. It\\u2019s the 19th century again. And VOIP for phone means you can\\u2019t even use your telephone. What if you have to call an ambulance? \\ud83e\\udd26\\ud83c\\udffd\\u200d\\u2640\\ufe0f  @SteveAustinABC\"], [\"@darrell94934495 @Mickt12321 @Professor_Mambo @arunkg87 @GoogleStadia jesus here in australia we have NBN which is at least meant to give us 40MBPS download and thanks to our shit government we instead get at most 20MBPS\"], [\"Mate wants to be friends with your phone (and you), offering affordable monthly rates\\n\\nAussie telco Mate has been offering NBN plans for a while, and is now moving into the mobile space with affordable monthly rates that should get everyone excited. The company\\u2019s offering mo\\u2026\"], [\"What nbn provider should I go for??\"], [\"@NBN_Australia Hey guys, looks like the install has completed. The techs have left.. now it\\u2019s up to the ISP to contact me for the next steps. Can you update your systems so they can progress? https://t.co/2iAW0pbEqF\"], [\"The loving feeling of comforting before your NBN \\ud83d\\udda4\"], [\"@NBN_Australia is there issues with upload speeds at the moment? Been having issues since lastnight - called @Internode and they have confirmed it is an issue on your side. \\n\\nAny transparency as to what is going on? I can provide more information if you need. https://t.co/Eiv1juryYP\"], [\"Guess who just opened the door for the NBN guy in her extremely short pyjama bottoms and a bra :,) merry Christmas Mr NBN\"], [\"@Telstra Friend just received a \\u201c Telstra NBN \\u201cletter but the phone number doesn\\u2019t look right to me. Is 1800 291 011 one of your contact numbers\"], [\"@NBN_Australia When the power goes out, the up-chain supplier informs me. The service is efficient and drives faith and comfort. After my install was delayed 6 months for reasons NBN could not explain and my new connection has been highly unstable and down twice in two weeks, not much faith\"], [\"@HashNotAdam Hey Adam, we can see where you're coming from. However, as services over the nbn network are delivered by service providers, they are responsible for notifying their customers of any issues with the network such as outages. ^Rose\"], [\"@NewtonMark @NBN_Australia Milked right into the ground.\"], [\"@NewtonMark @NBN_Australia I do recall an ausnog presentation on how the FTTP network would have been monitored.\"], [\"@NBN_Australia I believe that\\u2019s what they are here for today to fix. I\\u2019ll wait until they are finished to see how they went, and whether the next part can proceed by an ISP.\"], [\"NBN have finally turned up. Don't let it be the same idiot as last week who told me to dig a trench. Me.\"], [\"@ScottMorrisonMP @TheTodayShow I would like to see 3.8 bn spent on battery storage for residential consumers and fixing the NBN to a gigabit optic Fibre network to the home so I don't have to sit on a new road pumping petrol poison into the air.\"], [\"@NBN_Australia Scam calls are simple hack script to get on to User's PC. #NBN disconnection #robocall leads to 'issue on PC' where remote access is needed. \\nTheir spoof #webnode site is easy to fall for... \\nCalls recorded and site ripped for archive. #ToothlessCyberPolice.\"], [\"@NBN_Australia But yes, I have contacted my ISP (for the umpteenth time) and they are following the procedures.\"], [\"@PAISLEYLADDER @___ejp___ that shouldn't be the case and the original nbn was designed to solve that problem\"], [\"@NBN_Australia You bypassed the question which is \\\"if this data is available, why aren't you making it directly available to the public?\\\" Every major ISP has failed to report this outage. @TPG_Telecom have told me they don't consider it big enough to report on.\"], [\"NBN rkr a u ab - Nd anyr rf a i rk i bing undrakn by   inn ln? Cany  nial nrar \\u201ca iali an yu ffr u?\\u201d Cnrar \\u201cI\\u2019  a\\u201d Cany \\u201cn an yu ar?\\u201d \"], [\"@rob0r @LordSoth123 @NBN_Australia Still knee jerk ad-hoc IMO.  Like trying to put out a bushfire with a spray bottle.Dumb decisions that still leaves a division.  \\nFttK is garbage anyway, NBN would be better using 5G for the last 150m if it can't work out how to run something as simple as a fibre cable. #nbn\"], [\"@IMHO_oz Hey There IMHO, if you're having issues with your nbn connection, please reach out to your provider. They can run tests for you. If needed, they're able to liaise with our specialist team to find out what's happening there. ^Sally\"], [\"@NBN_Australia Thanks Sally.  The guys are here at the moment, but looks like they do up to the side of the house with the \\u201cbox\\u201d. I then have to organise another visit by a NBN Provider to then do the \\u201cinternal\\u201d side of things.. Sigh.  Looks like no complete NBN installation today. :(\"], [\"@Jazz_CB Terribly sorry for the trouble with that order. We'd like to check that out on our end and see what's going on, do you mind sending through a DM so we can confirm your account details? Once that's been done we can follow up on this NBN order and see what we can do. Rob\"], [\"@D_Melissa2 @ScottMorrisonMP @TurnbullMalcolm Mel if Turnbull had any ethics he would not have destroyed the NBN for ideological reasons amongst other things\"], [\"@LiberalAus Shame you screwed the NBN which could have allowed realistic telecommuting and forgone the need for people to waste their time and money commuting around cities.\"], [\"@Technorants @LordSoth123 @NBN_Australia If thats what it takes for @NBN_Australia to get on with deploying better infrastructure then so be it.\"], [\"NBN ieaig 2M ei f fi ime i a yea ay ACCC \"], [\"Looks like my NBN migration saga is almost over, I just need to see what my next bill will look like. I\\u2019m hoping it at least won\\u2019t come with a $200 surprise.\"], [\"@TPG_Telecom @_simonryan_ Only to go back and forth numerous times getting nowhere other than gaining more frustration towards this shitty NBN service we pay a premium for.\"], [\"When you are paying for 50mbps speed yet you get 2... happening for 10 days and @TPG_Telecom blame @NBN_Australia yet both wash their hands of it... #fail #internet https://t.co/LhKfNZPYU9\"], [\"@vk4aa I'm sorry to hear that, Samantha. We don't have access to the systems where your service provider lodges the service faults. It goes to our nbn support team who is contactable by your provider only. 1/2\"], [\"@murpharoo @msmarto Yeah - shame none of those billions will be to fix the nbn the screwed us on @LiberalAus\"], [\"@docEbrown1 Thanks for reaching out here. There appears to be an NBN planned maintenance today. It's current estimated time of completion is 20/11/2019 15:00 AEDT. -John\"], [\"@acmadotgov How about a full on attack to rid us of 'Nicole from the NBN' Surely you have the skills and resources to do that? No? Or just stop pretending to be useful, dissolve your organisation, and save taxpayers some money.\"], [\"@rahusphere @Optus NBN is shit anyway so it won\\u2019t take much to knock it dead \\ud83d\\ude29\"], [\"@HonTonyAbbott The \\\"insight\\\" you and your \\\"mate\\\" Turnbull showed in butchering the NBN is only matched by Daniel Andrews payment of billions NOT to build the East West Link. Give it up, mate! You haven't got it.\"], [\"@AlbertonPower Haha yep, my NBN goes slower than a slug on valium\"], [\"@ana74x @Telstra Lol they have no clue. \\ud83e\\udd26\\ud83c\\udffb\\u200d\\u2640\\ufe0f The govt stuffed up NBN and Australia is way behind as a result. In today\\u2019s modern world, where everyone from school children to business owners rely on the internet, this is an utter farce.\"], [\"Eight (8) @NBN_Australia outages so far this morning. #nbn https://t.co/lPjjVABrhx\"], [\"I'm so glad we didn't elect \\\"economic panic merchants\\\" who introduce \\\"desperate, one-off sugar hits\\\" like roof cladding, public school and hospital spending, native title, the NBN, the carbon tax... #auspol\"], [\"@Telstra Have been forced onto nbn, and from what I understand there are no longer any other options in our area.\"], [\"The brave sensation of doubt because of a NBN \\u2604\\ufe0f\"], [\"Aussie Broadband $50 off first month! \\nReferral code: 2196434 #NBN #broadband #internet #discount #credit #deal #saving #code #referral #reliable #customerservice #passion #it #aussie #aussiebroadband #mate #connect #join\"], [\"@realjeffwyatt @shockmeparasite We're going to continue on nbn through the 2000s? Good I'm in.\"], [\"Have had far more outages on NBN than ever before. It's a little tedious.\"], [\"Sam Porter Bridges: I\\u2019m here to connect your NBN.\"], [\"@pwoiter @iTnews_au especially that Optus cable network which was unsalable even before NBN bought it, to immediately throw it away.\"], [\"@brenthooley I am sorry for the connection speed issues Brent and apologise for any inconvenience this has caused :( Are you still having issues with these connection speeds with the NBN service? -Dingo\"], [\"@Optus Good job Optus on competitive pricing. This is gonna kill NBN.\"], [\"@LaurenKBreen Such a good GIF. \\ud83e\\udd23 Even though my NBN wasn\\u2019t working. \\n\\nIt\\u2019s back online now. Phew.\"], [\"Just wanted to congratulate your incident mgmt ppl @Aussie_BB. By the time I worked out my NBN was down there was already an outage notification online. No time wasted troubleshooting or on hold with call centre. https://t.co/cGRBQDMxxE\"], [\"@MofoMik @Aussie_BB @WestOzWind Hey, is this an NBN or an Aussie BB outage? Mine\\u2019s gone down in Scarborough, too.\"], [\"nbn: what if I just cut out\\nme: oh no please don\\u2019t i \\nnbn: done :)\"], [\"@JonathanOng77 Here is hoping NBN is stable for you then LOL\"], [\"@aa74 Tak f ekig Wa yu elgy ye? DS, Cable, NBN? I ee a bee i available? leae ek yu ae ee -  - (Clik Cek vailabiliy  ay f e la) a le u kw e eul - Maew\"], [\"@AvengedByCherry 2) I was offered a 3 month trial free on nbn landline to see how it performs.  If it's better/good for purpose I'll break contract on one plan and switch it to that and keep the other 4G for redundancy\"], [\"@D_Melissa2 @simonahac @simonhackett to head up rebuilding the NBN as a true govt service and not some halfassed entity perpetually on chopping block\"], [\"The NBN in my area is scuffed \\ud83d\\ude29 guess I can't fix my stream schedule as soon as I would like\"], [\"@PatsKarvelas Bet the nbn was cheaper and faster too\"], [\"@NBN_Australia Don't know if it's nbn or @EscapeNet_Au but i get cut outs constantly\"], [\"@NBN_Australia is the biggest heap of junk I've ever seen!\"], [\"@BBCStoryWorks @tradegovukAUS Turnbull's $90 billion totally dud FTTN NBN dead and buried before the project's even complete... https://t.co/xM9WaaBpMb\"], [\"@TVofCarringbush @JacktheInsider @mumbletwits I had ti have a landline in order to have FTTP NBN. I never use it. If it rings I don't answer because I know it's marketing or scamming.\"], [\"I don\\u2019t know how anyone survives watching #TheCrown if their NBN is \\ud83d\\udca9... don\\u2019t know how I\\u2019m surviving watching #Seven... @IraSnave\"], [\"@WarWraith NBN? How annoying!\"], [\"@NBN_Australia Hi Brian, I am looking to switch from NBN sky muster satellite to fixed wireless now that we have a tower visible from our property. The website seems to only have information on switching to fibre to the premises, and our provider told us to contact you. Can you help? Thanks.\"], [\"Ah! @NBN_Australia! Letter received today saying \\\"we can't give you a date when we will connect you to NBN\\\" at the same time telling us that they will disconnect our existing services on Feb 14th, 2020. Yet, nothing has happened to make NBN available to us. It's 19th November...\"], [\"@dw261182 Hi Ronny, I'm sorry to hear about your experience with the NBN. Please send us a DM and we'll be happy to investigate this further. Jono\"], [\"@AndyB_Aussiered I\\u2019ve contacted them and NBN a few times but they\\u2019ve slow replying to me. At different times of the day, I\\u2019m forced to use my mobile data.\"], [\"@Telstra_need oi so my service in Thornbury is out cause of NBN difficulties ? Yo we got 4G NOT NBN? Now my boyfriend has put on a metal podcast wtf is up\"], [\"@Telstra oi so my service in Thornbury is out cause of NBN difficulties ? Yo we got 4G NOT NBN? Now my boyfriend has put on a metal podcast wtf is up\"], [\"@nathan3197 nathan......stop\\n\\nwe get it\\n\\nur rich and i'm broke\\n\\nu have NBN and i don't\\n\\nyou can calm down now\\n\\nok?\"], [\"@Telstra  is the NBN working??!\"], [\"@ABCthedrum @bkjabour If the Australian govt has anything to do with it then we will be paying $150 for a 2nd rate #NBN.\"], [\"@mrmarchee @AgainstHunting @JolyonMaugham @joswinson Possibly running miles of cable to serve just a few individuals. This is something the Australian government promised in the form of the NBN in 2007. It\\u2019s still not finished, most Australians don\\u2019t have fibre, it\\u2019s mainly using the same backbone that already existed, using\"], [\"So instead of maybe choosing to address my concern &amp; get someone from @Telstra to call this is how conversation with Telstra ended. Such an \\u201camazing\\u201d customer service, but at least they are consistent in providing none. @NBN_Australia not much better. https://t.co/tahi7qYRPj\"], [\"#TheDrum Streaming service saturation isn't likely become problem 'in the bush' because @NBN_Australia rubbish and cost prohibitive in those areas. Even using business software like @Xero even single touch payroll becomes an issue for business and @Centrelink @medicare etc\"], [\"@ABCthedrum I watch you on normal tv.  I used to have the NBN and it wasn't good enough for a streaming service.  I hate all the flipping games shows they call reality tv.  I now have a dongle and will see if I can afford a streaming service.  My DSP might not stretch that far\"], [\"@Zemmiph0bia @aussiewongm The NBN here is Australia is horseshit\"], [\"I\\u2019m already at the point where I want to smash my NBN modem and migrate\"], [\"@NBN_Australia Just received a robo scam call purportedly from the NBN telling me phone and internet will be disconnected.  Tel. no. was 07 3736 3831.\"], [\"@54dogboy Hi there, \\n\\nOur NBN technicians are ready to take your call so if you're still facing issues, give us a ring on 1300 801 122 and our team will get to the bottom of those speeds for you.\"], [\"@NBN_Australia @brenthooley And that's what we get for $150billion investment, no wonder we are the laughing stock of the broadband world. Took me 3 weeks to sort out between NBN and my provider......\"], [\"@fidzeh Thanks for sending the details via DM. I checked the notes on the account and can see that the NBN technician is already on-site to fix the local power outage that is impacting some HFC end users in the Bandstown, NSW area. Further updates will be provided to you. -Julien\"], [\"@isstoked Hi, the outage affecting some NBN customers in Traralgon, VIC has been resolved. Services are now online. Please restart your modem if the issue persists. We apologise for any inconvenience caused and thank you for your patience.\"], [\"NBN b-all am eeaedly bggng Geelng lal \"], [\"@AusIndiMedia My daughter just returned to work from home teaching English for a small income which she has been doing successfully whilst on a Thailand Island. The upload NBN speed excludes her from continuing with one school based in China. Destruction by  @TurnbullMalcolm and @HonTonyAbbott\"], [\"@rollingputcap I never said the track record was perfect, NBN has been a disaster, same with the property market, 100% correct\"], [\"@joshgnosis This was literally the same argument against gigabit speeds with the NBN. \\n\\nGotta love a throttled country.\"], [\"It\\u2019s an ongoing issue with recordings stopping midway during live matches in the early hours of the morning. No alternatives but to record the replay.\\n\\nMy NBN drops out at least 3 times a day, nothing we can do about it, Optus says it\\u2019s normal\"], [\"@Optus hi guys, I went from cable to NBN. Which number do I call to get @Optus to take down the cable please? Thx\"], [\"@meatgrrrl Heya, so pleased to hear you are happy with the nbn install. Welcome to the network. ^Lisa\"], [\"@Telstra Is a reliable NBN connection for sale yet?\"], [\"Update complete! Took 2 hours. Home wifi on NBN https://t.co/iSYGEJn96i\"], [\"@mwyres @NewtonMark Until they start offering 10/10Gb and 40/40Gb products, this is pretty useless. Others offer what @NBN_Australia can't\"], [\"@seasallen connect to the nbn network from an engineering perspective and may be located further from existing nbn network assets. Your premises requires additional work to be fully commissioned 2/3\"], [\"@seasallen Hey Corey, it looks like there is still more work required to connect your premises. Each premise is different and requires individual assessment by nbn and our construction partners on the best way to connect you to the nbn network. Unfortunately, your premises is harder to 1/3\"], [\"@brenthooley This is disappointing to hear, Brent. Please reach out to Telstra to make sure they're aware of the issue. They'll engage with our support teams for assistance and we'll work together to get you online. ^Alex\"], [\"@NBN_Australia There are no available alternatives. The upstairs property has an NBN connection already and their connection is in my basement. Why can\\u2019t I get connected?\"], [\"@khtagh @deniseshrivell Sounds like the NBN. Maybe a causal link???\"], [\"@NewtonMark @NBN_Australia Inspired by your posts, I setup my own monitoring (Grafana feeding into Pushover). Though I think I\\u2019ve been mostly lucky on my new HFC connection: https://t.co/XSvWf1pivT\"], [\"@Telstra can you tell us when our nbn will be back in treasure road north Welshpool as we have not had any service for 3 days. Our customer service person has no idea of the outage but according to your website there is with no time or days when will be fixed\"], [\"NBN   run X ranrmain Build new E, lan  dely new ware \"]], \"hoverlabel\": {\"namelength\": 0}, \"hovertemplate\": \"NER=%{x}<br>favs=%{y}<br>cleantext=%{customdata[0]}\", \"legendgroup\": \"\", \"marker\": {\"color\": \"#636efa\"}, \"name\": \"\", \"notched\": false, \"offsetgroup\": \"\", \"orientation\": \"v\", \"showlegend\": false, \"type\": \"box\", \"x\": [\"LNP\", \"@NBN_Australia\", \"Optus\", \"@NBN_Australia\", \"nbn\", \"nbn\", \"NBN\", \"NBN\", \"NBN\", \"NBN\", \"@NBN_Australia\", \"NBN\", \"Optus NBN\", \"NBN\", \"NBN\", \"@NBN_Australia\", \"NBN\", \"NBN\", \"NBN\", \"FTTN\", \"NBN\", \"NBN\", \"NBN\", \"NBN\", \"NBN\", \"Optus\", \"NBN\", \"NBN\", \"NBN\", \"NBN\", \"NBN\", \"nbn\", \"NBN\", \"NBN\", \"NBN NBN\", \"NBN\", \"NBN\", \"NBN\", \"NBN\", \"@NBN_Australia\", \"FTTP NBN\", \"NBN\", \"NBN\", \"@NBN_Australia\", \"NBN\", \"@NBN_Australia\", \"@NBN_Australia\", \"Aussie Broadband\", \"NBN\", \"@NBN_Australia\", \"nbn\", \"NBN\", \"NBN\", \"NBN ADSL\", \"NBN\", \"NBN\", \"NBN\", \"NBN\", \"NBN\", \"nbn nbn\", \"nbn\", \"NBN\", \"nbn\", \"NBN\", \"NBN &amp\", \"nbn\", \"ADSL NBN\", \"NBN\", \"ADSL NBN\", \"NBN\", \"nbn\", \"NBN NBN\", \"NBN\", \"NBN\", \"NBN\", \"nbn\", \"NBN\", \"NBN\", \"NBN\", \"nbn\", \"NBN\", \"NBN NBN\", \"NBN\", \"@NBN_Australia NBN\", \"nbn\", \"FTTP NBN\", \"NBN NBN NBN\", \"NBN\", \"NBN\", \"NBN FTTP\", \"NBN\", \"ADSL NBN\", \"NBN\", \"NBN\", \"NBN\", \"@NBN_Australia\", \"NBN\", \"nbn\", \"NBN\", \"NBN\", \"Optus\", \"NBN\", \"NBN\", \"NBN\", \"nbn\", \"NBN\", \"NBN\", \"@NBN_Australia\", \"nbn\", \"NBN\", \"NBN\", \"NBN Co\", \"nbn\", \"nbn\", \"ADSL NBN\", \"nbn\", \"@NBN_Australia\", \"NBN\", \"NBN\", \"NBN\", \"NBN\", \"NBN HFC\", \"NBN\", \"NBN Telstra\", \"NBN\", \"NBN\", \"NBN\", \"Telstra\", \"NBN\", \"NBN HFC\", \"NBN\", \"NBN NBN\", \"NBN\", \"nbn\", \"NBN Optus\", \"NBN\", \"NBN\", \"nbn\", \"NBN\", \"nbn\", \"NBN\", \"Labor\", \"NBN\", \"NBN\", \"NBN Co\", \"NBN\", \"NBN\", \"NBN\", \"NBN Telstra\", \"NBN\", \"NBN NBN\", \"NBN\", \"NBN\", \"NBN\", \"NBN\", \"@NBN_Australia\", \"FTTP\", \"NBN NBN\", \"NBN\", \"@NBN_Australia\", \"NBN\", \"nbn\", \"Aussie Broadband\", \"NBN\", \"NBN\", \"NBN\", \"NBN\", \"NBN\", \"NBN\", \"NBN\", \"NBN\", \"NBN\", \"nbn\", \"NBN\", \"NBN\", \"NBN\", \"NBN\", \"NBN\", \"NBN\", \"NBN NBN\", \"NBN\", \"FTTP\", \"NBN\", \"NBN\", \"NBN\", \"NBN\", \"NBN FTTP\", \"NBN\", \"NBN\", \"NBN\", \"NBN &amp\", \"NBN\", \"NBN\", \"NBN\", \"NBN\", \"nbn\", \"NBN\", \"NBN\", \"NBN\", \"NBN\", \"nbn\", \"NBN\", \"NBN\", \"NBN\", \"NBN\", \"NBN\", \"NBN\", \"NBN\", \"NBN\", \"NBN\", \"NBN\", \"NBN\", \"NBN\", \"nbn\", \"NBN\", \"nbn\", \"NBN\", \"NBN\", \"NBN\", \"nbn\", \"nbn\", \"NBN\", \"NBN\", \"NBN\", \"NBN News\", \"NBN NBN\", \"NBN\", \"NBN\", \"FTTP\", \"FTTP\", \"NBN\", \"NBN\", \"NBN\", \"NBN\", \"NBN\", \"nbn\", \"NBN ISP\", \"NBN\", \"NBN\", \"NBN\", \"NBN\", \"NBN NBN\", \"NBN\", \"nbn\", \"NBN\", \"NBN\", \"NBN\", \"NBN\", \"NBN\", \"NBN\", \"NBN\", \"NBN\", \"NBN\", \"NBN\", \"NBN Co\", \"NBN\", \"NBN\", \"NBN\", \"NBN\", \"NBN\", \"NBN\", \"NBN\", \"FTTP NBN\", \"NBN\", \"NBN ISP\", \"NBN\", \"nbn\", \"NBN\", \"Telstra\", \"NBN\", \"NBN\", \"NBN\", \"NBN\", \"Optus NBN\", \"NBN\", \"NBN\", \"@NBN_Australia\", \"NBN\", \"@NBN_Australia NBN\", \"Aussie Broadband\", \"nbn\", \"NBN NBN\", \"NBN\", \"NBN\", \"nbn\", \"nbn\", \"NBN\", \"NBN\", \"NBN\", \"nbn\", \"NBN\", \"NBN\", \"NBN\", \"NBN\", \"nbn\", \"nbn\", \"LNP\", \"@DoctorKarl NBN\", \"NBN\", \"NBN\", \"NBN\", \"NBN\", \"NBN Telstra\", \"nbn\", \"NBN\", \"nbn\", \"NBN HFC\", \"HFC NBN\", \"ISP\", \"nbn\", \"NBN\", \"NBN\", \"NBN\", \"NBN\", \"NBN\", \"NBN\", \"NBN\", \"nbn\", \"NBN NBN\", \"NBN\", \"NBN\", \"NBN Telstra\", \"NBN\", \"NBN\", \"NBN\", \"NBN\", \"nbn\", \"NBN\", \"NBN\", \"nbn\", \"nbn\", \"NBN\", \"ISP\", \"nbn\", \"NBN\", \"NBN\", \"NBN\", \"NBN\", \"@NBN_Australia\", \"NBN\", \"nbn\", \"NBN Telstra\", \"NBN\", \"NBN\", \"NBN News\", \"NBN &amp\", \"ADSL\", \"nbn\", \"nbn\", \"NBN\", \"ADSL NBN\", \"NBN\", \"NBN\", \"NBN HFC\", \"NBN\", \"NBN\", \"NBN\", \"NBN\", \"FTTN\", \"NBN\", \"NBN\", \"NBN\", \"NBN\", \"NBN\", \"NBN\", \"NBN\", \"NBN Co\", \"Optus NBN\", \"NBN\", \"NBN\", \"NBN NBN\", \"NBN\", \"@NBN_Australia\", \"NBN\", \"nbn\", \"Telstra\", \"NBN\", \"LNP\", \"LNP NBN\", \"nbn\", \"NBN\", \"NBN\", \"Telstra\", \"NBN\", \"NBN\", \"Aussie Broadband\", \"FTTP NBN\", \"NBN NBN\", \"NBN\", \"NBN\", \"NBN\", \"NBN\", \"NBN ISP\", \"NBN\", \"NBN\", \"NBN\", \"NBN\", \"NBN\", \"NBN\", \"NBN\", \"HFC NBN\", \"NBN\", \"NBN\", \"nbn\", \"nbn\", \"NBN\", \"NBN &amp\", \"NBN\", \"nbn\", \"NBN\", \"@NBN_Australia\", \"NBN ADSL\", \"NBN Telstra\", \"@NBN_Australia\", \"NBN\", \"NBN\", \"NBN\", \"NBN\", \"NBN\", \"NBN\", \"Optus\", \"NBN\", \"NBN\", \"NBN\", \"NBN\", \"NBN\", \"NBN\", \"NBN\", \"NBN\", \"NBN NBN\", \"NBN\", \"nbn\", \"NBN\", \"NBN\", \"NBN\", \"NBN NBN\", \"NBN\", \"NBN\", \"LNP NBN\", \"NBN Telstra\", \"NBN\", \"NBN\", \"NBN\", \"NBN NBN\", \"NBN\", \"NBN\", \"Labor\", \"NBN\", \"NBN\", \"nbn\", \"NBN\", \"NBN\", \"NBN\", \"NBN Co\", \"HFC NBN\", \"@DoctorKarl NBN\", \"@NBN_Australia\", \"NBN\", \"NBN\", \"NBN\", \"NBN\", \"NBN News\", \"HFC\", \"NBN\", \"NBN\", \"@DoctorKarl NBN\", \"NBN ADSL\", \"NBN\", \"LNP\", \"NBN\", \"LNP\", \"NBN\", \"NBN Co\", \"NBN\", \"NBN\", \"@NBN_Australia\", \"nbn\", \"NBN\", \"Labor\", \"nbn\", \"NBN HFC\", \"NBN\", \"NBN\", \"NBN\", \"nbn\", \"NBN &amp\", \"nbn\", \"@DoctorKarl NBN\", \"HFC\", \"NBN\", \"NBN\", \"NBN\", \"HFC\", \"HFC\", \"LNP NBN\", \"NBN Telstra\", \"NBN\", \"NBN\", \"nbn\", \"NBN\", \"NBN\", \"NBN\", \"Aussie Broadband\", \"nbn\", \"NBN\", \"NBN\", \"NBN\", \"nbn\", \"HFC\", \"NBN\", \"HFC\", \"NBN\", \"NBN HFC\", \"NBN\", \"NBN\", \"NBN\", \"NBN\", \"NBN HFC\", \"HFC\", \"HFC\", \"@NBN_Australia NBN\", \"LNP NBN\", \"FTTP\", \"Telstra\", \"NBN\", \"NBN\", \"NBN\", \"nbn\", \"@DoctorKarl NBN\", \"NBN\", \"@DoctorKarl NBN\", \"HFC NBN\", \"nbn\", \"@NBN_Australia\", \"NBN\", \"NBN HFC\", \"NBN\", \"NBN\", \"NBN\", \"NBN\", \"NBN NBN\", \"NBN\", \"NBN\", \"FTTP NBN\", \"NBN\", \"NBN\", \"NBN\", \"NBN\", \"NBN\", \"NBN\", \"NBN News\", \"@DoctorKarl NBN\", \"@DoctorKarl NBN\", \"NBN\", \"NBN\", \"NBN\", \"NBN\", \"NBN ADSL\", \"NBN ISP\", \"nbn\", \"NBN\", \"NBN FTTP\", \"NBN\", \"NBN\", \"NBN\", \"NBN\", \"nbn\", \"HFC NBN\", \"NBN NBN\", \"NBN\", \"NBN\", \"NBN\", \"NBN NBN NBN\", \"Optus NBN\", \"NBN HFC\", \"NBN NBN\", \"NBN NBN NBN\", \"NBN\", \"NBN\", \"@NBN_Australia\", \"NBN\", \"NBN\", \"NBN\", \"@NewtonMark @NBN_Australia\", \"NBN\", \"NBN\", \"NBN\", \"Optus NBN\", \"NBN\", \"@NBN_Australia\", \"NBN\", \"NBN\", \"nbn\", \"@NewtonMark @NBN_Australia\", \"NBN Co\", \"Optus\", \"NBN NBN\", \"NBN\", \"NBN\", \"NBN\", \"HFC NBN\", \"NBN NBN\", \"NBN NBN\", \"NBN ADSL\", \"nbn\", \"nbn\", \"NBN\", \"NBN\", \"NBN\", \"NBN\", \"NBN\", \"NBN\", \"nbn\", \"NBN\", \"NBN\", \"NBN\", \"NBN\", \"NBN\", \"NBN\", \"NBN\", \"NBN\", \"NBN\", \"HFC\", \"NBN\", \"Telstra\", \"NBN\", \"NBN\", \"NBN\", \"NBN\", \"NBN\", \"NBN\", \"NBN\", \"Telstra\", \"NBN HFC\", \"nbn\", \"NBN\", \"NBN NBN\", \"NBN\", \"NBN FTTP\", \"NBN\", \"LNP\", \"NBN\", \"NBN\", \"NBN Telstra\", \"NBN\", \"NBN\", \"NBN HFC\", \"NBN\", \"NBN ADSL\", \"NBN\", \"NBN\", \"LNP NBN\", \"NBN NBN NBN\", \"NBN\", \"NBN\", \"NBN\", \"nbn\", \"HFC\", \"NBN\", \"Aussie Broadband\", \"nbn\", \"NBN\", \"nbn\", \"@NewtonMark @NBN_Australia\", \"NBN NBN\", \"Optus\", \"ADSL NBN\", \"NBN\", \"Optus NBN\", \"NBN\", \"NBN\", \"HFC\", \"NBN\", \"NBN\", \"LNP NBN\", \"NBN\", \"LNP\", \"NBN\", \"Aussie Broadband\", \"NBN HFC\", \"@NBN_Australia\", \"NBN\", \"@NBN_Australia\", \"@NBN_Australia\", \"NBN\", \"NBN\", \"nbn\", \"NBN\", \"nbn nbn\", \"nbn\", \"NBN\", \"NBN NBN\", \"NBN\", \"NBN\", \"NBN HFC\", \"@NBN_Australia\", \"nbn\", \"NBN\", \"NBN\", \"NBN\", \"nbn\", \"nbn\", \"NBN NBN\", \"@NBN_Australia\", \"NBN\", \"nbn\", \"NBN\", \"HFC NBN\", \"HFC NBN\", \"HFC NBN\", \"@NBN_Australia\", \"HFC\", \"Telstra\", \"HFC\", \"NBN\", \"Telstra\", \"NBN\", \"HFC NBN\", \"NBN\", \"FTTN\", \"NBN\", \"NBN\", \"@NBN_Australia\", \"HFC NBN\", \"NBN\", \"NBN\", \"NBN\", \"NBN\", \"NBN\", \"@NBN_Australia\", \"NBN\", \"NBN Telstra\", \"HFC NBN\", \"NBN\", \"NBN\", \"nbn nbn\", \"NBN\", \"nbn\", \"NBN\", \"NBN\", \"NBN\", \"NBN\", \"nbn\", \"NBN ADSL\", \"nbn\", \"NBN\", \"HFC\", \"NBN\", \"@NBN_Australia\", \"NBN\", \"NBN\", \"nbn\", \"FTTP\", \"NBN\", \"NBN\", \"NBN\", \"NBN\", \"NBN\", \"NBN\", \"NBN\", \"@NewtonMark @NBN_Australia\", \"Telstra\", \"NBN\", \"NBN Co\", \"NBN\", \"NBN\", \"@NBN_Australia\", \"FTTP\", \"@NBN_Australia\", \"Optus NBN\", \"NBN\", \"nbn\", \"NBN\", \"NBN\", \"HFC NBN\", \"NBN\", \"FTTN\", \"NBN\", \"@NBN_Australia\", \"ADSL\", \"@NBN_Australia\", \"NBN\", \"@NBN_Australia\", \"HFC\", \"ISP\", \"nbn\", \"@NewtonMark @NBN_Australia\", \"Optus NBN\", \"NBN\", \"HFC\", \"FTTP\", \"NBN NBN\", \"NBN\", \"ADSL\", \"NBN\", \"NBN NBN\", \"@NBN_Australia NBN\", \"Labor\", \"NBN\", \"FTTN\", \"LNP\", \"NBN\", \"NBN\", \"NBN\", \"NBN\", \"NBN Telstra\", \"NBN\", \"NBN\", \"@NBN_Australia\", \"NBN\", \"NBN NBN\", \"HFC NBN\", \"HFC NBN\", \"@NBN_Australia\", \"NBN\", \"NBN\", \"LNP\", \"HFC\", \"NBN\", \"NBN HFC\", \"NBN\", \"NBN Optus\", \"NBN\", \"NBN\", \"NBN\", \"NBN\", \"NBN\", \"Telstra\", \"NBN\", \"HFC\", \"NBN\", \"nbn\", \"nbn\", \"NBN\", \"NBN\", \"NBN\", \"NBN HFC\", \"@NewtonMark @NBN_Australia\", \"Telstra\", \"NBN\", \"nbn\", \"NBN\", \"FTTP NBN\", \"@NewtonMark @NBN_Australia\", \"NBN\", \"NBN\", \"NBN NBN\", \"NBN FTTP\", \"NBN\", \"NBN\", \"nbn\", \"NBN\", \"NBN\", \"NBN\", \"ISP\", \"NBN\", \"NBN\", \"NBN NBN\", \"NBN\", \"NBN\", \"NBN NBN\", \"NBN\", \"NBN\", \"NBN\", \"NBN\", \"NBN\", \"nbn\", \"NBN\", \"@NBN_Australia\", \"nbn\", \"NBN\", \"NBN\", \"NBN Telstra\", \"NBN\", \"HFC\", \"NBN\", \"NBN\", \"NBN\", \"NBN\", \"NBN\", \"NBN\", \"NBN\", \"nbn\", \"NBN ISP\", \"NBN NBN\", \"NBN\", \"NBN NBN NBN\", \"NBN\", \"NBN\", \"NBN\", \"NBN\", \"NBN\", \"LNP NBN\", \"@NBN_Australia\", \"nbn\", \"nbn\", \"@NBN_Australia\", \"NBN ISP\", \"NBN\", \"@NBN_Australia\", \"FTTP\", \"Optus\", \"Optus\", \"NBN\", \"NBN Optus\", \"NBN Optus\", \"NBN\", \"NBN\", \"NBN\", \"NBN FTTP\", \"NBN\", \"NBN\", \"NBN\", \"NBN\", \"@NBN_Australia\", \"NBN\", \"NBN\", \"NBN\", \"NBN HFC\", \"NBN\", \"NBN\", \"NBN\", \"nbn\", \"NBN\", \"NBN\", \"NBN\", \"NBN\", \"NBN\", \"NBN\", \"ADSL\", \"NBN\", \"LNP\", \"NBN\", \"Telstra\", \"NBN\", \"HFC\", \"Optus NBN\", \"NBN\", \"HFC\", \"Optus\", \"Optus\", \"NBN NBN NBN\", \"NBN\", \"FTTP\", \"nbn\", \"NBN\", \"NBN\", \"nbn\", \"nbn\", \"Aussie Broadband\", \"NBN\", \"nbn\", \"nbn\", \"HFC\", \"Labor\", \"Telstra\", \"NBN\", \"NBN\", \"Telstra\", \"NBN\", \"NBN\", \"NBN\", \"NBN\", \"NBN\", \"NBN\", \"nbn\", \"NBN\", \"FTTP\", \"LNP\", \"nbn\", \"NBN NBN\", \"NBN\", \"@NBN_Australia\", \"NBN &amp\", \"HFC\", \"@NBN_Australia\", \"NBN\", \"NBN\", \"@NBN_Australia\", \"ISP\", \"NBN\", \"nbn\", \"LNP NBN\", \"HFC\", \"HFC\", \"NBN\", \"NBN\", \"ADSL\", \"Telstra\", \"NBN\", \"NBN\", \"nbn nbn\", \"NBN\", \"nbn\", \"NBN\", \"NBN\", \"LNP\", \"NBN\", \"NBN\", \"FTTN\", \"@NBN_Australia\", \"NBN HFC\", \"NBN\", \"ADSL\", \"NBN\", \"FTTP\", \"NBN\", \"NBN\", \"nbn\", \"Labor\", \"NBN\", \"LNP\", \"NBN\", \"NBN ISP\", \"NBN\", \"nbn\", \"NBN\", \"NBN\", \"NBN\", \"@NBN_Australia\", \"NBN\", \"nbn\", \"NBN NBN\", \"nbn\", \"NBN\", \"NBN\", \"NBN\", \"NBN\", \"NBN\", \"NBN NBN\", \"NBN\", \"NBN\", \"NBN\", \"NBN\", \"NBN\", \"NBN Optus\", \"NBN\", \"NBN\", \"NBN\", \"NBN\", \"LNP\", \"FTTP NBN\", \"HFC\", \"NBN\", \"NBN\", \"NBN\", \"NBN\", \"@NBN_Australia\", \"NBN NBN\", \"NBN\", \"NBN\", \"NBN\", \"NBN NBN\", \"@NBN_Australia NBN\", \"NBN\", \"NBN NBN\", \"@NBN_Australia\", \"nbn\", \"NBN\", \"NBN\", \"NBN NBN\", \"NBN\", \"NBN\", \"NBN\", \"@DoctorKarl NBN\", \"NBN\", \"@NBN_Australia NBN\", \"nbn\", \"NBN\", \"NBN\", \"NBN\", \"NBN\", \"FTTP\", \"NBN\", \"nbn\", \"@NBN_Australia\", \"@NBN_Australia\", \"NBN\", \"NBN\", \"NBN\", \"NBN\", \"NBN\", \"nbn\", \"NBN\", \"NBN\", \"NBN\", \"Aussie Broadband\", \"nbn\", \"NBN\", \"nbn nbn\", \"@NBN_Australia\", \"nbn\", \"nbn\", \"NBN\", \"NBN\", \"nbn nbn\", \"NBN\", \"NBN\", \"NBN\", \"nbn\", \"NBN NBN\", \"NBN\", \"NBN\", \"nbn\", \"NBN Optus\", \"NBN\", \"NBN\", \"NBN\", \"ADSL NBN\", \"nbn\", \"NBN\", \"NBN\", \"nbn\", \"NBN\", \"NBN\", \"NBN\", \"NBN\", \"NBN\", \"ADSL\", \"NBN News\", \"nbn\", \"NBN NBN\", \"NBN\", \"NBN\", \"FTTP\", \"NBN\", \"NBN\", \"nbn\", \"NBN\", \"NBN\", \"NBN NBN\", \"NBN\", \"NBN\", \"NBN\", \"NBN\", \"@NBN_Australia\", \"NBN\", \"nbn\", \"FTTN\", \"NBN\", \"NBN News\", \"nbn nbn\", \"NBN\", \"nbn\", \"nbn\", \"NBN\", \"NBN\", \"NBN\", \"NBN\", \"NBN\", \"NBN\", \"NBN\", \"Telstra\", \"NBN\", \"nbn nbn\", \"NBN\", \"ISP\", \"NBN\", \"NBN Telstra\", \"@NBN_Australia\", \"NBN\", \"NBN\", \"NBN\", \"NBN\", \"nbn\", \"ISP\", \"NBN\", \"@NBN_Australia\", \"NBN\", \"Telstra\", \"NBN\", \"nbn\", \"@NewtonMark @NBN_Australia\", \"FTTP\", \"ISP\", \"NBN\", \"NBN\", \"NBN\", \"ISP\", \"nbn\", \"ISP\", \"NBN\", \"NBN\", \"nbn\", \"NBN NBN\", \"NBN\", \"NBN\", \"NBN\", \"@NBN_Australia\", \"NBN\", \"NBN\", \"NBN\", \"@NBN_Australia\", \"nbn\", \"nbn\", \"NBN\", \"NBN\", \"NBN\", \"NBN\", \"NBN\", \"NBN\", \"@NBN_Australia\", \"NBN\", \"nbn\", \"NBN\", \"Aussie Broadband\", \"nbn\", \"NBN\", \"NBN\", \"Optus NBN\", \"NBN\", \"Optus NBN\", \"NBN\", \"NBN\", \"NBN\", \"nbn\", \"NBN\", \"NBN\", \"nbn\", \"NBN\", \"NBN\", \"nbn\", \"nbn\", \"@NBN_Australia\", \"FTTN\", \"FTTP NBN\", \"NBN\", \"NBN\", \"NBN\", \"NBN NBN\", \"NBN\", \"NBN\", \"NBN\", \"NBN\", \"NBN\", \"NBN\", \"NBN\", \"NBN\", \"Telstra\", \"@NBN_Australia\", \"NBN\", \"NBN\", \"NBN\", \"NBN\", \"NBN\", \"NBN\", \"NBN HFC\", \"NBN\", \"NBN\", \"NBN\", \"NBN\", \"NBN\", \"Optus\", \"NBN\", \"nbn\", \"NBN\", \"NBN\", \"@NBN_Australia\", \"nbn nbn\", \"nbn nbn\", \"Telstra\", \"NBN\", \"NBN\", \"HFC\", \"nbn\", \"NBN\"], \"x0\": \" \", \"xaxis\": \"x\", \"y\": [0, 1, 0, 2, 0, 0, 0, 0, 0, 0, 0, 0, 1, 3, 0, 1, 0, 1, 8, 0, 0, 0, 4, 0, 0, 0, 0, 0, 1, 0, 0, 2, 0, 1, 3, 0, 0, 0, 1, 0, 0, 5, 0, 0, 0, 4, 5, 1, 0, 0, 0, 0, 0, 0, 0, 0, 0, 0, 0, 0, 0, 0, 0, 0, 0, 1, 0, 0, 0, 1, 0, 0, 3, 0, 3, 0, 1, 1, 0, 0, 1, 2, 3, 4, 1, 0, 0, 0, 0, 0, 1, 0, 2, 1, 0, 0, 0, 0, 0, 0, 0, 0, 0, 0, 0, 1, 2, 0, 17, 0, 0, 0, 1, 0, 0, 0, 6, 0, 0, 1, 28, 0, 0, 0, 0, 0, 5, 0, 0, 0, 0, 0, 34, 0, 1, 1, 3, 0, 0, 0, 1, 0, 1, 0, 0, 0, 0, 0, 2, 14, 0, 0, 0, 2, 1, 0, 0, 0, 0, 0, 0, 2, 1, 5, 0, 1, 0, 0, 0, 1, 0, 0, 1, 0, 0, 0, 0, 0, 0, 0, 0, 10, 3, 0, 1, 0, 0, 0, 0, 0, 1, 1, 8, 0, 2, 0, 0, 3, 0, 1, 0, 0, 0, 3, 0, 0, 0, 10, 3, 0, 0, 0, 0, 0, 0, 1, 1, 0, 1, 0, 0, 1, 0, 0, 1, 2, 3, 0, 0, 0, 0, 0, 0, 1, 14, 0, 0, 0, 1, 1, 0, 0, 3, 0, 0, 0, 1, 0, 0, 0, 22, 0, 0, 0, 0, 0, 4, 3, 7, 0, 1, 0, 0, 1, 0, 0, 0, 0, 0, 0, 0, 0, 0, 0, 1, 0, 0, 0, 0, 2, 0, 0, 0, 2, 0, 0, 0, 0, 0, 0, 0, 0, 1, 4, 1, 4, 1, 0, 1, 0, 0, 0, 1, 0, 2, 0, 1, 0, 0, 0, 1, 0, 0, 1, 0, 1, 0, 1, 0, 0, 0, 0, 0, 0, 0, 1, 0, 0, 3, 0, 0, 2, 0, 1, 2, 1, 0, 0, 1, 0, 1, 0, 5, 9, 0, 1, 6, 0, 2, 3, 0, 0, 0, 1, 0, 6, 0, 0, 3, 0, 3, 2, 0, 0, 0, 3, 4, 0, 0, 1, 4, 1, 0, 58, 0, 1, 0, 35, 1, 0, 0, 6, 0, 2, 1, 1, 0, 0, 0, 0, 2, 0, 0, 0, 0, 0, 0, 0, 16, 0, 0, 3, 0, 1, 1, 0, 1, 0, 0, 0, 0, 0, 0, 0, 8, 0, 5, 0, 0, 0, 0, 0, 25, 2, 0, 45, 2, 3, 0, 6, 3, 0, 0, 1, 0, 1, 0, 0, 0, 0, 1, 0, 0, 1, 0, 0, 1, 0, 0, 2, 43, 0, 478, 1, 0, 0, 0, 0, 0, 0, 0, 1, 0, 0, 2, 2, 4, 20, 4, 2, 0, 2, 0, 0, 0, 0, 0, 1, 0, 0, 0, 3, 0, 8, 0, 0, 0, 0, 0, 0, 2, 8, 0, 0, 2, 0, 0, 1, 0, 0, 0, 1, 1, 0, 1, 0, 0, 7, 0, 1, 0, 0, 0, 3, 1, 2, 0, 0, 4, 0, 0, 1, 0, 0, 0, 1, 0, 0, 2, 0, 1, 0, 0, 0, 0, 0, 1, 9, 13, 0, 0, 0, 0, 0, 0, 0, 0, 0, 2, 0, 0, 1, 0, 0, 3, 1, 1, 0, 2, 0, 0, 2, 0, 0, 1, 1, 1, 0, 1, 1, 1, 1, 0, 1, 0, 0, 0, 20, 6, 17, 1, 5, 0, 0, 5, 2, 9, 1, 3, 1, 8, 0, 0, 0, 4, 0, 0, 1, 0, 0, 0, 2, 0, 17, 1, 0, 6, 0, 1, 0, 0, 0, 0, 0, 0, 0, 0, 0, 0, 1, 2, 0, 3, 1, 0, 0, 4, 0, 1, 0, 1, 0, 0, 0, 0, 0, 0, 1, 0, 0, 1, 3, 1, 0, 1, 0, 0, 0, 0, 202, 2, 4, 0, 0, 8, 0, 1, 2, 0, 0, 0, 0, 2, 0, 0, 6, 0, 0, 2, 0, 19, 1, 0, 2, 4, 1, 1, 5, 2, 11, 17, 4, 2, 3, 0, 0, 1, 0, 0, 0, 0, 2, 2, 0, 1, 0, 0, 0, 4, 1, 0, 0, 0, 13, 0, 4, 1, 0, 1, 1, 0, 1, 0, 0, 0, 2, 0, 1, 1, 0, 1, 1, 2, 1, 1, 0, 0, 0, 2, 0, 2, 0, 0, 0, 0, 0, 0, 0, 0, 0, 0, 1, 1, 0, 1, 1, 4, 0, 0, 0, 2, 2, 0, 0, 0, 2, 0, 0, 1, 1, 0, 0, 1, 1, 0, 0, 11, 0, 1, 1, 2, 0, 0, 0, 0, 0, 1, 1, 8, 2, 7, 0, 7, 13, 12, 0, 0, 0, 1, 0, 4, 1, 0, 1, 0, 1, 0, 0, 0, 3, 0, 0, 0, 0, 1, 2, 0, 1, 0, 1, 0, 0, 0, 0, 1, 0, 1, 4, 0, 0, 4, 0, 1, 241, 0, 0, 0, 3, 4, 0, 0, 2, 0, 0, 0, 2, 0, 0, 0, 0, 1, 0, 8, 2, 0, 0, 1, 1, 2, 1, 0, 0, 5, 0, 3, 0, 1, 0, 1, 0, 0, 0, 0, 0, 8, 1, 0, 3, 1, 0, 0, 0, 0, 0, 0, 0, 0, 3, 6, 0, 3, 0, 0, 0, 0, 0, 1, 5, 1, 0, 0, 0, 1, 2, 0, 0, 1, 0, 0, 1, 0, 0, 0, 1, 1, 0, 0, 0, 0, 0, 0, 1, 0, 4, 1, 2, 1, 0, 0, 0, 0, 0, 0, 0, 1, 1, 1, 0, 0, 0, 1, 0, 1, 0, 0, 1, 0, 1, 0, 0, 1, 0, 0, 0, 1, 0, 0, 0, 0, 1, 0, 0, 0, 0, 0, 0, 0, 0, 0, 1, 0, 4, 1, 4, 0, 0, 0, 13, 2, 0, 1, 0, 0, 0, 2, 0, 5, 1, 0, 0, 0, 2, 10, 1, 0, 0, 0, 0, 0, 33, 2, 0, 0, 3, 3, 0, 1, 4, 0, 1, 4, 1, 0, 1, 0, 0, 0, 0, 0, 0, 0, 1, 4, 0, 1, 0, 0, 3, 0, 0, 0, 0, 0, 0, 0, 0, 2, 2, 1, 0, 0, 0, 0, 0, 0, 1, 3, 1, 0, 3, 0, 2, 0, 0, 2, 0, 0, 0, 1, 0, 0, 0, 0, 0, 0, 0, 0, 1, 1, 0, 2, 0, 0, 0, 0, 0, 0, 0, 1, 0, 0, 0, 0, 0, 0, 0, 0, 5, 0, 0, 1, 1, 0, 0, 1, 4, 2, 0, 2, 1, 0, 0, 2, 0, 0, 0, 0, 2, 0, 6, 0, 1, 0, 0, 0, 0, 1, 0, 0, 8, 0, 2, 0, 0, 0, 0, 0, 1, 0, 0, 0, 0, 12, 1, 2, 0, 0, 1, 0, 1, 1, 3, 8, 1, 0, 0, 1, 0, 0, 0, 0, 1, 0, 0, 0, 1, 0, 1, 3, 0, 0, 3, 1, 0, 0, 1, 0, 0, 0, 1, 0, 13, 0, 0, 1, 0, 0, 0, 1, 0, 0, 0, 0, 0, 0, 2, 3, 0, 0, 0, 1, 2, 1, 0, 0, 0, 1, 9, 0, 0, 0, 1, 2, 0, 1, 0, 0, 1, 0, 1, 1, 2, 0, 0, 0, 1, 3, 0, 1, 0, 0, 2, 0, 1, 0, 1, 0, 0, 0, 3, 0, 0, 0, 0, 1, 1, 0, 0, 0, 1, 0, 1, 1, 0, 0, 0, 0, 0, 2, 0, 0, 0, 0, 0, 0, 0, 0, 0, 0, 13, 1, 0, 1, 0, 0, 0, 5, 0, 0, 0, 0, 0, 1, 4, 0, 0], \"y0\": \" \", \"yaxis\": \"y\"}],\n",
       "                        {\"boxmode\": \"group\", \"height\": 600, \"legend\": {\"tracegroupgap\": 0}, \"margin\": {\"t\": 60}, \"template\": {\"data\": {\"bar\": [{\"error_x\": {\"color\": \"#2a3f5f\"}, \"error_y\": {\"color\": \"#2a3f5f\"}, \"marker\": {\"line\": {\"color\": \"#E5ECF6\", \"width\": 0.5}}, \"type\": \"bar\"}], \"barpolar\": [{\"marker\": {\"line\": {\"color\": \"#E5ECF6\", \"width\": 0.5}}, \"type\": \"barpolar\"}], \"carpet\": [{\"aaxis\": {\"endlinecolor\": \"#2a3f5f\", \"gridcolor\": \"white\", \"linecolor\": \"white\", \"minorgridcolor\": \"white\", \"startlinecolor\": \"#2a3f5f\"}, \"baxis\": {\"endlinecolor\": \"#2a3f5f\", \"gridcolor\": \"white\", \"linecolor\": \"white\", \"minorgridcolor\": \"white\", \"startlinecolor\": \"#2a3f5f\"}, \"type\": \"carpet\"}], \"choropleth\": [{\"colorbar\": {\"outlinewidth\": 0, \"ticks\": \"\"}, \"type\": \"choropleth\"}], \"contour\": [{\"colorbar\": {\"outlinewidth\": 0, \"ticks\": \"\"}, \"colorscale\": [[0.0, \"#0d0887\"], [0.1111111111111111, \"#46039f\"], [0.2222222222222222, \"#7201a8\"], [0.3333333333333333, \"#9c179e\"], [0.4444444444444444, \"#bd3786\"], [0.5555555555555556, \"#d8576b\"], [0.6666666666666666, \"#ed7953\"], [0.7777777777777778, \"#fb9f3a\"], [0.8888888888888888, \"#fdca26\"], [1.0, \"#f0f921\"]], \"type\": \"contour\"}], \"contourcarpet\": [{\"colorbar\": {\"outlinewidth\": 0, \"ticks\": \"\"}, \"type\": \"contourcarpet\"}], \"heatmap\": [{\"colorbar\": {\"outlinewidth\": 0, \"ticks\": \"\"}, \"colorscale\": [[0.0, \"#0d0887\"], [0.1111111111111111, \"#46039f\"], [0.2222222222222222, \"#7201a8\"], [0.3333333333333333, \"#9c179e\"], [0.4444444444444444, \"#bd3786\"], [0.5555555555555556, \"#d8576b\"], [0.6666666666666666, \"#ed7953\"], [0.7777777777777778, \"#fb9f3a\"], [0.8888888888888888, \"#fdca26\"], [1.0, \"#f0f921\"]], \"type\": \"heatmap\"}], \"heatmapgl\": [{\"colorbar\": {\"outlinewidth\": 0, \"ticks\": \"\"}, \"colorscale\": [[0.0, \"#0d0887\"], [0.1111111111111111, \"#46039f\"], [0.2222222222222222, \"#7201a8\"], [0.3333333333333333, \"#9c179e\"], [0.4444444444444444, \"#bd3786\"], [0.5555555555555556, \"#d8576b\"], [0.6666666666666666, \"#ed7953\"], [0.7777777777777778, \"#fb9f3a\"], [0.8888888888888888, \"#fdca26\"], [1.0, \"#f0f921\"]], \"type\": \"heatmapgl\"}], \"histogram\": [{\"marker\": {\"colorbar\": {\"outlinewidth\": 0, \"ticks\": \"\"}}, \"type\": \"histogram\"}], \"histogram2d\": [{\"colorbar\": {\"outlinewidth\": 0, \"ticks\": \"\"}, \"colorscale\": [[0.0, \"#0d0887\"], [0.1111111111111111, \"#46039f\"], [0.2222222222222222, \"#7201a8\"], [0.3333333333333333, \"#9c179e\"], [0.4444444444444444, \"#bd3786\"], [0.5555555555555556, \"#d8576b\"], [0.6666666666666666, \"#ed7953\"], [0.7777777777777778, \"#fb9f3a\"], [0.8888888888888888, \"#fdca26\"], [1.0, \"#f0f921\"]], \"type\": \"histogram2d\"}], \"histogram2dcontour\": [{\"colorbar\": {\"outlinewidth\": 0, \"ticks\": \"\"}, \"colorscale\": [[0.0, \"#0d0887\"], [0.1111111111111111, \"#46039f\"], [0.2222222222222222, \"#7201a8\"], [0.3333333333333333, \"#9c179e\"], [0.4444444444444444, \"#bd3786\"], [0.5555555555555556, \"#d8576b\"], [0.6666666666666666, \"#ed7953\"], [0.7777777777777778, \"#fb9f3a\"], [0.8888888888888888, \"#fdca26\"], [1.0, \"#f0f921\"]], \"type\": \"histogram2dcontour\"}], \"mesh3d\": [{\"colorbar\": {\"outlinewidth\": 0, \"ticks\": \"\"}, \"type\": \"mesh3d\"}], \"parcoords\": [{\"line\": {\"colorbar\": {\"outlinewidth\": 0, \"ticks\": \"\"}}, \"type\": \"parcoords\"}], \"scatter\": [{\"marker\": {\"colorbar\": {\"outlinewidth\": 0, \"ticks\": \"\"}}, \"type\": \"scatter\"}], \"scatter3d\": [{\"line\": {\"colorbar\": {\"outlinewidth\": 0, \"ticks\": \"\"}}, \"marker\": {\"colorbar\": {\"outlinewidth\": 0, \"ticks\": \"\"}}, \"type\": \"scatter3d\"}], \"scattercarpet\": [{\"marker\": {\"colorbar\": {\"outlinewidth\": 0, \"ticks\": \"\"}}, \"type\": \"scattercarpet\"}], \"scattergeo\": [{\"marker\": {\"colorbar\": {\"outlinewidth\": 0, \"ticks\": \"\"}}, \"type\": \"scattergeo\"}], \"scattergl\": [{\"marker\": {\"colorbar\": {\"outlinewidth\": 0, \"ticks\": \"\"}}, \"type\": \"scattergl\"}], \"scattermapbox\": [{\"marker\": {\"colorbar\": {\"outlinewidth\": 0, \"ticks\": \"\"}}, \"type\": \"scattermapbox\"}], \"scatterpolar\": [{\"marker\": {\"colorbar\": {\"outlinewidth\": 0, \"ticks\": \"\"}}, \"type\": \"scatterpolar\"}], \"scatterpolargl\": [{\"marker\": {\"colorbar\": {\"outlinewidth\": 0, \"ticks\": \"\"}}, \"type\": \"scatterpolargl\"}], \"scatterternary\": [{\"marker\": {\"colorbar\": {\"outlinewidth\": 0, \"ticks\": \"\"}}, \"type\": \"scatterternary\"}], \"surface\": [{\"colorbar\": {\"outlinewidth\": 0, \"ticks\": \"\"}, \"colorscale\": [[0.0, \"#0d0887\"], [0.1111111111111111, \"#46039f\"], [0.2222222222222222, \"#7201a8\"], [0.3333333333333333, \"#9c179e\"], [0.4444444444444444, \"#bd3786\"], [0.5555555555555556, \"#d8576b\"], [0.6666666666666666, \"#ed7953\"], [0.7777777777777778, \"#fb9f3a\"], [0.8888888888888888, \"#fdca26\"], [1.0, \"#f0f921\"]], \"type\": \"surface\"}], \"table\": [{\"cells\": {\"fill\": {\"color\": \"#EBF0F8\"}, \"line\": {\"color\": \"white\"}}, \"header\": {\"fill\": {\"color\": \"#C8D4E3\"}, \"line\": {\"color\": \"white\"}}, \"type\": \"table\"}]}, \"layout\": {\"annotationdefaults\": {\"arrowcolor\": \"#2a3f5f\", \"arrowhead\": 0, \"arrowwidth\": 1}, \"colorscale\": {\"diverging\": [[0, \"#8e0152\"], [0.1, \"#c51b7d\"], [0.2, \"#de77ae\"], [0.3, \"#f1b6da\"], [0.4, \"#fde0ef\"], [0.5, \"#f7f7f7\"], [0.6, \"#e6f5d0\"], [0.7, \"#b8e186\"], [0.8, \"#7fbc41\"], [0.9, \"#4d9221\"], [1, \"#276419\"]], \"sequential\": [[0.0, \"#0d0887\"], [0.1111111111111111, \"#46039f\"], [0.2222222222222222, \"#7201a8\"], [0.3333333333333333, \"#9c179e\"], [0.4444444444444444, \"#bd3786\"], [0.5555555555555556, \"#d8576b\"], [0.6666666666666666, \"#ed7953\"], [0.7777777777777778, \"#fb9f3a\"], [0.8888888888888888, \"#fdca26\"], [1.0, \"#f0f921\"]], \"sequentialminus\": [[0.0, \"#0d0887\"], [0.1111111111111111, \"#46039f\"], [0.2222222222222222, \"#7201a8\"], [0.3333333333333333, \"#9c179e\"], [0.4444444444444444, \"#bd3786\"], [0.5555555555555556, \"#d8576b\"], [0.6666666666666666, \"#ed7953\"], [0.7777777777777778, \"#fb9f3a\"], [0.8888888888888888, \"#fdca26\"], [1.0, \"#f0f921\"]]}, \"colorway\": [\"#636efa\", \"#EF553B\", \"#00cc96\", \"#ab63fa\", \"#FFA15A\", \"#19d3f3\", \"#FF6692\", \"#B6E880\", \"#FF97FF\", \"#FECB52\"], \"font\": {\"color\": \"#2a3f5f\"}, \"geo\": {\"bgcolor\": \"white\", \"lakecolor\": \"white\", \"landcolor\": \"#E5ECF6\", \"showlakes\": true, \"showland\": true, \"subunitcolor\": \"white\"}, \"hoverlabel\": {\"align\": \"left\"}, \"hovermode\": \"closest\", \"mapbox\": {\"style\": \"light\"}, \"paper_bgcolor\": \"white\", \"plot_bgcolor\": \"#E5ECF6\", \"polar\": {\"angularaxis\": {\"gridcolor\": \"white\", \"linecolor\": \"white\", \"ticks\": \"\"}, \"bgcolor\": \"#E5ECF6\", \"radialaxis\": {\"gridcolor\": \"white\", \"linecolor\": \"white\", \"ticks\": \"\"}}, \"scene\": {\"xaxis\": {\"backgroundcolor\": \"#E5ECF6\", \"gridcolor\": \"white\", \"gridwidth\": 2, \"linecolor\": \"white\", \"showbackground\": true, \"ticks\": \"\", \"zerolinecolor\": \"white\"}, \"yaxis\": {\"backgroundcolor\": \"#E5ECF6\", \"gridcolor\": \"white\", \"gridwidth\": 2, \"linecolor\": \"white\", \"showbackground\": true, \"ticks\": \"\", \"zerolinecolor\": \"white\"}, \"zaxis\": {\"backgroundcolor\": \"#E5ECF6\", \"gridcolor\": \"white\", \"gridwidth\": 2, \"linecolor\": \"white\", \"showbackground\": true, \"ticks\": \"\", \"zerolinecolor\": \"white\"}}, \"shapedefaults\": {\"line\": {\"color\": \"#2a3f5f\"}}, \"ternary\": {\"aaxis\": {\"gridcolor\": \"white\", \"linecolor\": \"white\", \"ticks\": \"\"}, \"baxis\": {\"gridcolor\": \"white\", \"linecolor\": \"white\", \"ticks\": \"\"}, \"bgcolor\": \"#E5ECF6\", \"caxis\": {\"gridcolor\": \"white\", \"linecolor\": \"white\", \"ticks\": \"\"}}, \"title\": {\"x\": 0.05}, \"xaxis\": {\"automargin\": true, \"gridcolor\": \"white\", \"linecolor\": \"white\", \"ticks\": \"\", \"zerolinecolor\": \"white\", \"zerolinewidth\": 2}, \"yaxis\": {\"automargin\": true, \"gridcolor\": \"white\", \"linecolor\": \"white\", \"ticks\": \"\", \"zerolinecolor\": \"white\", \"zerolinewidth\": 2}}}, \"xaxis\": {\"anchor\": \"y\", \"domain\": [0.0, 0.98], \"title\": {\"text\": \"NER\"}}, \"yaxis\": {\"anchor\": \"x\", \"domain\": [0.0, 1.0], \"title\": {\"text\": \"favs\"}}},\n",
       "                        {\"responsive\": true}\n",
       "                    ).then(function(){\n",
       "                            \n",
       "var gd = document.getElementById('f9b479ab-5394-4a1f-91f7-0c16a5797042');\n",
       "var x = new MutationObserver(function (mutations, observer) {{\n",
       "        var display = window.getComputedStyle(gd).display;\n",
       "        if (!display || display === 'none') {{\n",
       "            console.log([gd, 'removed!']);\n",
       "            Plotly.purge(gd);\n",
       "            observer.disconnect();\n",
       "        }}\n",
       "}});\n",
       "\n",
       "// Listen for the removal of the full notebook cells\n",
       "var notebookContainer = gd.closest('#notebook-container');\n",
       "if (notebookContainer) {{\n",
       "    x.observe(notebookContainer, {childList: true});\n",
       "}}\n",
       "\n",
       "// Listen for the clearing of the current output cell\n",
       "var outputEl = gd.closest('.output');\n",
       "if (outputEl) {{\n",
       "    x.observe(outputEl, {childList: true});\n",
       "}}\n",
       "\n",
       "                        })\n",
       "                };\n",
       "                });\n",
       "            </script>\n",
       "        </div>"
      ]
     },
     "metadata": {},
     "output_type": "display_data"
    }
   ],
   "source": [
    "px.box(red, 'NER', 'favs', hover_data = ['cleantext'])"
   ]
  },
  {
   "cell_type": "code",
   "execution_count": null,
   "metadata": {},
   "outputs": [],
   "source": []
  },
  {
   "cell_type": "code",
   "execution_count": null,
   "metadata": {},
   "outputs": [],
   "source": []
  },
  {
   "cell_type": "code",
   "execution_count": 49,
   "metadata": {},
   "outputs": [],
   "source": [
    "sent = nlp(df.cleantext[2])"
   ]
  },
  {
   "cell_type": "code",
   "execution_count": 69,
   "metadata": {},
   "outputs": [
    {
     "name": "stdout",
     "output_type": "stream",
     "text": [
      "@KleinRevd @lynlinking @canberratimes $50bn for submarines... that will last only a few minutes when they're actually needed.\n",
      "\n",
      "At least the NBN will last longer :( \n",
      "\n",
      "@KleinRevd @lynlinking @canberratimes (ORG)\n",
      "50bn (MONEY)\n",
      "only a few minutes (TIME)\n",
      "NBN (ORG)\n"
     ]
    }
   ],
   "source": [
    "sent = nlp(df.cleantext[6])\n",
    "print(sent, '\\n')\n",
    "for entity in sent.ents:\n",
    "    print(f\"{entity.text} ({entity.label_})\")"
   ]
  },
  {
   "cell_type": "code",
   "execution_count": 24,
   "metadata": {},
   "outputs": [
    {
     "name": "stdout",
     "output_type": "stream",
     "text": [
      "it PRON\n",
      "’s VERB\n",
      "been AUX\n",
      "nearly ADV\n",
      "a DET\n",
      "month NOUN\n",
      "since SCONJ\n",
      "i PRON\n",
      "signed VERB\n",
      "up ADP\n",
      "for ADP\n",
      "@NBN_Australia PROPN\n",
      "through ADP\n",
      "@BelongAU PRON\n",
      "and CCONJ\n",
      "I PRON\n",
      "’m VERB\n",
      "still ADV\n",
      "not PART\n",
      "connected ADJ\n",
      ". PUNCT\n",
      "Technicians NOUN\n",
      "have AUX\n",
      "n’t PART\n",
      "showed VERB\n",
      "up ADP\n",
      "to ADP\n",
      "scheduled VERB\n",
      "appointment NOUN\n",
      "and CCONJ\n",
      "today NOUN\n",
      "when ADV\n",
      "he PRON\n",
      "showed VERB\n",
      "up ADP\n",
      "he PRON\n",
      "realised VERB\n",
      "the DET\n",
      "service NOUN\n",
      "lines NOUN\n",
      "did AUX\n",
      "n’t PART\n",
      "reach VERB\n",
      "the DET\n",
      "apartment NOUN\n",
      ". PUNCT\n"
     ]
    }
   ],
   "source": [
    "for pos in sent:\n",
    "    print(pos, pos.pos_)"
   ]
  },
  {
   "cell_type": "code",
   "execution_count": 25,
   "metadata": {},
   "outputs": [
    {
     "name": "stdout",
     "output_type": "stream",
     "text": [
      "Here are the things I know about NBN:\n"
     ]
    }
   ],
   "source": [
    "import textacy\n",
    "doc = sent #nlp(text)\n",
    "\n",
    "##MAYBE TRY WITH nlp'd articles!\n",
    "\n",
    "# Extract semi-structured statements\n",
    "statements = textacy.extract.semistructured_statements(doc, \"NBN\")\n",
    "\n",
    "# Print the results\n",
    "print(\"Here are the things I know about NBN:\")\n",
    "\n",
    "for statement in statements:\n",
    "#     subject, verb, fact = statement\n",
    "#     print(f\" - {fact}\")\n",
    "    print(statement)"
   ]
  },
  {
   "cell_type": "code",
   "execution_count": null,
   "metadata": {},
   "outputs": [],
   "source": []
  },
  {
   "cell_type": "code",
   "execution_count": null,
   "metadata": {},
   "outputs": [],
   "source": []
  },
  {
   "cell_type": "markdown",
   "metadata": {},
   "source": [
    "### Tokenisation, Lemmatisation, Stemming\n",
    "1. Tokenisation: Breaking down text into words - e.g. splitting on space"
   ]
  },
  {
   "cell_type": "code",
   "execution_count": null,
   "metadata": {},
   "outputs": [],
   "source": []
  },
  {
   "cell_type": "code",
   "execution_count": null,
   "metadata": {},
   "outputs": [],
   "source": []
  },
  {
   "cell_type": "code",
   "execution_count": null,
   "metadata": {},
   "outputs": [],
   "source": []
  },
  {
   "cell_type": "markdown",
   "metadata": {},
   "source": [
    "2. Stemming: Taking the root part of a given word, or the 'stem' - e.g. dancing, dancer, danced = danc. It is more rudimentary compared to lemmatisation as it is based on simple yet extensive regex rules."
   ]
  },
  {
   "cell_type": "code",
   "execution_count": null,
   "metadata": {},
   "outputs": [],
   "source": []
  },
  {
   "cell_type": "markdown",
   "metadata": {},
   "source": [
    "3. Lemmatisation: Similar to stemming, yet tries to find the root *meaning* of a given word. It will return a full english word - for gone, going and went, the 'lemma' will be 'go'."
   ]
  },
  {
   "cell_type": "code",
   "execution_count": null,
   "metadata": {},
   "outputs": [],
   "source": []
  },
  {
   "cell_type": "markdown",
   "metadata": {},
   "source": [
    "### N-Grams\n",
    "This process will tokenize a sentence into combinations of *n* words together."
   ]
  },
  {
   "cell_type": "code",
   "execution_count": null,
   "metadata": {},
   "outputs": [],
   "source": [
    "# POS (patterns of speech)\n",
    "# named entity recognition\n",
    "# chunking (we caught the pink panther - we/caught/the pink panther)"
   ]
  },
  {
   "cell_type": "code",
   "execution_count": null,
   "metadata": {},
   "outputs": [],
   "source": []
  },
  {
   "cell_type": "code",
   "execution_count": null,
   "metadata": {},
   "outputs": [],
   "source": []
  },
  {
   "cell_type": "markdown",
   "metadata": {},
   "source": [
    "### Transformation"
   ]
  },
  {
   "cell_type": "markdown",
   "metadata": {},
   "source": [
    "#### TFIDF (Term Frequency vs Inverse Document Frequency)\n"
   ]
  },
  {
   "cell_type": "code",
   "execution_count": null,
   "metadata": {},
   "outputs": [],
   "source": []
  }
 ],
 "metadata": {
  "kernelspec": {
   "display_name": "Python 3",
   "language": "python",
   "name": "python3"
  },
  "language_info": {
   "codemirror_mode": {
    "name": "ipython",
    "version": 3
   },
   "file_extension": ".py",
   "mimetype": "text/x-python",
   "name": "python",
   "nbconvert_exporter": "python",
   "pygments_lexer": "ipython3",
   "version": "3.8.5"
  }
 },
 "nbformat": 4,
 "nbformat_minor": 4
}
