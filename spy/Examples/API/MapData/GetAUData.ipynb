{
 "cells": [
  {
   "cell_type": "markdown",
   "metadata": {},
   "source": [
    "# API Processing\n",
    "\n",
    "Below is an example of hitting the Domain (Au Real Estate) API endpoint to validate an address, and see if it is for sale!\n",
    "\n",
    "1. Hit the [Domain Developer website](https://developer.domain.com.au/).\n",
    "2. Sign up, and follow the steps to create a project.\n",
    "3. In 'API Access' on the project page, ensure both 'Agents & Listings' and 'Properties & Locations' are selected.\n",
    "4. Go to 'Credentials' on project page, and get your client id & secret.\n",
    "\n",
    "Leveraging [example](https://colab.research.google.com/drive/16wg0VWPim1-dwt7W8jZuJrqFRMrW8iQ0#scrollTo=DqEx2ror5Ih9)."
   ]
  },
  {
   "cell_type": "code",
   "execution_count": 8,
   "metadata": {},
   "outputs": [],
   "source": [
    "import RealEstateAPI as rea"
   ]
  },
  {
   "cell_type": "code",
   "execution_count": 9,
   "metadata": {},
   "outputs": [],
   "source": [
    "from creds import DOMKEY, DOMSECKEY\n",
    "CLIENT_ID = DOMKEY\n",
    "CLIENT_SECRET = DOMSECKEY"
   ]
  },
  {
   "cell_type": "code",
   "execution_count": 10,
   "metadata": {},
   "outputs": [],
   "source": [
    "auth = rea.auth_run(CLIENT_ID, CLIENT_SECRET)"
   ]
  },
  {
   "cell_type": "code",
   "execution_count": 19,
   "metadata": {},
   "outputs": [],
   "source": [
    "locs = rea.get_data(from_date = '2020-04-01', auth = auth, page_max = 5,\n",
    "                   suburb = 'Hornsby', postcode = 2077, \n",
    "                    min_price = 1000000, max_price = 2000000,\n",
    "                    min_bed = 3, max_bed = 5, min_bath =2, max_bath = 4)"
   ]
  },
  {
   "cell_type": "code",
   "execution_count": 20,
   "metadata": {},
   "outputs": [
    {
     "name": "stderr",
     "output_type": "stream",
     "text": [
      "2021-07-10 19:27:45.631 | INFO     | RealEstateAPI:table_prep:160 - Rows: 61\n"
     ]
    }
   ],
   "source": [
    "df = rea.table_prep(locs)"
   ]
  },
  {
   "cell_type": "code",
   "execution_count": 22,
   "metadata": {},
   "outputs": [],
   "source": [
    "rea.app_tbl(df, csv_name='../../DATA/RealEstate2.csv')"
   ]
  },
  {
   "cell_type": "code",
   "execution_count": null,
   "metadata": {},
   "outputs": [],
   "source": []
  }
 ],
 "metadata": {
  "kernelspec": {
   "display_name": "Python 3",
   "language": "python",
   "name": "python3"
  },
  "language_info": {
   "codemirror_mode": {
    "name": "ipython",
    "version": 3
   },
   "file_extension": ".py",
   "mimetype": "text/x-python",
   "name": "python",
   "nbconvert_exporter": "python",
   "pygments_lexer": "ipython3",
   "version": "3.8.5"
  }
 },
 "nbformat": 4,
 "nbformat_minor": 4
}
