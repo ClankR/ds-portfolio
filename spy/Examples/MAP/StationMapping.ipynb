{
 "cells": [
  {
   "cell_type": "markdown",
   "metadata": {},
   "source": [
    "# Closest Stations\n",
    "Lets see if we can match our houses to their nearest station, and figure out how far they are from them!"
   ]
  },
  {
   "cell_type": "code",
   "execution_count": 3,
   "metadata": {},
   "outputs": [],
   "source": [
    "import pandas as pd\n",
    "map_base = pd.read_csv('../DATA/RealEstate2.csv')\n",
    "stats = pd.read_csv('../DATA/StationEntrances2020_v4.csv').\\\n",
    "            groupby('Train_Station').agg({'LAT':'mean', 'LONG':'mean'}).reset_index()"
   ]
  },
  {
   "cell_type": "code",
   "execution_count": 6,
   "metadata": {},
   "outputs": [
    {
     "data": {
      "text/plain": [
       "(61, 351)"
      ]
     },
     "execution_count": 6,
     "metadata": {},
     "output_type": "execute_result"
    }
   ],
   "source": [
    "len(map_base), len(stats)"
   ]
  },
  {
   "cell_type": "code",
   "execution_count": 36,
   "metadata": {},
   "outputs": [],
   "source": [
    "import geopandas as gpd\n",
    "from shapely.geometry import Point\n",
    "\n",
    "gdfm = gpd.GeoDataFrame(map_base, \n",
    "                        geometry=[Point(xy) for xy in zip(map_base.lon, map_base.lat)])\n",
    "gdfs = gpd.GeoDataFrame(stats.drop(['LONG', 'LAT'], axis=1), \n",
    "                        geometry=[Point(xy) for xy in zip(stats.LONG, stats.LAT)])"
   ]
  },
  {
   "cell_type": "code",
   "execution_count": 37,
   "metadata": {},
   "outputs": [],
   "source": [
    "from scipy.spatial import cKDTree\n",
    "\n",
    "def ckdnearest(gdA, gdB):\n",
    "\n",
    "    nA = np.array(list(gdA.geometry.apply(lambda x: (x.x, x.y))))\n",
    "    nB = np.array(list(gdB.geometry.apply(lambda x: (x.x, x.y))))\n",
    "    btree = cKDTree(nB)\n",
    "    dist, idx = btree.query(nA, k=1)\n",
    "    gdB_nearest = gdB.iloc[idx].drop(columns=\"geometry\").reset_index(drop=True)\n",
    "    gdf = pd.concat(\n",
    "        [\n",
    "            gdA.reset_index(drop=True),\n",
    "            gdB_nearest,\n",
    "            pd.Series(dist, name='dist')\n",
    "        ], \n",
    "        axis=1)\n",
    "\n",
    "    return gdf\n",
    "\n",
    "out = ckdnearest(gdfm, gdfs)"
   ]
  },
  {
   "cell_type": "code",
   "execution_count": 38,
   "metadata": {},
   "outputs": [],
   "source": [
    "also = stats[stats.Train_Station.isin(out.Train_Station.unique())]"
   ]
  },
  {
   "cell_type": "code",
   "execution_count": 40,
   "metadata": {},
   "outputs": [],
   "source": [
    "# out"
   ]
  },
  {
   "cell_type": "code",
   "execution_count": 41,
   "metadata": {},
   "outputs": [],
   "source": [
    "map_base['url3'] = [f'<a href = \"{x}\" target = \"_blank\">Original Source</a>' for x in map_base['url']]\n",
    "import numpy as np\n",
    "map_base['price_group'] = [str(np.round(x/50000)*50)[:-2] for x in map_base.max_price]"
   ]
  },
  {
   "cell_type": "code",
   "execution_count": 47,
   "metadata": {},
   "outputs": [],
   "source": [
    "import mapfuncs as mf\n",
    "f, m = mf.create_map(out[out.dist<0.005], \n",
    "             lat_col = 'lat',\n",
    "             lon_col = 'lon', all = True,\n",
    "             group_col = 'price_group', zoom = 14, disable_cluster = 8,\n",
    "             strings = ['add', 'bed', 'bath', 'car', 'headline', 'desc', 'url3'],\n",
    "             sort_col = 'max_price', photo_col = 'photo')"
   ]
  },
  {
   "cell_type": "code",
   "execution_count": 56,
   "metadata": {},
   "outputs": [],
   "source": [
    "# import folium\n",
    "# also.apply(lambda row:folium.Marker(location=[row['LAT'], row['LONG']],\n",
    "#                                     icon = folium.Icon(color='black', \n",
    "#                                                                icon_color = \"white\",\n",
    "#                                                                prefix = 'fa',\n",
    "#                                                                icon = 'train')\n",
    "#                                                ).add_to(m), axis=1)\n",
    "# f.add_child(m)\n",
    "# f"
   ]
  },
  {
   "cell_type": "code",
   "execution_count": null,
   "metadata": {},
   "outputs": [],
   "source": []
  }
 ],
 "metadata": {
  "kernelspec": {
   "display_name": "Python 3",
   "language": "python",
   "name": "python3"
  },
  "language_info": {
   "codemirror_mode": {
    "name": "ipython",
    "version": 3
   },
   "file_extension": ".py",
   "mimetype": "text/x-python",
   "name": "python",
   "nbconvert_exporter": "python",
   "pygments_lexer": "ipython3",
   "version": "3.8.5"
  }
 },
 "nbformat": 4,
 "nbformat_minor": 4
}
