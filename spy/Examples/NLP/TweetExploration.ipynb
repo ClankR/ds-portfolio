{
 "cells": [
  {
   "cell_type": "code",
   "execution_count": 2,
   "metadata": {},
   "outputs": [],
   "source": [
    "from Article import Art"
   ]
  },
  {
   "cell_type": "code",
   "execution_count": 1,
   "metadata": {},
   "outputs": [],
   "source": [
    "import pandas as pd\n",
    "pd.options.display.max_colwidth = 400\n",
    "df = pd.read_csv('../DATA/twitwool.csv')"
   ]
  },
  {
   "cell_type": "code",
   "execution_count": 3,
   "metadata": {},
   "outputs": [
    {
     "data": {
      "text/html": [
       "<div>\n",
       "<style scoped>\n",
       "    .dataframe tbody tr th:only-of-type {\n",
       "        vertical-align: middle;\n",
       "    }\n",
       "\n",
       "    .dataframe tbody tr th {\n",
       "        vertical-align: top;\n",
       "    }\n",
       "\n",
       "    .dataframe thead th {\n",
       "        text-align: right;\n",
       "    }\n",
       "</style>\n",
       "<table border=\"1\" class=\"dataframe\">\n",
       "  <thead>\n",
       "    <tr style=\"text-align: right;\">\n",
       "      <th></th>\n",
       "      <th>Unnamed: 0</th>\n",
       "      <th>name</th>\n",
       "      <th>location</th>\n",
       "      <th>picurl</th>\n",
       "      <th>followers</th>\n",
       "      <th>dt</th>\n",
       "      <th>text</th>\n",
       "      <th>rts</th>\n",
       "      <th>favs</th>\n",
       "      <th>urls</th>\n",
       "      <th>hashtags</th>\n",
       "      <th>cleantext</th>\n",
       "      <th>propurl</th>\n",
       "    </tr>\n",
       "  </thead>\n",
       "  <tbody>\n",
       "    <tr>\n",
       "      <th>0</th>\n",
       "      <td>0</td>\n",
       "      <td>Matthew Wallace</td>\n",
       "      <td>NaN</td>\n",
       "      <td>https://abs.twimg.com/images/themes/theme1/bg.png</td>\n",
       "      <td>81</td>\n",
       "      <td>2021-08-14 05:02:52</td>\n",
       "      <td>@BarronVonCrow I saw VB going into Woolies once, post achilles injury/surgery.... had a sneaky sticky beak at injured area.\\n\\nSaw CEY on two occasions in Coles late, one occasion buying icecream.\\n\\nOne preseason, walked past Wright and Talia at the servo, \"Good luck this season\".</td>\n",
       "      <td>0</td>\n",
       "      <td>1</td>\n",
       "      <td>[]</td>\n",
       "      <td>[]</td>\n",
       "      <td>@BarronVonCrow I saw VB going into Woolies once, post achilles injury/surgery.... had a sneaky sticky beak at injured area.\\n\\nSaw CEY on two occasions in Coles late, one occasion buying icecream.\\n\\nOne preseason, walked past Wright and Talia at the servo, \"Good luck this season\".</td>\n",
       "      <td>nourl</td>\n",
       "    </tr>\n",
       "    <tr>\n",
       "      <th>1</th>\n",
       "      <td>1</td>\n",
       "      <td>Apollo</td>\n",
       "      <td>Queensland, Australia</td>\n",
       "      <td>https://abs.twimg.com/images/themes/theme1/bg.png</td>\n",
       "      <td>1158</td>\n",
       "      <td>2021-08-14 05:02:45</td>\n",
       "      <td>@KumovaTolga I thought you couldn’t catch Covid at Woolies or Bunnings? 👀</td>\n",
       "      <td>0</td>\n",
       "      <td>0</td>\n",
       "      <td>[]</td>\n",
       "      <td>[]</td>\n",
       "      <td>@KumovaTolga I thought you couldn’t catch Covid at Woolies or Bunnings? 👀</td>\n",
       "      <td>nourl</td>\n",
       "    </tr>\n",
       "    <tr>\n",
       "      <th>2</th>\n",
       "      <td>2</td>\n",
       "      <td>Miles</td>\n",
       "      <td>NaN</td>\n",
       "      <td>https://abs.twimg.com/images/themes/theme1/bg.png</td>\n",
       "      <td>52</td>\n",
       "      <td>2021-08-14 04:57:45</td>\n",
       "      <td>@paralLLeloram Don’t ALL woolies do online delivery?????? I’m so sorry for sounding naive but I have never been to a woolies that doesn’t do online ordering especially during a pandemic 😔😔 This is why u gotta move here quickly</td>\n",
       "      <td>0</td>\n",
       "      <td>0</td>\n",
       "      <td>[]</td>\n",
       "      <td>[]</td>\n",
       "      <td>@paralLLeloram Don’t ALL woolies do online delivery?????? I’m so sorry for sounding naive but I have never been to a woolies that doesn’t do online ordering especially during a pandemic 😔😔 This is why u gotta move here quickly</td>\n",
       "      <td>nourl</td>\n",
       "    </tr>\n",
       "    <tr>\n",
       "      <th>3</th>\n",
       "      <td>3</td>\n",
       "      <td>2Beers</td>\n",
       "      <td>NaN</td>\n",
       "      <td>https://abs.twimg.com/images/themes/theme1/bg.png</td>\n",
       "      <td>142</td>\n",
       "      <td>2021-08-14 04:48:52</td>\n",
       "      <td>@MarieMcGraw @lloydois Why don't they go to Coles and Woolies as well then.</td>\n",
       "      <td>0</td>\n",
       "      <td>0</td>\n",
       "      <td>[]</td>\n",
       "      <td>[]</td>\n",
       "      <td>@MarieMcGraw @lloydois Why don't they go to Coles and Woolies as well then.</td>\n",
       "      <td>nourl</td>\n",
       "    </tr>\n",
       "    <tr>\n",
       "      <th>4</th>\n",
       "      <td>4</td>\n",
       "      <td>ItsMeStupid</td>\n",
       "      <td>Melbourne, Victoria</td>\n",
       "      <td>NaN</td>\n",
       "      <td>13</td>\n",
       "      <td>2021-08-14 04:48:04</td>\n",
       "      <td>@georgiecrozier So a public toilet can be a super spreader, yet the self serve checkout at coles and woolies is fine? This is a crafty virus!</td>\n",
       "      <td>0</td>\n",
       "      <td>0</td>\n",
       "      <td>[]</td>\n",
       "      <td>[]</td>\n",
       "      <td>@georgiecrozier So a public toilet can be a super spreader, yet the self serve checkout at coles and woolies is fine? This is a crafty virus!</td>\n",
       "      <td>nourl</td>\n",
       "    </tr>\n",
       "  </tbody>\n",
       "</table>\n",
       "</div>"
      ],
      "text/plain": [
       "   Unnamed: 0             name                location  \\\n",
       "0           0  Matthew Wallace                     NaN   \n",
       "1           1           Apollo  Queensland, Australia    \n",
       "2           2            Miles                     NaN   \n",
       "3           3           2Beers                     NaN   \n",
       "4           4      ItsMeStupid     Melbourne, Victoria   \n",
       "\n",
       "                                              picurl  followers  \\\n",
       "0  https://abs.twimg.com/images/themes/theme1/bg.png         81   \n",
       "1  https://abs.twimg.com/images/themes/theme1/bg.png       1158   \n",
       "2  https://abs.twimg.com/images/themes/theme1/bg.png         52   \n",
       "3  https://abs.twimg.com/images/themes/theme1/bg.png        142   \n",
       "4                                                NaN         13   \n",
       "\n",
       "                    dt  \\\n",
       "0  2021-08-14 05:02:52   \n",
       "1  2021-08-14 05:02:45   \n",
       "2  2021-08-14 04:57:45   \n",
       "3  2021-08-14 04:48:52   \n",
       "4  2021-08-14 04:48:04   \n",
       "\n",
       "                                                                                                                                                                                                                                                                                         text  \\\n",
       "0  @BarronVonCrow I saw VB going into Woolies once, post achilles injury/surgery.... had a sneaky sticky beak at injured area.\\n\\nSaw CEY on two occasions in Coles late, one occasion buying icecream.\\n\\nOne preseason, walked past Wright and Talia at the servo, \"Good luck this season\".   \n",
       "1                                                                                                                                                                                                                   @KumovaTolga I thought you couldn’t catch Covid at Woolies or Bunnings? 👀   \n",
       "2                                                          @paralLLeloram Don’t ALL woolies do online delivery?????? I’m so sorry for sounding naive but I have never been to a woolies that doesn’t do online ordering especially during a pandemic 😔😔 This is why u gotta move here quickly   \n",
       "3                                                                                                                                                                                                                 @MarieMcGraw @lloydois Why don't they go to Coles and Woolies as well then.   \n",
       "4                                                                                                                                               @georgiecrozier So a public toilet can be a super spreader, yet the self serve checkout at coles and woolies is fine? This is a crafty virus!   \n",
       "\n",
       "   rts  favs urls hashtags  \\\n",
       "0    0     1   []       []   \n",
       "1    0     0   []       []   \n",
       "2    0     0   []       []   \n",
       "3    0     0   []       []   \n",
       "4    0     0   []       []   \n",
       "\n",
       "                                                                                                                                                                                                                                                                                    cleantext  \\\n",
       "0  @BarronVonCrow I saw VB going into Woolies once, post achilles injury/surgery.... had a sneaky sticky beak at injured area.\\n\\nSaw CEY on two occasions in Coles late, one occasion buying icecream.\\n\\nOne preseason, walked past Wright and Talia at the servo, \"Good luck this season\".   \n",
       "1                                                                                                                                                                                                                   @KumovaTolga I thought you couldn’t catch Covid at Woolies or Bunnings? 👀   \n",
       "2                                                          @paralLLeloram Don’t ALL woolies do online delivery?????? I’m so sorry for sounding naive but I have never been to a woolies that doesn’t do online ordering especially during a pandemic 😔😔 This is why u gotta move here quickly   \n",
       "3                                                                                                                                                                                                                 @MarieMcGraw @lloydois Why don't they go to Coles and Woolies as well then.   \n",
       "4                                                                                                                                               @georgiecrozier So a public toilet can be a super spreader, yet the self serve checkout at coles and woolies is fine? This is a crafty virus!   \n",
       "\n",
       "  propurl  \n",
       "0   nourl  \n",
       "1   nourl  \n",
       "2   nourl  \n",
       "3   nourl  \n",
       "4   nourl  "
      ]
     },
     "execution_count": 3,
     "metadata": {},
     "output_type": "execute_result"
    }
   ],
   "source": [
    "df[:5]"
   ]
  },
  {
   "cell_type": "code",
   "execution_count": null,
   "metadata": {},
   "outputs": [],
   "source": [
    "module_url = \"https://tfhub.dev/google/universal-sentence-encoder-large/3\"\n",
    "\n",
    "# Import the Universal Sentence Encoder's TF Hub module\n",
    "embed = hub.Module(module_url)"
   ]
  },
  {
   "cell_type": "code",
   "execution_count": 4,
   "metadata": {},
   "outputs": [],
   "source": [
    "import spacy\n",
    "encoder = spacy.load('en_use_lg')"
   ]
  },
  {
   "cell_type": "code",
   "execution_count": 5,
   "metadata": {},
   "outputs": [],
   "source": [
    "message_embeddings = [encoder(x).vector for x in list(df.cleantext)]"
   ]
  },
  {
   "cell_type": "code",
   "execution_count": 13,
   "metadata": {},
   "outputs": [],
   "source": [
    "import numpy as np\n",
    "from sklearn.cluster import KMeans\n",
    "\n",
    "n_clusters = 8 ##how many sentences to summarise text - could make dynamic\n",
    "kmeans = KMeans(n_clusters=n_clusters, random_state = 1234)\n",
    "kmeans = kmeans.fit(message_embeddings)"
   ]
  },
  {
   "cell_type": "code",
   "execution_count": 14,
   "metadata": {},
   "outputs": [],
   "source": [
    "from sklearn.metrics import pairwise_distances_argmin_min\n",
    "\n",
    "avg = []\n",
    "for j in range(n_clusters):\n",
    "    idx = np.where(kmeans.labels_ == j)[0]\n",
    "    avg.append(np.mean(idx))\n",
    "closest, _ = pairwise_distances_argmin_min(kmeans.cluster_centers_, message_embeddings)\n",
    "ordering = sorted(range(n_clusters), key=lambda k: avg[k])\n",
    "summary = dict()\n",
    "for i, idx in enumerate(ordering):\n",
    "    summary[i]= list(df.cleantext)[closest[idx]]"
   ]
  },
  {
   "cell_type": "code",
   "execution_count": 15,
   "metadata": {},
   "outputs": [
    {
     "data": {
      "text/plain": [
       "[('@BarronVonCrow I saw VB going into Woolies once, post achilles injury/surgery.... had a sneaky sticky beak at injured area.\\n\\nSaw CEY on two occasions in Coles late, one occasion buying icecream.\\n\\nOne preseason, walked past Wright and Talia at the servo, \"Good luck this season\".',\n",
       "  5),\n",
       " ('@KumovaTolga I thought you couldn’t catch Covid at Woolies or Bunnings? 👀',\n",
       "  3),\n",
       " ('@paralLLeloram Don’t ALL woolies do online delivery?????? I’m so sorry for sounding naive but I have never been to a woolies that doesn’t do online ordering especially during a pandemic 😔😔 This is why u gotta move here quickly',\n",
       "  3),\n",
       " (\"@MarieMcGraw @lloydois Why don't they go to Coles and Woolies as well then.\",\n",
       "  3)]"
      ]
     },
     "execution_count": 15,
     "metadata": {},
     "output_type": "execute_result"
    }
   ],
   "source": [
    "list(zip(list(df.cleantext), kmeans.labels_))[:4]"
   ]
  },
  {
   "cell_type": "code",
   "execution_count": 16,
   "metadata": {},
   "outputs": [
    {
     "data": {
      "text/plain": [
       "{0: \"Okay... @ Woolies I'm going straight to the salad section 😭😭  https://t.co/CYLaFqYDlX\",\n",
       " 1: 'Woolies \\nSalad Section\\nSmile\\nAsk for number\\nTake her to dinner\\nPropose\\nBese uyamithisa. Okay noted. ✅  https://t.co/OTdhJgVEkt',\n",
       " 2: 'Aaahhhh Woolies 😍🥰😍 ',\n",
       " 3: 'Woolies strikes again! 😂😂 ',\n",
       " 4: \"@Surprise_Madula 😭 at this point I'm gonna pass by Woolies daily just in case\",\n",
       " 5: \"i'm craving for a Woolies cake so bad 😭\",\n",
       " 6: \"@malusi_February I'll try woolies\",\n",
       " 7: '\"Woolies\" IS THE DUMPS!\\nBad enough them replacing quality fridge brands with their own inferior SHITE, bad enough waiting like sheep because they refuse to open checkouts in TOWNSVILLE, but to wait 40-50 minutes on 1300 767 969, their customer service, RUBS SALT IN THE WOUNDS! https://t.co/y1019Jj0zy'}"
      ]
     },
     "execution_count": 16,
     "metadata": {},
     "output_type": "execute_result"
    }
   ],
   "source": [
    "summary"
   ]
  },
  {
   "cell_type": "code",
   "execution_count": 18,
   "metadata": {},
   "outputs": [
    {
     "data": {
      "text/plain": [
       "[6, 0, 4, 1, 5, 2, 7, 3]"
      ]
     },
     "execution_count": 18,
     "metadata": {},
     "output_type": "execute_result"
    }
   ],
   "source": [
    "ordering"
   ]
  },
  {
   "cell_type": "code",
   "execution_count": null,
   "metadata": {},
   "outputs": [],
   "source": []
  },
  {
   "cell_type": "code",
   "execution_count": null,
   "metadata": {},
   "outputs": [],
   "source": []
  },
  {
   "cell_type": "code",
   "execution_count": null,
   "metadata": {},
   "outputs": [],
   "source": []
  }
 ],
 "metadata": {
  "kernelspec": {
   "display_name": "Python 3",
   "language": "python",
   "name": "python3"
  },
  "language_info": {
   "codemirror_mode": {
    "name": "ipython",
    "version": 3
   },
   "file_extension": ".py",
   "mimetype": "text/x-python",
   "name": "python",
   "nbconvert_exporter": "python",
   "pygments_lexer": "ipython3",
   "version": "3.8.5"
  }
 },
 "nbformat": 4,
 "nbformat_minor": 4
}
