{
 "cells": [
  {
   "cell_type": "markdown",
   "metadata": {},
   "source": [
    "# Model\n",
    "> ###  _model_\n",
    "verb/noun\n",
    "\n",
    "    To both find patterns in a system, as well as the output of Machine Learning itself.\n",
    "    \"I modelled a ML model, so my model could model the future moments that I can then model.\"\n",
    "\n",
    "<hr>\n",
    "\n",
    "#### Now you have explored and found insights, and built your training set with all your features, it is time to build your model!\n",
    "Even with so many intracacies, machine learning is surprisingly easy to start. It is, however, hard to master. This mastery however will come from your continue exposure and use - so don't worry right now! We will assume at this point that you have taken the time to fully understand you features and target, and will focus on model creation and some light evaluation (the focus of the next module - Measurement.)\n",
    "\n",
    "Our focus in the third module will be creating a machine learning model using:\n",
    "- **Pyspark**: Leveraging parallel cluster computing as simply as you would write SQL!\n",
    "- **Spark ML Lib**: Create models where the big data is!\n",
    "- **Scikit Learn**: A local machine learning package for python.\n",
    "\n",
    "\n",
    "<hr>\n",
    "<hr>"
   ]
  },
  {
   "cell_type": "code",
   "execution_count": 1,
   "metadata": {},
   "outputs": [],
   "source": [
    "from utils import viz\n",
    "import pyspark\n",
    "from pyspark.sql.functions import * \n",
    "from pyspark.sql.types import *"
   ]
  },
  {
   "cell_type": "code",
   "execution_count": 2,
   "metadata": {},
   "outputs": [
    {
     "data": {
      "text/html": [
       "<a href = \"http://192.168.1.15:4041\" target = \"_blank\">Click here to open Spark UI</a>"
      ],
      "text/plain": [
       "<IPython.core.display.HTML object>"
      ]
     },
     "metadata": {},
     "output_type": "display_data"
    }
   ],
   "source": [
    "from pyspark import SparkConf, SparkContext\n",
    "from pyspark.sql import SparkSession\n",
    "\n",
    "sc_conf = SparkConf()\n",
    "##Many more config options are available - set depending on your job!\n",
    "sc_conf.setAll([('spark.executor.cores', 2)]).setAppName('Model')\n",
    "\n",
    "spark = SparkSession.builder.config(conf = sc_conf).getOrCreate()\n",
    "sc = spark.sparkContext\n",
    "\n",
    "from IPython.core.display import display, HTML\n",
    "url = sc._jsc.sc().uiWebUrl().get()\n",
    "display(HTML('<a href = \"{}\" target = \"_blank\">Click here to open Spark UI</a>'.format(url)))"
   ]
  },
  {
   "cell_type": "code",
   "execution_count": 3,
   "metadata": {},
   "outputs": [],
   "source": [
    "sdf = spark.read.parquet('Data/PreppedSet')"
   ]
  },
  {
   "cell_type": "markdown",
   "metadata": {},
   "source": [
    "## Sampling/Partitioning\n",
    "\n",
    "We are almost at the fun part I promise! Before we can tell how good our models are however, we need to plan a way to measure! The most basic way we can do this is splitting our dataset into a train & test set. This will allow us to build our model on training data, then test it on unseen data (test). A crucial element to measure of a machine learning model is its ability to generalise. Advanced concepts such as cross-validation & bagging will be tackled in the next lesson on deeper evaluation.\n",
    "\n",
    "One simple way of splitting your data is randomly."
   ]
  },
  {
   "cell_type": "code",
   "execution_count": 4,
   "metadata": {},
   "outputs": [
    {
     "data": {
      "text/plain": [
       "(35659, 15020)"
      ]
     },
     "execution_count": 4,
     "metadata": {},
     "output_type": "execute_result"
    }
   ],
   "source": [
    "train, test = sdf.randomSplit([0.7, 0.3], seed = 2019) ##We set seed to ensure replicability\n",
    "train.count(), test.count()"
   ]
  },
  {
   "cell_type": "code",
   "execution_count": 5,
   "metadata": {},
   "outputs": [
    {
     "name": "stdout",
     "output_type": "stream",
     "text": [
      "+-----+-----+\n",
      "|Churn|count|\n",
      "+-----+-----+\n",
      "|    1|10256|\n",
      "|    0|25403|\n",
      "+-----+-----+\n",
      "\n",
      "+-----+-----+\n",
      "|Churn|count|\n",
      "+-----+-----+\n",
      "|    1| 4247|\n",
      "|    0|10773|\n",
      "+-----+-----+\n",
      "\n"
     ]
    }
   ],
   "source": [
    "train.groupBy('Churn').count().show()\n",
    "test.groupBy('Churn').count().show()"
   ]
  },
  {
   "cell_type": "markdown",
   "metadata": {},
   "source": [
    "The above is pretty balanced, but that might not always be the case.\n",
    "\n",
    "Another is 'stratified sampling'. This approach attempts to ensure a similar proportion of the target in both train & test sets, but can also be used to over/undersample."
   ]
  },
  {
   "cell_type": "code",
   "execution_count": 6,
   "metadata": {},
   "outputs": [],
   "source": [
    "train = sdf.stat.sampleBy('Churn', {1:0.8, 0:0.8})\n",
    "test = sdf.join(train.select('CustomerID'), on = 'CustomerID', how = 'left_anti')"
   ]
  },
  {
   "cell_type": "code",
   "execution_count": 7,
   "metadata": {},
   "outputs": [
    {
     "name": "stdout",
     "output_type": "stream",
     "text": [
      "+-----+-----+\n",
      "|Churn|count|\n",
      "+-----+-----+\n",
      "|    1|11546|\n",
      "|    0|28992|\n",
      "+-----+-----+\n",
      "\n",
      "+-----+-----+\n",
      "|Churn|count|\n",
      "+-----+-----+\n",
      "|    1| 2925|\n",
      "|    0| 7227|\n",
      "+-----+-----+\n",
      "\n"
     ]
    }
   ],
   "source": [
    "train.groupBy('Churn').count().show()\n",
    "test.groupBy('Churn').count().show()"
   ]
  },
  {
   "cell_type": "markdown",
   "metadata": {},
   "source": [
    "## Dealing with Target Imbalance\n",
    "\n",
    "When you are trying to model a rare event, you may have to deal with the skewed distribution - the fact that the 'negative' events outnumber the 'positive' ones by some large ratio.\n",
    "\n",
    "This is because of a concept called the 'Accuracy Paradox'. This paradox can be exemplified as such - if your training set has a binary target in the ratio 9:1 (90% negative, 10% positive), a model can be produced that is 90% accurate with one rule - call everything negative. I.e. only predict the negative event.\n",
    "\n",
    "You can see how absolutely useless this is and there are several approaches we can take to overcome this:\n",
    "- penalise the model heavier for misclassifying positive/add weights\n",
    "- undersample: reduce negative case samples\n",
    "- oversample: duplicate (sample with replacement) the positive cases\n",
    "- SMOTE/MSMOTE: synthesise/create new positive cases from noted patterns in the existing cases\n",
    "\n",
    "And you should definitely not be using accuracy as your evaluation metric in these cases.\n",
    "\n",
    "We will use undersampling below (reducing negative case). If you undersample to train, try and keep a true distribution in the 'test' data. Finally, do note that they don't need to be perfectly balanced - the more samples you have to train the model the more powerful it tends to be."
   ]
  },
  {
   "cell_type": "code",
   "execution_count": 8,
   "metadata": {},
   "outputs": [
    {
     "name": "stdout",
     "output_type": "stream",
     "text": [
      "0.40090114993365766\n"
     ]
    }
   ],
   "source": [
    "##Find our ratio of imbalance\n",
    "ratio = sdf.filter(col('Churn')==1).count()/sdf.filter(col('Churn')==0).count()\n",
    "print(ratio)"
   ]
  },
  {
   "cell_type": "code",
   "execution_count": 9,
   "metadata": {},
   "outputs": [],
   "source": [
    "##Take 70% of the set for Train\n",
    "train1 = sdf.stat.sampleBy('Churn', {1:0.7, 0:0.7}, seed = 2019)\n",
    "\n",
    "##Leave 30% for Test (just rules of thumb) at the pre-existing distribution.\n",
    "test = sdf.join(train1.select('CustomerID'), on = 'CustomerID', how = 'left_anti')\n",
    "\n",
    "##Reduce the negative samples by the ratio amount (40%)\n",
    "train = train1.stat.sampleBy('Churn', {1:1, 0:ratio}, seed = 2019)"
   ]
  },
  {
   "cell_type": "code",
   "execution_count": 10,
   "metadata": {},
   "outputs": [
    {
     "name": "stdout",
     "output_type": "stream",
     "text": [
      "+-----+-----+\n",
      "|Churn|count|\n",
      "+-----+-----+\n",
      "|    1|10115|\n",
      "|    0|10186|\n",
      "+-----+-----+\n",
      "\n",
      "+-----+-----+\n",
      "|Churn|count|\n",
      "+-----+-----+\n",
      "|    1| 4388|\n",
      "|    0|10834|\n",
      "+-----+-----+\n",
      "\n"
     ]
    }
   ],
   "source": [
    "train.groupby('Churn').count().show()\n",
    "test.groupby('Churn').count().show()"
   ]
  },
  {
   "cell_type": "markdown",
   "metadata": {},
   "source": [
    "There are numerous other approaches, and each time you need to think deeply about the patterns you are teaching your model (from the train data) and testing its ability to generalise (from the test data).\n",
    "\n",
    "Other techniques include:\n",
    "- Time-based sampling: Such as training on Jan-March, and testing on April, to see if your model can generalise into the future. Valuable for forecast-style models.\n",
    "- Group-based sampling: E.g. testing on existing areas to see if their patterns align with new areas.\n",
    "\n",
    "We will use the balanced sets of train & test going forward, this helps the model not outweigh any particular class. This can occur on skewed data - if the event you are trying to predict happens in only 1% of the training set, your model can be 99% accurate by just predicting a non-event for every scenario."
   ]
  },
  {
   "cell_type": "markdown",
   "metadata": {},
   "source": [
    "## Modelling/Teaching them machines!\n",
    "\n",
    "Now lets do our modelling! We will be using **CLASSIFICATION** models as our target is a binary yes/no variable. If we were predicting a continuous/numeric variables such as how much a customer might spend with us, we would use a **REGRESSION** model such as Linear Regression. We can also go past this into Multi-class classification, but that a bit advanced for our purposes. \n",
    "\n",
    "Same as when we were doing our string processing, and scaling, pyspark/spark follows the process of:\n",
    "- Algorithm setup\n",
    "- Fitting (Model creation)\n",
    "- Transforming (Prediction/Inference creation)\n",
    "\n",
    "#### Logistic Regression\n",
    "\n",
    "(Not actually for regression but classification - always great to start in a confusing place!)"
   ]
  },
  {
   "cell_type": "code",
   "execution_count": 11,
   "metadata": {},
   "outputs": [],
   "source": [
    "from pyspark.ml.classification import LogisticRegression\n",
    "\n",
    "##Setting up our algorithm\n",
    "lr = LogisticRegression(featuresCol ='scaledFeatures', labelCol = 'Churn')\n",
    "\n",
    "##'Training' our model\n",
    "lr_model = lr.fit(train)\n",
    "\n",
    "##'Predicting' using our model\n",
    "lr_predictions = lr_model.transform(test)"
   ]
  },
  {
   "cell_type": "code",
   "execution_count": 12,
   "metadata": {},
   "outputs": [],
   "source": [
    "## Setting up our evaluator - it compares the label to the prediction and \n",
    "## can quickly produce different evaluation metrics.\n",
    "\n",
    "from pyspark.ml.evaluation import BinaryClassificationEvaluator\n",
    "evaluator = BinaryClassificationEvaluator(\n",
    "    labelCol=\"Churn\", rawPredictionCol=\"probability\", metricName=\"areaUnderROC\")"
   ]
  },
  {
   "cell_type": "code",
   "execution_count": 13,
   "metadata": {},
   "outputs": [
    {
     "name": "stdout",
     "output_type": "stream",
     "text": [
      "Area Under the Curve (AUC) on test data = 0.624279\n"
     ]
    }
   ],
   "source": [
    "##Running our evaluation on our test predictions\n",
    "auc = evaluator.evaluate(lr_predictions)\n",
    "print(\"Area Under the Curve (AUC) on test data = %g\" % auc)"
   ]
  },
  {
   "cell_type": "code",
   "execution_count": 14,
   "metadata": {},
   "outputs": [
    {
     "data": {
      "text/plain": [
       "0.6268962546268667"
      ]
     },
     "execution_count": 14,
     "metadata": {},
     "output_type": "execute_result"
    }
   ],
   "source": [
    "lr_model.summary.areaUnderROC"
   ]
  },
  {
   "cell_type": "markdown",
   "metadata": {},
   "source": [
    "The second number is the AUC from our training set, the first from our test set. There is a point drop, but this is to be expected. As the model is trained on the training data (!), it builds all its rules based on the patterns it notices. So when we create our predictions on this set its unsurprising that it should perform better. If this gap was bigger (e.g. 90% on training vs 50% on test) it might indicate that our model is **overfitting** i.e. it is unable to generalise to cases it has not seen.\n",
    "\n",
    "What if we use our non-scaled variables?"
   ]
  },
  {
   "cell_type": "code",
   "execution_count": 15,
   "metadata": {},
   "outputs": [
    {
     "name": "stdout",
     "output_type": "stream",
     "text": [
      "Area Under the Curve (AUC) on training data = 0.626934\n",
      "Area Under the Curve (AUC) on test data = 0.62431\n"
     ]
    }
   ],
   "source": [
    "from pyspark.ml.classification import LogisticRegression\n",
    "\n",
    "lr = LogisticRegression(featuresCol ='features', labelCol = 'Churn')\n",
    "lr_model = lr.fit(train)\n",
    "lr_predictions = lr_model.transform(test)\n",
    "\n",
    "auc = evaluator.evaluate(lr_predictions)\n",
    "print(\"Area Under the Curve (AUC) on training data = %g\" % lr_model.summary.areaUnderROC)\n",
    "print(\"Area Under the Curve (AUC) on test data = %g\" % auc)"
   ]
  },
  {
   "cell_type": "markdown",
   "metadata": {},
   "source": [
    "Not alot of impact, and slightly better but note AUC is only one measurement variable - we will dive into these further in the next session.\n",
    "\n",
    "How easily can we apply other algorithms with this construct? Let use our non-scaled features as it wont affect the following tree algorithms much.\n",
    "\n",
    "#### Decision Tree"
   ]
  },
  {
   "cell_type": "code",
   "execution_count": 16,
   "metadata": {},
   "outputs": [
    {
     "name": "stdout",
     "output_type": "stream",
     "text": [
      "Area Under the Curve (AUC) on training data = 0.634517\n",
      "Area Under the Curve (AUC) on test data = 0.620641\n"
     ]
    }
   ],
   "source": [
    "from pyspark.ml.classification import DecisionTreeClassifier\n",
    "dt = DecisionTreeClassifier(featuresCol = 'features', labelCol = 'Churn', seed = 2019)\n",
    "dtModel = dt.fit(train)\n",
    "predictionstr = dtModel.transform(train)\n",
    "auctr = evaluator.evaluate(predictionstr)\n",
    "predictions = dtModel.transform(test)\n",
    "auc = evaluator.evaluate(predictions)\n",
    "print(\"Area Under the Curve (AUC) on training data = %g\" % auctr)\n",
    "print(\"Area Under the Curve (AUC) on test data = %g\" % auc)"
   ]
  },
  {
   "cell_type": "markdown",
   "metadata": {},
   "source": [
    "#### Random Forest"
   ]
  },
  {
   "cell_type": "code",
   "execution_count": 17,
   "metadata": {},
   "outputs": [
    {
     "name": "stdout",
     "output_type": "stream",
     "text": [
      "Area Under the Curve (AUC) on training data = 0.665279\n",
      "Area Under the Curve (AUC) on test data = 0.639436\n"
     ]
    }
   ],
   "source": [
    "from pyspark.ml.classification import RandomForestClassifier\n",
    "rf = RandomForestClassifier(featuresCol = 'features', labelCol = 'Churn', seed = 2019)\n",
    "rfModel = rf.fit(train)\n",
    "predictionstr = rfModel.transform(train)\n",
    "auctr = evaluator.evaluate(predictionstr)\n",
    "predictions = rfModel.transform(test)\n",
    "auc = evaluator.evaluate(predictions)\n",
    "print(\"Area Under the Curve (AUC) on training data = %g\" % auctr)\n",
    "print(\"Area Under the Curve (AUC) on test data = %g\" % auc)"
   ]
  },
  {
   "cell_type": "markdown",
   "metadata": {},
   "source": [
    "#### Gradient Boosted Trees"
   ]
  },
  {
   "cell_type": "code",
   "execution_count": 18,
   "metadata": {},
   "outputs": [
    {
     "name": "stdout",
     "output_type": "stream",
     "text": [
      "Area Under the Curve (AUC) on training data = 0.738622\n",
      "Area Under the Curve (AUC) on test data = 0.660625\n"
     ]
    }
   ],
   "source": [
    "from pyspark.ml.classification import GBTClassifier\n",
    "gbt = GBTClassifier(featuresCol = 'features', labelCol = 'Churn', seed = 2019)\n",
    "gbtModel = gbt.fit(train)\n",
    "predictionstr = gbtModel.transform(train)\n",
    "auctr = evaluator.evaluate(predictionstr)\n",
    "predictions = gbtModel.transform(test)\n",
    "auc = evaluator.evaluate(predictions)\n",
    "print(\"Area Under the Curve (AUC) on training data = %g\" % auctr)\n",
    "print(\"Area Under the Curve (AUC) on test data = %g\" % auc)"
   ]
  },
  {
   "cell_type": "markdown",
   "metadata": {},
   "source": [
    "#### Multilayer Perceptron (Neural Net)"
   ]
  },
  {
   "cell_type": "code",
   "execution_count": 19,
   "metadata": {},
   "outputs": [
    {
     "name": "stdout",
     "output_type": "stream",
     "text": [
      "Area Under the Curve (AUC) on training data = 0.610657\n",
      "Area Under the Curve (AUC) on test data = 0.607433\n"
     ]
    }
   ],
   "source": [
    "from pyspark.ml.classification import MultilayerPerceptronClassifier\n",
    "\n",
    "##First layer needs to be the size of the feature set\n",
    "layers = [train.schema[\"features\"].metadata[\"ml_attr\"][\"num_attrs\"], 20, 10, 2]\n",
    "\n",
    "# create the trainer and set its parameters\n",
    "trainer = MultilayerPerceptronClassifier(featuresCol = 'features',\n",
    "                                         labelCol = 'Churn',\n",
    "                                         layers=layers, seed = 2019)\n",
    "\n",
    "# train the model\n",
    "model = trainer.fit(train)\n",
    "\n",
    "# compute accuracy on the test set\n",
    "predictionstr = model.transform(train)\n",
    "auctr = evaluator.evaluate(predictionstr)\n",
    "predictions = model.transform(test)\n",
    "auc = evaluator.evaluate(predictions)\n",
    "print(\"Area Under the Curve (AUC) on training data = %g\" % auctr)\n",
    "print(\"Area Under the Curve (AUC) on test data = %g\" % auc)"
   ]
  },
  {
   "cell_type": "markdown",
   "metadata": {},
   "source": [
    "So multiple things to take away here:\n",
    "- We can easily test multiple algorithms (and we can do it programmatically too - more in next lesson!)\n",
    "- They result in a tangible prediction difference - while all of our results sat between 60% & 70% AUC, if these predictions can prevent a costly mistake, 5% difference could be millions of dollars in savings/revenue.\n",
    "- We can run our trained models on new data! \n",
    "\n",
    "In fact there are even more things we can do\n",
    "- Change hyperparameters - so far we have used the defaults, but this is where your understanding of each individual model comes into play. For each Decision Tree algorithm, you can pick the depth of the branches, how many splits each can have etc. These can be powerful tuning considerations (which again we will programmatically explore next session).\n",
    "- Save, and reload model or even the whole pipeline - You saw when we ran our string encodings etc, that we built what is called a 'pipeline' - we can include a model in this, and save out this entire pipeline to be loaded later. It will allow us to run our tail end data prep (likely you will have feature engineering need to occur prior, but it still simplifies alot!) and prediction creation again much easier.\n",
    "\n",
    "We will quickly save and reload our GBT (Gradient Boosted Trees) Model to show how it can work.\n",
    "\n",
    "<hr>"
   ]
  },
  {
   "cell_type": "code",
   "execution_count": 20,
   "metadata": {
    "scrolled": true
   },
   "outputs": [],
   "source": [
    "gbtModel.write().overwrite().save(\"Model/GBT\")\n",
    "##Can use model.write().overwrite().save() if you need to overwrite an old one."
   ]
  },
  {
   "cell_type": "code",
   "execution_count": 21,
   "metadata": {},
   "outputs": [],
   "source": [
    "from pyspark.ml.classification import GBTClassificationModel\n",
    "sameModel = GBTClassificationModel.load(\"Model/GBT\")"
   ]
  },
  {
   "cell_type": "code",
   "execution_count": 22,
   "metadata": {},
   "outputs": [
    {
     "name": "stdout",
     "output_type": "stream",
     "text": [
      "Area Under the Curve (AUC) on test data = 0.660622\n"
     ]
    }
   ],
   "source": [
    "predictions = sameModel.transform(test)\n",
    "auc = evaluator.evaluate(predictions)\n",
    "print(\"Area Under the Curve (AUC) on test data = %g\" % auc)"
   ]
  },
  {
   "cell_type": "markdown",
   "metadata": {},
   "source": [
    "It worked! Same AUC value too. Note that you can lose some training summary details when you save out a model - it assumes you purely need the rules to create predictions in production. So for additional things such as training time etc - it may be worth saving this out separately, or completing your analysis prior to process shutdown."
   ]
  },
  {
   "cell_type": "markdown",
   "metadata": {},
   "source": [
    "## Feature Selection\n",
    "\n",
    "One method of feature selection is find features with an 'importance' of 0 (or low importance) and removing them, as they can just create noise and as mentioned in a previous lesson, multicollinearity (correlated variables) can be a problem for many models.\n",
    "\n",
    "Another way is using dimensionality reduction techniques such as PCA.\n",
    "\n",
    "#### Feature Importance"
   ]
  },
  {
   "cell_type": "code",
   "execution_count": 23,
   "metadata": {},
   "outputs": [],
   "source": [
    "featImp = gbtModel.featureImportances ##Can use loaded model too - sameModel.featureImportances"
   ]
  },
  {
   "cell_type": "code",
   "execution_count": 24,
   "metadata": {},
   "outputs": [],
   "source": [
    "##Can use either train or test, but we are aligning the importance values with their variables\n",
    "meta = [f.metadata \n",
    "    for f in test.schema.fields \n",
    "    if f.name == 'features'][0]\n",
    "\n",
    "# access feature name and index\n",
    "features_name_ind = meta['ml_attr']['attrs']['numeric'] + \\\n",
    "    meta['ml_attr']['attrs']['binary']\n",
    "\n",
    "feats = [x.get('name') for x in features_name_ind]"
   ]
  },
  {
   "cell_type": "code",
   "execution_count": 25,
   "metadata": {},
   "outputs": [
    {
     "data": {
      "text/plain": [
       "'MonthlyRevenue'"
      ]
     },
     "execution_count": 25,
     "metadata": {},
     "output_type": "execute_result"
    }
   ],
   "source": [
    "feats[0]"
   ]
  },
  {
   "cell_type": "code",
   "execution_count": 26,
   "metadata": {},
   "outputs": [
    {
     "data": {
      "text/plain": [
       "True"
      ]
     },
     "execution_count": 26,
     "metadata": {},
     "output_type": "execute_result"
    }
   ],
   "source": [
    "len(feats)==len(featImp)"
   ]
  },
  {
   "cell_type": "code",
   "execution_count": 27,
   "metadata": {},
   "outputs": [
    {
     "data": {
      "text/html": [
       "<div>\n",
       "<style scoped>\n",
       "    .dataframe tbody tr th:only-of-type {\n",
       "        vertical-align: middle;\n",
       "    }\n",
       "\n",
       "    .dataframe tbody tr th {\n",
       "        vertical-align: top;\n",
       "    }\n",
       "\n",
       "    .dataframe thead th {\n",
       "        text-align: right;\n",
       "    }\n",
       "</style>\n",
       "<table border=\"1\" class=\"dataframe\">\n",
       "  <thead>\n",
       "    <tr style=\"text-align: right;\">\n",
       "      <th></th>\n",
       "      <th>name</th>\n",
       "      <th>val</th>\n",
       "    </tr>\n",
       "  </thead>\n",
       "  <tbody>\n",
       "    <tr>\n",
       "      <th>6</th>\n",
       "      <td>PercChangeMinutes</td>\n",
       "      <td>0.073500</td>\n",
       "    </tr>\n",
       "    <tr>\n",
       "      <th>26</th>\n",
       "      <td>CurrentEquipmentDays</td>\n",
       "      <td>0.066695</td>\n",
       "    </tr>\n",
       "    <tr>\n",
       "      <th>21</th>\n",
       "      <td>MonthsInService</td>\n",
       "      <td>0.063833</td>\n",
       "    </tr>\n",
       "    <tr>\n",
       "      <th>1</th>\n",
       "      <td>MonthlyMinutes</td>\n",
       "      <td>0.063812</td>\n",
       "    </tr>\n",
       "    <tr>\n",
       "      <th>2</th>\n",
       "      <td>TotalRecurringCharge</td>\n",
       "      <td>0.048974</td>\n",
       "    </tr>\n",
       "    <tr>\n",
       "      <th>27</th>\n",
       "      <td>AgeHH1</td>\n",
       "      <td>0.047502</td>\n",
       "    </tr>\n",
       "    <tr>\n",
       "      <th>7</th>\n",
       "      <td>PercChangeRevenues</td>\n",
       "      <td>0.045092</td>\n",
       "    </tr>\n",
       "    <tr>\n",
       "      <th>37</th>\n",
       "      <td>OverPay</td>\n",
       "      <td>0.033634</td>\n",
       "    </tr>\n",
       "    <tr>\n",
       "      <th>34</th>\n",
       "      <td>AvgMinsArea</td>\n",
       "      <td>0.031139</td>\n",
       "    </tr>\n",
       "    <tr>\n",
       "      <th>35</th>\n",
       "      <td>MedianRevArea</td>\n",
       "      <td>0.028922</td>\n",
       "    </tr>\n",
       "  </tbody>\n",
       "</table>\n",
       "</div>"
      ],
      "text/plain": [
       "                    name       val\n",
       "6      PercChangeMinutes  0.073500\n",
       "26  CurrentEquipmentDays  0.066695\n",
       "21       MonthsInService  0.063833\n",
       "1         MonthlyMinutes  0.063812\n",
       "2   TotalRecurringCharge  0.048974\n",
       "27                AgeHH1  0.047502\n",
       "7     PercChangeRevenues  0.045092\n",
       "37               OverPay  0.033634\n",
       "34           AvgMinsArea  0.031139\n",
       "35         MedianRevArea  0.028922"
      ]
     },
     "execution_count": 27,
     "metadata": {},
     "output_type": "execute_result"
    }
   ],
   "source": [
    "import pandas as pd\n",
    "fi = pd.DataFrame({'name':feats, 'val':featImp})\n",
    "\n",
    "fi.sort_values('val', ascending = False)[:10]"
   ]
  },
  {
   "cell_type": "markdown",
   "metadata": {},
   "source": [
    "Tada! We have our top ten feature importances!\n",
    "\n",
    "#### PCA\n",
    "\n",
    "PCA (Principal Components Analysis) essentially finds which variables explain the variance in a dataset best, compressing those correlated variables together into 'Principal Components' (eigenvectors), which may allow us to distill the patterns in hundreds of variables into 10.\n",
    "\n",
    "You will note that we do not align this to our target variable - just because this method compresses the variance of the set, it doesn't necessarily mean the variance of our target will be well represented.\n",
    "\n",
    "You will want scaled features here - linear differences in scaling will result in arbitrarily larger variables taking precedence (e.g. millions of dollars vs a meter). Again, all of these pyspark steps can form a pipeline which can all be run prior to training/inference. While we are looking into these techniques after, to help you see the iterative nature of this process, in automating future inferences, these pieces occur before training and saving your final model."
   ]
  },
  {
   "cell_type": "code",
   "execution_count": 28,
   "metadata": {},
   "outputs": [
    {
     "name": "stdout",
     "output_type": "stream",
     "text": [
      "+-----------------------------------------------------------+\n",
      "|pcaFeatures                                                |\n",
      "+-----------------------------------------------------------+\n",
      "|[-1.4924069542207303,1.752637287818768,-5.042042484519494] |\n",
      "|[0.34100625109068156,2.2749594681775074,0.2416842744724213]|\n",
      "+-----------------------------------------------------------+\n",
      "only showing top 2 rows\n",
      "\n"
     ]
    }
   ],
   "source": [
    "##K is how many principal components you wish to combine all your variables into.\n",
    "\n",
    "from pyspark.ml.feature import PCA\n",
    "\n",
    "pca = PCA(k=3, inputCol=\"scaledFeatures\", outputCol=\"pcaFeatures\")\n",
    "pcaModel = pca.fit(sdf)\n",
    "\n",
    "result = pcaModel.transform(sdf)\n",
    "result.select(\"pcaFeatures\").show(2, truncate=False)"
   ]
  },
  {
   "cell_type": "code",
   "execution_count": 29,
   "metadata": {},
   "outputs": [
    {
     "data": {
      "text/plain": [
       "DenseVector([0.1435, 0.0883, 0.0391])"
      ]
     },
     "execution_count": 29,
     "metadata": {},
     "output_type": "execute_result"
    }
   ],
   "source": [
    "pcaModel.explainedVariance"
   ]
  },
  {
   "cell_type": "markdown",
   "metadata": {},
   "source": [
    "The above shows us that our variables don't collectively identify patterns for our target well - it is saying that if we transform all our features into 3, the first would explain 14% of the variance in Churn, the second 9% and third 4%. Ideally for a powerful PCA transformation, we would be looking for that first one to cover ~60% of the variance (RULE OF THUMB, not an actual rule). \n",
    "\n",
    "In this case, if we dropped all our other variables and kept just these 3, we would be even worse at predicting churn. This could be a good early sign that we need different features, data, or problem!\n",
    "\n",
    "However, lets view our Churn problem through the lens of these PCs to see if they can break apart our classes. We are using test so we don't bring the entire 50k rows into a visual."
   ]
  },
  {
   "cell_type": "code",
   "execution_count": 31,
   "metadata": {},
   "outputs": [],
   "source": [
    "# smaller = pcaModel.transform(test).select('Churn', 'pcaFeatures')\n",
    "\n",
    "# ##Allows us to break out the single column list into 3 columns, one for each component.\n",
    "# def to_array_(v):\n",
    "#         return v.toArray().tolist()\n",
    "# to_array = udf(to_array_, ArrayType(DoubleType()))\n",
    "\n",
    "# sm = smaller.\\\n",
    "#     withColumn(\"pc\", to_array(col(\"pcaFeatures\"))).\\\n",
    "#     select([\"Churn\"] + [col(\"pc\")[i].alias(\"pc\"+str(i)) for i in range(3)]).\\\n",
    "#     withColumn('Churn', when(col('Churn')==1, 'Churn').otherwise('Stay')).toPandas()\n",
    "\n",
    "# sm[:5]"
   ]
  },
  {
   "cell_type": "code",
   "execution_count": 32,
   "metadata": {},
   "outputs": [],
   "source": [
    "# viz.plotlys(sm[:500], 'pc0', 'pc1', kind = 'Scat', group = 'Churn')"
   ]
  },
  {
   "cell_type": "markdown",
   "metadata": {},
   "source": [
    "Pretty messy!\n",
    "\n",
    "### ChiSq\n",
    "\n",
    "As we did before - we can also run statistics to see which of our variables seem more correlated/aligned with our target - we can use ChiSq again, but this time using the vectorised version."
   ]
  },
  {
   "cell_type": "code",
   "execution_count": 33,
   "metadata": {},
   "outputs": [],
   "source": [
    "from pyspark.ml.feature import VectorAssembler\n",
    "from pyspark.ml.feature import ChiSqSelector\n",
    "\n",
    "indexed_cols = [x for x in sdf.columns if x[-2:] ==\"_i\"]\n",
    "\n",
    "func_cols = ['CustomerID', 'Churn']\n",
    "assembler = VectorAssembler(\n",
    "    inputCols = indexed_cols,\n",
    "    outputCol = \"features2\")\n",
    "sdfc = assembler.transform(sdf).select(func_cols+['features2'])\n",
    "\n",
    "\n",
    "selector = ChiSqSelector(numTopFeatures = 5, featuresCol = \"features2\",\n",
    "                         outputCol = \"selectedFeatures\", labelCol = \"Churn\")\n",
    "\n",
    "features = selector.fit(sdfc).selectedFeatures\n",
    "\n",
    "# print(\"ChiSqSelector output with top %d features selected\" % selector.getNumTopFeatures())\n",
    "# result.show()"
   ]
  },
  {
   "cell_type": "code",
   "execution_count": 34,
   "metadata": {},
   "outputs": [
    {
     "name": "stdout",
     "output_type": "stream",
     "text": [
      "HandsetWebCapable_i\n",
      "MadeCallToRetentionTeam_i\n",
      "CreditRating_i\n",
      "HandsetRefurbished_i\n",
      "MaritalStatus_i\n"
     ]
    }
   ],
   "source": [
    "for feat in features:\n",
    "    print(indexed_cols[feat])"
   ]
  },
  {
   "cell_type": "code",
   "execution_count": 35,
   "metadata": {},
   "outputs": [
    {
     "name": "stdout",
     "output_type": "stream",
     "text": [
      "+-----------------+-----+-----+\n",
      "|HandsetWebCapable|Churn|count|\n",
      "+-----------------+-----+-----+\n",
      "|              Yes|    0|33088|\n",
      "|               No|    1| 1829|\n",
      "|              Yes|    1|12674|\n",
      "|               No|    0| 3088|\n",
      "+-----------------+-----+-----+\n",
      "\n"
     ]
    }
   ],
   "source": [
    "sdf.groupBy('HandsetWebCapable', 'Churn').count().show()"
   ]
  },
  {
   "cell_type": "code",
   "execution_count": 36,
   "metadata": {},
   "outputs": [
    {
     "data": {
      "text/plain": [
       "(0.27682553563620466, 0.3721261444557477)"
      ]
     },
     "execution_count": 36,
     "metadata": {},
     "output_type": "execute_result"
    }
   ],
   "source": [
    "12662/(33078+12662), 1829/(1829+3086)"
   ]
  },
  {
   "cell_type": "markdown",
   "metadata": {},
   "source": [
    "We can see that those with a handset that isn't able to go on the web have 10% more customers churning than those with web handsets. Let's dig further to remind ourselves that we need to focus on the BUSINESS OUTCOME - maybe we dont care? Maybe those with a web capable phone are also on cheaper plans & thus we will decide not to spend monery keeping them?"
   ]
  },
  {
   "cell_type": "code",
   "execution_count": 37,
   "metadata": {},
   "outputs": [
    {
     "name": "stdout",
     "output_type": "stream",
     "text": [
      "+-----------------+-------------------+\n",
      "|HandsetWebCapable|avg(MonthlyRevenue)|\n",
      "+-----------------+-------------------+\n",
      "|               No| 45.181199918649355|\n",
      "|              Yes|  60.36219701936662|\n",
      "+-----------------+-------------------+\n",
      "\n"
     ]
    }
   ],
   "source": [
    "sdf.groupBy('HandsetWebCapable').agg(mean('MonthlyRevenue')).show()"
   ]
  },
  {
   "cell_type": "markdown",
   "metadata": {},
   "source": [
    "$15 dollars less! \n",
    "\n",
    "So in a simple example where it is costing us 40 dollars to support a user, if we were to give likely churn customers a 5 dollar discount, we may remove all profit for us. Obviously this is super simplistic and ignores lifetime value and so on, but something to consider!\n",
    "\n",
    "---\n",
    "\n",
    "## Clustering\n",
    "\n",
    "We could've used PCA to cluster our customers, but no luck. There are other clustering algorithms we can try though - how about k-means?"
   ]
  },
  {
   "cell_type": "code",
   "execution_count": 38,
   "metadata": {},
   "outputs": [],
   "source": [
    "from pyspark.ml.clustering import KMeans\n",
    "from pyspark.ml.evaluation import ClusteringEvaluator\n",
    "\n",
    "#k here is the number of clusters, or more accurately the number of cluster centers for every row \n",
    "# to be measured against.\n",
    "kmeans = KMeans(k=5, seed=1, featuresCol = 'scaledFeatures', \n",
    "                predictionCol = 'Cluster')  # 5 clusters here\n",
    "kmodel = kmeans.fit(sdf)"
   ]
  },
  {
   "cell_type": "code",
   "execution_count": 39,
   "metadata": {},
   "outputs": [
    {
     "data": {
      "text/html": [
       "<div>\n",
       "<style scoped>\n",
       "    .dataframe tbody tr th:only-of-type {\n",
       "        vertical-align: middle;\n",
       "    }\n",
       "\n",
       "    .dataframe tbody tr th {\n",
       "        vertical-align: top;\n",
       "    }\n",
       "\n",
       "    .dataframe thead th {\n",
       "        text-align: right;\n",
       "    }\n",
       "</style>\n",
       "<table border=\"1\" class=\"dataframe\">\n",
       "  <thead>\n",
       "    <tr style=\"text-align: right;\">\n",
       "      <th></th>\n",
       "      <th>Churn</th>\n",
       "      <th>scaledFeatures</th>\n",
       "      <th>Cluster</th>\n",
       "    </tr>\n",
       "  </thead>\n",
       "  <tbody>\n",
       "    <tr>\n",
       "      <th>0</th>\n",
       "      <td>1</td>\n",
       "      <td>(0.5391925583543162, 0.41318652237144715, 0.92...</td>\n",
       "      <td>3</td>\n",
       "    </tr>\n",
       "    <tr>\n",
       "      <th>1</th>\n",
       "      <td>1</td>\n",
       "      <td>(0.38170339860165964, 0.0188669644918469, 0.71...</td>\n",
       "      <td>3</td>\n",
       "    </tr>\n",
       "    <tr>\n",
       "      <th>2</th>\n",
       "      <td>0</td>\n",
       "      <td>(0.8537215507276674, 0.01509357159347752, 1.59...</td>\n",
       "      <td>3</td>\n",
       "    </tr>\n",
       "    <tr>\n",
       "      <th>3</th>\n",
       "      <td>0</td>\n",
       "      <td>(1.8485318208913808, 2.4753457413303135, 3.147...</td>\n",
       "      <td>1</td>\n",
       "    </tr>\n",
       "    <tr>\n",
       "      <th>4</th>\n",
       "      <td>1</td>\n",
       "      <td>(0.38507335209137417, 0.0, 0.7135279860791929,...</td>\n",
       "      <td>3</td>\n",
       "    </tr>\n",
       "  </tbody>\n",
       "</table>\n",
       "</div>"
      ],
      "text/plain": [
       "   Churn                                     scaledFeatures  Cluster\n",
       "0      1  (0.5391925583543162, 0.41318652237144715, 0.92...        3\n",
       "1      1  (0.38170339860165964, 0.0188669644918469, 0.71...        3\n",
       "2      0  (0.8537215507276674, 0.01509357159347752, 1.59...        3\n",
       "3      0  (1.8485318208913808, 2.4753457413303135, 3.147...        1\n",
       "4      1  (0.38507335209137417, 0.0, 0.7135279860791929,...        3"
      ]
     },
     "execution_count": 39,
     "metadata": {},
     "output_type": "execute_result"
    }
   ],
   "source": [
    "transformed = kmodel.transform(sdf)\n",
    "transformed.select('Churn', 'scaledFeatures', 'Cluster').limit(5).toPandas()   "
   ]
  },
  {
   "cell_type": "markdown",
   "metadata": {},
   "source": [
    "So 5 clusters have been assigned, but how useful are they?"
   ]
  },
  {
   "cell_type": "code",
   "execution_count": 40,
   "metadata": {},
   "outputs": [
    {
     "name": "stdout",
     "output_type": "stream",
     "text": [
      "Silhouette with squared euclidean distance = 0.059911966873872936\n"
     ]
    }
   ],
   "source": [
    "evaluator = ClusteringEvaluator(featuresCol = 'scaledFeatures', predictionCol = 'Cluster')\n",
    "\n",
    "silhouette = evaluator.evaluate(transformed)\n",
    "print(\"Silhouette with squared euclidean distance = \" + str(silhouette))"
   ]
  },
  {
   "cell_type": "markdown",
   "metadata": {},
   "source": [
    "A value of 1 is ideal - a value of 0.132 indicates that our clusters are very close to each other, and the points within a cluster are very spread out."
   ]
  },
  {
   "cell_type": "code",
   "execution_count": 41,
   "metadata": {},
   "outputs": [
    {
     "data": {
      "text/html": [
       "<div>\n",
       "<style scoped>\n",
       "    .dataframe tbody tr th:only-of-type {\n",
       "        vertical-align: middle;\n",
       "    }\n",
       "\n",
       "    .dataframe tbody tr th {\n",
       "        vertical-align: top;\n",
       "    }\n",
       "\n",
       "    .dataframe thead th {\n",
       "        text-align: right;\n",
       "    }\n",
       "</style>\n",
       "<table border=\"1\" class=\"dataframe\">\n",
       "  <thead>\n",
       "    <tr style=\"text-align: right;\">\n",
       "      <th></th>\n",
       "      <th>names</th>\n",
       "      <th>clust0</th>\n",
       "      <th>clust1</th>\n",
       "      <th>clust2</th>\n",
       "      <th>clust3</th>\n",
       "      <th>clust4</th>\n",
       "    </tr>\n",
       "  </thead>\n",
       "  <tbody>\n",
       "    <tr>\n",
       "      <th>0</th>\n",
       "      <td>MonthlyRevenue</td>\n",
       "      <td>1.118047</td>\n",
       "      <td>3.083216</td>\n",
       "      <td>1.218872</td>\n",
       "      <td>1.000651</td>\n",
       "      <td>1.155836</td>\n",
       "    </tr>\n",
       "    <tr>\n",
       "      <th>1</th>\n",
       "      <td>MonthlyMinutes</td>\n",
       "      <td>0.722453</td>\n",
       "      <td>3.033596</td>\n",
       "      <td>0.925923</td>\n",
       "      <td>0.592274</td>\n",
       "      <td>0.788496</td>\n",
       "    </tr>\n",
       "    <tr>\n",
       "      <th>2</th>\n",
       "      <td>TotalRecurringCharge</td>\n",
       "      <td>1.808251</td>\n",
       "      <td>3.182517</td>\n",
       "      <td>1.951899</td>\n",
       "      <td>1.696689</td>\n",
       "      <td>1.859514</td>\n",
       "    </tr>\n",
       "    <tr>\n",
       "      <th>3</th>\n",
       "      <td>DirectorAssistedCalls</td>\n",
       "      <td>0.300421</td>\n",
       "      <td>1.353647</td>\n",
       "      <td>0.336080</td>\n",
       "      <td>0.234880</td>\n",
       "      <td>0.309939</td>\n",
       "    </tr>\n",
       "    <tr>\n",
       "      <th>4</th>\n",
       "      <td>OverageMinutes</td>\n",
       "      <td>0.248430</td>\n",
       "      <td>1.861126</td>\n",
       "      <td>0.293194</td>\n",
       "      <td>0.186570</td>\n",
       "      <td>0.271170</td>\n",
       "    </tr>\n",
       "    <tr>\n",
       "      <th>5</th>\n",
       "      <td>RoamingCalls</td>\n",
       "      <td>0.109691</td>\n",
       "      <td>0.402121</td>\n",
       "      <td>0.110111</td>\n",
       "      <td>0.079673</td>\n",
       "      <td>0.090320</td>\n",
       "    </tr>\n",
       "    <tr>\n",
       "      <th>6</th>\n",
       "      <td>PercChangeMinutes</td>\n",
       "      <td>-0.016014</td>\n",
       "      <td>-0.282858</td>\n",
       "      <td>-0.033542</td>\n",
       "      <td>-0.013078</td>\n",
       "      <td>-0.008915</td>\n",
       "    </tr>\n",
       "    <tr>\n",
       "      <th>7</th>\n",
       "      <td>PercChangeRevenues</td>\n",
       "      <td>-0.008474</td>\n",
       "      <td>-0.214759</td>\n",
       "      <td>-0.017254</td>\n",
       "      <td>-0.005003</td>\n",
       "      <td>-0.006038</td>\n",
       "    </tr>\n",
       "    <tr>\n",
       "      <th>8</th>\n",
       "      <td>DroppedCalls</td>\n",
       "      <td>0.410590</td>\n",
       "      <td>2.247660</td>\n",
       "      <td>0.591738</td>\n",
       "      <td>0.370876</td>\n",
       "      <td>0.524446</td>\n",
       "    </tr>\n",
       "    <tr>\n",
       "      <th>9</th>\n",
       "      <td>BlockedCalls</td>\n",
       "      <td>0.261802</td>\n",
       "      <td>1.300297</td>\n",
       "      <td>0.315805</td>\n",
       "      <td>0.234937</td>\n",
       "      <td>0.260925</td>\n",
       "    </tr>\n",
       "  </tbody>\n",
       "</table>\n",
       "</div>"
      ],
      "text/plain": [
       "                   names    clust0    clust1    clust2    clust3    clust4\n",
       "0         MonthlyRevenue  1.118047  3.083216  1.218872  1.000651  1.155836\n",
       "1         MonthlyMinutes  0.722453  3.033596  0.925923  0.592274  0.788496\n",
       "2   TotalRecurringCharge  1.808251  3.182517  1.951899  1.696689  1.859514\n",
       "3  DirectorAssistedCalls  0.300421  1.353647  0.336080  0.234880  0.309939\n",
       "4         OverageMinutes  0.248430  1.861126  0.293194  0.186570  0.271170\n",
       "5           RoamingCalls  0.109691  0.402121  0.110111  0.079673  0.090320\n",
       "6      PercChangeMinutes -0.016014 -0.282858 -0.033542 -0.013078 -0.008915\n",
       "7     PercChangeRevenues -0.008474 -0.214759 -0.017254 -0.005003 -0.006038\n",
       "8           DroppedCalls  0.410590  2.247660  0.591738  0.370876  0.524446\n",
       "9           BlockedCalls  0.261802  1.300297  0.315805  0.234937  0.260925"
      ]
     },
     "execution_count": 41,
     "metadata": {},
     "output_type": "execute_result"
    }
   ],
   "source": [
    "##Can use either train or test, but we are aligning the importance values with their variables\n",
    "centers = kmodel.clusterCenters()\n",
    "cntrs = pd.DataFrame({'names':feats})\n",
    "for i, center in enumerate(centers):\n",
    "    \n",
    "    cntrs = cntrs.join(pd.DataFrame({('clust'+str(i)):center}))\n",
    "cntrs[:10]"
   ]
  },
  {
   "cell_type": "markdown",
   "metadata": {},
   "source": [
    "The above lets us understand our average cluster differences (obviously with our centers scaled, like the feature input was). With this we can make generalisations like 'customers in cluster 3 spend more money (with a MonthlyRevenue centroid of 5.38 vs ~1)."
   ]
  },
  {
   "cell_type": "code",
   "execution_count": 42,
   "metadata": {},
   "outputs": [
    {
     "data": {
      "text/html": [
       "<div>\n",
       "<style scoped>\n",
       "    .dataframe tbody tr th:only-of-type {\n",
       "        vertical-align: middle;\n",
       "    }\n",
       "\n",
       "    .dataframe tbody tr th {\n",
       "        vertical-align: top;\n",
       "    }\n",
       "\n",
       "    .dataframe thead th {\n",
       "        text-align: right;\n",
       "    }\n",
       "</style>\n",
       "<table border=\"1\" class=\"dataframe\">\n",
       "  <thead>\n",
       "    <tr style=\"text-align: right;\">\n",
       "      <th></th>\n",
       "      <th>Cluster</th>\n",
       "      <th>Churn</th>\n",
       "      <th>count</th>\n",
       "      <th>perc</th>\n",
       "      <th>total</th>\n",
       "    </tr>\n",
       "  </thead>\n",
       "  <tbody>\n",
       "    <tr>\n",
       "      <th>0</th>\n",
       "      <td>0</td>\n",
       "      <td>1</td>\n",
       "      <td>1168</td>\n",
       "      <td>0.285296</td>\n",
       "      <td>4094</td>\n",
       "    </tr>\n",
       "    <tr>\n",
       "      <th>1</th>\n",
       "      <td>1</td>\n",
       "      <td>1</td>\n",
       "      <td>1307</td>\n",
       "      <td>0.252025</td>\n",
       "      <td>5186</td>\n",
       "    </tr>\n",
       "    <tr>\n",
       "      <th>2</th>\n",
       "      <td>2</td>\n",
       "      <td>1</td>\n",
       "      <td>3854</td>\n",
       "      <td>0.303297</td>\n",
       "      <td>12707</td>\n",
       "    </tr>\n",
       "    <tr>\n",
       "      <th>3</th>\n",
       "      <td>3</td>\n",
       "      <td>1</td>\n",
       "      <td>3942</td>\n",
       "      <td>0.282015</td>\n",
       "      <td>13978</td>\n",
       "    </tr>\n",
       "    <tr>\n",
       "      <th>4</th>\n",
       "      <td>4</td>\n",
       "      <td>1</td>\n",
       "      <td>4232</td>\n",
       "      <td>0.287617</td>\n",
       "      <td>14714</td>\n",
       "    </tr>\n",
       "  </tbody>\n",
       "</table>\n",
       "</div>"
      ],
      "text/plain": [
       "   Cluster  Churn  count      perc  total\n",
       "0        0      1   1168  0.285296   4094\n",
       "1        1      1   1307  0.252025   5186\n",
       "2        2      1   3854  0.303297  12707\n",
       "3        3      1   3942  0.282015  13978\n",
       "4        4      1   4232  0.287617  14714"
      ]
     },
     "execution_count": 42,
     "metadata": {},
     "output_type": "execute_result"
    }
   ],
   "source": [
    "from pyspark.sql.window import Window\n",
    "transformed.groupBy('Cluster', 'Churn').count().\\\n",
    "    withColumn('perc', \n",
    "               col('count')/sum(col('count')).over(Window.partitionBy('Cluster'))).\\\n",
    "    withColumn('total', \n",
    "               sum(col('count')).over(Window.partitionBy('Cluster'))).\\\n",
    "    filter(col('Churn')==1).orderBy('Cluster').toPandas()"
   ]
  },
  {
   "cell_type": "markdown",
   "metadata": {},
   "source": [
    "Above shows us how many customers are in each cluster, and the Churn Percentage per cluster, again helping us decide if this is useful for our efforts in understanding Churn. For example, clusters 1 & 2 might be too small. Cluster 0 & 1 may have too similar a churn pattern to be useful. On the other hand, we can combine clusters 3&4 for low churners, and 0,1,2 as high churners for further analysis."
   ]
  },
  {
   "cell_type": "code",
   "execution_count": 43,
   "metadata": {},
   "outputs": [
    {
     "data": {
      "image/png": "[encoded data removed]",
      "text/plain": [
       "<Figure size 1080x432 with 1 Axes>"
      ]
     },
     "metadata": {},
     "output_type": "display_data"
    }
   ],
   "source": [
    "viz.spark_category_viz(transformed.withColumn('Cluster', \n",
    "                                              col('Cluster').cast(StringType())), #to string just to be treated as categories\n",
    "                       'Cluster')"
   ]
  },
  {
   "cell_type": "markdown",
   "metadata": {},
   "source": [
    "Let's quickly try BisectingKMeans - essentially heirachial clustering."
   ]
  },
  {
   "cell_type": "code",
   "execution_count": 44,
   "metadata": {},
   "outputs": [
    {
     "name": "stdout",
     "output_type": "stream",
     "text": [
      "Within Set Sum of Squared Errors = 3037488.2200854486\n"
     ]
    }
   ],
   "source": [
    "from pyspark.ml.clustering import BisectingKMeans\n",
    "from pyspark.ml.evaluation import ClusteringEvaluator\n",
    "\n",
    "\n",
    "bkm = BisectingKMeans(k=5, seed=1, featuresCol = 'scaledFeatures', \n",
    "                predictionCol = 'Cluster')\n",
    "bmodel = bkm.fit(sdf)\n",
    "\n",
    "# Evaluate clustering.\n",
    "cost = bmodel.computeCost(sdf)\n",
    "print(\"Within Set Sum of Squared Errors = \" + str(cost))"
   ]
  },
  {
   "cell_type": "code",
   "execution_count": 45,
   "metadata": {},
   "outputs": [
    {
     "name": "stdout",
     "output_type": "stream",
     "text": [
      "Silhouette with squared euclidean distance = 0.09511031699032746\n"
     ]
    }
   ],
   "source": [
    "evaluator = ClusteringEvaluator(featuresCol = 'scaledFeatures', predictionCol = 'Cluster')\n",
    "\n",
    "silhouette = evaluator.evaluate(bmodel.transform(sdf))\n",
    "print(\"Silhouette with squared euclidean distance = \" + str(silhouette))"
   ]
  },
  {
   "cell_type": "markdown",
   "metadata": {},
   "source": [
    "Even lower! Remember we can always play with our 'k' hyperparameter - perhaps we need more clusters to accurately separate. If we remember our exploration however, we remember there are alot of skewed variables - e.g. monthly minutes. Most people have a normal amount of minutes, and then there are outliers. These can easily be clustered, but the 95% of customers with a standard behaviour become harder to separate."
   ]
  },
  {
   "cell_type": "markdown",
   "metadata": {},
   "source": [
    "----\n",
    "----\n",
    "\n",
    "Loads to take in this lesson, lots of tactics, techniques, and thoughts.\n",
    "\n",
    "We will be revisiting the modelling construct next session however when we talk hyperparameters, cross-validation, & evaluation.\n",
    "\n",
    "---\n",
    "---\n",
    "\n",
    "***Samuel Mitchell* 2019**\n",
    "<br><br><br><br><br><br><br><br><br>\n",
    "<br><br><br><br><br><br><br><br><br>\n",
    "<br><br><br><br><br><br><br><br><br>\n",
    "<br><br><br><br><br><br><br><br><br>"
   ]
  },
  {
   "cell_type": "markdown",
   "metadata": {},
   "source": [
    "### Appendix: PCA EigenValues"
   ]
  },
  {
   "cell_type": "code",
   "execution_count": 46,
   "metadata": {},
   "outputs": [],
   "source": [
    "pcsplit = pcaModel.pc"
   ]
  },
  {
   "cell_type": "code",
   "execution_count": 47,
   "metadata": {},
   "outputs": [],
   "source": [
    "pcs = pd.DataFrame(pcsplit.toArray())"
   ]
  },
  {
   "cell_type": "code",
   "execution_count": 48,
   "metadata": {},
   "outputs": [
    {
     "data": {
      "text/html": [
       "<div>\n",
       "<style scoped>\n",
       "    .dataframe tbody tr th:only-of-type {\n",
       "        vertical-align: middle;\n",
       "    }\n",
       "\n",
       "    .dataframe tbody tr th {\n",
       "        vertical-align: top;\n",
       "    }\n",
       "\n",
       "    .dataframe thead th {\n",
       "        text-align: right;\n",
       "    }\n",
       "</style>\n",
       "<table border=\"1\" class=\"dataframe\">\n",
       "  <thead>\n",
       "    <tr style=\"text-align: right;\">\n",
       "      <th></th>\n",
       "      <th>PC0</th>\n",
       "      <th>PC1</th>\n",
       "      <th>PC2</th>\n",
       "      <th>var</th>\n",
       "    </tr>\n",
       "  </thead>\n",
       "  <tbody>\n",
       "    <tr>\n",
       "      <th>0</th>\n",
       "      <td>-0.231035</td>\n",
       "      <td>0.119661</td>\n",
       "      <td>0.041782</td>\n",
       "      <td>MonthlyRevenue</td>\n",
       "    </tr>\n",
       "    <tr>\n",
       "      <th>1</th>\n",
       "      <td>-0.264729</td>\n",
       "      <td>0.109334</td>\n",
       "      <td>0.040277</td>\n",
       "      <td>MonthlyMinutes</td>\n",
       "    </tr>\n",
       "    <tr>\n",
       "      <th>2</th>\n",
       "      <td>-0.173337</td>\n",
       "      <td>0.071763</td>\n",
       "      <td>0.030472</td>\n",
       "      <td>TotalRecurringCharge</td>\n",
       "    </tr>\n",
       "    <tr>\n",
       "      <th>3</th>\n",
       "      <td>-0.129118</td>\n",
       "      <td>0.071164</td>\n",
       "      <td>-0.002439</td>\n",
       "      <td>DirectorAssistedCalls</td>\n",
       "    </tr>\n",
       "    <tr>\n",
       "      <th>4</th>\n",
       "      <td>-0.185747</td>\n",
       "      <td>0.110943</td>\n",
       "      <td>0.047156</td>\n",
       "      <td>OverageMinutes</td>\n",
       "    </tr>\n",
       "    <tr>\n",
       "      <th>5</th>\n",
       "      <td>-0.041659</td>\n",
       "      <td>0.026006</td>\n",
       "      <td>0.026334</td>\n",
       "      <td>RoamingCalls</td>\n",
       "    </tr>\n",
       "    <tr>\n",
       "      <th>6</th>\n",
       "      <td>0.028873</td>\n",
       "      <td>-0.015359</td>\n",
       "      <td>0.004955</td>\n",
       "      <td>PercChangeMinutes</td>\n",
       "    </tr>\n",
       "    <tr>\n",
       "      <th>7</th>\n",
       "      <td>0.020395</td>\n",
       "      <td>-0.012124</td>\n",
       "      <td>0.011882</td>\n",
       "      <td>PercChangeRevenues</td>\n",
       "    </tr>\n",
       "    <tr>\n",
       "      <th>8</th>\n",
       "      <td>-0.199972</td>\n",
       "      <td>0.078449</td>\n",
       "      <td>0.024632</td>\n",
       "      <td>DroppedCalls</td>\n",
       "    </tr>\n",
       "    <tr>\n",
       "      <th>9</th>\n",
       "      <td>-0.116795</td>\n",
       "      <td>0.057448</td>\n",
       "      <td>0.050280</td>\n",
       "      <td>BlockedCalls</td>\n",
       "    </tr>\n",
       "  </tbody>\n",
       "</table>\n",
       "</div>"
      ],
      "text/plain": [
       "        PC0       PC1       PC2                    var\n",
       "0 -0.231035  0.119661  0.041782         MonthlyRevenue\n",
       "1 -0.264729  0.109334  0.040277         MonthlyMinutes\n",
       "2 -0.173337  0.071763  0.030472   TotalRecurringCharge\n",
       "3 -0.129118  0.071164 -0.002439  DirectorAssistedCalls\n",
       "4 -0.185747  0.110943  0.047156         OverageMinutes\n",
       "5 -0.041659  0.026006  0.026334           RoamingCalls\n",
       "6  0.028873 -0.015359  0.004955      PercChangeMinutes\n",
       "7  0.020395 -0.012124  0.011882     PercChangeRevenues\n",
       "8 -0.199972  0.078449  0.024632           DroppedCalls\n",
       "9 -0.116795  0.057448  0.050280           BlockedCalls"
      ]
     },
     "execution_count": 48,
     "metadata": {},
     "output_type": "execute_result"
    }
   ],
   "source": [
    "pcs.columns = ['PC0', 'PC1', 'PC2']\n",
    "pcs['var'] = feats\n",
    "\n",
    "pcs[:10]"
   ]
  },
  {
   "cell_type": "code",
   "execution_count": 49,
   "metadata": {},
   "outputs": [
    {
     "data": {
      "application/vnd.plotly.v1+json": {
       "config": {
        "plotlyServerURL": "https://plot.ly"
       },
       "data": [
        {
         "marker": {
          "color": "midnightblue",
          "line": {
           "color": "white",
           "width": 1
          },
          "size": 16
         },
         "mode": "markers",
         "name": "MonthlyRevenue",
         "opacity": 0.75,
         "type": "scatter",
         "x": [
          0.041781880731432686
         ],
         "y": [
          0.11966072649549309
         ]
        },
        {
         "marker": {
          "color": "darkmagenta",
          "line": {
           "color": "white",
           "width": 1
          },
          "size": 16
         },
         "mode": "markers",
         "name": "MonthlyMinutes",
         "opacity": 0.75,
         "type": "scatter",
         "visible": "legendonly",
         "x": [
          0.04027702689401218
         ],
         "y": [
          0.10933437093939086
         ]
        },
        {
         "marker": {
          "color": "seagreen",
          "line": {
           "color": "white",
           "width": 1
          },
          "size": 16
         },
         "mode": "markers",
         "name": "TotalRecurringCharge",
         "opacity": 0.75,
         "type": "scatter",
         "visible": "legendonly",
         "x": [
          0.030471703258633916
         ],
         "y": [
          0.07176307885544497
         ]
        },
        {
         "marker": {
          "color": "firebrick",
          "line": {
           "color": "white",
           "width": 1
          },
          "size": 16
         },
         "mode": "markers",
         "name": "DirectorAssistedCalls",
         "opacity": 0.75,
         "type": "scatter",
         "visible": "legendonly",
         "x": [
          -0.0024390615218380374
         ],
         "y": [
          0.07116390491838093
         ]
        },
        {
         "marker": {
          "color": "#f4bc61",
          "line": {
           "color": "white",
           "width": 1
          },
          "size": 16
         },
         "mode": "markers",
         "name": "OverageMinutes",
         "opacity": 0.75,
         "type": "scatter",
         "visible": "legendonly",
         "x": [
          0.04715572642438337
         ],
         "y": [
          0.11094268396202252
         ]
        },
        {
         "marker": {
          "color": "#546886",
          "line": {
           "color": "white",
           "width": 1
          },
          "size": 16
         },
         "mode": "markers",
         "name": "RoamingCalls",
         "opacity": 0.75,
         "type": "scatter",
         "visible": "legendonly",
         "x": [
          0.026333798663330965
         ],
         "y": [
          0.026006193110149067
         ]
        },
        {
         "marker": {
          "color": "#4ba4c6",
          "line": {
           "color": "white",
           "width": 1
          },
          "size": 16
         },
         "mode": "markers",
         "name": "PercChangeMinutes",
         "opacity": 0.75,
         "type": "scatter",
         "visible": "legendonly",
         "x": [
          0.004955196517856891
         ],
         "y": [
          -0.015358519124365465
         ]
        },
        {
         "marker": {
          "color": "mediumseagreen",
          "line": {
           "color": "white",
           "width": 1
          },
          "size": 16
         },
         "mode": "markers",
         "name": "PercChangeRevenues",
         "opacity": 0.75,
         "type": "scatter",
         "x": [
          0.011882217440084733
         ],
         "y": [
          -0.012123720728878084
         ]
        },
        {
         "marker": {
          "color": "lightcoral",
          "line": {
           "color": "white",
           "width": 1
          },
          "size": 16
         },
         "mode": "markers",
         "name": "DroppedCalls",
         "opacity": 0.75,
         "type": "scatter",
         "x": [
          0.024631808261063343
         ],
         "y": [
          0.07844937942141486
         ]
        },
        {
         "marker": {
          "line": {
           "color": "white",
           "width": 1
          },
          "size": 16
         },
         "mode": "markers",
         "name": "BlockedCalls",
         "opacity": 0.75,
         "type": "scatter",
         "x": [
          0.05027975037673226
         ],
         "y": [
          0.05744759073611423
         ]
        },
        {
         "marker": {
          "line": {
           "color": "white",
           "width": 1
          },
          "size": 16
         },
         "mode": "markers",
         "name": "UnansweredCalls",
         "opacity": 0.75,
         "type": "scatter",
         "x": [
          0.016858129562999702
         ],
         "y": [
          0.0856123454337905
         ]
        },
        {
         "marker": {
          "line": {
           "color": "white",
           "width": 1
          },
          "size": 16
         },
         "mode": "markers",
         "name": "CustomerCareCalls",
         "opacity": 0.75,
         "type": "scatter",
         "x": [
          0.030931645572019942
         ],
         "y": [
          0.020986285861067464
         ]
        },
        {
         "marker": {
          "line": {
           "color": "white",
           "width": 1
          },
          "size": 16
         },
         "mode": "markers",
         "name": "ThreewayCalls",
         "opacity": 0.75,
         "type": "scatter",
         "x": [
          0.03754077092226761
         ],
         "y": [
          0.04458568614231669
         ]
        },
        {
         "marker": {
          "line": {
           "color": "white",
           "width": 1
          },
          "size": 16
         },
         "mode": "markers",
         "name": "ReceivedCalls",
         "opacity": 0.75,
         "type": "scatter",
         "x": [
          0.02570939084146971
         ],
         "y": [
          0.10471367979420394
         ]
        },
        {
         "marker": {
          "line": {
           "color": "white",
           "width": 1
          },
          "size": 16
         },
         "mode": "markers",
         "name": "OutboundCalls",
         "opacity": 0.75,
         "type": "scatter",
         "x": [
          0.015412479695453417
         ],
         "y": [
          0.09847532508800341
         ]
        },
        {
         "marker": {
          "line": {
           "color": "white",
           "width": 1
          },
          "size": 16
         },
         "mode": "markers",
         "name": "InboundCalls",
         "opacity": 0.75,
         "type": "scatter",
         "x": [
          0.0004945537267670497
         ],
         "y": [
          0.08645997420762422
         ]
        },
        {
         "marker": {
          "line": {
           "color": "white",
           "width": 1
          },
          "size": 16
         },
         "mode": "markers",
         "name": "PeakCallsInOut",
         "opacity": 0.75,
         "type": "scatter",
         "x": [
          -0.006557737044376052
         ],
         "y": [
          0.12911663939278692
         ]
        },
        {
         "marker": {
          "line": {
           "color": "white",
           "width": 1
          },
          "size": 16
         },
         "mode": "markers",
         "name": "OffPeakCallsInOut",
         "opacity": 0.75,
         "type": "scatter",
         "x": [
          0.03661642656070152
         ],
         "y": [
          0.09637071655506413
         ]
        },
        {
         "marker": {
          "line": {
           "color": "white",
           "width": 1
          },
          "size": 16
         },
         "mode": "markers",
         "name": "DroppedBlockedCalls",
         "opacity": 0.75,
         "type": "scatter",
         "x": [
          0.05028835803928843
         ],
         "y": [
          0.08650499782663688
         ]
        },
        {
         "marker": {
          "line": {
           "color": "white",
           "width": 1
          },
          "size": 16
         },
         "mode": "markers",
         "name": "CallForwardingCalls",
         "opacity": 0.75,
         "type": "scatter",
         "x": [
          -0.00545282841798863
         ],
         "y": [
          0.00025761911442255666
         ]
        },
        {
         "marker": {
          "line": {
           "color": "white",
           "width": 1
          },
          "size": 16
         },
         "mode": "markers",
         "name": "CallWaitingCalls",
         "opacity": 0.75,
         "type": "scatter",
         "x": [
          0.021013987336137185
         ],
         "y": [
          0.11535456047323296
         ]
        },
        {
         "marker": {
          "line": {
           "color": "white",
           "width": 1
          },
          "size": 16
         },
         "mode": "markers",
         "name": "MonthsInService",
         "opacity": 0.75,
         "type": "scatter",
         "x": [
          -0.31778008253585677
         ],
         "y": [
          0.06950868301112093
         ]
        },
        {
         "marker": {
          "line": {
           "color": "white",
           "width": 1
          },
          "size": 16
         },
         "mode": "markers",
         "name": "UniqueSubs",
         "opacity": 0.75,
         "type": "scatter",
         "x": [
          -0.05114132958068735
         ],
         "y": [
          0.031223599377201344
         ]
        },
        {
         "marker": {
          "line": {
           "color": "white",
           "width": 1
          },
          "size": 16
         },
         "mode": "markers",
         "name": "ActiveSubs",
         "opacity": 0.75,
         "type": "scatter",
         "x": [
          -0.039879177757348984
         ],
         "y": [
          0.05191156927898029
         ]
        },
        {
         "marker": {
          "line": {
           "color": "white",
           "width": 1
          },
          "size": 16
         },
         "mode": "markers",
         "name": "Handsets",
         "opacity": 0.75,
         "type": "scatter",
         "x": [
          -0.3052559666901375
         ],
         "y": [
          0.0767357739192508
         ]
        },
        {
         "marker": {
          "line": {
           "color": "white",
           "width": 1
          },
          "size": 16
         },
         "mode": "markers",
         "name": "HandsetModels",
         "opacity": 0.75,
         "type": "scatter",
         "x": [
          -0.3111076191501666
         ],
         "y": [
          0.07528093118939831
         ]
        },
        {
         "marker": {
          "line": {
           "color": "white",
           "width": 1
          },
          "size": 16
         },
         "mode": "markers",
         "name": "CurrentEquipmentDays",
         "opacity": 0.75,
         "type": "scatter",
         "x": [
          -0.023800651089011617
         ],
         "y": [
          -0.0027584350102400415
         ]
        },
        {
         "marker": {
          "line": {
           "color": "white",
           "width": 1
          },
          "size": 16
         },
         "mode": "markers",
         "name": "AgeHH1",
         "opacity": 0.75,
         "type": "scatter",
         "x": [
          0.0015362247730847036
         ],
         "y": [
          0.2675751479767205
         ]
        },
        {
         "marker": {
          "line": {
           "color": "white",
           "width": 1
          },
          "size": 16
         },
         "mode": "markers",
         "name": "AgeHH2",
         "opacity": 0.75,
         "type": "scatter",
         "x": [
          0.016362740719099083
         ],
         "y": [
          0.24650209340793827
         ]
        },
        {
         "marker": {
          "line": {
           "color": "white",
           "width": 1
          },
          "size": 16
         },
         "mode": "markers",
         "name": "RetentionCalls",
         "opacity": 0.75,
         "type": "scatter",
         "x": [
          -0.43916008837928144
         ],
         "y": [
          0.000774839332886779
         ]
        },
        {
         "marker": {
          "line": {
           "color": "white",
           "width": 1
          },
          "size": 16
         },
         "mode": "markers",
         "name": "RetentionOffersAccepted",
         "opacity": 0.75,
         "type": "scatter",
         "x": [
          -0.3929087741534522
         ],
         "y": [
          0.0037123059001922523
         ]
        },
        {
         "marker": {
          "line": {
           "color": "white",
           "width": 1
          },
          "size": 16
         },
         "mode": "markers",
         "name": "ReferralsMadeBySubscriber",
         "opacity": 0.75,
         "type": "scatter",
         "x": [
          -0.0035893648270634106
         ],
         "y": [
          0.00570442848302642
         ]
        },
        {
         "marker": {
          "line": {
           "color": "white",
           "width": 1
          },
          "size": 16
         },
         "mode": "markers",
         "name": "IncomeGroup",
         "opacity": 0.75,
         "type": "scatter",
         "x": [
          -0.0016266184874229941
         ],
         "y": [
          0.2547721883525632
         ]
        },
        {
         "marker": {
          "line": {
           "color": "white",
           "width": 1
          },
          "size": 16
         },
         "mode": "markers",
         "name": "AdjustmentsToCreditRating",
         "opacity": 0.75,
         "type": "scatter",
         "x": [
          -0.13828038381574564
         ],
         "y": [
          0.02323788132782068
         ]
        },
        {
         "marker": {
          "line": {
           "color": "white",
           "width": 1
          },
          "size": 16
         },
         "mode": "markers",
         "name": "AvgMinsArea",
         "opacity": 0.75,
         "type": "scatter",
         "x": [
          -0.012864936122420973
         ],
         "y": [
          -0.005699365950428447
         ]
        },
        {
         "marker": {
          "line": {
           "color": "white",
           "width": 1
          },
          "size": 16
         },
         "mode": "markers",
         "name": "MedianRevArea",
         "opacity": 0.75,
         "type": "scatter",
         "x": [
          -0.013380562521126625
         ],
         "y": [
          -0.00969995397383507
         ]
        },
        {
         "marker": {
          "line": {
           "color": "white",
           "width": 1
          },
          "size": 16
         },
         "mode": "markers",
         "name": "IndexedRev",
         "opacity": 0.75,
         "type": "scatter",
         "x": [
          0.044682749454511735
         ],
         "y": [
          0.12056415455000742
         ]
        },
        {
         "marker": {
          "line": {
           "color": "white",
           "width": 1
          },
          "size": 16
         },
         "mode": "markers",
         "name": "OverPay",
         "opacity": 0.75,
         "type": "scatter",
         "x": [
          0.032571309850201666
         ],
         "y": [
          0.10389558323271375
         ]
        },
        {
         "marker": {
          "line": {
           "color": "white",
           "width": 1
          },
          "size": 16
         },
         "mode": "markers",
         "name": "HandsetPrice",
         "opacity": 0.75,
         "type": "scatter",
         "x": [
          -0.01508708587876698
         ],
         "y": [
          0.021049645907773903
         ]
        },
        {
         "marker": {
          "line": {
           "color": "white",
           "width": 1
          },
          "size": 16
         },
         "mode": "markers",
         "name": "ChildrenInHH_i_e_No",
         "opacity": 0.75,
         "type": "scatter",
         "x": [
          -0.027412822796968585
         ],
         "y": [
          -0.1898344696501
         ]
        },
        {
         "marker": {
          "line": {
           "color": "white",
           "width": 1
          },
          "size": 16
         },
         "mode": "markers",
         "name": "HandsetRefurbished_i_e_No",
         "opacity": 0.75,
         "type": "scatter",
         "x": [
          0.15006484185939517
         ],
         "y": [
          -0.0199457615458692
         ]
        },
        {
         "marker": {
          "line": {
           "color": "white",
           "width": 1
          },
          "size": 16
         },
         "mode": "markers",
         "name": "HandsetWebCapable_i_e_Yes",
         "opacity": 0.75,
         "type": "scatter",
         "x": [
          0.07387803841945666
         ],
         "y": [
          -0.004082793090104133
         ]
        },
        {
         "marker": {
          "line": {
           "color": "white",
           "width": 1
          },
          "size": 16
         },
         "mode": "markers",
         "name": "TruckOwner_i_e_No",
         "opacity": 0.75,
         "type": "scatter",
         "x": [
          0.0008837666301582584
         ],
         "y": [
          -0.15269309582144347
         ]
        },
        {
         "marker": {
          "line": {
           "color": "white",
           "width": 1
          },
          "size": 16
         },
         "mode": "markers",
         "name": "RVOwner_i_e_No",
         "opacity": 0.75,
         "type": "scatter",
         "x": [
          0.0029128036343009727
         ],
         "y": [
          -0.10920150597634311
         ]
        },
        {
         "marker": {
          "line": {
           "color": "white",
           "width": 1
          },
          "size": 16
         },
         "mode": "markers",
         "name": "Homeownership_i_e_Known",
         "opacity": 0.75,
         "type": "scatter",
         "x": [
          -0.0016121314875107184
         ],
         "y": [
          0.2731670724909745
         ]
        },
        {
         "marker": {
          "line": {
           "color": "white",
           "width": 1
          },
          "size": 16
         },
         "mode": "markers",
         "name": "BuysViaMailOrder_i_e_No",
         "opacity": 0.75,
         "type": "scatter",
         "x": [
          -0.031201940216314873
         ],
         "y": [
          -0.2514738627512799
         ]
        },
        {
         "marker": {
          "line": {
           "color": "white",
           "width": 1
          },
          "size": 16
         },
         "mode": "markers",
         "name": "RespondsToMailOffers_i_e_No",
         "opacity": 0.75,
         "type": "scatter",
         "x": [
          -0.028650901063852773
         ],
         "y": [
          -0.255254938563041
         ]
        },
        {
         "marker": {
          "line": {
           "color": "white",
           "width": 1
          },
          "size": 16
         },
         "mode": "markers",
         "name": "OptOutMailings_i_e_No",
         "opacity": 0.75,
         "type": "scatter",
         "x": [
          -5.2414395494623294e-05
         ],
         "y": [
          -0.030772933781927886
         ]
        },
        {
         "marker": {
          "line": {
           "color": "white",
           "width": 1
          },
          "size": 16
         },
         "mode": "markers",
         "name": "NonUSTravel_i_e_No",
         "opacity": 0.75,
         "type": "scatter",
         "x": [
          -0.00897076734927621
         ],
         "y": [
          -0.10078593247577505
         ]
        },
        {
         "marker": {
          "line": {
           "color": "white",
           "width": 1
          },
          "size": 16
         },
         "mode": "markers",
         "name": "OwnsComputer_i_e_No",
         "opacity": 0.75,
         "type": "scatter",
         "x": [
          -0.019974723863546193
         ],
         "y": [
          -0.17244615438870886
         ]
        },
        {
         "marker": {
          "line": {
           "color": "white",
           "width": 1
          },
          "size": 16
         },
         "mode": "markers",
         "name": "HasCreditCard_i_e_Yes",
         "opacity": 0.75,
         "type": "scatter",
         "x": [
          -0.008351288933449372
         ],
         "y": [
          0.26403285454299585
         ]
        },
        {
         "marker": {
          "line": {
           "color": "white",
           "width": 1
          },
          "size": 16
         },
         "mode": "markers",
         "name": "NewCellphoneUser_i_e_No",
         "opacity": 0.75,
         "type": "scatter",
         "x": [
          0.04797447357364765
         ],
         "y": [
          -0.008508133915298168
         ]
        },
        {
         "marker": {
          "line": {
           "color": "white",
           "width": 1
          },
          "size": 16
         },
         "mode": "markers",
         "name": "NotNewCellphoneUser_i_e_No",
         "opacity": 0.75,
         "type": "scatter",
         "x": [
          0.11225789456942108
         ],
         "y": [
          -0.02775554305463513
         ]
        },
        {
         "marker": {
          "line": {
           "color": "white",
           "width": 1
          },
          "size": 16
         },
         "mode": "markers",
         "name": "OwnsMotorcycle_i_e_No",
         "opacity": 0.75,
         "type": "scatter",
         "x": [
          0.002369715044129689
         ],
         "y": [
          -0.039739540311909356
         ]
        },
        {
         "marker": {
          "line": {
           "color": "white",
           "width": 1
          },
          "size": 16
         },
         "mode": "markers",
         "name": "MadeCallToRetentionTeam_i_e_No",
         "opacity": 0.75,
         "type": "scatter",
         "x": [
          0.43096359062764245
         ],
         "y": [
          -0.0005347640610814174
         ]
        },
        {
         "marker": {
          "line": {
           "color": "white",
           "width": 1
          },
          "size": 16
         },
         "mode": "markers",
         "name": "CreditRating_i_e_2-High",
         "opacity": 0.75,
         "type": "scatter",
         "x": [
          0.17253890427158664
         ],
         "y": [
          0.021053611072882342
         ]
        },
        {
         "marker": {
          "line": {
           "color": "white",
           "width": 1
          },
          "size": 16
         },
         "mode": "markers",
         "name": "CreditRating_i_e_1-Highest",
         "opacity": 0.75,
         "type": "scatter",
         "x": [
          -0.21581385346864787
         ],
         "y": [
          0.06221237832845248
         ]
        },
        {
         "marker": {
          "line": {
           "color": "white",
           "width": 1
          },
          "size": 16
         },
         "mode": "markers",
         "name": "CreditRating_i_e_3-Good",
         "opacity": 0.75,
         "type": "scatter",
         "x": [
          -0.035187326571025315
         ],
         "y": [
          -0.004665116730941682
         ]
        },
        {
         "marker": {
          "line": {
           "color": "white",
           "width": 1
          },
          "size": 16
         },
         "mode": "markers",
         "name": "CreditRating_i_e_5-Low",
         "opacity": 0.75,
         "type": "scatter",
         "x": [
          0.03033087633099009
         ],
         "y": [
          -0.03310201825380157
         ]
        },
        {
         "marker": {
          "line": {
           "color": "white",
           "width": 1
          },
          "size": 16
         },
         "mode": "markers",
         "name": "CreditRating_i_e_4-Medium",
         "opacity": 0.75,
         "type": "scatter",
         "x": [
          0.0037739753415354897
         ],
         "y": [
          -0.025582080899465117
         ]
        },
        {
         "marker": {
          "line": {
           "color": "white",
           "width": 1
          },
          "size": 16
         },
         "mode": "markers",
         "name": "CreditRating_i_e_7-Lowest",
         "opacity": 0.75,
         "type": "scatter",
         "x": [
          0.014150717640218835
         ],
         "y": [
          -0.05131032047366715
         ]
        },
        {
         "marker": {
          "line": {
           "color": "white",
           "width": 1
          },
          "size": 16
         },
         "mode": "markers",
         "name": "PrizmCode_i_e_Other",
         "opacity": 0.75,
         "type": "scatter",
         "x": [
          -0.029115004143865864
         ],
         "y": [
          -0.09097519560391056
         ]
        },
        {
         "marker": {
          "line": {
           "color": "white",
           "width": 1
          },
          "size": 16
         },
         "mode": "markers",
         "name": "PrizmCode_i_e_Suburban",
         "opacity": 0.75,
         "type": "scatter",
         "x": [
          -0.008135940166219633
         ],
         "y": [
          0.0599548813474161
         ]
        },
        {
         "marker": {
          "line": {
           "color": "white",
           "width": 1
          },
          "size": 16
         },
         "mode": "markers",
         "name": "PrizmCode_i_e_Town",
         "opacity": 0.75,
         "type": "scatter",
         "x": [
          0.040040357829531574
         ],
         "y": [
          0.04009891789075257
         ]
        },
        {
         "marker": {
          "line": {
           "color": "white",
           "width": 1
          },
          "size": 16
         },
         "mode": "markers",
         "name": "Occupation_i_e_Other",
         "opacity": 0.75,
         "type": "scatter",
         "x": [
          -0.02883443197416256
         ],
         "y": [
          -0.2115611259694443
         ]
        },
        {
         "marker": {
          "line": {
           "color": "white",
           "width": 1
          },
          "size": 16
         },
         "mode": "markers",
         "name": "Occupation_i_e_Professional",
         "opacity": 0.75,
         "type": "scatter",
         "x": [
          0.024484478162541935
         ],
         "y": [
          0.17229767305686863
         ]
        },
        {
         "marker": {
          "line": {
           "color": "white",
           "width": 1
          },
          "size": 16
         },
         "mode": "markers",
         "name": "Occupation_i_e_Crafts",
         "opacity": 0.75,
         "type": "scatter",
         "x": [
          0.018107471166993506
         ],
         "y": [
          0.05220661693278921
         ]
        },
        {
         "marker": {
          "line": {
           "color": "white",
           "width": 1
          },
          "size": 16
         },
         "mode": "markers",
         "name": "Occupation_i_e_Clerical",
         "opacity": 0.75,
         "type": "scatter",
         "x": [
          0.0006860900464806443
         ],
         "y": [
          0.03658380596777167
         ]
        },
        {
         "marker": {
          "line": {
           "color": "white",
           "width": 1
          },
          "size": 16
         },
         "mode": "markers",
         "name": "Occupation_i_e_Self",
         "opacity": 0.75,
         "type": "scatter",
         "x": [
          -0.008357725027849063
         ],
         "y": [
          0.05293074413024917
         ]
        },
        {
         "marker": {
          "line": {
           "color": "white",
           "width": 1
          },
          "size": 16
         },
         "mode": "markers",
         "name": "Occupation_i_e_Retired",
         "opacity": 0.75,
         "type": "scatter",
         "x": [
          0.004880436711774387
         ],
         "y": [
          0.04219130192226799
         ]
        },
        {
         "marker": {
          "line": {
           "color": "white",
           "width": 1
          },
          "size": 16
         },
         "mode": "markers",
         "name": "Occupation_i_e_Student",
         "opacity": 0.75,
         "type": "scatter",
         "x": [
          0.007260255329204485
         ],
         "y": [
          0.019421001446054145
         ]
        },
        {
         "marker": {
          "line": {
           "color": "white",
           "width": 1
          },
          "size": 16
         },
         "mode": "markers",
         "name": "MaritalStatus_i_e_Unknown",
         "opacity": 0.75,
         "type": "scatter",
         "x": [
          -0.005697609159313363
         ],
         "y": [
          -0.24901599903262703
         ]
        },
        {
         "marker": {
          "line": {
           "color": "white",
           "width": 1
          },
          "size": 16
         },
         "mode": "markers",
         "name": "MaritalStatus_i_e_Yes",
         "opacity": 0.75,
         "type": "scatter",
         "x": [
          0.025486733390656532
         ],
         "y": [
          0.23847370489608108
         ]
        }
       ],
       "layout": {
        "bargap": 0.3,
        "height": 500,
        "hovermode": "x",
        "legend": {
         "font": {
          "color": "#000",
          "family": "Arial, sans-serif",
          "size": 14
         }
        },
        "paper_bgcolor": "white",
        "plot_bgcolor": "white",
        "template": {
         "data": {
          "bar": [
           {
            "error_x": {
             "color": "#2a3f5f"
            },
            "error_y": {
             "color": "#2a3f5f"
            },
            "marker": {
             "line": {
              "color": "#E5ECF6",
              "width": 0.5
             }
            },
            "type": "bar"
           }
          ],
          "barpolar": [
           {
            "marker": {
             "line": {
              "color": "#E5ECF6",
              "width": 0.5
             }
            },
            "type": "barpolar"
           }
          ],
          "carpet": [
           {
            "aaxis": {
             "endlinecolor": "#2a3f5f",
             "gridcolor": "white",
             "linecolor": "white",
             "minorgridcolor": "white",
             "startlinecolor": "#2a3f5f"
            },
            "baxis": {
             "endlinecolor": "#2a3f5f",
             "gridcolor": "white",
             "linecolor": "white",
             "minorgridcolor": "white",
             "startlinecolor": "#2a3f5f"
            },
            "type": "carpet"
           }
          ],
          "choropleth": [
           {
            "colorbar": {
             "outlinewidth": 0,
             "ticks": ""
            },
            "type": "choropleth"
           }
          ],
          "contour": [
           {
            "colorbar": {
             "outlinewidth": 0,
             "ticks": ""
            },
            "colorscale": [
             [
              0,
              "#0d0887"
             ],
             [
              0.1111111111111111,
              "#46039f"
             ],
             [
              0.2222222222222222,
              "#7201a8"
             ],
             [
              0.3333333333333333,
              "#9c179e"
             ],
             [
              0.4444444444444444,
              "#bd3786"
             ],
             [
              0.5555555555555556,
              "#d8576b"
             ],
             [
              0.6666666666666666,
              "#ed7953"
             ],
             [
              0.7777777777777778,
              "#fb9f3a"
             ],
             [
              0.8888888888888888,
              "#fdca26"
             ],
             [
              1,
              "#f0f921"
             ]
            ],
            "type": "contour"
           }
          ],
          "contourcarpet": [
           {
            "colorbar": {
             "outlinewidth": 0,
             "ticks": ""
            },
            "type": "contourcarpet"
           }
          ],
          "heatmap": [
           {
            "colorbar": {
             "outlinewidth": 0,
             "ticks": ""
            },
            "colorscale": [
             [
              0,
              "#0d0887"
             ],
             [
              0.1111111111111111,
              "#46039f"
             ],
             [
              0.2222222222222222,
              "#7201a8"
             ],
             [
              0.3333333333333333,
              "#9c179e"
             ],
             [
              0.4444444444444444,
              "#bd3786"
             ],
             [
              0.5555555555555556,
              "#d8576b"
             ],
             [
              0.6666666666666666,
              "#ed7953"
             ],
             [
              0.7777777777777778,
              "#fb9f3a"
             ],
             [
              0.8888888888888888,
              "#fdca26"
             ],
             [
              1,
              "#f0f921"
             ]
            ],
            "type": "heatmap"
           }
          ],
          "heatmapgl": [
           {
            "colorbar": {
             "outlinewidth": 0,
             "ticks": ""
            },
            "colorscale": [
             [
              0,
              "#0d0887"
             ],
             [
              0.1111111111111111,
              "#46039f"
             ],
             [
              0.2222222222222222,
              "#7201a8"
             ],
             [
              0.3333333333333333,
              "#9c179e"
             ],
             [
              0.4444444444444444,
              "#bd3786"
             ],
             [
              0.5555555555555556,
              "#d8576b"
             ],
             [
              0.6666666666666666,
              "#ed7953"
             ],
             [
              0.7777777777777778,
              "#fb9f3a"
             ],
             [
              0.8888888888888888,
              "#fdca26"
             ],
             [
              1,
              "#f0f921"
             ]
            ],
            "type": "heatmapgl"
           }
          ],
          "histogram": [
           {
            "marker": {
             "colorbar": {
              "outlinewidth": 0,
              "ticks": ""
             }
            },
            "type": "histogram"
           }
          ],
          "histogram2d": [
           {
            "colorbar": {
             "outlinewidth": 0,
             "ticks": ""
            },
            "colorscale": [
             [
              0,
              "#0d0887"
             ],
             [
              0.1111111111111111,
              "#46039f"
             ],
             [
              0.2222222222222222,
              "#7201a8"
             ],
             [
              0.3333333333333333,
              "#9c179e"
             ],
             [
              0.4444444444444444,
              "#bd3786"
             ],
             [
              0.5555555555555556,
              "#d8576b"
             ],
             [
              0.6666666666666666,
              "#ed7953"
             ],
             [
              0.7777777777777778,
              "#fb9f3a"
             ],
             [
              0.8888888888888888,
              "#fdca26"
             ],
             [
              1,
              "#f0f921"
             ]
            ],
            "type": "histogram2d"
           }
          ],
          "histogram2dcontour": [
           {
            "colorbar": {
             "outlinewidth": 0,
             "ticks": ""
            },
            "colorscale": [
             [
              0,
              "#0d0887"
             ],
             [
              0.1111111111111111,
              "#46039f"
             ],
             [
              0.2222222222222222,
              "#7201a8"
             ],
             [
              0.3333333333333333,
              "#9c179e"
             ],
             [
              0.4444444444444444,
              "#bd3786"
             ],
             [
              0.5555555555555556,
              "#d8576b"
             ],
             [
              0.6666666666666666,
              "#ed7953"
             ],
             [
              0.7777777777777778,
              "#fb9f3a"
             ],
             [
              0.8888888888888888,
              "#fdca26"
             ],
             [
              1,
              "#f0f921"
             ]
            ],
            "type": "histogram2dcontour"
           }
          ],
          "mesh3d": [
           {
            "colorbar": {
             "outlinewidth": 0,
             "ticks": ""
            },
            "type": "mesh3d"
           }
          ],
          "parcoords": [
           {
            "line": {
             "colorbar": {
              "outlinewidth": 0,
              "ticks": ""
             }
            },
            "type": "parcoords"
           }
          ],
          "scatter": [
           {
            "marker": {
             "colorbar": {
              "outlinewidth": 0,
              "ticks": ""
             }
            },
            "type": "scatter"
           }
          ],
          "scatter3d": [
           {
            "line": {
             "colorbar": {
              "outlinewidth": 0,
              "ticks": ""
             }
            },
            "marker": {
             "colorbar": {
              "outlinewidth": 0,
              "ticks": ""
             }
            },
            "type": "scatter3d"
           }
          ],
          "scattercarpet": [
           {
            "marker": {
             "colorbar": {
              "outlinewidth": 0,
              "ticks": ""
             }
            },
            "type": "scattercarpet"
           }
          ],
          "scattergeo": [
           {
            "marker": {
             "colorbar": {
              "outlinewidth": 0,
              "ticks": ""
             }
            },
            "type": "scattergeo"
           }
          ],
          "scattergl": [
           {
            "marker": {
             "colorbar": {
              "outlinewidth": 0,
              "ticks": ""
             }
            },
            "type": "scattergl"
           }
          ],
          "scattermapbox": [
           {
            "marker": {
             "colorbar": {
              "outlinewidth": 0,
              "ticks": ""
             }
            },
            "type": "scattermapbox"
           }
          ],
          "scatterpolar": [
           {
            "marker": {
             "colorbar": {
              "outlinewidth": 0,
              "ticks": ""
             }
            },
            "type": "scatterpolar"
           }
          ],
          "scatterpolargl": [
           {
            "marker": {
             "colorbar": {
              "outlinewidth": 0,
              "ticks": ""
             }
            },
            "type": "scatterpolargl"
           }
          ],
          "scatterternary": [
           {
            "marker": {
             "colorbar": {
              "outlinewidth": 0,
              "ticks": ""
             }
            },
            "type": "scatterternary"
           }
          ],
          "surface": [
           {
            "colorbar": {
             "outlinewidth": 0,
             "ticks": ""
            },
            "colorscale": [
             [
              0,
              "#0d0887"
             ],
             [
              0.1111111111111111,
              "#46039f"
             ],
             [
              0.2222222222222222,
              "#7201a8"
             ],
             [
              0.3333333333333333,
              "#9c179e"
             ],
             [
              0.4444444444444444,
              "#bd3786"
             ],
             [
              0.5555555555555556,
              "#d8576b"
             ],
             [
              0.6666666666666666,
              "#ed7953"
             ],
             [
              0.7777777777777778,
              "#fb9f3a"
             ],
             [
              0.8888888888888888,
              "#fdca26"
             ],
             [
              1,
              "#f0f921"
             ]
            ],
            "type": "surface"
           }
          ],
          "table": [
           {
            "cells": {
             "fill": {
              "color": "#EBF0F8"
             },
             "line": {
              "color": "white"
             }
            },
            "header": {
             "fill": {
              "color": "#C8D4E3"
             },
             "line": {
              "color": "white"
             }
            },
            "type": "table"
           }
          ]
         },
         "layout": {
          "annotationdefaults": {
           "arrowcolor": "#2a3f5f",
           "arrowhead": 0,
           "arrowwidth": 1
          },
          "colorscale": {
           "diverging": [
            [
             0,
             "#8e0152"
            ],
            [
             0.1,
             "#c51b7d"
            ],
            [
             0.2,
             "#de77ae"
            ],
            [
             0.3,
             "#f1b6da"
            ],
            [
             0.4,
             "#fde0ef"
            ],
            [
             0.5,
             "#f7f7f7"
            ],
            [
             0.6,
             "#e6f5d0"
            ],
            [
             0.7,
             "#b8e186"
            ],
            [
             0.8,
             "#7fbc41"
            ],
            [
             0.9,
             "#4d9221"
            ],
            [
             1,
             "#276419"
            ]
           ],
           "sequential": [
            [
             0,
             "#0d0887"
            ],
            [
             0.1111111111111111,
             "#46039f"
            ],
            [
             0.2222222222222222,
             "#7201a8"
            ],
            [
             0.3333333333333333,
             "#9c179e"
            ],
            [
             0.4444444444444444,
             "#bd3786"
            ],
            [
             0.5555555555555556,
             "#d8576b"
            ],
            [
             0.6666666666666666,
             "#ed7953"
            ],
            [
             0.7777777777777778,
             "#fb9f3a"
            ],
            [
             0.8888888888888888,
             "#fdca26"
            ],
            [
             1,
             "#f0f921"
            ]
           ],
           "sequentialminus": [
            [
             0,
             "#0d0887"
            ],
            [
             0.1111111111111111,
             "#46039f"
            ],
            [
             0.2222222222222222,
             "#7201a8"
            ],
            [
             0.3333333333333333,
             "#9c179e"
            ],
            [
             0.4444444444444444,
             "#bd3786"
            ],
            [
             0.5555555555555556,
             "#d8576b"
            ],
            [
             0.6666666666666666,
             "#ed7953"
            ],
            [
             0.7777777777777778,
             "#fb9f3a"
            ],
            [
             0.8888888888888888,
             "#fdca26"
            ],
            [
             1,
             "#f0f921"
            ]
           ]
          },
          "colorway": [
           "#636efa",
           "#EF553B",
           "#00cc96",
           "#ab63fa",
           "#FFA15A",
           "#19d3f3",
           "#FF6692",
           "#B6E880",
           "#FF97FF",
           "#FECB52"
          ],
          "font": {
           "color": "#2a3f5f"
          },
          "geo": {
           "bgcolor": "white",
           "lakecolor": "white",
           "landcolor": "#E5ECF6",
           "showlakes": true,
           "showland": true,
           "subunitcolor": "white"
          },
          "hoverlabel": {
           "align": "left"
          },
          "hovermode": "closest",
          "mapbox": {
           "style": "light"
          },
          "paper_bgcolor": "white",
          "plot_bgcolor": "#E5ECF6",
          "polar": {
           "angularaxis": {
            "gridcolor": "white",
            "linecolor": "white",
            "ticks": ""
           },
           "bgcolor": "#E5ECF6",
           "radialaxis": {
            "gridcolor": "white",
            "linecolor": "white",
            "ticks": ""
           }
          },
          "scene": {
           "xaxis": {
            "backgroundcolor": "#E5ECF6",
            "gridcolor": "white",
            "gridwidth": 2,
            "linecolor": "white",
            "showbackground": true,
            "ticks": "",
            "zerolinecolor": "white"
           },
           "yaxis": {
            "backgroundcolor": "#E5ECF6",
            "gridcolor": "white",
            "gridwidth": 2,
            "linecolor": "white",
            "showbackground": true,
            "ticks": "",
            "zerolinecolor": "white"
           },
           "zaxis": {
            "backgroundcolor": "#E5ECF6",
            "gridcolor": "white",
            "gridwidth": 2,
            "linecolor": "white",
            "showbackground": true,
            "ticks": "",
            "zerolinecolor": "white"
           }
          },
          "shapedefaults": {
           "line": {
            "color": "#2a3f5f"
           }
          },
          "ternary": {
           "aaxis": {
            "gridcolor": "white",
            "linecolor": "white",
            "ticks": ""
           },
           "baxis": {
            "gridcolor": "white",
            "linecolor": "white",
            "ticks": ""
           },
           "bgcolor": "#E5ECF6",
           "caxis": {
            "gridcolor": "white",
            "linecolor": "white",
            "ticks": ""
           }
          },
          "title": {
           "x": 0.05
          },
          "xaxis": {
           "automargin": true,
           "gridcolor": "white",
           "linecolor": "white",
           "ticks": "",
           "zerolinecolor": "white",
           "zerolinewidth": 2
          },
          "yaxis": {
           "automargin": true,
           "gridcolor": "white",
           "linecolor": "white",
           "ticks": "",
           "zerolinecolor": "white",
           "zerolinewidth": 2
          }
         }
        },
        "title": {
         "font": {
          "color": "black",
          "family": "Arial, sans-serif",
          "size": 26
         },
         "text": "<br>Pc2 vs Pc1<br>",
         "x": 0.5,
         "xanchor": "center"
        },
        "width": 800,
        "xaxis": {
         "automargin": true,
         "autorange": true,
         "hoverformat": ".1f",
         "mirror": "ticks",
         "range": [
          -0.5136513365279672,
          0.5054548387763282
         ],
         "tickangle": 0,
         "tickfont": {
          "color": "black",
          "family": "Arial, sans-serif",
          "size": 14
         },
         "title": {
          "font": {
           "color": "black",
           "family": "Arial, sans-serif",
           "size": 14
          },
          "text": "Pc2"
         },
         "type": "linear",
         "zeroline": true,
         "zerolinecolor": "LightGrey",
         "zerolinewidth": 1
        },
        "yaxis": {
         "automargin": true,
         "autorange": true,
         "gridcolor": "LightGrey",
         "gridwidth": 1,
         "hoverformat": ".1f",
         "mirror": "ticks",
         "range": [
          -0.30651976053096786,
          0.32443189445890136
         ],
         "showgrid": true,
         "tickfont": {
          "color": "black",
          "family": "Arial, sans-serif",
          "size": 14
         },
         "title": {
          "font": {
           "color": "black",
           "family": "Arial, sans-serif",
           "size": 14
          },
          "text": "Pc1"
         },
         "type": "linear",
         "zeroline": true,
         "zerolinecolor": "LightGrey",
         "zerolinewidth": 1
        }
       }
      },
      "image/png": "[encoded data removed]",
      "text/html": [
       "<div>\n",
       "        \n",
       "        \n",
       "            <div id=\"fe34c5d9-1a57-4c5b-befa-9f15141d04b1\" class=\"plotly-graph-div\" style=\"height:500px; width:800px;\"></div>\n",
       "            <script type=\"text/javascript\">\n",
       "                require([\"plotly\"], function(Plotly) {\n",
       "                    window.PLOTLYENV=window.PLOTLYENV || {};\n",
       "                    \n",
       "                if (document.getElementById(\"fe34c5d9-1a57-4c5b-befa-9f15141d04b1\")) {\n",
       "                    Plotly.newPlot(\n",
       "                        'fe34c5d9-1a57-4c5b-befa-9f15141d04b1',\n",
       "                        [{\"marker\": {\"color\": \"midnightblue\", \"line\": {\"color\": \"white\", \"width\": 1}, \"size\": 16}, \"mode\": \"markers\", \"name\": \"MonthlyRevenue\", \"opacity\": 0.75, \"type\": \"scatter\", \"x\": [0.041781880731432686], \"y\": [0.11966072649549309]}, {\"marker\": {\"color\": \"darkmagenta\", \"line\": {\"color\": \"white\", \"width\": 1}, \"size\": 16}, \"mode\": \"markers\", \"name\": \"MonthlyMinutes\", \"opacity\": 0.75, \"type\": \"scatter\", \"x\": [0.04027702689401218], \"y\": [0.10933437093939086]}, {\"marker\": {\"color\": \"seagreen\", \"line\": {\"color\": \"white\", \"width\": 1}, \"size\": 16}, \"mode\": \"markers\", \"name\": \"TotalRecurringCharge\", \"opacity\": 0.75, \"type\": \"scatter\", \"x\": [0.030471703258633916], \"y\": [0.07176307885544497]}, {\"marker\": {\"color\": \"firebrick\", \"line\": {\"color\": \"white\", \"width\": 1}, \"size\": 16}, \"mode\": \"markers\", \"name\": \"DirectorAssistedCalls\", \"opacity\": 0.75, \"type\": \"scatter\", \"x\": [-0.0024390615218380374], \"y\": [0.07116390491838093]}, {\"marker\": {\"color\": \"#f4bc61\", \"line\": {\"color\": \"white\", \"width\": 1}, \"size\": 16}, \"mode\": \"markers\", \"name\": \"OverageMinutes\", \"opacity\": 0.75, \"type\": \"scatter\", \"x\": [0.04715572642438337], \"y\": [0.11094268396202252]}, {\"marker\": {\"color\": \"#546886\", \"line\": {\"color\": \"white\", \"width\": 1}, \"size\": 16}, \"mode\": \"markers\", \"name\": \"RoamingCalls\", \"opacity\": 0.75, \"type\": \"scatter\", \"x\": [0.026333798663330965], \"y\": [0.026006193110149067]}, {\"marker\": {\"color\": \"#4ba4c6\", \"line\": {\"color\": \"white\", \"width\": 1}, \"size\": 16}, \"mode\": \"markers\", \"name\": \"PercChangeMinutes\", \"opacity\": 0.75, \"type\": \"scatter\", \"x\": [0.004955196517856891], \"y\": [-0.015358519124365465]}, {\"marker\": {\"color\": \"mediumseagreen\", \"line\": {\"color\": \"white\", \"width\": 1}, \"size\": 16}, \"mode\": \"markers\", \"name\": \"PercChangeRevenues\", \"opacity\": 0.75, \"type\": \"scatter\", \"x\": [0.011882217440084733], \"y\": [-0.012123720728878084]}, {\"marker\": {\"color\": \"lightcoral\", \"line\": {\"color\": \"white\", \"width\": 1}, \"size\": 16}, \"mode\": \"markers\", \"name\": \"DroppedCalls\", \"opacity\": 0.75, \"type\": \"scatter\", \"x\": [0.024631808261063343], \"y\": [0.07844937942141486]}, {\"marker\": {\"line\": {\"color\": \"white\", \"width\": 1}, \"size\": 16}, \"mode\": \"markers\", \"name\": \"BlockedCalls\", \"opacity\": 0.75, \"type\": \"scatter\", \"x\": [0.05027975037673226], \"y\": [0.05744759073611423]}, {\"marker\": {\"line\": {\"color\": \"white\", \"width\": 1}, \"size\": 16}, \"mode\": \"markers\", \"name\": \"UnansweredCalls\", \"opacity\": 0.75, \"type\": \"scatter\", \"x\": [0.016858129562999702], \"y\": [0.0856123454337905]}, {\"marker\": {\"line\": {\"color\": \"white\", \"width\": 1}, \"size\": 16}, \"mode\": \"markers\", \"name\": \"CustomerCareCalls\", \"opacity\": 0.75, \"type\": \"scatter\", \"x\": [0.030931645572019942], \"y\": [0.020986285861067464]}, {\"marker\": {\"line\": {\"color\": \"white\", \"width\": 1}, \"size\": 16}, \"mode\": \"markers\", \"name\": \"ThreewayCalls\", \"opacity\": 0.75, \"type\": \"scatter\", \"x\": [0.03754077092226761], \"y\": [0.04458568614231669]}, {\"marker\": {\"line\": {\"color\": \"white\", \"width\": 1}, \"size\": 16}, \"mode\": \"markers\", \"name\": \"ReceivedCalls\", \"opacity\": 0.75, \"type\": \"scatter\", \"x\": [0.02570939084146971], \"y\": [0.10471367979420394]}, {\"marker\": {\"line\": {\"color\": \"white\", \"width\": 1}, \"size\": 16}, \"mode\": \"markers\", \"name\": \"OutboundCalls\", \"opacity\": 0.75, \"type\": \"scatter\", \"x\": [0.015412479695453417], \"y\": [0.09847532508800341]}, {\"marker\": {\"line\": {\"color\": \"white\", \"width\": 1}, \"size\": 16}, \"mode\": \"markers\", \"name\": \"InboundCalls\", \"opacity\": 0.75, \"type\": \"scatter\", \"x\": [0.0004945537267670497], \"y\": [0.08645997420762422]}, {\"marker\": {\"line\": {\"color\": \"white\", \"width\": 1}, \"size\": 16}, \"mode\": \"markers\", \"name\": \"PeakCallsInOut\", \"opacity\": 0.75, \"type\": \"scatter\", \"x\": [-0.006557737044376052], \"y\": [0.12911663939278692]}, {\"marker\": {\"line\": {\"color\": \"white\", \"width\": 1}, \"size\": 16}, \"mode\": \"markers\", \"name\": \"OffPeakCallsInOut\", \"opacity\": 0.75, \"type\": \"scatter\", \"x\": [0.03661642656070152], \"y\": [0.09637071655506413]}, {\"marker\": {\"line\": {\"color\": \"white\", \"width\": 1}, \"size\": 16}, \"mode\": \"markers\", \"name\": \"DroppedBlockedCalls\", \"opacity\": 0.75, \"type\": \"scatter\", \"x\": [0.05028835803928843], \"y\": [0.08650499782663688]}, {\"marker\": {\"line\": {\"color\": \"white\", \"width\": 1}, \"size\": 16}, \"mode\": \"markers\", \"name\": \"CallForwardingCalls\", \"opacity\": 0.75, \"type\": \"scatter\", \"x\": [-0.00545282841798863], \"y\": [0.00025761911442255666]}, {\"marker\": {\"line\": {\"color\": \"white\", \"width\": 1}, \"size\": 16}, \"mode\": \"markers\", \"name\": \"CallWaitingCalls\", \"opacity\": 0.75, \"type\": \"scatter\", \"x\": [0.021013987336137185], \"y\": [0.11535456047323296]}, {\"marker\": {\"line\": {\"color\": \"white\", \"width\": 1}, \"size\": 16}, \"mode\": \"markers\", \"name\": \"MonthsInService\", \"opacity\": 0.75, \"type\": \"scatter\", \"x\": [-0.31778008253585677], \"y\": [0.06950868301112093]}, {\"marker\": {\"line\": {\"color\": \"white\", \"width\": 1}, \"size\": 16}, \"mode\": \"markers\", \"name\": \"UniqueSubs\", \"opacity\": 0.75, \"type\": \"scatter\", \"x\": [-0.05114132958068735], \"y\": [0.031223599377201344]}, {\"marker\": {\"line\": {\"color\": \"white\", \"width\": 1}, \"size\": 16}, \"mode\": \"markers\", \"name\": \"ActiveSubs\", \"opacity\": 0.75, \"type\": \"scatter\", \"x\": [-0.039879177757348984], \"y\": [0.05191156927898029]}, {\"marker\": {\"line\": {\"color\": \"white\", \"width\": 1}, \"size\": 16}, \"mode\": \"markers\", \"name\": \"Handsets\", \"opacity\": 0.75, \"type\": \"scatter\", \"x\": [-0.3052559666901375], \"y\": [0.0767357739192508]}, {\"marker\": {\"line\": {\"color\": \"white\", \"width\": 1}, \"size\": 16}, \"mode\": \"markers\", \"name\": \"HandsetModels\", \"opacity\": 0.75, \"type\": \"scatter\", \"x\": [-0.3111076191501666], \"y\": [0.07528093118939831]}, {\"marker\": {\"line\": {\"color\": \"white\", \"width\": 1}, \"size\": 16}, \"mode\": \"markers\", \"name\": \"CurrentEquipmentDays\", \"opacity\": 0.75, \"type\": \"scatter\", \"x\": [-0.023800651089011617], \"y\": [-0.0027584350102400415]}, {\"marker\": {\"line\": {\"color\": \"white\", \"width\": 1}, \"size\": 16}, \"mode\": \"markers\", \"name\": \"AgeHH1\", \"opacity\": 0.75, \"type\": \"scatter\", \"x\": [0.0015362247730847036], \"y\": [0.2675751479767205]}, {\"marker\": {\"line\": {\"color\": \"white\", \"width\": 1}, \"size\": 16}, \"mode\": \"markers\", \"name\": \"AgeHH2\", \"opacity\": 0.75, \"type\": \"scatter\", \"x\": [0.016362740719099083], \"y\": [0.24650209340793827]}, {\"marker\": {\"line\": {\"color\": \"white\", \"width\": 1}, \"size\": 16}, \"mode\": \"markers\", \"name\": \"RetentionCalls\", \"opacity\": 0.75, \"type\": \"scatter\", \"x\": [-0.43916008837928144], \"y\": [0.000774839332886779]}, {\"marker\": {\"line\": {\"color\": \"white\", \"width\": 1}, \"size\": 16}, \"mode\": \"markers\", \"name\": \"RetentionOffersAccepted\", \"opacity\": 0.75, \"type\": \"scatter\", \"x\": [-0.3929087741534522], \"y\": [0.0037123059001922523]}, {\"marker\": {\"line\": {\"color\": \"white\", \"width\": 1}, \"size\": 16}, \"mode\": \"markers\", \"name\": \"ReferralsMadeBySubscriber\", \"opacity\": 0.75, \"type\": \"scatter\", \"x\": [-0.0035893648270634106], \"y\": [0.00570442848302642]}, {\"marker\": {\"line\": {\"color\": \"white\", \"width\": 1}, \"size\": 16}, \"mode\": \"markers\", \"name\": \"IncomeGroup\", \"opacity\": 0.75, \"type\": \"scatter\", \"x\": [-0.0016266184874229941], \"y\": [0.2547721883525632]}, {\"marker\": {\"line\": {\"color\": \"white\", \"width\": 1}, \"size\": 16}, \"mode\": \"markers\", \"name\": \"AdjustmentsToCreditRating\", \"opacity\": 0.75, \"type\": \"scatter\", \"x\": [-0.13828038381574564], \"y\": [0.02323788132782068]}, {\"marker\": {\"line\": {\"color\": \"white\", \"width\": 1}, \"size\": 16}, \"mode\": \"markers\", \"name\": \"AvgMinsArea\", \"opacity\": 0.75, \"type\": \"scatter\", \"x\": [-0.012864936122420973], \"y\": [-0.005699365950428447]}, {\"marker\": {\"line\": {\"color\": \"white\", \"width\": 1}, \"size\": 16}, \"mode\": \"markers\", \"name\": \"MedianRevArea\", \"opacity\": 0.75, \"type\": \"scatter\", \"x\": [-0.013380562521126625], \"y\": [-0.00969995397383507]}, {\"marker\": {\"line\": {\"color\": \"white\", \"width\": 1}, \"size\": 16}, \"mode\": \"markers\", \"name\": \"IndexedRev\", \"opacity\": 0.75, \"type\": \"scatter\", \"x\": [0.044682749454511735], \"y\": [0.12056415455000742]}, {\"marker\": {\"line\": {\"color\": \"white\", \"width\": 1}, \"size\": 16}, \"mode\": \"markers\", \"name\": \"OverPay\", \"opacity\": 0.75, \"type\": \"scatter\", \"x\": [0.032571309850201666], \"y\": [0.10389558323271375]}, {\"marker\": {\"line\": {\"color\": \"white\", \"width\": 1}, \"size\": 16}, \"mode\": \"markers\", \"name\": \"HandsetPrice\", \"opacity\": 0.75, \"type\": \"scatter\", \"x\": [-0.01508708587876698], \"y\": [0.021049645907773903]}, {\"marker\": {\"line\": {\"color\": \"white\", \"width\": 1}, \"size\": 16}, \"mode\": \"markers\", \"name\": \"ChildrenInHH_i_e_No\", \"opacity\": 0.75, \"type\": \"scatter\", \"x\": [-0.027412822796968585], \"y\": [-0.1898344696501]}, {\"marker\": {\"line\": {\"color\": \"white\", \"width\": 1}, \"size\": 16}, \"mode\": \"markers\", \"name\": \"HandsetRefurbished_i_e_No\", \"opacity\": 0.75, \"type\": \"scatter\", \"x\": [0.15006484185939517], \"y\": [-0.0199457615458692]}, {\"marker\": {\"line\": {\"color\": \"white\", \"width\": 1}, \"size\": 16}, \"mode\": \"markers\", \"name\": \"HandsetWebCapable_i_e_Yes\", \"opacity\": 0.75, \"type\": \"scatter\", \"x\": [0.07387803841945666], \"y\": [-0.004082793090104133]}, {\"marker\": {\"line\": {\"color\": \"white\", \"width\": 1}, \"size\": 16}, \"mode\": \"markers\", \"name\": \"TruckOwner_i_e_No\", \"opacity\": 0.75, \"type\": \"scatter\", \"x\": [0.0008837666301582584], \"y\": [-0.15269309582144347]}, {\"marker\": {\"line\": {\"color\": \"white\", \"width\": 1}, \"size\": 16}, \"mode\": \"markers\", \"name\": \"RVOwner_i_e_No\", \"opacity\": 0.75, \"type\": \"scatter\", \"x\": [0.0029128036343009727], \"y\": [-0.10920150597634311]}, {\"marker\": {\"line\": {\"color\": \"white\", \"width\": 1}, \"size\": 16}, \"mode\": \"markers\", \"name\": \"Homeownership_i_e_Known\", \"opacity\": 0.75, \"type\": \"scatter\", \"x\": [-0.0016121314875107184], \"y\": [0.2731670724909745]}, {\"marker\": {\"line\": {\"color\": \"white\", \"width\": 1}, \"size\": 16}, \"mode\": \"markers\", \"name\": \"BuysViaMailOrder_i_e_No\", \"opacity\": 0.75, \"type\": \"scatter\", \"x\": [-0.031201940216314873], \"y\": [-0.2514738627512799]}, {\"marker\": {\"line\": {\"color\": \"white\", \"width\": 1}, \"size\": 16}, \"mode\": \"markers\", \"name\": \"RespondsToMailOffers_i_e_No\", \"opacity\": 0.75, \"type\": \"scatter\", \"x\": [-0.028650901063852773], \"y\": [-0.255254938563041]}, {\"marker\": {\"line\": {\"color\": \"white\", \"width\": 1}, \"size\": 16}, \"mode\": \"markers\", \"name\": \"OptOutMailings_i_e_No\", \"opacity\": 0.75, \"type\": \"scatter\", \"x\": [-5.2414395494623294e-05], \"y\": [-0.030772933781927886]}, {\"marker\": {\"line\": {\"color\": \"white\", \"width\": 1}, \"size\": 16}, \"mode\": \"markers\", \"name\": \"NonUSTravel_i_e_No\", \"opacity\": 0.75, \"type\": \"scatter\", \"x\": [-0.00897076734927621], \"y\": [-0.10078593247577505]}, {\"marker\": {\"line\": {\"color\": \"white\", \"width\": 1}, \"size\": 16}, \"mode\": \"markers\", \"name\": \"OwnsComputer_i_e_No\", \"opacity\": 0.75, \"type\": \"scatter\", \"x\": [-0.019974723863546193], \"y\": [-0.17244615438870886]}, {\"marker\": {\"line\": {\"color\": \"white\", \"width\": 1}, \"size\": 16}, \"mode\": \"markers\", \"name\": \"HasCreditCard_i_e_Yes\", \"opacity\": 0.75, \"type\": \"scatter\", \"x\": [-0.008351288933449372], \"y\": [0.26403285454299585]}, {\"marker\": {\"line\": {\"color\": \"white\", \"width\": 1}, \"size\": 16}, \"mode\": \"markers\", \"name\": \"NewCellphoneUser_i_e_No\", \"opacity\": 0.75, \"type\": \"scatter\", \"x\": [0.04797447357364765], \"y\": [-0.008508133915298168]}, {\"marker\": {\"line\": {\"color\": \"white\", \"width\": 1}, \"size\": 16}, \"mode\": \"markers\", \"name\": \"NotNewCellphoneUser_i_e_No\", \"opacity\": 0.75, \"type\": \"scatter\", \"x\": [0.11225789456942108], \"y\": [-0.02775554305463513]}, {\"marker\": {\"line\": {\"color\": \"white\", \"width\": 1}, \"size\": 16}, \"mode\": \"markers\", \"name\": \"OwnsMotorcycle_i_e_No\", \"opacity\": 0.75, \"type\": \"scatter\", \"x\": [0.002369715044129689], \"y\": [-0.039739540311909356]}, {\"marker\": {\"line\": {\"color\": \"white\", \"width\": 1}, \"size\": 16}, \"mode\": \"markers\", \"name\": \"MadeCallToRetentionTeam_i_e_No\", \"opacity\": 0.75, \"type\": \"scatter\", \"x\": [0.43096359062764245], \"y\": [-0.0005347640610814174]}, {\"marker\": {\"line\": {\"color\": \"white\", \"width\": 1}, \"size\": 16}, \"mode\": \"markers\", \"name\": \"CreditRating_i_e_2-High\", \"opacity\": 0.75, \"type\": \"scatter\", \"x\": [0.17253890427158664], \"y\": [0.021053611072882342]}, {\"marker\": {\"line\": {\"color\": \"white\", \"width\": 1}, \"size\": 16}, \"mode\": \"markers\", \"name\": \"CreditRating_i_e_1-Highest\", \"opacity\": 0.75, \"type\": \"scatter\", \"x\": [-0.21581385346864787], \"y\": [0.06221237832845248]}, {\"marker\": {\"line\": {\"color\": \"white\", \"width\": 1}, \"size\": 16}, \"mode\": \"markers\", \"name\": \"CreditRating_i_e_3-Good\", \"opacity\": 0.75, \"type\": \"scatter\", \"x\": [-0.035187326571025315], \"y\": [-0.004665116730941682]}, {\"marker\": {\"line\": {\"color\": \"white\", \"width\": 1}, \"size\": 16}, \"mode\": \"markers\", \"name\": \"CreditRating_i_e_5-Low\", \"opacity\": 0.75, \"type\": \"scatter\", \"x\": [0.03033087633099009], \"y\": [-0.03310201825380157]}, {\"marker\": {\"line\": {\"color\": \"white\", \"width\": 1}, \"size\": 16}, \"mode\": \"markers\", \"name\": \"CreditRating_i_e_4-Medium\", \"opacity\": 0.75, \"type\": \"scatter\", \"x\": [0.0037739753415354897], \"y\": [-0.025582080899465117]}, {\"marker\": {\"line\": {\"color\": \"white\", \"width\": 1}, \"size\": 16}, \"mode\": \"markers\", \"name\": \"CreditRating_i_e_7-Lowest\", \"opacity\": 0.75, \"type\": \"scatter\", \"x\": [0.014150717640218835], \"y\": [-0.05131032047366715]}, {\"marker\": {\"line\": {\"color\": \"white\", \"width\": 1}, \"size\": 16}, \"mode\": \"markers\", \"name\": \"PrizmCode_i_e_Other\", \"opacity\": 0.75, \"type\": \"scatter\", \"x\": [-0.029115004143865864], \"y\": [-0.09097519560391056]}, {\"marker\": {\"line\": {\"color\": \"white\", \"width\": 1}, \"size\": 16}, \"mode\": \"markers\", \"name\": \"PrizmCode_i_e_Suburban\", \"opacity\": 0.75, \"type\": \"scatter\", \"x\": [-0.008135940166219633], \"y\": [0.0599548813474161]}, {\"marker\": {\"line\": {\"color\": \"white\", \"width\": 1}, \"size\": 16}, \"mode\": \"markers\", \"name\": \"PrizmCode_i_e_Town\", \"opacity\": 0.75, \"type\": \"scatter\", \"x\": [0.040040357829531574], \"y\": [0.04009891789075257]}, {\"marker\": {\"line\": {\"color\": \"white\", \"width\": 1}, \"size\": 16}, \"mode\": \"markers\", \"name\": \"Occupation_i_e_Other\", \"opacity\": 0.75, \"type\": \"scatter\", \"x\": [-0.02883443197416256], \"y\": [-0.2115611259694443]}, {\"marker\": {\"line\": {\"color\": \"white\", \"width\": 1}, \"size\": 16}, \"mode\": \"markers\", \"name\": \"Occupation_i_e_Professional\", \"opacity\": 0.75, \"type\": \"scatter\", \"x\": [0.024484478162541935], \"y\": [0.17229767305686863]}, {\"marker\": {\"line\": {\"color\": \"white\", \"width\": 1}, \"size\": 16}, \"mode\": \"markers\", \"name\": \"Occupation_i_e_Crafts\", \"opacity\": 0.75, \"type\": \"scatter\", \"x\": [0.018107471166993506], \"y\": [0.05220661693278921]}, {\"marker\": {\"line\": {\"color\": \"white\", \"width\": 1}, \"size\": 16}, \"mode\": \"markers\", \"name\": \"Occupation_i_e_Clerical\", \"opacity\": 0.75, \"type\": \"scatter\", \"x\": [0.0006860900464806443], \"y\": [0.03658380596777167]}, {\"marker\": {\"line\": {\"color\": \"white\", \"width\": 1}, \"size\": 16}, \"mode\": \"markers\", \"name\": \"Occupation_i_e_Self\", \"opacity\": 0.75, \"type\": \"scatter\", \"x\": [-0.008357725027849063], \"y\": [0.05293074413024917]}, {\"marker\": {\"line\": {\"color\": \"white\", \"width\": 1}, \"size\": 16}, \"mode\": \"markers\", \"name\": \"Occupation_i_e_Retired\", \"opacity\": 0.75, \"type\": \"scatter\", \"x\": [0.004880436711774387], \"y\": [0.04219130192226799]}, {\"marker\": {\"line\": {\"color\": \"white\", \"width\": 1}, \"size\": 16}, \"mode\": \"markers\", \"name\": \"Occupation_i_e_Student\", \"opacity\": 0.75, \"type\": \"scatter\", \"x\": [0.007260255329204485], \"y\": [0.019421001446054145]}, {\"marker\": {\"line\": {\"color\": \"white\", \"width\": 1}, \"size\": 16}, \"mode\": \"markers\", \"name\": \"MaritalStatus_i_e_Unknown\", \"opacity\": 0.75, \"type\": \"scatter\", \"x\": [-0.005697609159313363], \"y\": [-0.24901599903262703]}, {\"marker\": {\"line\": {\"color\": \"white\", \"width\": 1}, \"size\": 16}, \"mode\": \"markers\", \"name\": \"MaritalStatus_i_e_Yes\", \"opacity\": 0.75, \"type\": \"scatter\", \"x\": [0.025486733390656532], \"y\": [0.23847370489608108]}],\n",
       "                        {\"bargap\": 0.3, \"height\": 500, \"hovermode\": \"x\", \"legend\": {\"font\": {\"color\": \"#000\", \"family\": \"Arial, sans-serif\", \"size\": 14}}, \"paper_bgcolor\": \"white\", \"plot_bgcolor\": \"white\", \"template\": {\"data\": {\"bar\": [{\"error_x\": {\"color\": \"#2a3f5f\"}, \"error_y\": {\"color\": \"#2a3f5f\"}, \"marker\": {\"line\": {\"color\": \"#E5ECF6\", \"width\": 0.5}}, \"type\": \"bar\"}], \"barpolar\": [{\"marker\": {\"line\": {\"color\": \"#E5ECF6\", \"width\": 0.5}}, \"type\": \"barpolar\"}], \"carpet\": [{\"aaxis\": {\"endlinecolor\": \"#2a3f5f\", \"gridcolor\": \"white\", \"linecolor\": \"white\", \"minorgridcolor\": \"white\", \"startlinecolor\": \"#2a3f5f\"}, \"baxis\": {\"endlinecolor\": \"#2a3f5f\", \"gridcolor\": \"white\", \"linecolor\": \"white\", \"minorgridcolor\": \"white\", \"startlinecolor\": \"#2a3f5f\"}, \"type\": \"carpet\"}], \"choropleth\": [{\"colorbar\": {\"outlinewidth\": 0, \"ticks\": \"\"}, \"type\": \"choropleth\"}], \"contour\": [{\"colorbar\": {\"outlinewidth\": 0, \"ticks\": \"\"}, \"colorscale\": [[0.0, \"#0d0887\"], [0.1111111111111111, \"#46039f\"], [0.2222222222222222, \"#7201a8\"], [0.3333333333333333, \"#9c179e\"], [0.4444444444444444, \"#bd3786\"], [0.5555555555555556, \"#d8576b\"], [0.6666666666666666, \"#ed7953\"], [0.7777777777777778, \"#fb9f3a\"], [0.8888888888888888, \"#fdca26\"], [1.0, \"#f0f921\"]], \"type\": \"contour\"}], \"contourcarpet\": [{\"colorbar\": {\"outlinewidth\": 0, \"ticks\": \"\"}, \"type\": \"contourcarpet\"}], \"heatmap\": [{\"colorbar\": {\"outlinewidth\": 0, \"ticks\": \"\"}, \"colorscale\": [[0.0, \"#0d0887\"], [0.1111111111111111, \"#46039f\"], [0.2222222222222222, \"#7201a8\"], [0.3333333333333333, \"#9c179e\"], [0.4444444444444444, \"#bd3786\"], [0.5555555555555556, \"#d8576b\"], [0.6666666666666666, \"#ed7953\"], [0.7777777777777778, \"#fb9f3a\"], [0.8888888888888888, \"#fdca26\"], [1.0, \"#f0f921\"]], \"type\": \"heatmap\"}], \"heatmapgl\": [{\"colorbar\": {\"outlinewidth\": 0, \"ticks\": \"\"}, \"colorscale\": [[0.0, \"#0d0887\"], [0.1111111111111111, \"#46039f\"], [0.2222222222222222, \"#7201a8\"], [0.3333333333333333, \"#9c179e\"], [0.4444444444444444, \"#bd3786\"], [0.5555555555555556, \"#d8576b\"], [0.6666666666666666, \"#ed7953\"], [0.7777777777777778, \"#fb9f3a\"], [0.8888888888888888, \"#fdca26\"], [1.0, \"#f0f921\"]], \"type\": \"heatmapgl\"}], \"histogram\": [{\"marker\": {\"colorbar\": {\"outlinewidth\": 0, \"ticks\": \"\"}}, \"type\": \"histogram\"}], \"histogram2d\": [{\"colorbar\": {\"outlinewidth\": 0, \"ticks\": \"\"}, \"colorscale\": [[0.0, \"#0d0887\"], [0.1111111111111111, \"#46039f\"], [0.2222222222222222, \"#7201a8\"], [0.3333333333333333, \"#9c179e\"], [0.4444444444444444, \"#bd3786\"], [0.5555555555555556, \"#d8576b\"], [0.6666666666666666, \"#ed7953\"], [0.7777777777777778, \"#fb9f3a\"], [0.8888888888888888, \"#fdca26\"], [1.0, \"#f0f921\"]], \"type\": \"histogram2d\"}], \"histogram2dcontour\": [{\"colorbar\": {\"outlinewidth\": 0, \"ticks\": \"\"}, \"colorscale\": [[0.0, \"#0d0887\"], [0.1111111111111111, \"#46039f\"], [0.2222222222222222, \"#7201a8\"], [0.3333333333333333, \"#9c179e\"], [0.4444444444444444, \"#bd3786\"], [0.5555555555555556, \"#d8576b\"], [0.6666666666666666, \"#ed7953\"], [0.7777777777777778, \"#fb9f3a\"], [0.8888888888888888, \"#fdca26\"], [1.0, \"#f0f921\"]], \"type\": \"histogram2dcontour\"}], \"mesh3d\": [{\"colorbar\": {\"outlinewidth\": 0, \"ticks\": \"\"}, \"type\": \"mesh3d\"}], \"parcoords\": [{\"line\": {\"colorbar\": {\"outlinewidth\": 0, \"ticks\": \"\"}}, \"type\": \"parcoords\"}], \"scatter\": [{\"marker\": {\"colorbar\": {\"outlinewidth\": 0, \"ticks\": \"\"}}, \"type\": \"scatter\"}], \"scatter3d\": [{\"line\": {\"colorbar\": {\"outlinewidth\": 0, \"ticks\": \"\"}}, \"marker\": {\"colorbar\": {\"outlinewidth\": 0, \"ticks\": \"\"}}, \"type\": \"scatter3d\"}], \"scattercarpet\": [{\"marker\": {\"colorbar\": {\"outlinewidth\": 0, \"ticks\": \"\"}}, \"type\": \"scattercarpet\"}], \"scattergeo\": [{\"marker\": {\"colorbar\": {\"outlinewidth\": 0, \"ticks\": \"\"}}, \"type\": \"scattergeo\"}], \"scattergl\": [{\"marker\": {\"colorbar\": {\"outlinewidth\": 0, \"ticks\": \"\"}}, \"type\": \"scattergl\"}], \"scattermapbox\": [{\"marker\": {\"colorbar\": {\"outlinewidth\": 0, \"ticks\": \"\"}}, \"type\": \"scattermapbox\"}], \"scatterpolar\": [{\"marker\": {\"colorbar\": {\"outlinewidth\": 0, \"ticks\": \"\"}}, \"type\": \"scatterpolar\"}], \"scatterpolargl\": [{\"marker\": {\"colorbar\": {\"outlinewidth\": 0, \"ticks\": \"\"}}, \"type\": \"scatterpolargl\"}], \"scatterternary\": [{\"marker\": {\"colorbar\": {\"outlinewidth\": 0, \"ticks\": \"\"}}, \"type\": \"scatterternary\"}], \"surface\": [{\"colorbar\": {\"outlinewidth\": 0, \"ticks\": \"\"}, \"colorscale\": [[0.0, \"#0d0887\"], [0.1111111111111111, \"#46039f\"], [0.2222222222222222, \"#7201a8\"], [0.3333333333333333, \"#9c179e\"], [0.4444444444444444, \"#bd3786\"], [0.5555555555555556, \"#d8576b\"], [0.6666666666666666, \"#ed7953\"], [0.7777777777777778, \"#fb9f3a\"], [0.8888888888888888, \"#fdca26\"], [1.0, \"#f0f921\"]], \"type\": \"surface\"}], \"table\": [{\"cells\": {\"fill\": {\"color\": \"#EBF0F8\"}, \"line\": {\"color\": \"white\"}}, \"header\": {\"fill\": {\"color\": \"#C8D4E3\"}, \"line\": {\"color\": \"white\"}}, \"type\": \"table\"}]}, \"layout\": {\"annotationdefaults\": {\"arrowcolor\": \"#2a3f5f\", \"arrowhead\": 0, \"arrowwidth\": 1}, \"colorscale\": {\"diverging\": [[0, \"#8e0152\"], [0.1, \"#c51b7d\"], [0.2, \"#de77ae\"], [0.3, \"#f1b6da\"], [0.4, \"#fde0ef\"], [0.5, \"#f7f7f7\"], [0.6, \"#e6f5d0\"], [0.7, \"#b8e186\"], [0.8, \"#7fbc41\"], [0.9, \"#4d9221\"], [1, \"#276419\"]], \"sequential\": [[0.0, \"#0d0887\"], [0.1111111111111111, \"#46039f\"], [0.2222222222222222, \"#7201a8\"], [0.3333333333333333, \"#9c179e\"], [0.4444444444444444, \"#bd3786\"], [0.5555555555555556, \"#d8576b\"], [0.6666666666666666, \"#ed7953\"], [0.7777777777777778, \"#fb9f3a\"], [0.8888888888888888, \"#fdca26\"], [1.0, \"#f0f921\"]], \"sequentialminus\": [[0.0, \"#0d0887\"], [0.1111111111111111, \"#46039f\"], [0.2222222222222222, \"#7201a8\"], [0.3333333333333333, \"#9c179e\"], [0.4444444444444444, \"#bd3786\"], [0.5555555555555556, \"#d8576b\"], [0.6666666666666666, \"#ed7953\"], [0.7777777777777778, \"#fb9f3a\"], [0.8888888888888888, \"#fdca26\"], [1.0, \"#f0f921\"]]}, \"colorway\": [\"#636efa\", \"#EF553B\", \"#00cc96\", \"#ab63fa\", \"#FFA15A\", \"#19d3f3\", \"#FF6692\", \"#B6E880\", \"#FF97FF\", \"#FECB52\"], \"font\": {\"color\": \"#2a3f5f\"}, \"geo\": {\"bgcolor\": \"white\", \"lakecolor\": \"white\", \"landcolor\": \"#E5ECF6\", \"showlakes\": true, \"showland\": true, \"subunitcolor\": \"white\"}, \"hoverlabel\": {\"align\": \"left\"}, \"hovermode\": \"closest\", \"mapbox\": {\"style\": \"light\"}, \"paper_bgcolor\": \"white\", \"plot_bgcolor\": \"#E5ECF6\", \"polar\": {\"angularaxis\": {\"gridcolor\": \"white\", \"linecolor\": \"white\", \"ticks\": \"\"}, \"bgcolor\": \"#E5ECF6\", \"radialaxis\": {\"gridcolor\": \"white\", \"linecolor\": \"white\", \"ticks\": \"\"}}, \"scene\": {\"xaxis\": {\"backgroundcolor\": \"#E5ECF6\", \"gridcolor\": \"white\", \"gridwidth\": 2, \"linecolor\": \"white\", \"showbackground\": true, \"ticks\": \"\", \"zerolinecolor\": \"white\"}, \"yaxis\": {\"backgroundcolor\": \"#E5ECF6\", \"gridcolor\": \"white\", \"gridwidth\": 2, \"linecolor\": \"white\", \"showbackground\": true, \"ticks\": \"\", \"zerolinecolor\": \"white\"}, \"zaxis\": {\"backgroundcolor\": \"#E5ECF6\", \"gridcolor\": \"white\", \"gridwidth\": 2, \"linecolor\": \"white\", \"showbackground\": true, \"ticks\": \"\", \"zerolinecolor\": \"white\"}}, \"shapedefaults\": {\"line\": {\"color\": \"#2a3f5f\"}}, \"ternary\": {\"aaxis\": {\"gridcolor\": \"white\", \"linecolor\": \"white\", \"ticks\": \"\"}, \"baxis\": {\"gridcolor\": \"white\", \"linecolor\": \"white\", \"ticks\": \"\"}, \"bgcolor\": \"#E5ECF6\", \"caxis\": {\"gridcolor\": \"white\", \"linecolor\": \"white\", \"ticks\": \"\"}}, \"title\": {\"x\": 0.05}, \"xaxis\": {\"automargin\": true, \"gridcolor\": \"white\", \"linecolor\": \"white\", \"ticks\": \"\", \"zerolinecolor\": \"white\", \"zerolinewidth\": 2}, \"yaxis\": {\"automargin\": true, \"gridcolor\": \"white\", \"linecolor\": \"white\", \"ticks\": \"\", \"zerolinecolor\": \"white\", \"zerolinewidth\": 2}}}, \"title\": {\"font\": {\"color\": \"black\", \"family\": \"Arial, sans-serif\", \"size\": 26}, \"text\": \"<br>Pc2 vs Pc1<br>\", \"x\": 0.5, \"xanchor\": \"center\"}, \"width\": 800, \"xaxis\": {\"automargin\": true, \"hoverformat\": \".1f\", \"mirror\": \"ticks\", \"tickangle\": 0, \"tickfont\": {\"color\": \"black\", \"family\": \"Arial, sans-serif\", \"size\": 14}, \"title\": {\"font\": {\"color\": \"black\", \"family\": \"Arial, sans-serif\", \"size\": 14}, \"text\": \"Pc2\"}, \"zeroline\": true, \"zerolinecolor\": \"LightGrey\", \"zerolinewidth\": 1}, \"yaxis\": {\"automargin\": true, \"gridcolor\": \"LightGrey\", \"gridwidth\": 1, \"hoverformat\": \".1f\", \"mirror\": \"ticks\", \"showgrid\": true, \"tickfont\": {\"color\": \"black\", \"family\": \"Arial, sans-serif\", \"size\": 14}, \"title\": {\"font\": {\"color\": \"black\", \"family\": \"Arial, sans-serif\", \"size\": 14}, \"text\": \"Pc1\"}, \"zeroline\": true, \"zerolinecolor\": \"LightGrey\", \"zerolinewidth\": 1}},\n",
       "                        {\"responsive\": true}\n",
       "                    ).then(function(){\n",
       "                            \n",
       "var gd = document.getElementById('fe34c5d9-1a57-4c5b-befa-9f15141d04b1');\n",
       "var x = new MutationObserver(function (mutations, observer) {{\n",
       "        var display = window.getComputedStyle(gd).display;\n",
       "        if (!display || display === 'none') {{\n",
       "            console.log([gd, 'removed!']);\n",
       "            Plotly.purge(gd);\n",
       "            observer.disconnect();\n",
       "        }}\n",
       "}});\n",
       "\n",
       "// Listen for the removal of the full notebook cells\n",
       "var notebookContainer = gd.closest('#notebook-container');\n",
       "if (notebookContainer) {{\n",
       "    x.observe(notebookContainer, {childList: true});\n",
       "}}\n",
       "\n",
       "// Listen for the clearing of the current output cell\n",
       "var outputEl = gd.closest('.output');\n",
       "if (outputEl) {{\n",
       "    x.observe(outputEl, {childList: true});\n",
       "}}\n",
       "\n",
       "                        })\n",
       "                };\n",
       "                });\n",
       "            </script>\n",
       "        </div>"
      ]
     },
     "metadata": {},
     "output_type": "display_data"
    }
   ],
   "source": [
    "viz.plotlys(pcs, 'PC2', 'PC1', kind = 'Scat', group = 'var', width = 800)"
   ]
  },
  {
   "cell_type": "markdown",
   "metadata": {},
   "source": [
    "### Appendix In-Memory Sci-Kit Learn"
   ]
  },
  {
   "cell_type": "code",
   "execution_count": 50,
   "metadata": {
    "scrolled": true
   },
   "outputs": [],
   "source": [
    "## This would not be possible with a standard set - we have a small set of 50k, we can \n",
    "## bring into memory and work on it. It is why below we will teach you \"pyspark\" techniques,\n",
    "## but sci-kit learn may open your options.\n",
    "skl_cols = [t[0] for t in sdf.dtypes if not (t[1].startswith('vector')) and not (t[0].endswith('_i'))]\n",
    "df = sdf.select(skl_cols).toPandas()\n",
    "#df = sdf.drop('features', 'scaledFeatures')"
   ]
  },
  {
   "cell_type": "code",
   "execution_count": 51,
   "metadata": {},
   "outputs": [
    {
     "data": {
      "text/plain": [
       "0    36176\n",
       "1    14503\n",
       "Name: Churn, dtype: int64"
      ]
     },
     "execution_count": 51,
     "metadata": {},
     "output_type": "execute_result"
    }
   ],
   "source": [
    "df.Churn.value_counts()"
   ]
  },
  {
   "cell_type": "code",
   "execution_count": 52,
   "metadata": {},
   "outputs": [],
   "source": [
    "## This will allow us to turn our strings into dummy variables (binary one hot encoding)\n",
    "import pandas as pd\n",
    "df = pd.get_dummies(df, drop_first = True)"
   ]
  },
  {
   "cell_type": "code",
   "execution_count": 53,
   "metadata": {},
   "outputs": [],
   "source": [
    "##Sampling/Partitioning\n",
    "\n",
    "from sklearn.model_selection import train_test_split\n",
    "\n",
    "X_train, X_test, y_train, y_test = train_test_split(df.drop('Churn', axis = 1), df.Churn,\n",
    "                                                test_size=0.3, random_state=0)\n"
   ]
  },
  {
   "cell_type": "code",
   "execution_count": 54,
   "metadata": {},
   "outputs": [
    {
     "data": {
      "text/plain": [
       "0.7085635359116023"
      ]
     },
     "execution_count": 54,
     "metadata": {},
     "output_type": "execute_result"
    }
   ],
   "source": [
    "from sklearn.linear_model import LogisticRegression\n",
    "\n",
    "# There are three steps to model something with sklearn\n",
    "# 1. Set up the model\n",
    "model = LogisticRegression(solver = 'lbfgs')\n",
    "# 2. Use fit\n",
    "model.fit(X_train, y_train)\n",
    "# 3. Check the score\n",
    "model.score(X_test, y_test)"
   ]
  },
  {
   "cell_type": "code",
   "execution_count": 55,
   "metadata": {},
   "outputs": [
    {
     "data": {
      "text/plain": [
       "<matplotlib.axes._subplots.AxesSubplot at 0x13d447d30>"
      ]
     },
     "execution_count": 55,
     "metadata": {},
     "output_type": "execute_result"
    },
    {
     "data": {
      "image/png": "[encoded data removed]",
      "text/plain": [
       "<Figure size 432x288 with 1 Axes>"
      ]
     },
     "metadata": {},
     "output_type": "display_data"
    }
   ],
   "source": [
    "from sklearn import metrics\n",
    "y_pred = model.predict(X_test)\n",
    "cm = metrics.confusion_matrix(y_pred, y_test)\n",
    "\n",
    "import seaborn as sns\n",
    "sns.heatmap(cm, annot=True, xticklabels = ['actual bad', 'actual good'], yticklabels =['pred bad', 'pred good'], \n",
    "            cbar=False, cmap=\"RdBu\")"
   ]
  },
  {
   "cell_type": "markdown",
   "metadata": {},
   "source": [
    "Great example of how a skewed set can affect your model - it didn't cost the model to say ALL of the 'good' was bad, so it did."
   ]
  },
  {
   "cell_type": "code",
   "execution_count": 56,
   "metadata": {},
   "outputs": [
    {
     "data": {
      "text/plain": [
       "<matplotlib.axes._subplots.AxesSubplot at 0x13ae27860>"
      ]
     },
     "execution_count": 56,
     "metadata": {},
     "output_type": "execute_result"
    },
    {
     "data": {
      "image/png": "[encoded data removed]",
      "text/plain": [
       "<Figure size 432x288 with 1 Axes>"
      ]
     },
     "metadata": {},
     "output_type": "display_data"
    }
   ],
   "source": [
    "compare = pd.DataFrame({'pred':y_pred, 'test':y_test})\n",
    "\n",
    "df2 = compare.groupby(['pred', 'test']).size().rename('count').reset_index()\n",
    "dfp = df2.pivot(index='pred', columns='test', values='count')\n",
    "sns.heatmap(dfp, annot = True, cbar=False, cmap=\"RdBu\")"
   ]
  },
  {
   "cell_type": "code",
   "execution_count": 57,
   "metadata": {},
   "outputs": [
    {
     "data": {
      "text/plain": [
       "<seaborn.axisgrid.FacetGrid at 0x13ae27630>"
      ]
     },
     "execution_count": 57,
     "metadata": {},
     "output_type": "execute_result"
    },
    {
     "data": {
      "image/png": "[encoded data removed]",
      "text/plain": [
       "<Figure size 477.725x432 with 1 Axes>"
      ]
     },
     "metadata": {},
     "output_type": "display_data"
    }
   ],
   "source": [
    "import seaborn as sns\n",
    "sns.set(style=\"whitegrid\")\n",
    "\n",
    "# Draw a nested barplot to show survival for class and sex\n",
    "g = sns.catplot(x=\"test\", y=\"count\", hue=\"pred\", data=df2,\n",
    "                height=6, kind=\"bar\", palette=\"muted\")\n",
    "g.despine(left=True)\n",
    "g.set_ylabels(\"Volume\")"
   ]
  },
  {
   "cell_type": "code",
   "execution_count": 58,
   "metadata": {},
   "outputs": [],
   "source": [
    "df = sdf.select(skl_cols).stat.sampleBy('Churn', {1:1, 0:0.4}, 2019).toPandas()\n",
    "df = pd.get_dummies(df, drop_first = True)"
   ]
  },
  {
   "cell_type": "code",
   "execution_count": 59,
   "metadata": {},
   "outputs": [
    {
     "data": {
      "text/plain": [
       "0.49260405916752664"
      ]
     },
     "execution_count": 59,
     "metadata": {},
     "output_type": "execute_result"
    }
   ],
   "source": [
    "##Sampling/Partitioning\n",
    "\n",
    "from sklearn.model_selection import train_test_split\n",
    "\n",
    "X_train, X_test, y_train, y_test = train_test_split(df.drop('Churn', axis = 1), df.Churn,\n",
    "                                                test_size=0.3, random_state=0)\n",
    "\n",
    "# 1. Set up the model\n",
    "model = LogisticRegression(solver = 'lbfgs')\n",
    "# 2. Use fit\n",
    "model.fit(X_train, y_train)\n",
    "# 3. Check the score\n",
    "model.score(X_test, y_test)"
   ]
  },
  {
   "cell_type": "code",
   "execution_count": 60,
   "metadata": {},
   "outputs": [
    {
     "data": {
      "text/plain": [
       "<matplotlib.axes._subplots.AxesSubplot at 0x13fc05780>"
      ]
     },
     "execution_count": 60,
     "metadata": {},
     "output_type": "execute_result"
    },
    {
     "data": {
      "image/png": "[encoded data removed]",
      "text/plain": [
       "<Figure size 432x288 with 1 Axes>"
      ]
     },
     "metadata": {},
     "output_type": "display_data"
    }
   ],
   "source": [
    "from sklearn import metrics\n",
    "y_pred = model.predict(X_test)\n",
    "cm = metrics.confusion_matrix(y_pred, y_test)\n",
    "\n",
    "import seaborn as sns\n",
    "sns.heatmap(cm, annot=True, xticklabels = ['actual bad', 'actual good'], yticklabels =['pred bad', 'pred good'], \n",
    "            cbar=False, cmap=\"RdBu\")\n",
    "compare = pd.DataFrame({'pred':y_pred, 'test':y_test})\n",
    "\n",
    "df2 = compare.groupby(['pred', 'test']).size().rename('count').reset_index()\n",
    "dfp = df2.pivot(index='pred', columns='test', values='count')\n",
    "sns.heatmap(dfp, annot = True, cbar=False, cmap=\"RdBu\")"
   ]
  },
  {
   "cell_type": "code",
   "execution_count": 61,
   "metadata": {},
   "outputs": [
    {
     "data": {
      "text/plain": [
       "<seaborn.axisgrid.FacetGrid at 0x13fc32d68>"
      ]
     },
     "execution_count": 61,
     "metadata": {},
     "output_type": "execute_result"
    },
    {
     "data": {
      "image/png": "[encoded data removed]",
      "text/plain": [
       "<Figure size 477.725x432 with 1 Axes>"
      ]
     },
     "metadata": {},
     "output_type": "display_data"
    }
   ],
   "source": [
    "import seaborn as sns\n",
    "sns.set(style=\"whitegrid\")\n",
    "\n",
    "# Draw a nested barplot to show survival for class and sex\n",
    "g = sns.catplot(x=\"test\", y=\"count\", hue=\"pred\", data=df2,\n",
    "                height=6, kind=\"bar\", palette=\"muted\")\n",
    "g.despine(left=True)\n",
    "g.set_ylabels(\"Volume\")"
   ]
  },
  {
   "cell_type": "code",
   "execution_count": null,
   "metadata": {},
   "outputs": [],
   "source": []
  },
  {
   "cell_type": "code",
   "execution_count": null,
   "metadata": {},
   "outputs": [],
   "source": []
  },
  {
   "cell_type": "code",
   "execution_count": null,
   "metadata": {},
   "outputs": [],
   "source": []
  },
  {
   "cell_type": "code",
   "execution_count": 66,
   "metadata": {},
   "outputs": [
    {
     "data": {
      "image/png": "[encoded data removed]",
      "text/plain": [
       "<Figure size 432x288 with 1 Axes>"
      ]
     },
     "metadata": {},
     "output_type": "display_data"
    },
    {
     "name": "stdout",
     "output_type": "stream",
     "text": [
      "Training set areaUnderROC: 0.6265530715513108\n"
     ]
    }
   ],
   "source": [
    "from matplotlib import pyplot as plt\n",
    "trainingSummary = lr_model.summary\n",
    "roc = trainingSummary.roc.toPandas()\n",
    "plt.plot(roc['FPR'],roc['TPR'])\n",
    "plt.ylabel('False Positive Rate')\n",
    "plt.xlabel('True Positive Rate')\n",
    "plt.title('ROC Curve')\n",
    "plt.show()\n",
    "print('Training set areaUnderROC: ' + str(trainingSummary.areaUnderROC))"
   ]
  },
  {
   "cell_type": "code",
   "execution_count": 67,
   "metadata": {},
   "outputs": [
    {
     "data": {
      "image/png": "[encoded data removed]",
      "text/plain": [
       "<Figure size 432x288 with 1 Axes>"
      ]
     },
     "metadata": {},
     "output_type": "display_data"
    }
   ],
   "source": [
    "pr = trainingSummary.pr.toPandas()\n",
    "plt.plot(pr['recall'],pr['precision'])\n",
    "plt.ylabel('Precision')\n",
    "plt.xlabel('Recall')\n",
    "plt.show()"
   ]
  },
  {
   "cell_type": "code",
   "execution_count": null,
   "metadata": {},
   "outputs": [],
   "source": []
  },
  {
   "cell_type": "code",
   "execution_count": null,
   "metadata": {},
   "outputs": [],
   "source": []
  },
  {
   "cell_type": "code",
   "execution_count": 73,
   "metadata": {},
   "outputs": [],
   "source": [
    "from xgboost import XGBClassifier\n",
    "clf = XGBClassifier()\n",
    "# n_estimators = 100 (default)\n",
    "# max_depth = 3 (default)\n",
    "clf.fit(X_train,y_train)\n",
    "preds2 = clf.predict(X_test)"
   ]
  },
  {
   "cell_type": "code",
   "execution_count": 77,
   "metadata": {},
   "outputs": [
    {
     "data": {
      "text/plain": [
       "array([[2612, 1586],\n",
       "       [1813, 2710]])"
      ]
     },
     "execution_count": 77,
     "metadata": {},
     "output_type": "execute_result"
    }
   ],
   "source": [
    "from sklearn import metrics\n",
    "cm = metrics.confusion_matrix(preds2, y_test)\n",
    "\n",
    "cm"
   ]
  },
  {
   "cell_type": "code",
   "execution_count": null,
   "metadata": {},
   "outputs": [],
   "source": []
  },
  {
   "cell_type": "code",
   "execution_count": null,
   "metadata": {},
   "outputs": [],
   "source": []
  },
  {
   "cell_type": "code",
   "execution_count": null,
   "metadata": {},
   "outputs": [],
   "source": []
  },
  {
   "cell_type": "code",
   "execution_count": null,
   "metadata": {},
   "outputs": [],
   "source": []
  },
  {
   "cell_type": "code",
   "execution_count": null,
   "metadata": {},
   "outputs": [],
   "source": []
  },
  {
   "cell_type": "markdown",
   "metadata": {},
   "source": [
    "<hr>\n",
    "<hr>\n",
    "\n",
    "# Scikit Learn Modelling (Locally/In Memory)\n",
    "\n",
    "## Linear Regression \n",
    "As discussed, regression is for continuous variables. At this point, after Muddle and Make, you should have a pretty darn good understanding of your features and target. "
   ]
  },
  {
   "cell_type": "code",
   "execution_count": null,
   "metadata": {},
   "outputs": [],
   "source": [
    "import numpy as np\n",
    "import matplotlib.pyplot as plt\n",
    "\n",
    "from sklearn.linear_model import LinearRegression\n",
    "from sklearn import datasets"
   ]
  },
  {
   "cell_type": "code",
   "execution_count": null,
   "metadata": {},
   "outputs": [],
   "source": [
    "diabetes = datasets.load_diabetes()"
   ]
  },
  {
   "cell_type": "code",
   "execution_count": null,
   "metadata": {},
   "outputs": [],
   "source": [
    "#Remember to separate features & target for sklearn\n",
    "from sklearn.model_selection import train_test_split\n",
    "X_train, X_test, y_train, y_test = train_test_split(diabetes.data, \n",
    "                                                    diabetes.target, \n",
    "                                                    test_size=0.2, \n",
    "                                                    random_state=0) #simply a 'seed' to recreate the randomness consistently"
   ]
  },
  {
   "cell_type": "code",
   "execution_count": null,
   "metadata": {},
   "outputs": [],
   "source": [
    "# There are three steps to model something with sklearn\n",
    "# 1. Set up the model\n",
    "model = LinearRegression()\n",
    "# 2. Use fit\n",
    "model.fit(X_train, y_train)\n",
    "# 3. Check the score\n",
    "model.score(X_test, y_test)"
   ]
  },
  {
   "cell_type": "code",
   "execution_count": null,
   "metadata": {},
   "outputs": [],
   "source": [
    "#Inference\n",
    "model.predict(X_test)[:3]"
   ]
  },
  {
   "cell_type": "code",
   "execution_count": null,
   "metadata": {},
   "outputs": [],
   "source": [
    "y_pred = model.predict(X_test) \n",
    "plt.plot(y_test, y_pred, '.')\n",
    "\n",
    "# plot a line, a perfit predict would all fall on this line\n",
    "x = np.linspace(0, 330, 100)\n",
    "y = x\n",
    "plt.plot(x, y)\n",
    "plt.show()"
   ]
  },
  {
   "cell_type": "markdown",
   "metadata": {},
   "source": [
    "## Logistic Regression\n",
    "Actually for classification - essentially you have two labels (and can expand into multi-class classification) and we try to predict between the two!"
   ]
  },
  {
   "cell_type": "code",
   "execution_count": null,
   "metadata": {},
   "outputs": [],
   "source": [
    "from sklearn.linear_model import LogisticRegression"
   ]
  },
  {
   "cell_type": "code",
   "execution_count": null,
   "metadata": {},
   "outputs": [],
   "source": [
    "from sklearn.model_selection import train_test_split\n",
    "\n",
    "X_train, X_test, y_train, y_test = train_test_split(diabetes.data, \n",
    "                                                    np.where(diabetes.target>150, 'bad', 'good'), \n",
    "                                                    test_size=0.2, random_state=0)\n"
   ]
  },
  {
   "cell_type": "code",
   "execution_count": null,
   "metadata": {},
   "outputs": [],
   "source": [
    "# There are three steps to model something with sklearn\n",
    "# 1. Set up the model\n",
    "model = LogisticRegression(solver = 'lbfgs')\n",
    "# 2. Use fit\n",
    "model.fit(X_train, y_train)\n",
    "# 3. Check the score\n",
    "model.score(X_test, y_test)"
   ]
  },
  {
   "cell_type": "code",
   "execution_count": null,
   "metadata": {},
   "outputs": [],
   "source": [
    "from sklearn import metrics\n",
    "y_pred = model.predict(X_test)\n",
    "cm = metrics.confusion_matrix(y_pred, y_test)\n",
    "\n",
    "import seaborn as sns\n",
    "sns.heatmap(cm, annot=True, xticklabels = ['actual bad', 'actual good'], yticklabels =['pred bad', 'pred good'], \n",
    "            cbar=False, cmap=\"RdBu\")"
   ]
  },
  {
   "cell_type": "code",
   "execution_count": null,
   "metadata": {},
   "outputs": [],
   "source": [
    "compare = pd.DataFrame({'pred':y_pred, 'test':y_test})\n",
    "\n",
    "df = compare.groupby(['pred', 'test']).size().rename('count').reset_index()\n",
    "dfp = df.pivot(index='pred', columns='test', values='count')\n",
    "sns.heatmap(dfp, annot = True, cbar=False, cmap=\"RdBu\")"
   ]
  },
  {
   "cell_type": "code",
   "execution_count": null,
   "metadata": {},
   "outputs": [],
   "source": [
    "import seaborn as sns\n",
    "sns.set(style=\"whitegrid\")\n",
    "\n",
    "# Draw a nested barplot to show survival for class and sex\n",
    "g = sns.catplot(x=\"test\", y=\"count\", hue=\"pred\", data=df,\n",
    "                height=6, kind=\"bar\", palette=\"muted\")\n",
    "g.despine(left=True)\n",
    "g.set_ylabels(\"survival probability\")"
   ]
  },
  {
   "cell_type": "markdown",
   "metadata": {},
   "source": [
    "# Spark MLLib"
   ]
  },
  {
   "cell_type": "code",
   "execution_count": null,
   "metadata": {},
   "outputs": [],
   "source": [
    "import pandas as pd\n",
    "data = pd.concat([pd.DataFrame(diabetes.data, columns = diabetes.feature_names),\n",
    "              pd.DataFrame(pd.Series(diabetes.target).rename('target'))], \n",
    "          sort = False, axis = 1)\n"
   ]
  },
  {
   "cell_type": "code",
   "execution_count": null,
   "metadata": {},
   "outputs": [],
   "source": [
    "sdf = spark.createDataFrame(data)"
   ]
  },
  {
   "cell_type": "code",
   "execution_count": null,
   "metadata": {},
   "outputs": [],
   "source": []
  },
  {
   "cell_type": "code",
   "execution_count": null,
   "metadata": {},
   "outputs": [],
   "source": [
    "import pandas as pd\n",
    "numeric_features = [t[0] for t in sdf.dtypes if t[1] == 'int' or t[1] == 'double']\n",
    "sampled_data = sdf.select(numeric_features).sample(False, 0.8).toPandas()\n",
    "axs = pd.plotting.scatter_matrix(sampled_data, figsize=(10, 10))\n",
    "n = len(sampled_data.columns)\n",
    "for i in range(n):\n",
    "    v = axs[i, 0]\n",
    "    v.yaxis.label.set_rotation(0)\n",
    "    v.yaxis.label.set_ha('right')\n",
    "    v.set_yticks(())\n",
    "    h = axs[n-1, i]\n",
    "    h.xaxis.label.set_rotation(90)\n",
    "    h.set_xticks(())"
   ]
  },
  {
   "cell_type": "code",
   "execution_count": null,
   "metadata": {},
   "outputs": [],
   "source": [
    "from pyspark.ml.feature import VectorAssembler\n",
    "vectorAssembler = VectorAssembler(inputCols = [x for x in sdf.columns if x!='target'], outputCol = 'features')\n",
    "v_df = vectorAssembler.transform(sdf)\n",
    "#v_df = v_df.select(['features', 'target'])\n",
    "\n",
    "splits = v_df.randomSplit([0.7, 0.3])\n",
    "train_df = splits[0]\n",
    "test_df = splits[1]"
   ]
  },
  {
   "cell_type": "code",
   "execution_count": null,
   "metadata": {},
   "outputs": [],
   "source": [
    "import six\n",
    "for i in sdf.columns:\n",
    "    if not( isinstance(sdf.select(i).take(1)[0][0], six.string_types)):\n",
    "        print( \"Correlation to target for \", i, sdf.stat.corr('target',i))"
   ]
  },
  {
   "cell_type": "code",
   "execution_count": null,
   "metadata": {},
   "outputs": [],
   "source": [
    "from pyspark.ml.regression import LinearRegression\n",
    "lr = LinearRegression(featuresCol = 'features', labelCol='target', maxIter=10, regParam=0.3, elasticNetParam=0.8)\n",
    "lr_model = lr.fit(train_df)\n",
    "print(\"Coefficients: \" + str(lr_model.coefficients))\n",
    "print(\"Intercept: \" + str(lr_model.intercept))"
   ]
  },
  {
   "cell_type": "code",
   "execution_count": null,
   "metadata": {},
   "outputs": [],
   "source": [
    "trainingSummary = lr_model.summary\n",
    "print(\"RMSE: %f\" % trainingSummary.rootMeanSquaredError)\n",
    "print(\"r2: %f\" % trainingSummary.r2)"
   ]
  },
  {
   "cell_type": "code",
   "execution_count": null,
   "metadata": {},
   "outputs": [],
   "source": [
    "lr_predictions = lr_model.transform(test_df)\n",
    "lr_predictions.select(\"prediction\",\"target\",\"features\").show(5)\n",
    "from pyspark.ml.evaluation import RegressionEvaluator\n",
    "lr_evaluator = RegressionEvaluator(predictionCol=\"prediction\", \\\n",
    "                 labelCol=\"target\",metricName=\"r2\")\n",
    "print(\"R Squared (R2) on test data = %g\" % lr_evaluator.evaluate(lr_predictions))"
   ]
  },
  {
   "cell_type": "code",
   "execution_count": null,
   "metadata": {},
   "outputs": [],
   "source": [
    "test_result = lr_model.evaluate(test_df)\n",
    "print(\"Root Mean Squared Error (RMSE) on test data = %g\" % test_result.rootMeanSquaredError)"
   ]
  },
  {
   "cell_type": "code",
   "execution_count": null,
   "metadata": {},
   "outputs": [],
   "source": [
    "print(\"numIterations: %d\" % trainingSummary.totalIterations)\n",
    "print(\"objectiveHistory: %s\" % str(trainingSummary.objectiveHistory))\n",
    "trainingSummary.residuals.limit(5).show()"
   ]
  },
  {
   "cell_type": "code",
   "execution_count": null,
   "metadata": {},
   "outputs": [],
   "source": [
    "predictions = lr_model.transform(test_df)\n",
    "predictions.select(\"prediction\",\"target\",\"features\").limit(5).show()"
   ]
  },
  {
   "cell_type": "markdown",
   "metadata": {},
   "source": [
    "### Decision Tree"
   ]
  },
  {
   "cell_type": "code",
   "execution_count": null,
   "metadata": {},
   "outputs": [],
   "source": [
    "from pyspark.ml.regression import DecisionTreeRegressor\n",
    "dt = DecisionTreeRegressor(featuresCol ='features', labelCol = 'target')\n",
    "\n",
    "dt_model = dt.fit(train_df)\n",
    "\n",
    "dt_predictions = dt_model.transform(test_df)\n",
    "\n",
    "dt_evaluator = RegressionEvaluator(\n",
    "    labelCol=\"target\", predictionCol=\"prediction\", metricName=\"rmse\")\n",
    "\n",
    "rmse = dt_evaluator.evaluate(dt_predictions)\n",
    "\n",
    "print(\"Root Mean Squared Error (RMSE) on test data = %g\" % rmse)"
   ]
  },
  {
   "cell_type": "code",
   "execution_count": null,
   "metadata": {},
   "outputs": [],
   "source": [
    "from pyspark.ml.regression import GBTRegressor\n",
    "gbt = GBTRegressor(featuresCol = 'features', labelCol = 'target', maxIter=10)\n",
    "gbt_model = gbt.fit(train_df)\n",
    "gbt_predictions = gbt_model.transform(test_df)\n",
    "gbt_predictions.select('prediction', 'target', 'features').show(5)"
   ]
  },
  {
   "cell_type": "code",
   "execution_count": null,
   "metadata": {},
   "outputs": [],
   "source": [
    "gbt_evaluator = RegressionEvaluator(\n",
    "    labelCol=\"target\", predictionCol=\"prediction\", metricName=\"rmse\")\n",
    "rmse = gbt_evaluator.evaluate(gbt_predictions)\n",
    "print(\"Root Mean Squared Error (RMSE) on test data = %g\" % rmse)"
   ]
  },
  {
   "cell_type": "markdown",
   "metadata": {},
   "source": [
    "### Classification"
   ]
  },
  {
   "cell_type": "code",
   "execution_count": null,
   "metadata": {},
   "outputs": [],
   "source": [
    "from pyspark.ml.classification import LogisticRegression\n",
    "from pyspark.ml.evaluation import BinaryClassificationEvaluator\n",
    "\n",
    "dt = LogisticRegression(featuresCol ='features', labelCol = 'target')\n",
    "\n",
    "dt_model = dt.fit(train_df.withColumn('target', when(col('target')>150, 0).otherwise(1)))\n",
    "\n",
    "dt_predictions = dt_model.transform(test_df.withColumn('target', when(col('target')>150, 0).otherwise(1)))\n",
    "\n",
    "dt_evaluator = BinaryClassificationEvaluator(\n",
    "    labelCol=\"target\", rawPredictionCol=\"probability\", metricName=\"areaUnderROC\")\n",
    "\n",
    "auc = dt_evaluator.evaluate(dt_predictions)\n",
    "\n",
    "print(\"Area Under the Curve (AUC) on test data = %g\" % auc)"
   ]
  },
  {
   "cell_type": "markdown",
   "metadata": {},
   "source": [
    "### Clustering"
   ]
  },
  {
   "cell_type": "code",
   "execution_count": null,
   "metadata": {},
   "outputs": [],
   "source": [
    "from pyspark.ml.clustering import KMeans\n",
    "\n",
    "kmeans = KMeans(k=5, seed=1)  # 5 clusters here\n",
    "model = kmeans.fit(v_df.select('features'))"
   ]
  },
  {
   "cell_type": "code",
   "execution_count": null,
   "metadata": {},
   "outputs": [],
   "source": [
    "transformed = model.transform(v_df)\n",
    "transformed.limit(5).toPandas()   "
   ]
  },
  {
   "cell_type": "code",
   "execution_count": null,
   "metadata": {},
   "outputs": [],
   "source": [
    "viz.spark_category_viz(transformed.withColumn('prediction', \n",
    "                                              col('prediction').cast(StringType())), #to string just to be treated as categories\n",
    "                       'prediction', 'clusters')"
   ]
  },
  {
   "cell_type": "code",
   "execution_count": null,
   "metadata": {},
   "outputs": [],
   "source": [
    "group = viz.spark_continuous_viz(transformed, #.withColumn('bmi', round(col('bmi'), 3)), #.withColumn('age', col('age')*100), 'age', \n",
    "                                 'target',\n",
    "                               result_name = 'buck', num_buckets=5,\n",
    "                        description=False, plot = False)\n"
   ]
  },
  {
   "cell_type": "code",
   "execution_count": null,
   "metadata": {},
   "outputs": [],
   "source": [
    "base = group.groupBy('buck', 'prediction').count().toPandas()\n",
    "base['prediction'] = base['prediction'].astype(str)\n",
    "\n",
    "df = base.groupby(['prediction', 'buck']).agg({'count': 'sum'})\n",
    "df = df.groupby(level = 0).apply(lambda x: np.round(100 * x / float(x.sum()))).reset_index()\n",
    "df.sort_values('buck')[:2]"
   ]
  },
  {
   "cell_type": "code",
   "execution_count": null,
   "metadata": {},
   "outputs": [],
   "source": [
    "viz.plotlys(df, x = 'prediction', y = 'count', group='buck', kind = 'Bar', \n",
    "               title = 'Cluster vs BMI', xtitle = 'Cluster')"
   ]
  },
  {
   "cell_type": "code",
   "execution_count": null,
   "metadata": {},
   "outputs": [],
   "source": [
    "for i in sdf.columns:\n",
    "    if not( isinstance(sdf.select(i).take(1)[0][0], six.string_types)):\n",
    "\n",
    "        group = viz.spark_continuous_viz(transformed.withColumn(i, round(col(i)*100, 0)),\n",
    "                         i,\n",
    "                           result_name = 'buck', num_buckets=5,\n",
    "                    description=False, plot = False)\n",
    "        base = group.groupBy('buck', 'prediction').count().toPandas()\n",
    "        base['prediction'] = base['prediction'].astype(str)\n",
    "        df = base.groupby(['prediction', 'buck']).agg({'count': 'sum'})\n",
    "        df = df.groupby(level = 0).apply(lambda x: np.round(100 * x / float(x.sum()))).reset_index()\n",
    "        base['buck'] = base['buck'].astype(int)\n",
    "        df.sort_values('buck', inplace = True)\n",
    "        base['buck'] = base['buck'].astype(str)\n",
    "\n",
    "        viz.plotlys(df, x = 'prediction', y = 'count', group='buck', kind = 'Bar', \n",
    "               title = 'Cluster vs {}'.format(i), xtitle = 'Cluster', ytitle = 'Percent', stacked = True)"
   ]
  },
  {
   "cell_type": "code",
   "execution_count": null,
   "metadata": {},
   "outputs": [],
   "source": []
  },
  {
   "cell_type": "code",
   "execution_count": null,
   "metadata": {},
   "outputs": [],
   "source": []
  },
  {
   "cell_type": "code",
   "execution_count": null,
   "metadata": {},
   "outputs": [],
   "source": [
    "from pyspark.ml.regression import LinearRegression\n",
    "from pyspark.ml.feature import VectorAssembler\n",
    "from pyspark.ml.feature import StandardScaler\n",
    "from pyspark.ml import Pipeline\n",
    "from pyspark.sql.functions import *"
   ]
  },
  {
   "cell_type": "code",
   "execution_count": null,
   "metadata": {},
   "outputs": [],
   "source": [
    "vectorAssembler = VectorAssembler(inputCols=features, outputCol=\"unscaled_features\")\n",
    "standardScaler = StandardScaler(inputCol=\"unscaled_features\", outputCol=\"features\")\n",
    "lr = LinearRegression(maxIter=10, regParam=.01)\n",
    "\n",
    "stages = [vectorAssembler, standardScaler, lr]\n",
    "pipeline = Pipeline(stages=stages)\n",
    "#https://blog.epigno.systems/2018/02/18/machine-learning-with-pyspark-linear-regression/"
   ]
  },
  {
   "cell_type": "code",
   "execution_count": null,
   "metadata": {},
   "outputs": [],
   "source": [
    "from pyspark.ml.feature import OneHotEncoderEstimator, StringIndexer, VectorAssembler\n",
    "categoricalColumns = ['job', 'marital', 'education', 'default', 'housing', 'loan', 'contact', 'poutcome']\n",
    "stages = []\n",
    "for categoricalCol in categoricalColumns:\n",
    "    stringIndexer = StringIndexer(inputCol = categoricalCol, outputCol = categoricalCol + 'Index')\n",
    "    encoder = OneHotEncoderEstimator(inputCols=[stringIndexer.getOutputCol()], outputCols=[categoricalCol + \"classVec\"])\n",
    "    stages += [stringIndexer, encoder]\n",
    "label_stringIdx = StringIndexer(inputCol = 'deposit', outputCol = 'label')\n",
    "stages += [label_stringIdx]\n",
    "numericCols = ['age', 'balance', 'duration', 'campaign', 'pdays', 'previous']\n",
    "assemblerInputs = [c + \"classVec\" for c in categoricalColumns] + numericCols\n",
    "assembler = VectorAssembler(inputCols=assemblerInputs, outputCol=\"features\")\n",
    "stages += [assembler]"
   ]
  },
  {
   "cell_type": "code",
   "execution_count": null,
   "metadata": {},
   "outputs": [],
   "source": []
  },
  {
   "cell_type": "code",
   "execution_count": null,
   "metadata": {},
   "outputs": [],
   "source": []
  },
  {
   "cell_type": "code",
   "execution_count": null,
   "metadata": {},
   "outputs": [],
   "source": [
    "\n",
    "\n",
    "\n",
    "\n",
    "from sklearn import datasets\n",
    "from sklearn.linear_model import LassoCV\n",
    "from sklearn.linear_model import Lasso\n",
    "from sklearn.model_selection import KFold\n",
    "from sklearn.model_selection import GridSearchCV ## save for 'evaluation'?\n",
    "\n",
    "lasso = Lasso(random_state=0)\n",
    "alphas = np.logspace(-4, -0.5, 30)\n",
    "\n",
    "tuned_parameters = [{'alpha': alphas}]\n",
    "n_folds = 5\n",
    "\n",
    "clf = GridSearchCV(lasso, tuned_parameters, cv=n_folds, refit=False)\n",
    "clf.fit(x, y)\n",
    "\n",
    "scores = clf.cv_results_['mean_test_score']\n",
    "scores_std = clf.cv_results_['std_test_score']\n",
    "plt.figure().set_size_inches(8, 6)\n",
    "plt.semilogx(alphas, scores)\n",
    "\n",
    "# plot error lines showing +/- std. errors of the scores\n",
    "std_error = scores_std / np.sqrt(n_folds)\n",
    "\n",
    "plt.semilogx(alphas, scores + std_error, 'b--')\n",
    "plt.semilogx(alphas, scores - std_error, 'b--')\n",
    "\n",
    "# alpha=0.2 controls the translucency of the fill color\n",
    "plt.fill_between(alphas, scores + std_error, scores - std_error, alpha=0.2)\n",
    "\n",
    "plt.ylabel('CV score +/- std error')\n",
    "plt.xlabel('alpha')\n",
    "plt.axhline(np.max(scores), linestyle='--', color='.5')\n",
    "plt.xlim([alphas[0], alphas[-1]])\n",
    "\n",
    "# #############################################################################\n",
    "# Bonus: how much can you trust the selection of alpha?\n",
    "\n",
    "# To answer this question we use the LassoCV object that sets its alpha\n",
    "# parameter automatically from the data by internal cross-validation (i.e. it\n",
    "# performs cross-validation on the training data it receives).\n",
    "# We use external cross-validation to see how much the automatically obtained\n",
    "# alphas differ across different cross-validation folds.\n",
    "lasso_cv = LassoCV(alphas=alphas, cv=5, random_state=0)\n",
    "k_fold = KFold(3)\n",
    "\n",
    "print(\"Answer to the bonus question:\",\n",
    "      \"how much can you trust the selection of alpha?\")\n",
    "print()\n",
    "print(\"Alpha parameters maximising the generalization score on different\")\n",
    "print(\"subsets of the data:\")\n",
    "for k, (train, test) in enumerate(k_fold.split(X, y)):\n",
    "    lasso_cv.fit(X[train], y[train])\n",
    "    print(\"[fold {0}] alpha: {1:.5f}, score: {2:.5f}\".\n",
    "          format(k, lasso_cv.alpha_, lasso_cv.score(X[test], y[test])))\n",
    "print()\n",
    "print(\"Answer: Not very much since we obtained different alphas for different\")\n",
    "print(\"subsets of the data and moreover, the scores for these alphas differ\")\n",
    "print(\"quite substantially.\")\n",
    "\n",
    "plt.show()"
   ]
  },
  {
   "cell_type": "markdown",
   "metadata": {},
   "source": [
    "---\n",
    "---\n",
    "\n"
   ]
  },
  {
   "cell_type": "code",
   "execution_count": null,
   "metadata": {},
   "outputs": [],
   "source": []
  },
  {
   "cell_type": "code",
   "execution_count": null,
   "metadata": {},
   "outputs": [],
   "source": []
  },
  {
   "cell_type": "code",
   "execution_count": null,
   "metadata": {},
   "outputs": [],
   "source": []
  },
  {
   "cell_type": "code",
   "execution_count": null,
   "metadata": {},
   "outputs": [],
   "source": []
  },
  {
   "cell_type": "code",
   "execution_count": null,
   "metadata": {},
   "outputs": [],
   "source": []
  }
 ],
 "metadata": {
  "kernelspec": {
   "display_name": "Python 3",
   "language": "python",
   "name": "python3"
  },
  "language_info": {
   "codemirror_mode": {
    "name": "ipython",
    "version": 3
   },
   "file_extension": ".py",
   "mimetype": "text/x-python",
   "name": "python",
   "nbconvert_exporter": "python",
   "pygments_lexer": "ipython3",
   "version": "3.8.5"
  }
 },
 "nbformat": 4,
 "nbformat_minor": 4
}
